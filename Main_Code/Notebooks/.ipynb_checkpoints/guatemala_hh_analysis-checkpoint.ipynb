{
 "cells": [
  {
   "cell_type": "code",
   "execution_count": null,
   "id": "93ed281c-daa9-4218-ab13-d072d80ada43",
   "metadata": {},
   "outputs": [],
   "source": [
    "!pip install -r requirements_2.txt\n",
    "#!pip install matplotlib"
   ]
  },
  {
   "cell_type": "code",
   "execution_count": null,
   "id": "de719404-2b9f-472c-a36b-9e0d0eeb66bc",
   "metadata": {},
   "outputs": [],
   "source": [
    "# just setting up functions to do demand stuff with \n",
    "\n",
    "import numpy as np\n",
    "import pandas as pd\n",
    "from cfe.estimation import drop_columns_wo_covariance\n",
    "from cfe import Regression\n",
    "from eep153_tools.sheets import read_sheets\n",
    "!pip install fooddatacentral"
   ]
  },
  {
   "cell_type": "code",
   "execution_count": null,
   "id": "686b6e6b-9f4b-4179-9d9c-bcb0e6d5f605",
   "metadata": {},
   "outputs": [],
   "source": [
    "sheets = '1J7d0WCnpAcMoaAScLzqaAEeexuUPdcPRYO42OPjJPu8' #read in sheets"
   ]
  },
  {
   "cell_type": "code",
   "execution_count": null,
   "id": "485b0ea9-25cd-46bc-885d-7732f370ce41",
   "metadata": {},
   "outputs": [],
   "source": [
    "x = read_sheets(sheets,sheet='Food Expenditures') # grab food expenditures, set meta index\n",
    "x.columns.name = 'j'\n",
    "\n",
    "p = read_sheets(sheets,sheet='PriceAsColumns').set_index(['t','m']) # grab prices \n",
    "p.columns.name = 'j'\n",
    "\n",
    "d = read_sheets(sheets,sheet=\"Household Characteristics\") # grab household characteristics\n",
    "d.columns.name = 'k'\n",
    "d.set_index(['i','t','m'],inplace=True)\n",
    "\n",
    "d_dummy = read_sheets(sheets, sheet='HHChar_wDummy')\n",
    "d_dummy.columns.name = 'k'\n",
    "d_dummy.set_index(['i', 't', 'm'], inplace=True)\n",
    "\n",
    "x = x.T.groupby('j').sum().T # get rid of duplicates \n",
    "x = x.replace(0,np.nan) # make zeros into NaN\n",
    "\n",
    "y = np.log(x.set_index(['i','t','m'])) # take log of expenditures, name y"
   ]
  },
  {
   "cell_type": "code",
   "execution_count": null,
   "id": "b517c2bc-58dc-45d6-9f0c-557379464e9c",
   "metadata": {},
   "outputs": [],
   "source": [
    "d_dummy['total'] = np.sum(d_dummy[['Males 00-03', 'Females 00-03', 'Males 04-08', \n",
    "                                'Females 04-08', 'Males 09-13', 'Females 09-13', 'Males 14-18',\n",
    "                                'Females 14-18', 'Males 19-30', 'Females 19-30', 'Males 31-50',\n",
    "                                'Females 31-50', 'Males 51-99', 'Females 51-99']], axis = 1)\n",
    "\n"
   ]
  },
  {
   "cell_type": "code",
   "execution_count": null,
   "id": "0d3e50e3-d6e6-4133-88cb-ae131726ec0b",
   "metadata": {},
   "outputs": [],
   "source": [
    "d_dummy"
   ]
  },
  {
   "cell_type": "code",
   "execution_count": null,
   "id": "acea3c52-ac7d-452a-aa1d-dca0f119bb7a",
   "metadata": {},
   "outputs": [],
   "source": [
    "# doing this to get index\n",
    "\n",
    "d_R = d_dummy[d_dummy['Rural'] == 1]\n",
    "d_U = d_dummy[d_dummy['Rural'] == 0]\n",
    "#d_R.reset_index(inplace=True)\n",
    "#d_U.reset_index(inplace=True)\n",
    "d_R_bigHH = d_R[d_R['total']>8]\n",
    "d_R_smallHH = d_R[d_R['total']<8]\n",
    "\n",
    "d_U_bigHH = d_U[d_U['total']>8]\n",
    "d_U_smallHH = d_U[d_U['total']<8]"
   ]
  },
  {
   "cell_type": "code",
   "execution_count": null,
   "id": "859e65e8-2004-46aa-b55c-9c031a0f7039",
   "metadata": {},
   "outputs": [],
   "source": [
    "# grab indices from the segmented sets \n",
    "\n",
    "d_R_bigHH.reset_index(inplace=True)\n",
    "rural_bigHH_index = d_R_bigHH['i']\n",
    "\n",
    "d_R_smallHH.reset_index(inplace=True)\n",
    "rural_smallHH_index = d_R_smallHH['i']\n",
    "\n",
    "d_U_bigHH.reset_index(inplace=True)\n",
    "urban_bigHH_index = d_U_bigHH['i']\n",
    "\n",
    "d_U_smallHH.reset_index(inplace=True)\n",
    "urban_smallHH_index = d_U_smallHH['i']"
   ]
  },
  {
   "cell_type": "code",
   "execution_count": null,
   "id": "be809d86-f9f2-4e63-81db-6a307dcf62e1",
   "metadata": {},
   "outputs": [],
   "source": [
    "# pull expenditures for these subsets\n",
    "\n",
    "x_R_big = x[x['i'].isin(rural_bigHH_index)]\n",
    "x_R_small = x[x['i'].isin(rural_smallHH_index)]\n",
    "\n",
    "x_U_big = x[x['i'].isin(urban_bigHH_index)]\n",
    "x_U_small = x[x['i'].isin(urban_smallHH_index)]"
   ]
  },
  {
   "cell_type": "code",
   "execution_count": null,
   "id": "9ad54b6b-fa16-4693-a853-78087b68d8d4",
   "metadata": {},
   "outputs": [],
   "source": [
    "y_R_big = np.log(x_R_big.set_index(['i','t','m'])) # take log of expenditures, name y\n",
    "y_R_small = np.log(x_R_small.set_index(['i','t','m']))\n",
    "\n",
    "y_U_big = np.log(x_U_big.set_index(['i','t','m'])) \n",
    "y_U_small = np.log(x_U_small.set_index(['i','t','m']))"
   ]
  },
  {
   "cell_type": "code",
   "execution_count": null,
   "id": "ad9931aa-f101-457f-ba14-04cf344f9451",
   "metadata": {},
   "outputs": [],
   "source": [
    "x_U_big['Maize']"
   ]
  },
  {
   "cell_type": "code",
   "execution_count": null,
   "id": "a6ea61d8-67ef-4526-8b1a-7a67a34b42cb",
   "metadata": {},
   "outputs": [],
   "source": [
    "x_U_small['Maize']"
   ]
  },
  {
   "cell_type": "code",
   "execution_count": null,
   "id": "9f6ebacb-cac9-4ea6-88b7-4bc6c625e618",
   "metadata": {},
   "outputs": [],
   "source": [
    "d_R_bigHH = d_R[d_R['total']>8]\n",
    "d_R_smallHH = d_R[d_R['total']<8]\n",
    "\n",
    "d_U_bigHH = d_U[d_U['total']>8]\n",
    "d_U_smallHH = d_U[d_U['total']<8]"
   ]
  },
  {
   "cell_type": "code",
   "execution_count": null,
   "id": "a8a7ca3a-bdea-4b69-a6dc-efc491f70bd6",
   "metadata": {},
   "outputs": [],
   "source": [
    "d_R_big = d_R_bigHH.drop(columns='total')\n",
    "d_R_small = d_R_smallHH.drop(columns='total')\n",
    "\n",
    "d_U_big = d_U_bigHH.drop(columns='total')\n",
    "d_U_small = d_U_smallHH.drop(columns='total')"
   ]
  },
  {
   "cell_type": "code",
   "execution_count": null,
   "id": "dafd5c91-41fc-435f-9679-21dc37d88490",
   "metadata": {},
   "outputs": [],
   "source": [
    "print(y_U_big.index.names)\n",
    "print(d_R.index.names)"
   ]
  },
  {
   "cell_type": "code",
   "execution_count": null,
   "id": "1c92653e-09b6-43d0-be19-c89c6ad3cfe3",
   "metadata": {},
   "outputs": [],
   "source": [
    "from cfe import Regression"
   ]
  },
  {
   "cell_type": "code",
   "execution_count": null,
   "id": "2224b92f-960b-4998-af12-a897669128f7",
   "metadata": {},
   "outputs": [],
   "source": [
    "# build function to run regression\n",
    "\n",
    "def regress(y, d):\n",
    "    \n",
    "    y = y.stack()\n",
    "    d = d.stack()\n",
    "    # Check that indices are in right places!\n",
    "    assert y.index.names == ['i','t','m','j']\n",
    "    assert d.index.names == ['i','t','m','k']\n",
    "    result = Regression(y=y,d=d)\n",
    "    #predicted_expenditures = pd.DataFrame({'y':y,'yhat':result.get_predicted_log_expenditures()})\n",
    "    return result"
   ]
  },
  {
   "cell_type": "code",
   "execution_count": null,
   "id": "8ae2dece-46f6-4d74-8cef-01ec12cd1530",
   "metadata": {},
   "outputs": [],
   "source": [
    "# apply regression to household subsets and geographies\n",
    "\n",
    "rural_smallHH = regress(y_R_small, d_R_small)\n",
    "rural_bigHH = regress(y_R_big, d_R_big)\n",
    "\n",
    "urban_smallHH = regress(y_U_small, d_U_small)\n",
    "urban_bigHH = regress(y_U_big, d_U_big)"
   ]
  },
  {
   "cell_type": "code",
   "execution_count": null,
   "id": "0d1c622e-f5e9-4d14-91fd-4336ad150119",
   "metadata": {},
   "outputs": [],
   "source": [
    "#urban_smallHH.graph_beta()\n",
    "#rural_bigHH.graph_beta()"
   ]
  },
  {
   "cell_type": "code",
   "execution_count": null,
   "id": "31956fb8-e2e1-4b36-827a-3d9f2e3de2cb",
   "metadata": {},
   "outputs": [],
   "source": []
  },
  {
   "cell_type": "code",
   "execution_count": null,
   "id": "e0c54a05-2399-4118-9099-69a124ac1767",
   "metadata": {
    "scrolled": true
   },
   "outputs": [],
   "source": [
    "# fig, ax = plt.subplots(1,2, figsize = (10,5))\n",
    "\n",
    "# ax[0].scatter(x_pred_R['yhat'], x_pred_R['y'])\n",
    "# ax[0].set_xlabel('Actual Log Expenditures')\n",
    "# ax[0].set_ylabel('Predicted Log Expenditures')\n",
    "# ax[0].set_title('RURAL: Predicted vs. Actual Expenditures')\n",
    "\n",
    "# ax[1].scatter(x_pred_U['yhat'], x_pred_U['y'])\n",
    "# ax[1].set_xlabel('Actual Log Expenditures')\n",
    "# ax[1].set_ylabel('Predicted Log Expenditures')\n",
    "# ax[1].set_title('URBAN: Predicted vs. Actual Expenditures')"
   ]
  },
  {
   "cell_type": "code",
   "execution_count": null,
   "id": "deaed6d9-35f9-49bb-8ca9-f692312b3a16",
   "metadata": {},
   "outputs": [],
   "source": [
    "rural_smallHH.get_beta()"
   ]
  },
  {
   "cell_type": "code",
   "execution_count": null,
   "id": "d12b88f6-11ab-47e0-8031-5b9859ac7eae",
   "metadata": {},
   "outputs": [],
   "source": [
    "urban_smallHH.get_beta()"
   ]
  },
  {
   "cell_type": "code",
   "execution_count": null,
   "id": "8d20e422-24a6-4a16-bc96-3c62066a3b00",
   "metadata": {
    "scrolled": true
   },
   "outputs": [],
   "source": []
  },
  {
   "cell_type": "code",
   "execution_count": null,
   "id": "f3eac6ed-5ad1-4fca-89a0-388c3fe3d93b",
   "metadata": {},
   "outputs": [],
   "source": []
  },
  {
   "cell_type": "code",
   "execution_count": null,
   "id": "75d435b4-5607-4db6-8726-9d3bd42b120a",
   "metadata": {},
   "outputs": [],
   "source": []
  },
  {
   "cell_type": "code",
   "execution_count": null,
   "id": "7756c7ce-31b3-4d96-b6f6-7c068c060329",
   "metadata": {},
   "outputs": [],
   "source": [
    "beta_dict = {'Urban, Small HH' : urban_smallHH.get_beta(), 'Urban, Large HH': urban_bigHH.get_beta(), \n",
    "             'Rural, Small HH' : rural_smallHH.get_beta(), 'Rural, Large HH' : rural_bigHH.get_beta()}\n",
    "\n",
    "\n",
    "betas = pd.DataFrame(beta_dict) # made a dataframe with Frisch elasticities for each good in each place"
   ]
  },
  {
   "cell_type": "code",
   "execution_count": null,
   "id": "0184f7fa-de23-4a21-8798-2cf30c677059",
   "metadata": {},
   "outputs": [],
   "source": [
    "betas = betas.dropna()"
   ]
  },
  {
   "cell_type": "code",
   "execution_count": null,
   "id": "90134cc1-eb4f-4a3b-9cc9-a12e8e4d7d3c",
   "metadata": {},
   "outputs": [],
   "source": [
    "betas.loc['Maize']"
   ]
  },
  {
   "cell_type": "code",
   "execution_count": null,
   "id": "b7fe62a5-9e8e-4190-845b-51745f25ad86",
   "metadata": {},
   "outputs": [],
   "source": [
    "betas"
   ]
  },
  {
   "cell_type": "code",
   "execution_count": null,
   "id": "e68044af-30db-4627-9e52-1b05b5de9179",
   "metadata": {},
   "outputs": [],
   "source": [
    "print('Urban, Small HH')\n",
    "betas['Urban, Small HH'].sort_values(ascending=True)"
   ]
  },
  {
   "cell_type": "code",
   "execution_count": null,
   "id": "169f40d8-56d7-4bf0-86ef-421249188f3d",
   "metadata": {},
   "outputs": [],
   "source": [
    "print('Urban, Large HH')\n",
    "betas['Urban, Large HH'].sort_values(ascending=True)"
   ]
  },
  {
   "cell_type": "code",
   "execution_count": null,
   "id": "35fc942d-80fe-4071-935b-cb4b1e7ec01b",
   "metadata": {},
   "outputs": [],
   "source": [
    "print('Rural, Small HH')\n",
    "betas['Rural, Small HH'].sort_values(ascending=True)"
   ]
  },
  {
   "cell_type": "code",
   "execution_count": null,
   "id": "8e7a0db6-53e6-496e-a4f3-d81d1edeee19",
   "metadata": {},
   "outputs": [],
   "source": [
    "print('Rural, Large HH')\n",
    "betas['Rural, Large HH'].sort_values(ascending=True)"
   ]
  },
  {
   "cell_type": "code",
   "execution_count": null,
   "id": "7739280c-9385-46bf-a97b-61078c0fd10a",
   "metadata": {},
   "outputs": [],
   "source": []
  },
  {
   "cell_type": "code",
   "execution_count": null,
   "id": "e94d478f-f19d-4263-9038-aef5d023b516",
   "metadata": {},
   "outputs": [],
   "source": [
    "w_dict = {'Urban, Small HH' : urban_smallHH.get_w(), 'Urban, Large HH': urban_bigHH.get_w(), \n",
    "             'Rural, Small HH' : rural_smallHH.get_w(), 'Rural, Large HH' : rural_bigHH.get_w()}\n",
    "welfare = pd.DataFrame(w_dict) # made a dataframe with Frisch elasticities for each good in each place\n",
    "welfare"
   ]
  },
  {
   "cell_type": "code",
   "execution_count": null,
   "id": "e5fbef54-a07f-4c7b-a972-41c8a96b77fd",
   "metadata": {},
   "outputs": [],
   "source": [
    "import seaborn as sns\n",
    "import matplotlib.pyplot as plt\n",
    "sns.set_theme()"
   ]
  },
  {
   "cell_type": "code",
   "execution_count": null,
   "id": "e4a28f9a-a997-4ef7-aba3-207d536157ed",
   "metadata": {},
   "outputs": [],
   "source": [
    "# showing distribution of welfare in all households, broken up here by household size\n",
    "\n",
    "fig, ax = plt.subplots(2,2, figsize = (11,8), dpi=200)\n",
    "\n",
    "\n",
    "ax[0,0].hist(welfare['Urban, Small HH'], bins=20, density=True, \n",
    "            rwidth=0.95, align = 'mid')\n",
    "ax[0,0].set_title('Urban, Small HH')\n",
    "\n",
    "\n",
    "ax[0,1].hist(welfare['Urban, Large HH'], bins=20, density=True, \n",
    "            rwidth=0.95, align = 'mid')\n",
    "ax[0,1].set_title('Urban, Large HH')\n",
    "\n",
    "\n",
    "ax[1,0].hist(welfare['Rural, Small HH'], bins=20, density=True, \n",
    "            rwidth=0.95, align = 'mid')\n",
    "ax[1,0].set_title('Rural, Small HH')\n",
    "\n",
    "\n",
    "ax[1,1].hist(welfare['Rural, Large HH'], bins=20, density=True, \n",
    "            rwidth=0.95, align = 'mid')\n",
    "ax[1,1].set_title('Rural, Large HH')\n",
    "\n",
    "plt.savefig('Welfare_Comparison_U-R_HHs.png')"
   ]
  },
  {
   "cell_type": "code",
   "execution_count": null,
   "id": "472f3ee3-ccbc-45be-b6c0-0fa85f6f8cfc",
   "metadata": {},
   "outputs": [],
   "source": [
    "pbar = p.mean()"
   ]
  },
  {
   "cell_type": "code",
   "execution_count": null,
   "id": "2695ac8b-3691-4d83-a66b-8ef8d5fcd31e",
   "metadata": {},
   "outputs": [],
   "source": [
    "#Finally, define a function to change a single price in the vector $p$:\n",
    "\n",
    "def my_prices(p0,p=pbar,j=''):\n",
    "    \"\"\"\n",
    "    Change price of jth good to p0, holding other prices fixed.\n",
    "    \"\"\"\n",
    "    p = p.copy()\n",
    "    p.loc[j] = p0\n",
    "    return p\n",
    "\n",
    "def plot_demand(regression, food=''): \n",
    "    # set the desired food for the demand plot\n",
    "    use = food\n",
    "    # get predicted expenditures\n",
    "    xhat = regression.predicted_expenditures()\n",
    "    # Total food expenditures per household\n",
    "    xbar = xhat.groupby(['i','t','m']).sum()\n",
    "    # Reference budget\n",
    "    xref = xbar.quantile(0.5)  # Household at 0.5 quantile is median\n",
    "    # Reference prices chosen from a particular time; average across place.\n",
    "    # These are prices per kilogram:\n",
    "    pbar = p.mean()\n",
    "    pbar = pbar[regression.beta.index] # Only use prices for goods we can estimate\n",
    "    # Vary prices from 50% to 200% of reference.\n",
    "    scale = np.linspace(.5,2,20)\n",
    "\n",
    "    plt.figure(figsize = (5,5))\n",
    "    # Demand for Food for household at median budget\n",
    "    plt.plot([regression.demands(xref,my_prices(pbar[use]*s,pbar, j=use))[use] for s in scale],scale, \n",
    "            label = 'Median Budget')\n",
    "    # Demand for Avocado for household at 25% percentile\n",
    "    plt.plot([regression.demands(xbar.quantile(0.25),my_prices(pbar[use]*s,pbar,j=use))[use] for s in scale],scale, \n",
    "            label = '25th Percentile')\n",
    "    # Demand for Avocado for household at 75% percentile\n",
    "    plt.plot([regression.demands(xbar.quantile(0.75),my_prices(pbar[use]*s,pbar, j=use))[use] for s in scale],scale, \n",
    "            label = '75th Percentile')\n",
    "    plt.legend(facecolor = 'white')\n",
    "\n",
    "    plt.ylabel(f\"Price (relative to base {pbar[use]:.2f})\")\n",
    "    plt.xlabel(f\"Quantity Demanded\")\n",
    "    plt.title(f'{use}', fontsize = 15)"
   ]
  },
  {
   "cell_type": "markdown",
   "id": "af3dceb1-d453-4ab2-8430-231fc867c866",
   "metadata": {},
   "source": [
    "## Plotting Demand for Different Brackets"
   ]
  },
  {
   "cell_type": "code",
   "execution_count": null,
   "id": "7808eae2-2768-4620-918c-53b7cad2c762",
   "metadata": {},
   "outputs": [],
   "source": []
  },
  {
   "cell_type": "code",
   "execution_count": null,
   "id": "71b92ab6-8319-4acb-a14b-bace6203a5b1",
   "metadata": {},
   "outputs": [],
   "source": []
  },
  {
   "cell_type": "code",
   "execution_count": null,
   "id": "838eb230-b3c1-4def-986a-b1a344d1384a",
   "metadata": {},
   "outputs": [],
   "source": [
    "def my_prices(p0,p=pbar,j=''):\n",
    "    \"\"\"\n",
    "    Change price of jth good to p0, holding other prices fixed.\n",
    "    \"\"\"\n",
    "    p = p.copy()\n",
    "    p.loc[j] = p0\n",
    "    return p"
   ]
  },
  {
   "cell_type": "code",
   "execution_count": null,
   "id": "c975acc2-bd51-428e-b8a2-6d858f684134",
   "metadata": {},
   "outputs": [],
   "source": [
    "def plot_demand_comparison_HH(regression1_small, regression2_large, geog = '', food=''): \n",
    "    # set the desired food for the demand plot\n",
    "    use = food\n",
    "    # get predicted expenditures\n",
    "    xhat1 = regression1_small.predicted_expenditures()\n",
    "    xhat2 = regression2_large.predicted_expenditures()\n",
    "    # Total food expenditures per household\n",
    "    xbar1 = xhat1.groupby(['i','t','m']).sum()\n",
    "    xbar2 = xhat2.groupby(['i','t','m']).sum()\n",
    "    # Reference budget\n",
    "    xref1 = xbar1.quantile(0.5)  # Household at 0.5 quantile is median\n",
    "    xref2 = xbar2.quantile(0.5)  # Household at 0.5 quantile is median\n",
    "    # Reference prices chosen from a particular time; average across place.\n",
    "    # These are prices per kilogram:\n",
    "    pbar = p.mean()\n",
    "    pbar1 = pbar[regression1_small.beta.index] # Only use prices for goods we can estimate\n",
    "    pbar2 = pbar[regression2_large.beta.index] # Only use prices for goods we can estimate\n",
    "    \n",
    "    # Vary prices from 50% to 200% of reference.\n",
    "    scale = np.linspace(.5,2,20)\n",
    "\n",
    "    plt.figure(figsize = (5,5), dpi=200)\n",
    "    # Demand for Food for Urban Households at median budget\n",
    "    plt.plot([regression1_small.demands(xref1,my_prices(pbar1[use]*s,pbar1, j=use))[use] for s in scale],scale, \n",
    "            label = f'Small HH, (Elasticity = {regression1_small.get_beta()[use]:.2f})', lw = 2, color = 'skyblue')\n",
    "    # Demand for Food for Rural Households at median budget\n",
    "    plt.plot([regression2_large.demands(xref2,my_prices(pbar2[use]*s,pbar2, j=use))[use] for s in scale],scale, \n",
    "            label = f'Large HH, (Elasticity = {regression2_large.get_beta()[use]:.2f})', lw = 2, color = 'blue')\n",
    "    \n",
    "    plt.legend(facecolor = 'white')\n",
    "\n",
    "    plt.ylabel(f\"Price [relative to base {pbar[use]:.2f}]\")\n",
    "    plt.xlabel(f\"Quantity Demanded\")\n",
    "    plt.title(f'{use} Demand, {geog} Households', fontsize = 15)"
   ]
  },
  {
   "cell_type": "code",
   "execution_count": null,
   "id": "8a370dc3-95ba-41f1-be4d-d26b9f9a8f63",
   "metadata": {},
   "outputs": [],
   "source": [
    "plot_demand_comparison_HH(rural_smallHH, rural_bigHH, geog='Rural', food = 'Maize')\n",
    "plt.savefig('Maize_Demand_Rural.png')"
   ]
  },
  {
   "cell_type": "code",
   "execution_count": null,
   "id": "2c305faa-14fc-43aa-b7a6-e84365bbd6df",
   "metadata": {},
   "outputs": [],
   "source": [
    "def plot_demand_comparison_geog(regression1, regression2, hh_size = '', food=''): \n",
    "    # set the desired food for the demand plot\n",
    "    use = food\n",
    "    # get predicted expenditures\n",
    "    xhat1 = regression1.predicted_expenditures()\n",
    "    xhat2 = regression2.predicted_expenditures()\n",
    "    # Total food expenditures per household\n",
    "    xbar1 = xhat1.groupby(['i','t','m']).sum()\n",
    "    xbar2 = xhat2.groupby(['i','t','m']).sum()\n",
    "    # Reference budget\n",
    "    xref1 = xbar1.quantile(0.5)  # Household at 0.5 quantile is median\n",
    "    xref2 = xbar2.quantile(0.5)  # Household at 0.5 quantile is median\n",
    "    # Reference prices chosen from a particular time; average across place.\n",
    "    # These are prices per kilogram:\n",
    "    pbar = p.mean()\n",
    "    pbar1 = pbar[regression1.beta.index] # Only use prices for goods we can estimate\n",
    "    pbar2 = pbar[regression2.beta.index] # Only use prices for goods we can estimate\n",
    "    \n",
    "    # Vary prices from 50% to 200% of reference.\n",
    "    scale = np.linspace(.5,2,20)\n",
    "\n",
    "    plt.figure(figsize = (5,5))# dpi=200)\n",
    "\n",
    "    \n",
    "    # Demand for Food for Urban Households at median budget\n",
    "    plt.plot([regression1.demands(xref1,my_prices(pbar1[use]*s,pbar1, j=use))[use] for s in scale],scale, \n",
    "            label = f'Urban, (Elasticity = {regression1.get_beta()[use]:.2f})', lw = 2, color = 'dodgerblue')\n",
    "    # Demand for Food for Rural Households at median budget\n",
    "    plt.plot([regression2.demands(xref2,my_prices(pbar2[use]*s,pbar2, j=use))[use] for s in scale],scale, \n",
    "            label = f'Rural, (Elasticity = {regression2.get_beta()[use]:.2f})', lw = 2, color = 'goldenrod')\n",
    "    \n",
    "    plt.legend(facecolor = 'white')\n",
    "\n",
    "    plt.ylabel(f\"Price [relative to base {pbar[use]:.2f}]\")\n",
    "    plt.xlabel(f\"Quantity Demanded\")\n",
    "    plt.title(f'{use} Demand, {hh_size} Households', fontsize = 15)"
   ]
  },
  {
   "cell_type": "code",
   "execution_count": null,
   "id": "c172e03e-078f-401a-811e-c2982e9ba72f",
   "metadata": {},
   "outputs": [],
   "source": [
    "def plot_demand_comparison_all(urban_big, rural_big, urban_small, rural_small, food=''): \n",
    "    # set the desired food for the demand plot\n",
    "    use = food\n",
    "    # get predicted expenditures\n",
    "    xhat_urban_big = urban_big.predicted_expenditures()\n",
    "    xhat_rural_big = rural_big.predicted_expenditures()\n",
    "    xhat_urban_small = urban_small.predicted_expenditures()\n",
    "    xhat_rural_small = rural_small.predicted_expenditures()\n",
    "\n",
    "    \n",
    "    # Total food expenditures per household\n",
    "    xbar1 = xhat_urban_big.groupby(['i','t','m']).sum()\n",
    "    xbar2 = xhat_rural_big.groupby(['i','t','m']).sum()\n",
    "    xbar3 = xhat_urban_small.groupby(['i','t','m']).sum()\n",
    "    xbar4 = xhat_rural_small.groupby(['i','t','m']).sum()\n",
    "    \n",
    "    # Reference budget\n",
    "    xref1 = xbar1.quantile(0.5)  # Household at 0.5 quantile is median\n",
    "    xref2 = xbar2.quantile(0.5)  # Household at 0.5 quantile is median\n",
    "    xref3 = xbar3.quantile(0.5)  # Household at 0.5 quantile is median\n",
    "    xref4 = xbar4.quantile(0.5)  # Household at 0.5 quantile is median\n",
    "    \n",
    "    # Reference prices chosen from a particular time; average across place.\n",
    "    # These are prices per kilogram:\n",
    "    pbar = p.mean()\n",
    "    pbar1 = pbar[urban_big.beta.index] # Only use prices for goods we can estimate\n",
    "    pbar2 = pbar[rural_big.beta.index] # Only use prices for goods we can estimate\n",
    "    pbar3 = pbar[urban_small.beta.index] # Only use prices for goods we can estimate\n",
    "    pbar4 = pbar[rural_small.beta.index] # Only use prices for goods we can estimate\n",
    "    \n",
    "    # Vary prices from 50% to 200% of reference.\n",
    "    scale = np.linspace(.5,2,20)\n",
    "\n",
    "    plt.figure(figsize = (12,8))# dpi=200)\n",
    "\n",
    "\n",
    "    # Demand for Food for Small Urban Households at median budget\n",
    "    plt.plot([urban_small.demands(xref3,my_prices(pbar3[use]*s,pbar3, j=use))[use] for s in scale],scale, \n",
    "            label = f'Urban, HH < 8 (Elasticity = {urban_small.get_beta()[use]:.2f})', lw = 3, color = 'violet')\n",
    "    \n",
    "    # Demand for Food for Big Urban Households at median budget\n",
    "    plt.plot([urban_big.demands(xref1,my_prices(pbar1[use]*s,pbar1, j=use))[use] for s in scale],scale, \n",
    "            label = f'Urban, HH > 8 (Elasticity = {urban_big.get_beta()[use]:.2f})', lw = 3, color = 'purple')\n",
    "    \n",
    "    # Demand for Food for Small Rural Households at median budget\n",
    "    plt.plot([rural_small.demands(xref4,my_prices(pbar4[use]*s,pbar4, j=use))[use] for s in scale],scale, \n",
    "            label = f'Rural, HH < 8  (Elasticity = {rural_small.get_beta()[use]:.2f})', lw = 3, color = 'skyblue')\n",
    "    \n",
    "    # Demand for Food for Big Rural Households at median budget\n",
    "    plt.plot([rural_big.demands(xref2,my_prices(pbar2[use]*s,pbar2, j=use))[use] for s in scale],scale, \n",
    "            label = f'Rural, HH > 8 (Elasticity = {rural_big.get_beta()[use]:.2f})', lw = 3, color = 'blue')\n",
    "    \n",
    "    \n",
    "    plt.legend(facecolor = 'white', fontsize = 12)\n",
    "\n",
    "    plt.ylabel(f\"Price [relative to base {pbar[use]:.2f}]\", fontsize = 17)\n",
    "    plt.xlabel(f\"Quantity Demanded\", fontsize = 17)\n",
    "    plt.title(f'{use} Demand', fontsize = 25)"
   ]
  },
  {
   "cell_type": "code",
   "execution_count": null,
   "id": "0bcedf72-963a-4b67-977a-8db7028ce0f1",
   "metadata": {},
   "outputs": [],
   "source": [
    "plot_demand_comparison_all(urban_bigHH, rural_bigHH, urban_smallHH, rural_smallHH, food = 'Ice Cream')"
   ]
  },
  {
   "cell_type": "code",
   "execution_count": null,
   "id": "65cec818-4b64-4abe-9d93-37d22b67ca95",
   "metadata": {},
   "outputs": [],
   "source": [
    "plot_demand_comparison_all(urban_bigHH, rural_bigHH, urban_smallHH, rural_smallHH, food = 'Avocado')\n",
    "plt.savefig('Avocado_HH_Overall.png')"
   ]
  },
  {
   "cell_type": "code",
   "execution_count": null,
   "id": "1f07f3d3-b323-4856-a2e6-9578a9e3a5ce",
   "metadata": {},
   "outputs": [],
   "source": [
    "plot_demand_comparison_all(urban_bigHH, rural_bigHH, urban_smallHH, rural_smallHH, food = 'Chilies')\n",
    "plt.savefig('Chilies_HH_Overall.png')"
   ]
  },
  {
   "cell_type": "code",
   "execution_count": null,
   "id": "4238aa26-bcbe-468c-aff5-99a67ac567df",
   "metadata": {},
   "outputs": [],
   "source": [
    "foods = ['Beans', 'Oranges', 'Coffee (instant)', 'Salt', 'Rolled Oats', 'Garlic']\n",
    "\n",
    "for i in foods: \n",
    "    plot_demand_comparison_all(urban_bigHH, rural_bigHH, urban_smallHH, rural_smallHH, food = i)\n",
    "    plt.savefig(f'{i}_Overall.png')\n",
    "    "
   ]
  },
  {
   "cell_type": "code",
   "execution_count": null,
   "id": "5f4ffe76-5d63-4f0e-b138-ae2bf465ce73",
   "metadata": {},
   "outputs": [],
   "source": [
    "plot_demand_comparison_all(urban_bigHH, rural_bigHH, urban_smallHH, rural_smallHH, food='Maize')\n",
    "plt.savefig('Maize_HH_Overall.png')"
   ]
  },
  {
   "cell_type": "code",
   "execution_count": null,
   "id": "50d7ee4e-6779-4405-b036-a906c97c4788",
   "metadata": {},
   "outputs": [],
   "source": [
    "plot_demand_comparison_all(urban_bigHH, rural_bigHH, urban_smallHH, rural_smallHH, food='Granulated Sugar')\n",
    "plt.savefig('Sugar_HH_Overall.png')"
   ]
  },
  {
   "cell_type": "code",
   "execution_count": null,
   "id": "0278751e-3876-4890-8163-702bb60a5d52",
   "metadata": {},
   "outputs": [],
   "source": []
  },
  {
   "cell_type": "code",
   "execution_count": null,
   "id": "9f647f6d-0df8-44e1-bbe0-0521147dae7b",
   "metadata": {},
   "outputs": [],
   "source": [
    "plot_demand_comparison_all(urban_bigHH, rural_bigHH, urban_smallHH, rural_smallHH, food='Corn Tamales')\n",
    "plt.savefig('Tamales_HH_Overall.png')"
   ]
  },
  {
   "cell_type": "code",
   "execution_count": null,
   "id": "524fef31-6431-4a20-b9ef-337289dd8015",
   "metadata": {},
   "outputs": [],
   "source": []
  },
  {
   "cell_type": "code",
   "execution_count": null,
   "id": "d2f8a7ea-14d9-4b96-8d8e-be6746204492",
   "metadata": {},
   "outputs": [],
   "source": [
    "plot_demand_comparison_all(urban_bigHH, rural_bigHH, urban_smallHH, rural_smallHH, food='Garlic')\n",
    "plt.savefig('Garlic_HH_Overall.png')"
   ]
  },
  {
   "cell_type": "code",
   "execution_count": null,
   "id": "1495166c-b2d7-4460-a692-c30fbe0650f3",
   "metadata": {},
   "outputs": [],
   "source": [
    "plot_demand_comparison_all(urban_bigHH, rural_bigHH, urban_smallHH, rural_smallHH, food='Avocado')\n",
    "plt.savefig('Avocado_HH_Overall.png')"
   ]
  },
  {
   "cell_type": "code",
   "execution_count": null,
   "id": "19ea6e8e-c86e-4a8c-9d0f-d3b9914e3225",
   "metadata": {},
   "outputs": [],
   "source": [
    "plot_demand_comparison_all(urban_bigHH, rural_bigHH, urban_smallHH, rural_smallHH, food='Pork')\n",
    "plt.savefig('Pork_HH_Overall.png')"
   ]
  },
  {
   "cell_type": "code",
   "execution_count": null,
   "id": "fb5fcfe4-81fd-4d66-b595-d5f0156db338",
   "metadata": {},
   "outputs": [],
   "source": [
    "plot_demand_comparison_all(urban_bigHH, rural_bigHH, urban_smallHH, rural_smallHH, food='Salt')\n",
    "plt.savefig('Salt_HH_Overall.png')"
   ]
  },
  {
   "cell_type": "code",
   "execution_count": null,
   "id": "72b08a72-8587-46aa-b12d-3cec14d46a9c",
   "metadata": {},
   "outputs": [],
   "source": [
    "plot_demand_comparison_all(urban_bigHH, rural_bigHH, urban_smallHH, rural_smallHH, food='Beans')\n",
    "plt.savefig('Beans_HH_Overall.png')"
   ]
  },
  {
   "cell_type": "code",
   "execution_count": null,
   "id": "51d2dbec-6d93-4935-b6c8-1756e199dd56",
   "metadata": {},
   "outputs": [],
   "source": [
    "plot_demand_comparison_all(urban_bigHH, rural_bigHH, urban_smallHH, rural_smallHH, food='Oranges')\n",
    "plt.savefig('Oranges_HH_Overall.png')"
   ]
  },
  {
   "cell_type": "code",
   "execution_count": null,
   "id": "949fd5b8-4f3d-4f38-a6ca-2d46868c407c",
   "metadata": {},
   "outputs": [],
   "source": [
    "plot_demand_comparison_all(urban_bigHH, rural_bigHH, urban_smallHH, rural_smallHH, food='Rolled Oats')\n",
    "plt.savefig('Rolled_Oats_HH_Overall.png')"
   ]
  },
  {
   "cell_type": "code",
   "execution_count": null,
   "id": "a2532914-f354-423a-8913-ee6d2a1faa4f",
   "metadata": {},
   "outputs": [],
   "source": []
  },
  {
   "cell_type": "code",
   "execution_count": null,
   "id": "2466ad57-aaa5-43ec-abda-f0bd01ce1376",
   "metadata": {},
   "outputs": [],
   "source": []
  },
  {
   "cell_type": "code",
   "execution_count": null,
   "id": "422b9cb7-a81a-41ff-aeb2-dcf62c0093eb",
   "metadata": {},
   "outputs": [],
   "source": [
    "plot_demand_comparison_geog(urban_bigHH, rural_bigHH, hh_size = 'Large', food = 'Pork')\n",
    "plot_demand_comparison_geog(urban_smallHH, rural_smallHH, hh_size = 'Small', food = 'Pork')"
   ]
  },
  {
   "cell_type": "code",
   "execution_count": null,
   "id": "94340e3f-0c0d-4c02-9640-6d80e60eb586",
   "metadata": {},
   "outputs": [],
   "source": [
    "# plot_demand_comparison_geog(urban_bigHH, rural_bigHH, hh_size = 'Large', food = 'Avocado')"
   ]
  },
  {
   "cell_type": "code",
   "execution_count": null,
   "id": "426d29f1-108a-4f38-b8e8-496770fdd0e6",
   "metadata": {},
   "outputs": [],
   "source": [
    "betas['$\\Delta_E$, Urban'] = np.abs(betas['Urban, Large HH'] - betas['Urban, Small HH'])\n",
    "betas['$\\Delta_E$, Rural'] = np.abs(betas['Rural, Large HH'] - betas['Rural, Small HH'])\n",
    "\n",
    "betas['$\\Delta_E$, Small HH'] = np.abs(betas['Urban, Small HH'] - betas['Rural, Small HH'])\n",
    "betas['$\\Delta_E$, Large HH'] = np.abs(betas['Urban, Large HH'] - betas['Rural, Large HH'])"
   ]
  },
  {
   "cell_type": "code",
   "execution_count": null,
   "id": "7d19f542-1af0-4994-90ae-9c6019cb8d01",
   "metadata": {},
   "outputs": [],
   "source": [
    "betas = betas.dropna()"
   ]
  },
  {
   "cell_type": "code",
   "execution_count": null,
   "id": "47776393-9945-460c-b8b8-ffca7bffa862",
   "metadata": {},
   "outputs": [],
   "source": [
    "#betas = betas.sort_values(by='$\\Delta$ (|U-R|)', axis=0, ascending=False)"
   ]
  },
  {
   "cell_type": "code",
   "execution_count": null,
   "id": "2524f467-98ab-47e5-a5a6-bcd5a301d929",
   "metadata": {},
   "outputs": [],
   "source": [
    "sorted_by_largeHH = betas.sort_values(by='$\\Delta_E$, Large HH', axis=0, ascending=False)\n",
    "sorted_by_rural = betas.sort_values(by='$\\Delta_E$, Rural', axis=0, ascending=False)"
   ]
  },
  {
   "cell_type": "code",
   "execution_count": null,
   "id": "d14a6658-d006-458c-99cd-4de73e5dad0a",
   "metadata": {},
   "outputs": [],
   "source": [
    "foods2 = ['Celery', 'Queso', 'Queso', 'Beef', 'Sweets', 'Bananas']\n",
    "\n",
    "for i in foods2: \n",
    "    plot_demand_comparison_all(urban_bigHH, rural_bigHH, urban_smallHH, rural_smallHH, food = i)\n",
    "    plt.savefig(f'{i}_Overall.png')"
   ]
  },
  {
   "cell_type": "code",
   "execution_count": null,
   "id": "7af64e77-b081-4f5f-9cec-162116e4ea9e",
   "metadata": {},
   "outputs": [],
   "source": [
    "plot_demand_comparison_all(urban_bigHH, rural_bigHH, urban_smallHH, rural_smallHH, food = 'Oranges')\n",
    "plt.savefig('Oranges_Overall.png')"
   ]
  },
  {
   "cell_type": "code",
   "execution_count": null,
   "id": "484f49d8-b777-4984-b029-e0a3d5e7c7e2",
   "metadata": {},
   "outputs": [],
   "source": [
    "sorted_by_largeHH"
   ]
  },
  {
   "cell_type": "code",
   "execution_count": null,
   "id": "e4dcbd3b-a554-48e7-96c0-3a6f557e4e64",
   "metadata": {},
   "outputs": [],
   "source": [
    "sorted_by_rural"
   ]
  },
  {
   "cell_type": "code",
   "execution_count": null,
   "id": "36e9e0c3-fce6-4047-a51b-f76bd316f672",
   "metadata": {},
   "outputs": [],
   "source": [
    "big_diff_foods_largeHH = betas[0:15].index"
   ]
  },
  {
   "cell_type": "code",
   "execution_count": null,
   "id": "a7ed74a6-e89d-4caa-bb3d-c5cc0ac79062",
   "metadata": {},
   "outputs": [],
   "source": [
    "import warnings\n",
    "\n",
    "# To ignore all warnings\n",
    "warnings.filterwarnings(\"ignore\")"
   ]
  },
  {
   "cell_type": "markdown",
   "id": "867ba60e-6b04-4011-a99b-f97afd88398b",
   "metadata": {},
   "source": [
    "## Main Comparison Food: Pork (it is high up there for Rural HHs and Maize didn't have data across) "
   ]
  },
  {
   "cell_type": "code",
   "execution_count": null,
   "id": "7ce90586-80b5-4f11-9edb-c519290bf497",
   "metadata": {},
   "outputs": [],
   "source": []
  },
  {
   "cell_type": "code",
   "execution_count": null,
   "id": "4848580f-cd55-4657-8676-66405549fa1b",
   "metadata": {},
   "outputs": [],
   "source": []
  },
  {
   "cell_type": "markdown",
   "id": "a14d52dd-ce9c-42ff-8007-d179dde19c23",
   "metadata": {},
   "source": [
    "## From the Differences, Plot the Demand curves for the goods where there's the largest difference between the elaasticities: "
   ]
  },
  {
   "cell_type": "code",
   "execution_count": null,
   "id": "e5b75385-f36d-49a4-950a-079111480a6e",
   "metadata": {},
   "outputs": [],
   "source": [
    "first5_bigdiff = big_diff_foods_largeHH[0:4] \n",
    "\n",
    "for i in big_diff_foods_largeHH: \n",
    "    plot_demand_comparison_geog(urban_bigHH, rural_bigHH, hh_size = 'Large', food=i)"
   ]
  },
  {
   "cell_type": "code",
   "execution_count": null,
   "id": "d885758f-9540-4949-882a-c6f0f4c4e733",
   "metadata": {},
   "outputs": [],
   "source": []
  },
  {
   "cell_type": "code",
   "execution_count": null,
   "id": "2e9de061-9889-4444-a068-e4f57d096cac",
   "metadata": {},
   "outputs": [],
   "source": [
    "def demand_compare_all4(regression1, regression2, regression1_small, regression2_large, hh_size = '', food=''):\n",
    "    # set the desired food for the demand plot\n",
    "    use = food\n",
    "    # get predicted expenditures\n",
    "    xhat1 = regression1.predicted_expenditures()\n",
    "    xhat2 = regression2.predicted_expenditures()\n",
    "    # Total food expenditures per household\n",
    "    xbar1 = xhat1.groupby(['i','t','m']).sum()\n",
    "    xbar2 = xhat2.groupby(['i','t','m']).sum()\n",
    "    # Reference budget\n",
    "    xref1 = xbar1.quantile(0.5)  # Household at 0.5 quantile is median\n",
    "    xref2 = xbar2.quantile(0.5)  # Household at 0.5 quantile is median\n",
    "    # Reference prices chosen from a particular time; average across place.\n",
    "    # These are prices per kilogram:\n",
    "    pbar = p.mean()\n",
    "    pbar1 = pbar[regression1.beta.index] # Only use prices for goods we can estimate\n",
    "    pbar2 = pbar[regression2.beta.index] # Only use prices for goods we can estimate\n",
    "    \n",
    "    # Vary prices from 50% to 200% of reference.\n",
    "    scale = np.linspace(.5,2,20)\n",
    "\n",
    "    fig, ax = plt.subplots(2,2, figsize = (10,10), dpi=200)\n",
    "\n",
    "    \n",
    "    # Demand for Food for Urban Households at median budget\n",
    "    ax[0,0].plot([regression1.demands(xref1,my_prices(pbar1[use]*s,pbar1, j=use))[use] for s in scale],scale, \n",
    "            label = f'Urban, (Elasticity = {regression1.get_beta()[use]:.2f})', lw = 2, color = 'purple')\n",
    "    ax[0,0].set_title(f'{use} Demand, Urban Households', fontsize = 15)\n",
    "\n",
    "    # Demand for Food for Rural Households at median budget\n",
    "    ax[0,0].plot([regression2.demands(xref2,my_prices(pbar2[use]*s,pbar2, j=use))[use] for s in scale],scale, \n",
    "            label = f'Rural, (Elasticity = {regression2.get_beta()[use]:.2f})', lw = 2, color = 'red')\n",
    "    ax[0,1].set_title(f'{use} Demand, Rural Households', fontsize = 15)\n",
    "    \n",
    "    # Demand for Food for Urban Households at median budget\n",
    "    ax[1,0].plot([regression1_small.demands(xref1,my_prices(pbar1[use]*s,pbar1, j=use))[use] for s in scale],scale, \n",
    "            label = f'Small HH, (Elasticity = {regression1_small.get_beta()[use]:.2f})', lw = 2, color = 'dodgerblue')\n",
    "    # Demand for Food for Rural Households at median budget\n",
    "    ax[1,1].plot([regression2_large.demands(xref2,my_prices(pbar2[use]*s,pbar2, j=use))[use] for s in scale],scale, \n",
    "            label = f'Large HH, (Elasticity = {regression2_large.get_beta()[use]:.2f})', lw = 2, color = 'goldenrod')\n",
    "    \n",
    "    plt.legend(facecolor = 'white')\n",
    "    plt.setp(ax, xlabel=\"Quantity Demanded\", ylabel=f\"Price [relative to base {pbar[use]:.2f}]\")\n",
    "    plt.ylabel(f\"Price [relative to base {pbar[use]:.2f}]\")\n",
    "    plt.xlabel(f\"Quantity Demanded\")\n",
    "    plt.title(f'{use} Demand, {geog} Households', fontsize = 15)\n",
    "    \n",
    "    plt.legend(facecolor = 'white')\n",
    "\n",
    "    plt.ylabel(f\"Price [relative to base {pbar[use]:.2f}]\")\n",
    "    plt.xlabel(f\"Quantity Demanded\")\n",
    "    plt.title(f'{use} Demand, {hh_size} Households', fontsize = 15)\n"
   ]
  },
  {
   "cell_type": "code",
   "execution_count": null,
   "id": "9cb0da10-8b1d-4a84-8473-3af55db18dda",
   "metadata": {},
   "outputs": [],
   "source": [
    "top_3 = ['Pork', 'Salt', 'Beans']"
   ]
  },
  {
   "cell_type": "markdown",
   "id": "b9b64566-c231-45a3-a1f7-3a834aa468e5",
   "metadata": {},
   "source": [
    "# Pork Demand Curve Comparisons"
   ]
  },
  {
   "cell_type": "code",
   "execution_count": null,
   "id": "643d246b-37e0-41c8-9375-2374890b2703",
   "metadata": {},
   "outputs": [],
   "source": [
    "demand_compare_all_4(food = 'Pork')"
   ]
  },
  {
   "cell_type": "markdown",
   "id": "bf4b711c-63b1-40cf-8e0c-539d0aac0c06",
   "metadata": {},
   "source": [
    "# Salt Demand Curve Comparisons"
   ]
  },
  {
   "cell_type": "code",
   "execution_count": null,
   "id": "4cf14da9-3886-492f-a5b5-da8c0a6ab010",
   "metadata": {},
   "outputs": [],
   "source": [
    "demand_compare_all_4(food = 'Salt')"
   ]
  },
  {
   "cell_type": "markdown",
   "id": "73d90802-e9dc-4dad-a39f-f30e658d82ec",
   "metadata": {},
   "source": [
    "# Beans Demand Curve Comparison"
   ]
  },
  {
   "cell_type": "code",
   "execution_count": null,
   "id": "62108fdf-f659-4a64-8430-50b8febcca8e",
   "metadata": {},
   "outputs": [],
   "source": [
    "demand_compare_all_4(food = 'Beans')"
   ]
  },
  {
   "cell_type": "markdown",
   "id": "f2af70d1-b333-4f8e-a367-dc864336465d",
   "metadata": {},
   "source": [
    "# Avocado Demand Curve Comparison"
   ]
  },
  {
   "cell_type": "code",
   "execution_count": null,
   "id": "50ed5ef0-586a-4fb5-86c8-67fc833df307",
   "metadata": {},
   "outputs": [],
   "source": [
    "demand_compare_all_4(food = 'Avocado')"
   ]
  },
  {
   "cell_type": "code",
   "execution_count": null,
   "id": "c6db72cf-c0f3-466e-a374-276b9b0f40d8",
   "metadata": {},
   "outputs": [],
   "source": []
  },
  {
   "cell_type": "code",
   "execution_count": null,
   "id": "3512be7e-de04-4a91-9719-eacf2a728577",
   "metadata": {},
   "outputs": [],
   "source": []
  },
  {
   "cell_type": "code",
   "execution_count": null,
   "id": "09e5d75d-04e5-4266-b7e0-3025aa7638f2",
   "metadata": {},
   "outputs": [],
   "source": [
    "import plotly.express as px\n",
    "px.scatter(x_Rural)"
   ]
  },
  {
   "cell_type": "code",
   "execution_count": null,
   "id": "f86c6f3a-97c0-4485-9059-d46c00faf012",
   "metadata": {
    "scrolled": true
   },
   "outputs": [],
   "source": [
    "px.scatter(x_Urban)"
   ]
  },
  {
   "cell_type": "code",
   "execution_count": null,
   "id": "557e024a-9e36-4ad6-a744-068baf46d132",
   "metadata": {},
   "outputs": [],
   "source": [
    "px.bar(x_Rural, x=food_columns)"
   ]
  },
  {
   "cell_type": "code",
   "execution_count": null,
   "id": "476eadab-9edb-4b20-9633-d24d41d2015e",
   "metadata": {},
   "outputs": [],
   "source": [
    "import matplotlib.pyplot as plt"
   ]
  },
  {
   "cell_type": "code",
   "execution_count": null,
   "id": "86563d25-8382-49e4-b577-e5f040cc3a67",
   "metadata": {},
   "outputs": [],
   "source": [
    "plt.hist(x_Rural[food_columns])"
   ]
  },
  {
   "cell_type": "code",
   "execution_count": null,
   "id": "a01836a7-45e7-496e-8b69-4b88484f396b",
   "metadata": {},
   "outputs": [],
   "source": []
  },
  {
   "cell_type": "code",
   "execution_count": null,
   "id": "bde88ada-f709-4ebd-bc70-91afeb30246e",
   "metadata": {},
   "outputs": [],
   "source": [
    "food_columns = ['Avocado', 'Bananas', 'Beans', 'Beef', 'Beef Entrails', 'Beer', 'Beets',\n",
    "       'Bread (french)', 'Bread (sliced)', 'Bread (sweet)', 'Brown Sugar',\n",
    "       'Butter', 'Cabbages', 'Cakes', 'Candies', 'Carrots', 'Celery',\n",
    "       'Chayote', 'Chicken', 'Chicken Giblets', 'Chilies', 'Chocolate',\n",
    "       'Cigarettes', 'Coffee (instant)', 'Cookies', 'Cooking Oil',\n",
    "       'Corn Atole', 'Corn Dough (fresh(', 'Corn Flakes', 'Corn Tamales',\n",
    "       'Cornmeal', 'Crema Fresca', 'Cucumbers', 'Dried Fruit', 'Dried Seeds',\n",
    "       'Eggs', 'Fish (Canned)', 'Fish (Fresh)', 'Garlic', 'Granulated Sugar',\n",
    "       'Herbs', 'Honey, Molasses', 'Ice Cream', 'Incaparina', 'Infant Formula',\n",
    "       'Jam', 'Juice (Branded)', 'Juices (Packaged)', 'Lard',\n",
    "       'Leafcutter Ants and Other Insect', 'Lemons', 'Lettuce', 'Liquor',\n",
    "       'Maize', 'Mangos', 'Margarine', 'Melons', 'Milk', 'Milk (condensed)',\n",
    "       'Milk (powdered)', 'Mineral Water', 'Mushrooms', 'Onions', 'Oranges',\n",
    "       'Other', 'Other Atoles', 'Other Canned Goods', 'Other Sauces', 'Paches',\n",
    "       'Papaya', 'Pasta', 'Peas', 'Pineapples', 'Pork', 'Pork (cracklings)',\n",
    "       'Potatoes', 'Pumpkin', 'Queso', 'Rice', 'Rolled Oats', 'Rural', 'Salt',\n",
    "       'Sausages', 'Soup', 'Spices', 'Sweets', 'Tea', 'Tomato Sauce',\n",
    "       'Tomatoes', 'Tortillas', 'Tostadas', 'Vegetable Oil', 'Water (bottle)',\n",
    "       'Watermelon', 'Wheat Flour', 'Yogurt', 'Yucca'"
   ]
  },
  {
   "cell_type": "code",
   "execution_count": null,
   "id": "8fd84920-678b-46a6-bc74-400b54fac93a",
   "metadata": {},
   "outputs": [],
   "source": []
  }
 ],
 "metadata": {
  "kernelspec": {
   "display_name": "Python 3 (ipykernel)",
   "language": "python",
   "name": "python3"
  },
  "language_info": {
   "codemirror_mode": {
    "name": "ipython",
    "version": 3
   },
   "file_extension": ".py",
   "mimetype": "text/x-python",
   "name": "python",
   "nbconvert_exporter": "python",
   "pygments_lexer": "ipython3",
   "version": "3.9.15"
  }
 },
 "nbformat": 4,
 "nbformat_minor": 5
}

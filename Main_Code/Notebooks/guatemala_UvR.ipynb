{
 "cells": [
  {
   "cell_type": "code",
   "execution_count": null,
   "id": "93ed281c-daa9-4218-ab13-d072d80ada43",
   "metadata": {},
   "outputs": [],
   "source": [
    "!pip install -r requirements_2.txt\n",
    "#!pip install matplotlib"
   ]
  },
  {
   "cell_type": "code",
   "execution_count": null,
   "id": "de719404-2b9f-472c-a36b-9e0d0eeb66bc",
   "metadata": {},
   "outputs": [],
   "source": [
    "# just setting up functions to do demand stuff with \n",
    "\n",
    "import numpy as np\n",
    "import pandas as pd\n",
    "from cfe.estimation import drop_columns_wo_covariance\n",
    "from cfe import Regression\n",
    "from eep153_tools.sheets import read_sheets\n",
    "!pip install fooddatacentral"
   ]
  },
  {
   "cell_type": "code",
   "execution_count": null,
   "id": "686b6e6b-9f4b-4179-9d9c-bcb0e6d5f605",
   "metadata": {},
   "outputs": [],
   "source": [
    "sheets = '1J7d0WCnpAcMoaAScLzqaAEeexuUPdcPRYO42OPjJPu8' #read in sheets"
   ]
  },
  {
   "cell_type": "code",
   "execution_count": null,
   "id": "485b0ea9-25cd-46bc-885d-7732f370ce41",
   "metadata": {},
   "outputs": [],
   "source": [
    "x = read_sheets(sheets,sheet='Food Expenditures') # grab food expenditures, set meta index\n",
    "x.columns.name = 'j'\n",
    "\n",
    "p = read_sheets(sheets,sheet='PriceAsColumns').set_index(['t','m']) # grab prices \n",
    "p.columns.name = 'j'\n",
    "\n",
    "d = read_sheets(sheets,sheet=\"Household Characteristics\") # grab household characteristics\n",
    "d.columns.name = 'k'\n",
    "d.set_index(['i','t','m'],inplace=True)\n",
    "\n",
    "d_dummy = read_sheets(sheets, sheet='HHChar_wDummy')\n",
    "d_dummy.columns.name = 'k'\n",
    "d_dummy.set_index(['i', 't', 'm'], inplace=True)\n",
    "\n",
    "x = x.T.groupby('j').sum().T  \n",
    "x = x.replace(0,np.nan) \n",
    "\n",
    "y = np.log(x.set_index(['i','t','m'])) # take log of expenditures, name y"
   ]
  },
  {
   "cell_type": "code",
   "execution_count": null,
   "id": "acea3c52-ac7d-452a-aa1d-dca0f119bb7a",
   "metadata": {},
   "outputs": [],
   "source": [
    "# doing this to get index\n",
    "\n",
    "d_R = d_dummy[d_dummy['Rural'] == 1]\n",
    "d_U = d_dummy[d_dummy['Rural'] == 0]\n",
    "d_R.reset_index(inplace=True)\n",
    "d_U.reset_index(inplace=True)"
   ]
  },
  {
   "cell_type": "code",
   "execution_count": null,
   "id": "be809d86-f9f2-4e63-81db-6a307dcf62e1",
   "metadata": {},
   "outputs": [],
   "source": [
    "rural_index = d_R['i']\n",
    "urban_index = d_U['i']"
   ]
  },
  {
   "cell_type": "code",
   "execution_count": null,
   "id": "9ad54b6b-fa16-4693-a853-78087b68d8d4",
   "metadata": {},
   "outputs": [],
   "source": [
    "x_R = x[x['i'].isin(rural_index)]\n",
    "x_U = x[x['i'].isin(urban_index)]"
   ]
  },
  {
   "cell_type": "code",
   "execution_count": null,
   "id": "ad9931aa-f101-457f-ba14-04cf344f9451",
   "metadata": {},
   "outputs": [],
   "source": [
    "y_R = np.log(x_R.set_index(['i','t','m'])) # take log of expenditures, name y\n",
    "y_U = np.log(x_U.set_index(['i','t','m'])) "
   ]
  },
  {
   "cell_type": "code",
   "execution_count": null,
   "id": "a6ea61d8-67ef-4526-8b1a-7a67a34b42cb",
   "metadata": {},
   "outputs": [],
   "source": [
    "d_R = d_dummy[d_dummy['Rural'] == 1]\n",
    "d_U = d_dummy[d_dummy['Rural'] == 0]"
   ]
  },
  {
   "cell_type": "code",
   "execution_count": null,
   "id": "dafd5c91-41fc-435f-9679-21dc37d88490",
   "metadata": {},
   "outputs": [],
   "source": [
    "print(y_R.index.names)\n",
    "print(d_R.index.names)"
   ]
  },
  {
   "cell_type": "code",
   "execution_count": null,
   "id": "1c92653e-09b6-43d0-be19-c89c6ad3cfe3",
   "metadata": {},
   "outputs": [],
   "source": [
    "from cfe import Regression"
   ]
  },
  {
   "cell_type": "code",
   "execution_count": null,
   "id": "2224b92f-960b-4998-af12-a897669128f7",
   "metadata": {},
   "outputs": [],
   "source": [
    "#This cell is to run a regression estimation to predict household expenditures\n",
    "\n",
    "def regress(y, d):\n",
    "    \n",
    "    y = y.stack()\n",
    "    d = d.stack()\n",
    "    # Check that indices are in right places!\n",
    "    assert y.index.names == ['i','t','m','j']\n",
    "    assert d.index.names == ['i','t','m','k']\n",
    "    result = Regression(y=y,d=d)\n",
    "    predicted_expenditures = pd.DataFrame({'y':y,'yhat':result.get_predicted_log_expenditures()})\n",
    "    return result, predicted_expenditures"
   ]
  },
  {
   "cell_type": "code",
   "execution_count": null,
   "id": "8ae2dece-46f6-4d74-8cef-01ec12cd1530",
   "metadata": {},
   "outputs": [],
   "source": [
    "all, x_pred_all = regress(y, d)\n",
    "#print(all.predicted_expenditures())"
   ]
  },
  {
   "cell_type": "code",
   "execution_count": null,
   "id": "31956fb8-e2e1-4b36-827a-3d9f2e3de2cb",
   "metadata": {},
   "outputs": [],
   "source": [
    "rural, x_pred_R = regress(y_R, d_R)\n",
    "urban, x_pred_U = regress(y_U, d_U)"
   ]
  },
  {
   "cell_type": "code",
   "execution_count": null,
   "id": "e0c54a05-2399-4118-9099-69a124ac1767",
   "metadata": {
    "scrolled": true
   },
   "outputs": [],
   "source": [
    "import seaborn as sns\n",
    "import matplotlib.pyplot as plt\n",
    "sns.set_theme()\n",
    "\n",
    "fig, ax = plt.subplots(1,2, figsize = (15,7), dpi=300)\n",
    "\n",
    "ax[0].scatter(x_pred_R['yhat'], x_pred_R['y'])\n",
    "ax[0].set_xlabel('Actual Log Expenditures')\n",
    "ax[0].set_ylabel('Predicted Log Expenditures')\n",
    "ax[0].set_title('RURAL: Predicted vs. Actual Expenditures')\n",
    "\n",
    "ax[1].scatter(x_pred_U['yhat'], x_pred_U['y'])\n",
    "ax[1].set_xlabel('Actual Log Expenditures')\n",
    "ax[1].set_ylabel('Predicted Log Expenditures')\n",
    "ax[1].set_title('URBAN: Predicted vs. Actual Expenditures')\n",
    "\n",
    "plt.savefig('Predicted_Expenditures.png')"
   ]
  },
  {
   "cell_type": "code",
   "execution_count": null,
   "id": "deaed6d9-35f9-49bb-8ca9-f692312b3a16",
   "metadata": {},
   "outputs": [],
   "source": [
    "all_betas.index"
   ]
  },
  {
   "cell_type": "code",
   "execution_count": null,
   "id": "d12b88f6-11ab-47e0-8031-5b9859ac7eae",
   "metadata": {},
   "outputs": [],
   "source": [
    "all_betas = all.get_beta()\n",
    "rural_betas = rural.get_beta()\n",
    "urban_betas = urban.get_beta()\n",
    "\n",
    "#def get_beta_summary(betas): \n",
    "  #  max = betas[beta\n",
    "   # print(f'The most Frische-elastic good is {betas==betas[max(betas)]}'.format(str))\n",
    "   # print(f'The most Frische-inelastic good is {min(betas)}'.format(str))"
   ]
  },
  {
   "cell_type": "code",
   "execution_count": null,
   "id": "8d20e422-24a6-4a16-bc96-3c62066a3b00",
   "metadata": {
    "scrolled": true
   },
   "outputs": [],
   "source": [
    "rural.graph_beta() \n",
    "plt.title('Rural Frisch Elasticities')\n",
    "plt.savefig('RuralFrisch.png')"
   ]
  },
  {
   "cell_type": "code",
   "execution_count": null,
   "id": "f3eac6ed-5ad1-4fca-89a0-388c3fe3d93b",
   "metadata": {},
   "outputs": [],
   "source": [
    "urban.graph_beta() \n",
    "plt.title('Urban Frisch Elasticities')\n",
    "plt.savefig('UrbanFrisch.png')"
   ]
  },
  {
   "cell_type": "code",
   "execution_count": null,
   "id": "75d435b4-5607-4db6-8726-9d3bd42b120a",
   "metadata": {},
   "outputs": [],
   "source": [
    "rural_max.index"
   ]
  },
  {
   "cell_type": "code",
   "execution_count": null,
   "id": "7756c7ce-31b3-4d96-b6f6-7c068c060329",
   "metadata": {},
   "outputs": [],
   "source": [
    "beta_dict = {'All' : all.get_beta(), \n",
    "             'Rural' : rural.get_beta(), \n",
    "             'Urban' : urban.get_beta()}\n",
    "betas = pd.DataFrame(beta_dict) # made a dataframe with Frisch elasticities for each good in each place\n",
    "betas"
   ]
  },
  {
   "cell_type": "code",
   "execution_count": null,
   "id": "0184f7fa-de23-4a21-8798-2cf30c677059",
   "metadata": {},
   "outputs": [],
   "source": []
  },
  {
   "cell_type": "code",
   "execution_count": null,
   "id": "4475eed9-e57c-4d53-a883-14cd1da3af48",
   "metadata": {},
   "outputs": [],
   "source": [
    "print(betas_inelastic.index)\n",
    "print(rural_betas_inelastic.index)"
   ]
  },
  {
   "cell_type": "code",
   "execution_count": null,
   "id": "50d1116a-0f72-47dd-8703-3788fff833cf",
   "metadata": {},
   "outputs": [],
   "source": [
    "all_betas_inelastic = betas[betas['All']<1]\n",
    "rural_betas_inelastic = betas[betas['Rural']<1]\n",
    "urban_betas_inelastic = betas[betas['Urban']<1]"
   ]
  },
  {
   "cell_type": "code",
   "execution_count": null,
   "id": "9ce441b9-eab5-4758-9535-7564a58f0cd0",
   "metadata": {},
   "outputs": [],
   "source": [
    "rural_betas_inelastic"
   ]
  },
  {
   "cell_type": "code",
   "execution_count": null,
   "id": "48c6b46a-601c-40b3-b338-5833871b2a8a",
   "metadata": {},
   "outputs": [],
   "source": [
    "import plotly.express as px"
   ]
  },
  {
   "cell_type": "code",
   "execution_count": null,
   "id": "48412e79-6afb-4161-b8ee-d9315989c3a9",
   "metadata": {},
   "outputs": [],
   "source": [
    "fig = px.bar(all_betas_inelastic[['Rural', 'Urban']], barmode='group', title = 'Urban-Rural Elasticity Comparison, Elasticity < 1', height=800, width=1200)\n",
    "fig.update_layout(yaxis_title='Elasticity Magnitude', xaxis_title = 'Food')\n",
    "fig.write_image('Elasticity_Mag_Comparison.png')"
   ]
  },
  {
   "cell_type": "code",
   "execution_count": null,
   "id": "a100599c-8004-414b-9426-f6fe92c16252",
   "metadata": {},
   "outputs": [],
   "source": [
    "fig = px.bar(rural_betas_inelastic[['Rural', 'Urban']], barmode='group', title = 'Urban-Rural Elasticity Comparison', height=800, width=1200)\n",
    "fig.update_layout(yaxis_title='Elasticity Magnitude', xaxis_title = 'Food')\n",
    "fig.write_image('Elasticity_Mag_Comparison.png')\n",
    "fig"
   ]
  },
  {
   "cell_type": "code",
   "execution_count": null,
   "id": "7bf7049b-f2d4-4f6e-95ee-66b820af7ee6",
   "metadata": {},
   "outputs": [],
   "source": [
    "px.scatter(rural_betas_inelastic[['Rural', 'Urban']])"
   ]
  },
  {
   "cell_type": "code",
   "execution_count": null,
   "id": "e68044af-30db-4627-9e52-1b05b5de9179",
   "metadata": {},
   "outputs": [],
   "source": [
    "all_max = betas[betas['All']==max(betas['All'])]\n",
    "all_min = betas[betas['All']==min(betas['All'])]\n",
    "    \n",
    "rural_max = betas[betas['Rural']==max(betas['Rural'])]\n",
    "rural_min = betas[betas['Rural']==min(betas['Rural'])]\n",
    "    \n",
    "urban_max = betas[betas['Urban']==max(betas['Urban'])]\n",
    "urban_min = betas[betas['Urban']==min(betas['Urban'])]\n",
    "\n",
    "    \n",
    "#print(f'In Guatemala, the most Frische-elastic good is {all_max.index} at {all_max['All']}'.format(str))\n",
    "print(f'In Guatemala, the most Frische-elastic good is {all_max.index[0]} at Elasticity = {all_max[\"All\"].iloc[0]}')\n",
    "print(f'In Guatemala, the most Frische-inelastic good is {all_min.index[0]} at Elasticity = {all_min[\"All\"].iloc[0]}')\n",
    "print(' ')\n",
    "print(f'In urban areas, the most Frische-elastic good is {urban_max.index[0]} at Elasticity = {urban_max[\"Urban\"].iloc[0]}')\n",
    "print(f'In urban, the most Frische-inelastic good is {urban_min.index[0]} at Elasticity = {urban_min[\"Urban\"].iloc[0]}')\n",
    "print(' ')\n",
    "print(f'In rural areas, the most Frische-elastic good is {rural_max.index[0]} at Elasticity = {rural_max[\"Rural\"].iloc[0]}')\n",
    "print(f'In rural, the most Frische-inelastic good is {rural_min.index[0]} at Elasticity = {rural_min[\"Rural\"].iloc[0]}')\n",
    "\n"
   ]
  },
  {
   "cell_type": "code",
   "execution_count": null,
   "id": "169f40d8-56d7-4bf0-86ef-421249188f3d",
   "metadata": {},
   "outputs": [],
   "source": [
    "all_gamma = all.get_gamma()\n",
    "rural_gamma = rural.get_gamma()\n",
    "urban_gamma = urban.get_gamma()"
   ]
  },
  {
   "cell_type": "code",
   "execution_count": null,
   "id": "35fc942d-80fe-4071-935b-cb4b1e7ec01b",
   "metadata": {},
   "outputs": [],
   "source": [
    "all_gamma.columns"
   ]
  },
  {
   "cell_type": "code",
   "execution_count": null,
   "id": "8e7a0db6-53e6-496e-a4f3-d81d1edeee19",
   "metadata": {},
   "outputs": [],
   "source": [
    "px.scatter(rural_gamma.drop(columns='Constant'))"
   ]
  },
  {
   "cell_type": "code",
   "execution_count": null,
   "id": "7739280c-9385-46bf-a97b-61078c0fd10a",
   "metadata": {},
   "outputs": [],
   "source": []
  },
  {
   "cell_type": "code",
   "execution_count": null,
   "id": "e94d478f-f19d-4263-9038-aef5d023b516",
   "metadata": {},
   "outputs": [],
   "source": [
    "w_dict = {'All' : all.get_w(), 'Rural' : rural.get_w(), 'Urban' : urban.get_w()}\n",
    "welfare = pd.DataFrame(w_dict) # made a dataframe with Frisch elasticities for each good in each place\n",
    "welfare"
   ]
  },
  {
   "cell_type": "code",
   "execution_count": null,
   "id": "e4a28f9a-a997-4ef7-aba3-207d536157ed",
   "metadata": {},
   "outputs": [],
   "source": [
    "#This histogram illustrates the distribution of welfare measure of households\n",
    "plt.figure(dpi=200)\n",
    "welfare['Rural'].plot.hist(bins=50,density=True, rwidth=0.95)\n",
    "plt.title('Rural Welfare Distribution')\n",
    "plt.savefig('Rural_Welfare_Distribution')\n",
    "plt.figure(dpi=200)\n",
    "welfare['Urban'].plot.hist(bins=50,density=True, rwidth=0.95)\n",
    "plt.title('Urban Welfare Distribution')\n",
    "plt.savefig('Urban_Welfare_Distribution')\n",
    "#result.get_w().plot.kde(ax=ax)"
   ]
  },
  {
   "cell_type": "code",
   "execution_count": null,
   "id": "472f3ee3-ccbc-45be-b6c0-0fa85f6f8cfc",
   "metadata": {},
   "outputs": [],
   "source": [
    "pbar = p.mean()"
   ]
  },
  {
   "cell_type": "code",
   "execution_count": null,
   "id": "2695ac8b-3691-4d83-a66b-8ef8d5fcd31e",
   "metadata": {},
   "outputs": [],
   "source": [
    "#Finally, define a function to change a single price in the vector $p$:\n",
    "\n",
    "def my_prices(p0,p=pbar,j=''):\n",
    "    \"\"\"\n",
    "    Change price of jth good to p0, holding other prices fixed.\n",
    "    \"\"\"\n",
    "    p = p.copy()\n",
    "    p.loc[j] = p0\n",
    "    return p\n",
    "\n",
    "def plot_demand(regression, food=''): \n",
    "    # set the desired food for the demand plot\n",
    "    use = food\n",
    "    # get predicted expenditures\n",
    "    xhat = regression.predicted_expenditures()\n",
    "    # Total food expenditures per household\n",
    "    xbar = xhat.groupby(['i','t','m']).sum()\n",
    "    # Reference budget\n",
    "    xref = xbar.quantile(0.5)  # Household at 0.5 quantile is median\n",
    "    # Reference prices chosen from a particular time; average across place.\n",
    "    # These are prices per kilogram:\n",
    "    pbar = p.mean()\n",
    "    pbar = pbar[regression.beta.index] # Only use prices for goods we can estimate\n",
    "    # Vary prices from 50% to 200% of reference.\n",
    "    scale = np.linspace(.5,2,20)\n",
    "\n",
    "    plt.figure(figsize = (5,5), dpi=300)\n",
    "    # Demand for Food for household at median budget\n",
    "    plt.plot([regression.demands(xref,my_prices(pbar[use]*s,pbar, j=use))[use] for s in scale],scale, \n",
    "            label = 'Median Budget')\n",
    "    # Demand for Avocado for household at 25% percentile\n",
    "    plt.plot([regression.demands(xbar.quantile(0.25),my_prices(pbar[use]*s,pbar,j=use))[use] for s in scale],scale, \n",
    "            label = '25th Percentile')\n",
    "    # Demand for Avocado for household at 75% percentile\n",
    "    plt.plot([regression.demands(xbar.quantile(0.75),my_prices(pbar[use]*s,pbar, j=use))[use] for s in scale],scale, \n",
    "            label = '75th Percentile')\n",
    "    plt.legend(facecolor = 'white')\n",
    "\n",
    "    plt.ylabel(f\"Price (relative to base {pbar[use]:.2f})\")\n",
    "    plt.xlabel(f\"Quantity Demanded\")\n",
    "    plt.title(f'{use}', fontsize = 15)"
   ]
  },
  {
   "cell_type": "markdown",
   "id": "af3dceb1-d453-4ab2-8430-231fc867c866",
   "metadata": {},
   "source": [
    "## Plotting Demand for Different Brackets"
   ]
  },
  {
   "cell_type": "code",
   "execution_count": null,
   "id": "7808eae2-2768-4620-918c-53b7cad2c762",
   "metadata": {},
   "outputs": [],
   "source": [
    "plot_demand(all, food='Peas')"
   ]
  },
  {
   "cell_type": "code",
   "execution_count": null,
   "id": "71b92ab6-8319-4acb-a14b-bace6203a5b1",
   "metadata": {},
   "outputs": [],
   "source": [
    "plot_demand(all, food = 'Ice Cream')\n",
    "plt.title('Ice Cream, Highest Elasticity Good')\n",
    "plt.savefig('IceCream_Guatemala_OverallDemand.png')"
   ]
  },
  {
   "cell_type": "code",
   "execution_count": null,
   "id": "838eb230-b3c1-4def-986a-b1a344d1384a",
   "metadata": {},
   "outputs": [],
   "source": [
    "plot_demand(all, food = 'Maize')\n",
    "plt.title('Maize, Lowest Elasticity Good')\n",
    "plt.savefig('Maize_Guatemala_OverallDemand.png')"
   ]
  },
  {
   "cell_type": "code",
   "execution_count": null,
   "id": "c975acc2-bd51-428e-b8a2-6d858f684134",
   "metadata": {},
   "outputs": [],
   "source": [
    "def plot_demand_comparison(regression1, regression2, food=''): \n",
    "    # set the desired food for the demand plot\n",
    "    use = food\n",
    "    # get predicted expenditures\n",
    "    xhat1 = regression1.predicted_expenditures()\n",
    "    xhat2 = regression1.predicted_expenditures()\n",
    "    # Total food expenditures per household\n",
    "    xbar1 = xhat1.groupby(['i','t','m']).sum()\n",
    "    xbar2 = xhat2.groupby(['i','t','m']).sum()\n",
    "    # Reference budget\n",
    "    xref1 = xbar1.quantile(0.5)  # Household at 0.5 quantile is median\n",
    "    xref2 = xbar2.quantile(0.5)  # Household at 0.5 quantile is median\n",
    "    # Reference prices chosen from a particular time; average across place.\n",
    "    # These are prices per kilogram:\n",
    "    pbar = p.mean()\n",
    "    pbar1 = pbar[regression1.beta.index] # Only use prices for goods we can estimate\n",
    "    pbar2 = pbar[regression2.beta.index] # Only use prices for goods we can estimate\n",
    "    \n",
    "    # Vary prices from 50% to 200% of reference.\n",
    "    scale = np.linspace(.5,2,20)\n",
    "\n",
    "    plt.figure(figsize = (5,5), dpi=200)\n",
    "    # Demand for Food for Urban Households at median budget\n",
    "    plt.plot([regression1.demands(xref1,my_prices(pbar1[use]*s,pbar1, j=use))[use] for s in scale],scale, \n",
    "            label = f'Urban, (Elasticity = {regression1.get_beta()[use]:.2f})', lw = 2, color = 'dodgerblue')\n",
    "    # Demand for Food for Rural Households at median budget\n",
    "    plt.plot([regression2.demands(xref2,my_prices(pbar2[use]*s,pbar2, j=use))[use] for s in scale],scale, \n",
    "            label = f'Rural, (Elasticity = {regression2.get_beta()[use]:.2f})', lw = 2, color = 'goldenrod')\n",
    "    \n",
    "    plt.legend(facecolor = 'white')\n",
    "\n",
    "    plt.ylabel(f\"Price [relative to base {pbar[use]:.2f}]\")\n",
    "    plt.xlabel(f\"Quantity Demanded\")\n",
    "    plt.title(f'{use}', fontsize = 15)\n",
    "\n",
    "    #plt.savefig(f'Urban-Rural_DemandComparison_{use}.png')\n",
    "    plt.savefig(f'U-R_BigElDiff_DemandComparison_{use}.png')"
   ]
  },
  {
   "cell_type": "code",
   "execution_count": null,
   "id": "94340e3f-0c0d-4c02-9640-6d80e60eb586",
   "metadata": {},
   "outputs": [],
   "source": [
    "plot_demand_comparison(urban, rural, food = 'Ice Cream')\n",
    "plot_demand_comparison(urban, rural, food = 'Maize')"
   ]
  },
  {
   "cell_type": "code",
   "execution_count": null,
   "id": "7d19f542-1af0-4994-90ae-9c6019cb8d01",
   "metadata": {},
   "outputs": [],
   "source": [
    "betas['$\\Delta$ (|U-R|)'] = np.abs(betas['Urban'] - betas['Rural'])\n",
    "betas = betas.dropna()"
   ]
  },
  {
   "cell_type": "code",
   "execution_count": null,
   "id": "47776393-9945-460c-b8b8-ffca7bffa862",
   "metadata": {},
   "outputs": [],
   "source": [
    "betas = betas.sort_values(by='$\\Delta$ (|U-R|)', axis=0, ascending=False)"
   ]
  },
  {
   "cell_type": "code",
   "execution_count": null,
   "id": "2524f467-98ab-47e5-a5a6-bcd5a301d929",
   "metadata": {},
   "outputs": [],
   "source": [
    "betas"
   ]
  },
  {
   "cell_type": "code",
   "execution_count": null,
   "id": "36e9e0c3-fce6-4047-a51b-f76bd316f672",
   "metadata": {},
   "outputs": [],
   "source": [
    "big_diff_foods = betas[0:15].index"
   ]
  },
  {
   "cell_type": "markdown",
   "id": "a14d52dd-ce9c-42ff-8007-d179dde19c23",
   "metadata": {},
   "source": [
    "## From the Differences, Plot the Demand curves for the goods where there's the largest difference between the elaasticities: "
   ]
  },
  {
   "cell_type": "code",
   "execution_count": null,
   "id": "e5b75385-f36d-49a4-950a-079111480a6e",
   "metadata": {},
   "outputs": [],
   "source": [
    "#first5_bigdiff = big_diff_foods[0:4] \n",
    "\n",
    "for i in big_diff_foods: \n",
    "    plot_demand_comparison(urban, rural, food=i)"
   ]
  },
  {
   "cell_type": "code",
   "execution_count": null,
   "id": "d885758f-9540-4949-882a-c6f0f4c4e733",
   "metadata": {},
   "outputs": [],
   "source": [
    "for i in big_diff_foods: \n",
    "    plot_demand_comparison(urban, rural, food = i)"
   ]
  },
  {
   "cell_type": "code",
   "execution_count": null,
   "id": "2e9de061-9889-4444-a068-e4f57d096cac",
   "metadata": {},
   "outputs": [],
   "source": [
    "#plt.figure()\n",
    "plot_demand_comparison(urban, rural, food = 'Bread (french)')\n",
    "#plt.figure()\n",
    "plot_demand_comparison(urban, rural, food = 'Milk (powdered)')\n",
    "#plt.figure()\n",
    "plot_demand_comparison(urban, rural, food = 'Bread (sweet)')\n",
    "#plt.figure()\n",
    "plot_demand_comparison(urban, rural, food = 'Oranges')"
   ]
  },
  {
   "cell_type": "code",
   "execution_count": null,
   "id": "9cb0da10-8b1d-4a84-8473-3af55db18dda",
   "metadata": {},
   "outputs": [],
   "source": [
    "# This finds the food budget for all households and determines the median food budget\n",
    "\n",
    "import numpy as np\n",
    "\n",
    "xhat = all.predicted_expenditures()\n",
    "\n",
    "# Total food expenditures per household\n",
    "xbar = xhat.groupby(['i','t','m']).sum()\n",
    "\n",
    "# Reference budget\n",
    "xref = xbar.quantile(0.5)  # Household at 0.5 quantile is median"
   ]
  },
  {
   "cell_type": "code",
   "execution_count": null,
   "id": "2c389977-fd24-44e6-9bd7-851e0e52284b",
   "metadata": {},
   "outputs": [],
   "source": [
    "# This chooses a reference price for avocados\n",
    "\n",
    "# Reference prices chosen from a particular time; average across place.\n",
    "# These are prices per kilogram:\n",
    "pbar = p.mean()\n",
    "pbar = pbar[all.beta.index] # Only use prices for goods we can estimate\n",
    "\n",
    "#Finally, define a function to change a single price in the vector $p$:\n",
    "def my_prices(p0,p=pbar,j='Avocado'):\n",
    "    \"\"\"\n",
    "    Change price of jth good to p0, holding other prices fixed.\n",
    "    \"\"\"\n",
    "    p = p.copy()\n",
    "    p.loc[j] = p0\n",
    "    return p"
   ]
  },
  {
   "cell_type": "code",
   "execution_count": null,
   "id": "643d246b-37e0-41c8-9375-2374890b2703",
   "metadata": {},
   "outputs": [],
   "source": [
    "#This graph shows the demand curves of households for avocado at different budgets\n",
    "\n",
    "import matplotlib.pyplot as plt\n",
    "%matplotlib inline\n",
    "\n",
    "use = 'Avocado'  # Good we want demand curve for\n",
    "\n",
    "# Vary prices from 50% to 200% of reference.\n",
    "scale = np.linspace(.5,2,20)\n",
    "\n",
    "# Demand for Avocado for household at median budget\n",
    "plt.plot([all.demands(xref,my_prices(pbar[use]*s,pbar))[use] for s in scale],scale)\n",
    "\n",
    "# Demand for Avocado for household at 25% percentile\n",
    "plt.plot([all.demands(xbar.quantile(0.25),my_prices(pbar[use]*s,pbar))[use] for s in scale],scale)\n",
    "\n",
    "# Demand for Avocado for household at 75% percentile\n",
    "plt.plot([all.demands(xbar.quantile(0.75),my_prices(pbar[use]*s,pbar))[use] for s in scale],scale)\n",
    "\n",
    "plt.ylabel(f\"Price (relative to base of {pbar[use]:.2f})\")\n",
    "plt.xlabel(f\"Quantities of {use} Demanded\")"
   ]
  },
  {
   "cell_type": "code",
   "execution_count": null,
   "id": "a696dab7-4105-4a54-bb50-9ddecab4f0e5",
   "metadata": {},
   "outputs": [],
   "source": []
  },
  {
   "cell_type": "code",
   "execution_count": null,
   "id": "4cf14da9-3886-492f-a5b5-da8c0a6ab010",
   "metadata": {},
   "outputs": [],
   "source": []
  },
  {
   "cell_type": "code",
   "execution_count": null,
   "id": "b206ca00-3c7f-4d8e-b92a-2c78183fa3fb",
   "metadata": {},
   "outputs": [],
   "source": []
  },
  {
   "cell_type": "code",
   "execution_count": null,
   "id": "62108fdf-f659-4a64-8430-50b8febcca8e",
   "metadata": {},
   "outputs": [],
   "source": []
  },
  {
   "cell_type": "code",
   "execution_count": null,
   "id": "6b9abe82-9dbf-4b0e-8018-6b2d8380b8da",
   "metadata": {},
   "outputs": [],
   "source": []
  },
  {
   "cell_type": "code",
   "execution_count": null,
   "id": "50ed5ef0-586a-4fb5-86c8-67fc833df307",
   "metadata": {},
   "outputs": [],
   "source": []
  },
  {
   "cell_type": "code",
   "execution_count": null,
   "id": "c6db72cf-c0f3-466e-a374-276b9b0f40d8",
   "metadata": {},
   "outputs": [],
   "source": []
  },
  {
   "cell_type": "code",
   "execution_count": null,
   "id": "3512be7e-de04-4a91-9719-eacf2a728577",
   "metadata": {},
   "outputs": [],
   "source": []
  },
  {
   "cell_type": "code",
   "execution_count": null,
   "id": "09e5d75d-04e5-4266-b7e0-3025aa7638f2",
   "metadata": {},
   "outputs": [],
   "source": [
    "import plotly.express as px\n",
    "px.scatter(x_Rural)"
   ]
  },
  {
   "cell_type": "code",
   "execution_count": null,
   "id": "f86c6f3a-97c0-4485-9059-d46c00faf012",
   "metadata": {
    "scrolled": true
   },
   "outputs": [],
   "source": [
    "px.scatter(x_Urban)"
   ]
  },
  {
   "cell_type": "code",
   "execution_count": null,
   "id": "557e024a-9e36-4ad6-a744-068baf46d132",
   "metadata": {},
   "outputs": [],
   "source": [
    "px.bar(x_Rural, x=food_columns)"
   ]
  },
  {
   "cell_type": "code",
   "execution_count": null,
   "id": "476eadab-9edb-4b20-9633-d24d41d2015e",
   "metadata": {},
   "outputs": [],
   "source": [
    "import matplotlib.pyplot as plt"
   ]
  },
  {
   "cell_type": "code",
   "execution_count": null,
   "id": "86563d25-8382-49e4-b577-e5f040cc3a67",
   "metadata": {},
   "outputs": [],
   "source": [
    "plt.hist(x_Rural[food_columns])"
   ]
  },
  {
   "cell_type": "code",
   "execution_count": null,
   "id": "a01836a7-45e7-496e-8b69-4b88484f396b",
   "metadata": {},
   "outputs": [],
   "source": []
  },
  {
   "cell_type": "code",
   "execution_count": null,
   "id": "bde88ada-f709-4ebd-bc70-91afeb30246e",
   "metadata": {},
   "outputs": [],
   "source": [
    "food_columns = ['Avocado', 'Bananas', 'Beans', 'Beef', 'Beef Entrails', 'Beer', 'Beets',\n",
    "       'Bread (french)', 'Bread (sliced)', 'Bread (sweet)', 'Brown Sugar',\n",
    "       'Butter', 'Cabbages', 'Cakes', 'Candies', 'Carrots', 'Celery',\n",
    "       'Chayote', 'Chicken', 'Chicken Giblets', 'Chilies', 'Chocolate',\n",
    "       'Cigarettes', 'Coffee (instant)', 'Cookies', 'Cooking Oil',\n",
    "       'Corn Atole', 'Corn Dough (fresh(', 'Corn Flakes', 'Corn Tamales',\n",
    "       'Cornmeal', 'Crema Fresca', 'Cucumbers', 'Dried Fruit', 'Dried Seeds',\n",
    "       'Eggs', 'Fish (Canned)', 'Fish (Fresh)', 'Garlic', 'Granulated Sugar',\n",
    "       'Herbs', 'Honey, Molasses', 'Ice Cream', 'Incaparina', 'Infant Formula',\n",
    "       'Jam', 'Juice (Branded)', 'Juices (Packaged)', 'Lard',\n",
    "       'Leafcutter Ants and Other Insect', 'Lemons', 'Lettuce', 'Liquor',\n",
    "       'Maize', 'Mangos', 'Margarine', 'Melons', 'Milk', 'Milk (condensed)',\n",
    "       'Milk (powdered)', 'Mineral Water', 'Mushrooms', 'Onions', 'Oranges',\n",
    "       'Other', 'Other Atoles', 'Other Canned Goods', 'Other Sauces', 'Paches',\n",
    "       'Papaya', 'Pasta', 'Peas', 'Pineapples', 'Pork', 'Pork (cracklings)',\n",
    "       'Potatoes', 'Pumpkin', 'Queso', 'Rice', 'Rolled Oats', 'Rural', 'Salt',\n",
    "       'Sausages', 'Soup', 'Spices', 'Sweets', 'Tea', 'Tomato Sauce',\n",
    "       'Tomatoes', 'Tortillas', 'Tostadas', 'Vegetable Oil', 'Water (bottle)',\n",
    "       'Watermelon', 'Wheat Flour', 'Yogurt', 'Yucca'"
   ]
  },
  {
   "cell_type": "code",
   "execution_count": null,
   "id": "8fd84920-678b-46a6-bc74-400b54fac93a",
   "metadata": {},
   "outputs": [],
   "source": []
  }
 ],
 "metadata": {
  "kernelspec": {
   "display_name": "Python 3 (ipykernel)",
   "language": "python",
   "name": "python3"
  },
  "language_info": {
   "codemirror_mode": {
    "name": "ipython",
    "version": 3
   },
   "file_extension": ".py",
   "mimetype": "text/x-python",
   "name": "python",
   "nbconvert_exporter": "python",
   "pygments_lexer": "ipython3",
   "version": "3.9.15"
  }
 },
 "nbformat": 4,
 "nbformat_minor": 5
}

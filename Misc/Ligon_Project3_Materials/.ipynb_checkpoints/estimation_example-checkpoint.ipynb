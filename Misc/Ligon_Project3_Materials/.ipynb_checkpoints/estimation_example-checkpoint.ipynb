{
  "cells": [
    {
      "cell_type": "markdown",
      "metadata": {},
      "source": [
        "In this document we&rsquo;ll work through a simple approach to estimating\nConstant Frisch Elasticity (CFE) demand systems.\n\nThere are two prerequisites; the first is the `CFEDemands` python\nmodule.  You may have this already, but if not it  can be installed with a simple:\n\n"
      ]
    },
    {
      "cell_type": "code",
      "execution_count": 1,
      "metadata": {},
      "outputs": [],
      "source": [
        "#!pip install -r requirements.txt"
      ]
    },
    {
      "cell_type": "markdown",
      "metadata": {},
      "source": [
        "The second prerequisite is a dataset including detailed information on\nhousehold expenditures and characteristics.  The structure of that\ndataset is detailed in the next section.\n\n"
      ]
    },
    {
      "cell_type": "markdown",
      "metadata": {},
      "source": [
        "## Data\n\n"
      ]
    },
    {
      "cell_type": "markdown",
      "metadata": {},
      "source": [
        "Consider the case in which the data are saved in a google sheet; we&rsquo;ll\nturn data from these into `pandas` dataframes.  \nThere are limits on the allowable size of google sheets (5 million\ncells when I last checked), so if your dataset is larger than this you&rsquo;ll need some other\nmechanism to get your data into such dataframes.  Even in this latter\ncase you&rsquo;ll want your dataframes to have a structure that matches the\ndescription given below.\n\n"
      ]
    },
    {
      "cell_type": "markdown",
      "metadata": {},
      "source": [
        "### Structure of the Spreadsheet\n\n"
      ]
    },
    {
      "cell_type": "markdown",
      "metadata": {},
      "source": [
        "An example spreadsheet with data for Uganda can be found at\n[https://docs.google.com/spreadsheets/d/1yVLriVpo7KGUXvR3hq_n53XpXlD5NmLaH1oOMZyV0gQ/](https://docs.google.com/spreadsheets/d/1yVLriVpo7KGUXvR3hq_n53XpXlD5NmLaH1oOMZyV0gQ/)\n\nThis spreadsheet consists of three worksheets, labeled &ldquo;RDI&rdquo;, &ldquo;FCT&rdquo;,\n&ldquo;Household Characteristics&rdquo;, &ldquo;Prices&rdquo;, and a series of different years of food &ldquo;Expenditures&rdquo;.\n\nEach worksheet has the initial three columns labeled &ldquo;i&rdquo;, &ldquo;t&rdquo;, and\n&ldquo;m&rdquo;; together these identify an observation uniquely.  The column &ldquo;i&rdquo;\nshould include a household id; the column &ldquo;t&rdquo; should include an\nindicator for the year or period (for those of you with\ncross-sectional data these will all take a common value, e.g., 2019);\nthe column &ldquo;m&rdquo; should be an indicator of &ldquo;market&rdquo;, which may be a\nregion identifier, or may take a single value (e.g., &ldquo;Malawi&rdquo;).\n\nThe triple (i,t,m) will serve as the index of some constructed\ndataframes.  It is important not to have **too** many different values\nfor &ldquo;m&rdquo; (unless you have lots of data and RAM to play with).\n\nBeyond the first three columns, the &ldquo;Expenditures&rdquo; worksheet for a given year should\nhave one column for each category of expenditures (e.g., &ldquo;Beans&rdquo;, &ldquo;Beef&rdquo;, &ldquo;Beer&rdquo;,&#x2026;).\n\nBeyond the first three columns, the &ldquo;Household Characteristics&rdquo; should\nhave columns corresponding to different elements of the vector of\nobservable characteristics $z$.  If the data allow, I recommend\nconstructing observables that match what I have in these data:\nnamely numbers of different children by age and sex, along with the\nlogarithm of total household size (&ldquo;log HSize&rdquo;).\n\n"
      ]
    },
    {
      "cell_type": "markdown",
      "metadata": {},
      "source": [
        "### From Sheet to DataFrame to Result Object\n\n"
      ]
    },
    {
      "cell_type": "markdown",
      "metadata": {},
      "source": [
        "We begin by defining a dictionary that contains the spreadsheet key. \nOne is provided for the Ugandan example that I wish to work\nthrough.\n\n"
      ]
    },
    {
      "cell_type": "code",
      "execution_count": 1,
      "metadata": {},
      "outputs": [],
      "source": [
        "Uganda_Data = '1yVLriVpo7KGUXvR3hq_n53XpXlD5NmLaH1oOMZyV0gQ'"
      ]
    },
    {
      "cell_type": "markdown",
      "metadata": {},
      "source": [
        "With the spreadsheet defined , grab it and define a couple of\ndataframes. (Sheets should be shared with `students@eep153.iam.gserviceaccount.com`):\n\n"
      ]
    },
    {
      "cell_type": "code",
      "execution_count": 1,
      "metadata": {},
      "outputs": [],
      "source": [
        "import pandas as pd\nimport numpy as np\nfrom eep153_tools.sheets import read_sheets\n\nx = read_sheets(Uganda_Data,sheet='Expenditures (2019-20)')\nx.columns.name = 'j'\n                 \n# Change 'Uganda' to key of your own sheet in Sheets, above\nd = read_sheets(Uganda_Data,sheet=\"HH Characteristics\")\nd.columns.name = 'k'\n\n# x may have duplicate columns\nx = x.groupby('j',axis=1).sum()\nx = x.replace(0,np.nan) # Replace zeros with missing\n\n# Take logs of expenditures; call this y\ny = np.log(x.set_index(['i','t','m']))\n\nd.set_index(['i','t','m'],inplace=True)"
      ]
    },
    {
      "cell_type": "markdown",
      "metadata": {},
      "source": [
        "This gives a dataframe of household characteristics $d$ with a simple structure.\n\n"
      ]
    },
    {
      "cell_type": "code",
      "execution_count": 1,
      "metadata": {},
      "outputs": [],
      "source": [
        "d.head()"
      ]
    },
    {
      "cell_type": "markdown",
      "metadata": {},
      "source": [
        "Also a dataframe of log expenditures $y$ with a similarly simple\nstructure.  Note that any expenditures of zero are dropped and\nreplaced with a missing value indicator.\n\n"
      ]
    },
    {
      "cell_type": "code",
      "execution_count": 1,
      "metadata": {},
      "outputs": [],
      "source": [
        "y.head()"
      ]
    },
    {
      "cell_type": "markdown",
      "metadata": {},
      "source": [
        "There may be some goods that very few people consume&#x2014;too few to estimate demand reliably.   We have code to deal with this.  You can play with the `min_obs` parameter&#x2014;the larger it is, the more foods will be dropped.\n\n"
      ]
    },
    {
      "cell_type": "code",
      "execution_count": 1,
      "metadata": {},
      "outputs": [],
      "source": [
        "from cfe.estimation import drop_columns_wo_covariance\n\ny = drop_columns_wo_covariance(y,min_obs=30)"
      ]
    },
    {
      "cell_type": "markdown",
      "metadata": {},
      "source": [
        "Now, we want the $d$ and $y$ dataframes to have rows that line up:\n\n"
      ]
    },
    {
      "cell_type": "code",
      "execution_count": 1,
      "metadata": {},
      "outputs": [],
      "source": [
        "use = y.index.intersection(d.index)\ny = y.loc[use,:]\nd = d.loc[use,:]"
      ]
    },
    {
      "cell_type": "markdown",
      "metadata": {},
      "source": [
        "## Estimation\n\n"
      ]
    },
    {
      "cell_type": "markdown",
      "metadata": {},
      "source": [
        "Let $y_{i}^j$ be log expenditures on food $j$ by household $i$ at a particular time.  We want to estimate a regression that takes the form\n$$\n      y^j_{i} = A^j(p) + \\gamma_j'd_i + \\beta_j w_i + \\zeta^j_i.\n$$\nSo, a first step is to turn our dataframe for `y` into a series, so we can put it on the left-hand side of this regression.  Then we need to make our dataframe $d$ conform:\n\n"
      ]
    },
    {
      "cell_type": "code",
      "execution_count": 1,
      "metadata": {},
      "outputs": [],
      "source": [
        "y = y.stack()\n\nd = d.stack()\n\n# Check that indices are in right places!\nassert y.index.names == ['i','t','m','j']\nassert d.index.names == ['i','t','m','k']"
      ]
    },
    {
      "cell_type": "markdown",
      "metadata": {},
      "source": [
        "### Basic Estimation\n\n"
      ]
    },
    {
      "cell_type": "markdown",
      "metadata": {},
      "source": [
        "Just one line to set up the regression:\n\n"
      ]
    },
    {
      "cell_type": "code",
      "execution_count": 1,
      "metadata": {},
      "outputs": [],
      "source": [
        "from cfe import Regression\n\nresult = Regression(y=y,d=d)"
      ]
    },
    {
      "cell_type": "markdown",
      "metadata": {},
      "source": [
        "And then one line to predict expenditures and estimate most of the things we need:\n\n"
      ]
    },
    {
      "cell_type": "code",
      "execution_count": 1,
      "metadata": {},
      "outputs": [],
      "source": [
        "result.predicted_expenditures()"
      ]
    },
    {
      "cell_type": "markdown",
      "metadata": {},
      "source": [
        "Now we can compare predicted log expenditures with actual:\n\n"
      ]
    },
    {
      "cell_type": "code",
      "execution_count": 1,
      "metadata": {},
      "outputs": [],
      "source": [
        "%matplotlib notebook\ndf = pd.DataFrame({'y':y,'yhat':result.get_predicted_log_expenditures()})\ndf.plot.scatter(x='yhat',y='y')"
      ]
    },
    {
      "cell_type": "markdown",
      "metadata": {},
      "source": [
        "That&rsquo;s all there is to estimation!  Note that we didn&rsquo;t estimate\ndemands for all goods&#x2014;lots of goods didn&rsquo;t have enough observations,\nand were automatically dropped.\n\n"
      ]
    },
    {
      "cell_type": "markdown",
      "metadata": {},
      "source": [
        "### Parameters\n\n"
      ]
    },
    {
      "cell_type": "markdown",
      "metadata": {},
      "source": [
        "#### (Relative) Income Elasticity\n\n"
      ]
    },
    {
      "cell_type": "markdown",
      "metadata": {},
      "source": [
        "Some of the parameters have an interesting interpretation.  First among these are the $\\beta$ coefficients, which govern how *income elastic* different goods are (higher values means more elastic).  These are also called *Frisch elasticities*.\n\n"
      ]
    },
    {
      "cell_type": "code",
      "execution_count": 1,
      "metadata": {},
      "outputs": [],
      "source": [
        "result.get_beta().sort_values()"
      ]
    },
    {
      "cell_type": "markdown",
      "metadata": {},
      "source": [
        "Here we use a plot to visualize, with confidence intervals.\n\n"
      ]
    },
    {
      "cell_type": "code",
      "execution_count": 1,
      "metadata": {},
      "outputs": [],
      "source": [
        "result.graph_beta()"
      ]
    },
    {
      "cell_type": "markdown",
      "metadata": {},
      "source": [
        "#### Demand and Household Composition\n\n"
      ]
    },
    {
      "cell_type": "markdown",
      "metadata": {},
      "source": [
        "We&rsquo;re particularly interested in the effects of household composition on demand.  These are captured by the $\\gamma_j$ parameters in the regression.\n\n"
      ]
    },
    {
      "cell_type": "code",
      "execution_count": 1,
      "metadata": {},
      "outputs": [],
      "source": [
        "result.gamma"
      ]
    },
    {
      "cell_type": "markdown",
      "metadata": {},
      "source": [
        "### Saving Result\n\n"
      ]
    },
    {
      "cell_type": "markdown",
      "metadata": {},
      "source": [
        "You can save the estimated result, using something like\n\n"
      ]
    },
    {
      "cell_type": "code",
      "execution_count": 1,
      "metadata": {},
      "outputs": [],
      "source": [
        "result.to_pickle('my_estimates.pickle')"
      ]
    },
    {
      "cell_type": "markdown",
      "metadata": {},
      "source": [
        "You can subsequently load this using\n\n"
      ]
    },
    {
      "cell_type": "code",
      "execution_count": 1,
      "metadata": {},
      "outputs": [],
      "source": [
        "import cfe\nresult = cfe.regression.read_pickle('my_estimates.pickle')"
      ]
    }
  ],
  "metadata": {
    "org": null,
    "kernelspec": {
      "display_name": "Python 3",
      "language": "python",
      "name": "python3"
    },
    "language_info": {
      "codemirror_mode": {
        "name": "ipython",
        "version": 3
      },
      "file_extension": ".py",
      "mimetype": "text/x-python",
      "name": "python",
      "nbconvert_exporter": "python",
      "pygments_lexer": "ipython3",
      "version": "3.5.2"
    }
  },
  "nbformat": 4,
  "nbformat_minor": 0
}

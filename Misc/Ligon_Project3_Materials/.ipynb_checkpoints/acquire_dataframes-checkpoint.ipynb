{
 "cells": [
  {
   "cell_type": "markdown",
   "metadata": {},
   "source": [
    "## Preface\n",
    "\n"
   ]
  },
  {
   "cell_type": "markdown",
   "metadata": {},
   "source": [
    "If need be&#x2026;\n",
    "\n"
   ]
  },
  {
   "cell_type": "code",
   "execution_count": null,
   "metadata": {},
   "outputs": [],
   "source": [
    "%pip install python-gnupg\n",
    "%pip install eep153_tools"
   ]
  },
  {
   "cell_type": "markdown",
   "metadata": {},
   "source": [
    "## Introduction\n",
    "\n"
   ]
  },
  {
   "cell_type": "markdown",
   "metadata": {},
   "source": [
    "Here we give a set of generic instructions for analyzing demand for\n",
    "food and nutrition.  Inputs include a datasets of consumption\n",
    "quantities, consumption expenditures, household characteristics, and a\n",
    "food conversion table.\n",
    "\n",
    "The different datasets should be indexed as follows:\n",
    "\n",
    "-   **Expenditures:** -   Indexed by `(j,t,m)`\n",
    "    -   Columns `i`\n",
    "-   **Consumption:** -   Indexed by `(j,t,m,u)`\n",
    "    -   Columns `i`\n",
    "-   **Household characteristics:** -   Indexed by `(j,t,m)`\n",
    "    -   Columns `i`\n",
    "-   **Food Conversion Table:** -   Indexed by `(i,u)`\n",
    "    -   Columns `n`\n",
    "-   **RDI:** -   Indexed by `n`\n",
    "    -   Columns `k`\n",
    "\n",
    "where `j` indexes households, `t` indexes periods, `m` indexes\n",
    "markets, `i` indexes goods, `k` indexes different kinds of household\n",
    "characteristics, `u` indexes different unit names, and `n` indexes\n",
    "different nutrients.  Finally, any RDI (&ldquo;recommended daily intake&rdquo;)\n",
    "tables should be indexed by nutrients, with columns corresponding to\n",
    "characteristics of persons within the household (e.g., age & sex\n",
    "categories).\n",
    "\n",
    "Note that some countries have more than one dataframe of consumption,\n",
    "distinguished by source; for example Malawi has consumption items\n",
    "purchased as well as consumption items produced.  Here we focus on\n",
    "consumption purchases, since one of our immediate aims is to infer\n",
    "prices paid.\n",
    "\n"
   ]
  },
  {
   "cell_type": "markdown",
   "metadata": {},
   "source": [
    "## Step 1: Acquire DataFrames\n",
    "\n"
   ]
  },
  {
   "cell_type": "markdown",
   "metadata": {},
   "source": [
    "Here are addresses of google sheets for different dataframes for the\n",
    "case of Niger:\n",
    "\n"
   ]
  },
  {
   "cell_type": "code",
   "execution_count": null,
   "metadata": {},
   "outputs": [],
   "source": [
    "InputFiles = {'Expenditures':('1ySP8lrXlQ2ChaMdz0HQY85Md65cRRKOZgz-T0zBN2K0','Expenditures'),\n",
    "              'Consumption':('1kr2NI57xiTQm20A_68NEcLKihVTJw2ZgWCwV98ZD4JE','Consumption'),\n",
    "              'HH Characteristics':('1ySP8lrXlQ2ChaMdz0HQY85Md65cRRKOZgz-T0zBN2K0','HH Characteristics'),\n",
    "              'FCT':('1TM7FpKURXFAuXW4dLpGt98QA2CH4WTDty-4nPOUv1Mg','05 NV_sum_57 (per 100g EP)')}"
   ]
  },
  {
   "cell_type": "markdown",
   "metadata": {},
   "source": [
    "Note that the food items for the FCT for Niger are **not** yet matched\n",
    "up with food labels indexed by `i` in the expenditure and consumption datasets.\n",
    "\n"
   ]
  },
  {
   "cell_type": "markdown",
   "metadata": {},
   "source": [
    "### Worksheets to dataframes\n",
    "\n"
   ]
  },
  {
   "cell_type": "markdown",
   "metadata": {},
   "source": [
    "Start by defining a function that &ldquo;cleans&rdquo; up data:\n",
    "\n"
   ]
  },
  {
   "cell_type": "code",
   "execution_count": null,
   "metadata": {},
   "outputs": [],
   "source": [
    "from eep153_tools.sheets import read_sheets\n",
    "import numpy as np\n",
    "import pandas as pd\n",
    "\n",
    "def get_clean_sheet(key,sheet=None):\n",
    "\n",
    "    dfs = read_sheets(key)\n",
    "\n",
    "    if sheet is not None:\n",
    "        df = dfs[sheet]\n",
    "    else:\n",
    "        df = dfs.values()[0]\n",
    "        \n",
    "    df.columns = [c.strip() for c in df.columns.tolist()]\n",
    "\n",
    "    df = df.loc[:,~df.columns.duplicated(keep='first')]   \n",
    "\n",
    "    df = df.drop([col for col in df.columns if col.startswith('Unnamed')], axis=1)\n",
    "\n",
    "    df = df.loc[~df.index.duplicated(), :]\n",
    "\n",
    "    return df"
   ]
  },
  {
   "cell_type": "markdown",
   "metadata": {},
   "source": [
    "Next read in data on expenditures&#x2026;\n",
    "\n"
   ]
  },
  {
   "cell_type": "code",
   "execution_count": null,
   "metadata": {},
   "outputs": [],
   "source": [
    "# Get expenditures...\n",
    "x = get_clean_sheet(InputFiles['Expenditures'][0],\n",
    "                    sheet=InputFiles['Expenditures'][1])\n",
    "\n",
    "if 'm' not in x.columns:\n",
    "    x['m'] = 1\n",
    "\n",
    "x = x.set_index(['j','t','m'])\n",
    "x.columns.name = 'i'\n",
    "\n",
    "x = x.apply(lambda x: pd.to_numeric(x,errors='coerce'))\n",
    "x = x.replace(0,np.nan)\n",
    "\n",
    "x"
   ]
  },
  {
   "cell_type": "markdown",
   "metadata": {},
   "source": [
    "&#x2026;on household characteristics&#x2026;\n",
    "\n"
   ]
  },
  {
   "cell_type": "code",
   "execution_count": null,
   "metadata": {},
   "outputs": [],
   "source": [
    "# Get HH characteristics...\n",
    "z = get_clean_sheet(InputFiles['HH Characteristics'][0],\n",
    "                    sheet=InputFiles['HH Characteristics'][1])\n",
    "\n",
    "if 'm' not in z.columns:\n",
    "    z['m'] = 1\n",
    "\n",
    "z = z.set_index(['j','t','m'])\n",
    "z.columns.name = 'k'\n",
    "\n",
    "z = z.apply(lambda x: pd.to_numeric(x,errors='coerce'))\n",
    "\n",
    "z"
   ]
  },
  {
   "cell_type": "markdown",
   "metadata": {},
   "source": [
    "&#x2026;on quantities (in units `u`)&#x2026;\n",
    "\n"
   ]
  },
  {
   "cell_type": "code",
   "execution_count": null,
   "metadata": {},
   "outputs": [],
   "source": [
    "# Get purchased consumption quantities\n",
    "q = get_clean_sheet(InputFiles['Consumption'][0],\n",
    "                    sheet=InputFiles['Consumption'][1])\n",
    "\n",
    "if 'm' not in q.columns:\n",
    "    q['m'] = 1\n",
    "\n",
    "q = q.set_index(['j','t','m','u'])\n",
    "q.columns.name = 'i'\n",
    "\n",
    "q = q.apply(lambda x: pd.to_numeric(x,errors='coerce'))\n",
    "q = q.replace(0,np.nan)\n",
    "\n",
    "q"
   ]
  },
  {
   "cell_type": "markdown",
   "metadata": {},
   "source": [
    "&#x2026;and finally a food conversion table.\n",
    "\n"
   ]
  },
  {
   "cell_type": "code",
   "execution_count": null,
   "metadata": {},
   "outputs": [],
   "source": [
    "fct = get_clean_sheet(InputFiles['FCT'][0],\n",
    "                    sheet=InputFiles['FCT'][1])\n",
    "\n",
    "#### This bit peculiar to Niger FCT #####\n",
    "fct = fct.loc[fct.Code.str.len()==6]\n",
    "fct = fct.set_index('Code')\n",
    "fct.columns = [v.replace('\\n',' ') for v in fct.columns]\n",
    "########################################\n",
    "\n",
    "fct.index.name = 'i'\n",
    "\n",
    "fct = fct.apply(lambda x: pd.to_numeric(x,errors='coerce'))\n",
    "\n",
    "fct"
   ]
  }
 ],
 "metadata": {
  "kernelspec": {
   "display_name": "Python 3 (ipykernel)",
   "language": "python",
   "name": "python3"
  },
  "language_info": {
   "codemirror_mode": {
    "name": "ipython",
    "version": 3
   },
   "file_extension": ".py",
   "mimetype": "text/x-python",
   "name": "python",
   "nbconvert_exporter": "python",
   "pygments_lexer": "ipython3",
   "version": "3.9.12"
  },
  "org": null
 },
 "nbformat": 4,
 "nbformat_minor": 1
}

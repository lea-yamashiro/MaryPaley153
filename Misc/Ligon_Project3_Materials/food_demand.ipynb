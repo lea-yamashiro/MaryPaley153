{
 "cells": [
  {
   "cell_type": "markdown",
   "metadata": {},
   "source": [
    "## Preface\n",
    "\n"
   ]
  },
  {
   "cell_type": "code",
   "execution_count": 1,
   "metadata": {},
   "outputs": [
    {
     "name": "stdout",
     "output_type": "stream",
     "text": [
      "Requirement already satisfied: ipympl in /home/ligon/anaconda3/lib/python3.9/site-packages (from -r requirements.txt (line 1)) (0.9.3)\n",
      "Requirement already satisfied: CFEDemands in /home/ligon/Research/CFEDemands (from -r requirements.txt (line 2)) (0.5.3)\n",
      "Requirement already satisfied: ConsumerDemands in /home/ligon/Research/Demands (from -r requirements.txt (line 3)) (0.4.dev0)\n",
      "Requirement already satisfied: ipython<9 in /home/ligon/anaconda3/lib/python3.9/site-packages (from ipympl->-r requirements.txt (line 1)) (8.2.0)\n",
      "Requirement already satisfied: numpy in /home/ligon/anaconda3/lib/python3.9/site-packages (from ipympl->-r requirements.txt (line 1)) (1.24.2)\n",
      "Requirement already satisfied: pillow in /home/ligon/anaconda3/lib/python3.9/site-packages (from ipympl->-r requirements.txt (line 1)) (9.0.1)\n",
      "Requirement already satisfied: matplotlib<4,>=3.4.0 in /home/ligon/anaconda3/lib/python3.9/site-packages (from ipympl->-r requirements.txt (line 1)) (3.5.1)\n",
      "Requirement already satisfied: ipython-genutils in /home/ligon/anaconda3/lib/python3.9/site-packages (from ipympl->-r requirements.txt (line 1)) (0.2.0)\n",
      "Requirement already satisfied: ipywidgets<9,>=7.6.0 in /home/ligon/anaconda3/lib/python3.9/site-packages (from ipympl->-r requirements.txt (line 1)) (7.6.5)\n",
      "Requirement already satisfied: traitlets<6 in /home/ligon/anaconda3/lib/python3.9/site-packages (from ipympl->-r requirements.txt (line 1)) (5.1.1)\n",
      "Requirement already satisfied: dvc>=2.18.1 in /home/ligon/anaconda3/lib/python3.9/site-packages (from CFEDemands->-r requirements.txt (line 2)) (2.43.2)\n",
      "Requirement already satisfied: joblib>=1.1.0 in /home/ligon/anaconda3/lib/python3.9/site-packages (from CFEDemands->-r requirements.txt (line 2)) (1.1.0)\n",
      "Requirement already satisfied: pandas>=1.4.2 in /home/ligon/anaconda3/lib/python3.9/site-packages (from CFEDemands->-r requirements.txt (line 2)) (1.5.3)\n",
      "Requirement already satisfied: pytest>=7.1.1 in /home/ligon/anaconda3/lib/python3.9/site-packages (from CFEDemands->-r requirements.txt (line 2)) (7.1.1)\n",
      "Requirement already satisfied: ray>=2.0.0 in /home/ligon/anaconda3/lib/python3.9/site-packages (from CFEDemands->-r requirements.txt (line 2)) (2.0.0)\n",
      "Requirement already satisfied: scipy>=1.7.3 in /home/ligon/anaconda3/lib/python3.9/site-packages (from CFEDemands->-r requirements.txt (line 2)) (1.10.1)\n",
      "Requirement already satisfied: statsmodels>=0.13.2 in /home/ligon/anaconda3/lib/python3.9/site-packages (from CFEDemands->-r requirements.txt (line 2)) (0.13.2)\n",
      "Requirement already satisfied: xarray>=0.20.1 in /home/ligon/anaconda3/lib/python3.9/site-packages (from CFEDemands->-r requirements.txt (line 2)) (0.20.1)\n",
      "Requirement already satisfied: pygtrie>=2.3.2 in /home/ligon/anaconda3/lib/python3.9/site-packages (from dvc>=2.18.1->CFEDemands->-r requirements.txt (line 2)) (2.5.0)\n",
      "Requirement already satisfied: scmrepo==0.1.7 in /home/ligon/anaconda3/lib/python3.9/site-packages (from dvc>=2.18.1->CFEDemands->-r requirements.txt (line 2)) (0.1.7)\n",
      "Requirement already satisfied: typing-extensions>=3.7.4 in /home/ligon/anaconda3/lib/python3.9/site-packages (from dvc>=2.18.1->CFEDemands->-r requirements.txt (line 2)) (4.1.1)\n",
      "Requirement already satisfied: dvc-task==0.1.11 in /home/ligon/anaconda3/lib/python3.9/site-packages (from dvc>=2.18.1->CFEDemands->-r requirements.txt (line 2)) (0.1.11)\n",
      "Requirement already satisfied: tomlkit>=0.11.1 in /home/ligon/anaconda3/lib/python3.9/site-packages (from dvc>=2.18.1->CFEDemands->-r requirements.txt (line 2)) (0.11.4)\n",
      "Requirement already satisfied: shortuuid>=0.5.0 in /home/ligon/anaconda3/lib/python3.9/site-packages (from dvc>=2.18.1->CFEDemands->-r requirements.txt (line 2)) (1.0.9)\n",
      "Requirement already satisfied: colorama>=0.3.9 in /home/ligon/anaconda3/lib/python3.9/site-packages (from dvc>=2.18.1->CFEDemands->-r requirements.txt (line 2)) (0.4.4)\n",
      "Requirement already satisfied: appdirs>=1.4.3 in /home/ligon/anaconda3/lib/python3.9/site-packages (from dvc>=2.18.1->CFEDemands->-r requirements.txt (line 2)) (1.4.4)\n",
      "Requirement already satisfied: grandalf<1,>=0.7 in /home/ligon/anaconda3/lib/python3.9/site-packages (from dvc>=2.18.1->CFEDemands->-r requirements.txt (line 2)) (0.8)\n",
      "Requirement already satisfied: psutil>=5.8.0 in /home/ligon/anaconda3/lib/python3.9/site-packages (from dvc>=2.18.1->CFEDemands->-r requirements.txt (line 2)) (5.9.1)\n",
      "Requirement already satisfied: iterative-telemetry==0.0.7 in /home/ligon/anaconda3/lib/python3.9/site-packages (from dvc>=2.18.1->CFEDemands->-r requirements.txt (line 2)) (0.0.7)\n",
      "Requirement already satisfied: requests>=2.22.0 in /home/ligon/anaconda3/lib/python3.9/site-packages (from dvc>=2.18.1->CFEDemands->-r requirements.txt (line 2)) (2.28.2)\n",
      "Requirement already satisfied: shtab<2,>=1.3.4 in /home/ligon/anaconda3/lib/python3.9/site-packages (from dvc>=2.18.1->CFEDemands->-r requirements.txt (line 2)) (1.5.5)\n",
      "Requirement already satisfied: zc.lockfile>=1.2.1 in /home/ligon/anaconda3/lib/python3.9/site-packages (from dvc>=2.18.1->CFEDemands->-r requirements.txt (line 2)) (2.0)\n",
      "Requirement already satisfied: packaging>=19.0 in /home/ligon/anaconda3/lib/python3.9/site-packages (from dvc>=2.18.1->CFEDemands->-r requirements.txt (line 2)) (21.3)\n",
      "Requirement already satisfied: pyparsing>=2.4.7 in /home/ligon/anaconda3/lib/python3.9/site-packages (from dvc>=2.18.1->CFEDemands->-r requirements.txt (line 2)) (3.0.4)\n",
      "Requirement already satisfied: tqdm<5,>=4.63.1 in /home/ligon/anaconda3/lib/python3.9/site-packages (from dvc>=2.18.1->CFEDemands->-r requirements.txt (line 2)) (4.64.0)\n",
      "Requirement already satisfied: pydot>=1.2.4 in /home/ligon/anaconda3/lib/python3.9/site-packages (from dvc>=2.18.1->CFEDemands->-r requirements.txt (line 2)) (1.4.2)\n",
      "Requirement already satisfied: dvc-data==0.37.3 in /home/ligon/anaconda3/lib/python3.9/site-packages (from dvc>=2.18.1->CFEDemands->-r requirements.txt (line 2)) (0.37.3)\n",
      "Requirement already satisfied: flatten-dict<1,>=0.4.1 in /home/ligon/anaconda3/lib/python3.9/site-packages (from dvc>=2.18.1->CFEDemands->-r requirements.txt (line 2)) (0.4.2)\n",
      "Requirement already satisfied: dvc-studio-client>=0.1.1 in /home/ligon/anaconda3/lib/python3.9/site-packages (from dvc>=2.18.1->CFEDemands->-r requirements.txt (line 2)) (0.4.0)\n",
      "Requirement already satisfied: networkx>=2.5 in /home/ligon/anaconda3/lib/python3.9/site-packages (from dvc>=2.18.1->CFEDemands->-r requirements.txt (line 2)) (2.7.1)\n",
      "Requirement already satisfied: pathspec>=0.10.3 in /home/ligon/anaconda3/lib/python3.9/site-packages (from dvc>=2.18.1->CFEDemands->-r requirements.txt (line 2)) (0.11.0)\n",
      "Requirement already satisfied: tabulate>=0.8.7 in /home/ligon/anaconda3/lib/python3.9/site-packages (from dvc>=2.18.1->CFEDemands->-r requirements.txt (line 2)) (0.8.9)\n",
      "Requirement already satisfied: dvclive>=1.2.2 in /home/ligon/anaconda3/lib/python3.9/site-packages (from dvc>=2.18.1->CFEDemands->-r requirements.txt (line 2)) (2.0.1)\n",
      "Requirement already satisfied: dpath<3,>=2.0.2 in /home/ligon/anaconda3/lib/python3.9/site-packages (from dvc>=2.18.1->CFEDemands->-r requirements.txt (line 2)) (2.0.6)\n",
      "Requirement already satisfied: dvc-http in /home/ligon/anaconda3/lib/python3.9/site-packages (from dvc>=2.18.1->CFEDemands->-r requirements.txt (line 2)) (0.0.2)\n",
      "Requirement already satisfied: funcy>=1.14 in /home/ligon/anaconda3/lib/python3.9/site-packages (from dvc>=2.18.1->CFEDemands->-r requirements.txt (line 2)) (1.17)\n",
      "Requirement already satisfied: dvc-render==0.1.0 in /home/ligon/anaconda3/lib/python3.9/site-packages (from dvc>=2.18.1->CFEDemands->-r requirements.txt (line 2)) (0.1.0)\n",
      "Requirement already satisfied: flufl.lock>=5 in /home/ligon/anaconda3/lib/python3.9/site-packages (from dvc>=2.18.1->CFEDemands->-r requirements.txt (line 2)) (7.0)\n",
      "Requirement already satisfied: distro>=1.3.0 in /home/ligon/anaconda3/lib/python3.9/site-packages (from dvc>=2.18.1->CFEDemands->-r requirements.txt (line 2)) (1.7.0)\n",
      "Requirement already satisfied: ruamel.yaml>=0.17.11 in /home/ligon/anaconda3/lib/python3.9/site-packages (from dvc>=2.18.1->CFEDemands->-r requirements.txt (line 2)) (0.17.21)\n",
      "Requirement already satisfied: hydra-core>=1.1.0 in /home/ligon/anaconda3/lib/python3.9/site-packages (from dvc>=2.18.1->CFEDemands->-r requirements.txt (line 2)) (1.2.0)\n",
      "Requirement already satisfied: rich>=10.13.0 in /home/ligon/anaconda3/lib/python3.9/site-packages (from dvc>=2.18.1->CFEDemands->-r requirements.txt (line 2)) (12.5.1)\n",
      "Requirement already satisfied: voluptuous>=0.11.7 in /home/ligon/anaconda3/lib/python3.9/site-packages (from dvc>=2.18.1->CFEDemands->-r requirements.txt (line 2)) (0.13.1)\n",
      "Requirement already satisfied: configobj>=5.0.6 in /home/ligon/anaconda3/lib/python3.9/site-packages (from dvc>=2.18.1->CFEDemands->-r requirements.txt (line 2)) (5.0.6)\n",
      "Requirement already satisfied: dvc-objects==0.19.1 in /home/ligon/anaconda3/lib/python3.9/site-packages (from dvc-data==0.37.3->dvc>=2.18.1->CFEDemands->-r requirements.txt (line 2)) (0.19.1)\n",
      "Requirement already satisfied: sqltrie==0.0.27 in /home/ligon/anaconda3/lib/python3.9/site-packages (from dvc-data==0.37.3->dvc>=2.18.1->CFEDemands->-r requirements.txt (line 2)) (0.0.27)\n",
      "Requirement already satisfied: diskcache>=5.2.1 in /home/ligon/anaconda3/lib/python3.9/site-packages (from dvc-data==0.37.3->dvc>=2.18.1->CFEDemands->-r requirements.txt (line 2)) (5.4.0)\n"
     ]
    },
    {
     "name": "stdout",
     "output_type": "stream",
     "text": [
      "Requirement already satisfied: nanotime>=0.5.2 in /home/ligon/anaconda3/lib/python3.9/site-packages (from dvc-data==0.37.3->dvc>=2.18.1->CFEDemands->-r requirements.txt (line 2)) (0.5.2)\n",
      "Requirement already satisfied: attrs>=21.3.0 in /home/ligon/anaconda3/lib/python3.9/site-packages (from dvc-data==0.37.3->dvc>=2.18.1->CFEDemands->-r requirements.txt (line 2)) (21.4.0)\n",
      "Requirement already satisfied: dictdiffer>=0.8.1 in /home/ligon/anaconda3/lib/python3.9/site-packages (from dvc-data==0.37.3->dvc>=2.18.1->CFEDemands->-r requirements.txt (line 2)) (0.9.0)\n",
      "Requirement already satisfied: kombu<6,>=5.2.0 in /home/ligon/anaconda3/lib/python3.9/site-packages (from dvc-task==0.1.11->dvc>=2.18.1->CFEDemands->-r requirements.txt (line 2)) (5.2.4)\n",
      "Requirement already satisfied: celery<6,>=5.2.0 in /home/ligon/anaconda3/lib/python3.9/site-packages (from dvc-task==0.1.11->dvc>=2.18.1->CFEDemands->-r requirements.txt (line 2)) (5.2.7)\n",
      "Requirement already satisfied: filelock in /home/ligon/anaconda3/lib/python3.9/site-packages (from iterative-telemetry==0.0.7->dvc>=2.18.1->CFEDemands->-r requirements.txt (line 2)) (3.6.0)\n",
      "Requirement already satisfied: dulwich>=0.20.46 in /home/ligon/anaconda3/lib/python3.9/site-packages (from scmrepo==0.1.7->dvc>=2.18.1->CFEDemands->-r requirements.txt (line 2)) (0.21.2)\n",
      "Requirement already satisfied: pygit2>=1.10.0 in /home/ligon/anaconda3/lib/python3.9/site-packages (from scmrepo==0.1.7->dvc>=2.18.1->CFEDemands->-r requirements.txt (line 2)) (1.10.0)\n",
      "Requirement already satisfied: fsspec>=2021.7.0 in /home/ligon/anaconda3/lib/python3.9/site-packages (from scmrepo==0.1.7->dvc>=2.18.1->CFEDemands->-r requirements.txt (line 2)) (2022.11.0)\n",
      "Requirement already satisfied: gitpython>3 in /home/ligon/anaconda3/lib/python3.9/site-packages (from scmrepo==0.1.7->dvc>=2.18.1->CFEDemands->-r requirements.txt (line 2)) (3.1.27)\n",
      "Requirement already satisfied: asyncssh<3,>=2.7.1 in /home/ligon/anaconda3/lib/python3.9/site-packages (from scmrepo==0.1.7->dvc>=2.18.1->CFEDemands->-r requirements.txt (line 2)) (2.12.0)\n",
      "Requirement already satisfied: orjson in /home/ligon/anaconda3/lib/python3.9/site-packages (from sqltrie==0.0.27->dvc-data==0.37.3->dvc>=2.18.1->CFEDemands->-r requirements.txt (line 2)) (3.8.5)\n",
      "Requirement already satisfied: stack-data in /home/ligon/anaconda3/lib/python3.9/site-packages (from ipython<9->ipympl->-r requirements.txt (line 1)) (0.2.0)\n",
      "Requirement already satisfied: setuptools>=18.5 in /home/ligon/anaconda3/lib/python3.9/site-packages (from ipython<9->ipympl->-r requirements.txt (line 1)) (61.2.0)\n",
      "Requirement already satisfied: matplotlib-inline in /home/ligon/anaconda3/lib/python3.9/site-packages (from ipython<9->ipympl->-r requirements.txt (line 1)) (0.1.2)\n",
      "Requirement already satisfied: jedi>=0.16 in /home/ligon/anaconda3/lib/python3.9/site-packages (from ipython<9->ipympl->-r requirements.txt (line 1)) (0.18.1)\n",
      "Requirement already satisfied: pexpect>4.3 in /home/ligon/anaconda3/lib/python3.9/site-packages (from ipython<9->ipympl->-r requirements.txt (line 1)) (4.8.0)\n",
      "Requirement already satisfied: pickleshare in /home/ligon/anaconda3/lib/python3.9/site-packages (from ipython<9->ipympl->-r requirements.txt (line 1)) (0.7.5)\n",
      "Requirement already satisfied: prompt-toolkit!=3.0.0,!=3.0.1,<3.1.0,>=2.0.0 in /home/ligon/anaconda3/lib/python3.9/site-packages (from ipython<9->ipympl->-r requirements.txt (line 1)) (3.0.20)\n",
      "Requirement already satisfied: decorator in /home/ligon/anaconda3/lib/python3.9/site-packages (from ipython<9->ipympl->-r requirements.txt (line 1)) (5.1.1)\n",
      "Requirement already satisfied: pygments>=2.4.0 in /home/ligon/anaconda3/lib/python3.9/site-packages (from ipython<9->ipympl->-r requirements.txt (line 1)) (2.11.2)\n",
      "Requirement already satisfied: backcall in /home/ligon/anaconda3/lib/python3.9/site-packages (from ipython<9->ipympl->-r requirements.txt (line 1)) (0.2.0)\n",
      "Requirement already satisfied: jupyterlab-widgets>=1.0.0 in /home/ligon/anaconda3/lib/python3.9/site-packages (from ipywidgets<9,>=7.6.0->ipympl->-r requirements.txt (line 1)) (1.0.0)\n",
      "Requirement already satisfied: ipykernel>=4.5.1 in /home/ligon/anaconda3/lib/python3.9/site-packages (from ipywidgets<9,>=7.6.0->ipympl->-r requirements.txt (line 1)) (6.9.1)\n",
      "Requirement already satisfied: widgetsnbextension~=3.5.0 in /home/ligon/anaconda3/lib/python3.9/site-packages (from ipywidgets<9,>=7.6.0->ipympl->-r requirements.txt (line 1)) (3.5.2)\n",
      "Requirement already satisfied: nbformat>=4.2.0 in /home/ligon/anaconda3/lib/python3.9/site-packages (from ipywidgets<9,>=7.6.0->ipympl->-r requirements.txt (line 1)) (5.3.0)\n",
      "Requirement already satisfied: cycler>=0.10 in /home/ligon/anaconda3/lib/python3.9/site-packages (from matplotlib<4,>=3.4.0->ipympl->-r requirements.txt (line 1)) (0.11.0)\n",
      "Requirement already satisfied: kiwisolver>=1.0.1 in /home/ligon/anaconda3/lib/python3.9/site-packages (from matplotlib<4,>=3.4.0->ipympl->-r requirements.txt (line 1)) (1.3.2)\n",
      "Requirement already satisfied: python-dateutil>=2.7 in /home/ligon/anaconda3/lib/python3.9/site-packages (from matplotlib<4,>=3.4.0->ipympl->-r requirements.txt (line 1)) (2.8.2)\n",
      "Requirement already satisfied: fonttools>=4.22.0 in /home/ligon/anaconda3/lib/python3.9/site-packages (from matplotlib<4,>=3.4.0->ipympl->-r requirements.txt (line 1)) (4.25.0)\n",
      "Requirement already satisfied: pytz>=2020.1 in /home/ligon/anaconda3/lib/python3.9/site-packages (from pandas>=1.4.2->CFEDemands->-r requirements.txt (line 2)) (2021.3)\n",
      "Requirement already satisfied: iniconfig in /home/ligon/anaconda3/lib/python3.9/site-packages (from pytest>=7.1.1->CFEDemands->-r requirements.txt (line 2)) (1.1.1)\n",
      "Requirement already satisfied: pluggy<2.0,>=0.12 in /home/ligon/anaconda3/lib/python3.9/site-packages (from pytest>=7.1.1->CFEDemands->-r requirements.txt (line 2)) (1.0.0)\n",
      "Requirement already satisfied: py>=1.8.2 in /home/ligon/anaconda3/lib/python3.9/site-packages (from pytest>=7.1.1->CFEDemands->-r requirements.txt (line 2)) (1.11.0)\n",
      "Requirement already satisfied: tomli>=1.0.0 in /home/ligon/anaconda3/lib/python3.9/site-packages (from pytest>=7.1.1->CFEDemands->-r requirements.txt (line 2)) (1.2.2)\n",
      "Requirement already satisfied: pyyaml in /home/ligon/anaconda3/lib/python3.9/site-packages (from ray>=2.0.0->CFEDemands->-r requirements.txt (line 2)) (6.0)\n",
      "Requirement already satisfied: aiosignal in /home/ligon/anaconda3/lib/python3.9/site-packages (from ray>=2.0.0->CFEDemands->-r requirements.txt (line 2)) (1.2.0)\n",
      "Requirement already satisfied: frozenlist in /home/ligon/anaconda3/lib/python3.9/site-packages (from ray>=2.0.0->CFEDemands->-r requirements.txt (line 2)) (1.2.0)\n",
      "Requirement already satisfied: jsonschema in /home/ligon/anaconda3/lib/python3.9/site-packages (from ray>=2.0.0->CFEDemands->-r requirements.txt (line 2)) (4.4.0)\n",
      "Requirement already satisfied: grpcio<=1.43.0,>=1.28.1 in /home/ligon/anaconda3/lib/python3.9/site-packages (from ray>=2.0.0->CFEDemands->-r requirements.txt (line 2)) (1.42.0)\n",
      "Requirement already satisfied: click<=8.0.4,>=7.0 in /home/ligon/anaconda3/lib/python3.9/site-packages (from ray>=2.0.0->CFEDemands->-r requirements.txt (line 2)) (8.0.4)\n",
      "Requirement already satisfied: msgpack<2.0.0,>=1.0.0 in /home/ligon/anaconda3/lib/python3.9/site-packages (from ray>=2.0.0->CFEDemands->-r requirements.txt (line 2)) (1.0.2)\n",
      "Requirement already satisfied: protobuf<4.0.0,>=3.15.3 in /home/ligon/anaconda3/lib/python3.9/site-packages (from ray>=2.0.0->CFEDemands->-r requirements.txt (line 2)) (3.19.1)\n",
      "Requirement already satisfied: virtualenv in /home/ligon/anaconda3/lib/python3.9/site-packages (from ray>=2.0.0->CFEDemands->-r requirements.txt (line 2)) (20.16.3)\n",
      "Requirement already satisfied: patsy>=0.5.2 in /home/ligon/anaconda3/lib/python3.9/site-packages (from statsmodels>=0.13.2->CFEDemands->-r requirements.txt (line 2)) (0.5.2)\n",
      "Requirement already satisfied: six in /home/ligon/anaconda3/lib/python3.9/site-packages (from configobj>=5.0.6->dvc>=2.18.1->CFEDemands->-r requirements.txt (line 2)) (1.16.0)\n",
      "Requirement already satisfied: atpublic>=2.3 in /home/ligon/anaconda3/lib/python3.9/site-packages (from flufl.lock>=5->dvc>=2.18.1->CFEDemands->-r requirements.txt (line 2)) (3.0.1)\n"
     ]
    },
    {
     "name": "stdout",
     "output_type": "stream",
     "text": [
      "Requirement already satisfied: omegaconf~=2.2 in /home/ligon/anaconda3/lib/python3.9/site-packages (from hydra-core>=1.1.0->dvc>=2.18.1->CFEDemands->-r requirements.txt (line 2)) (2.2.2)\n",
      "Requirement already satisfied: antlr4-python3-runtime==4.9.* in /home/ligon/anaconda3/lib/python3.9/site-packages (from hydra-core>=1.1.0->dvc>=2.18.1->CFEDemands->-r requirements.txt (line 2)) (4.9.3)\n",
      "Requirement already satisfied: tornado<7.0,>=4.2 in /home/ligon/anaconda3/lib/python3.9/site-packages (from ipykernel>=4.5.1->ipywidgets<9,>=7.6.0->ipympl->-r requirements.txt (line 1)) (6.1)\n",
      "Requirement already satisfied: nest-asyncio in /home/ligon/anaconda3/lib/python3.9/site-packages (from ipykernel>=4.5.1->ipywidgets<9,>=7.6.0->ipympl->-r requirements.txt (line 1)) (1.5.5)\n",
      "Requirement already satisfied: jupyter-client<8.0 in /home/ligon/anaconda3/lib/python3.9/site-packages (from ipykernel>=4.5.1->ipywidgets<9,>=7.6.0->ipympl->-r requirements.txt (line 1)) (6.1.12)\n",
      "Requirement already satisfied: debugpy<2.0,>=1.0.0 in /home/ligon/anaconda3/lib/python3.9/site-packages (from ipykernel>=4.5.1->ipywidgets<9,>=7.6.0->ipympl->-r requirements.txt (line 1)) (1.5.1)\n",
      "Requirement already satisfied: parso<0.9.0,>=0.8.0 in /home/ligon/anaconda3/lib/python3.9/site-packages (from jedi>=0.16->ipython<9->ipympl->-r requirements.txt (line 1)) (0.8.3)\n",
      "Requirement already satisfied: fastjsonschema in /home/ligon/anaconda3/lib/python3.9/site-packages (from nbformat>=4.2.0->ipywidgets<9,>=7.6.0->ipympl->-r requirements.txt (line 1)) (2.15.1)\n",
      "Requirement already satisfied: jupyter-core in /home/ligon/anaconda3/lib/python3.9/site-packages (from nbformat>=4.2.0->ipywidgets<9,>=7.6.0->ipympl->-r requirements.txt (line 1)) (4.9.2)\n",
      "Requirement already satisfied: pyrsistent!=0.17.0,!=0.17.1,!=0.17.2,>=0.14.0 in /home/ligon/anaconda3/lib/python3.9/site-packages (from jsonschema->ray>=2.0.0->CFEDemands->-r requirements.txt (line 2)) (0.18.0)\n",
      "Requirement already satisfied: ptyprocess>=0.5 in /home/ligon/anaconda3/lib/python3.9/site-packages (from pexpect>4.3->ipython<9->ipympl->-r requirements.txt (line 1)) (0.7.0)\n",
      "Requirement already satisfied: wcwidth in /home/ligon/anaconda3/lib/python3.9/site-packages (from prompt-toolkit!=3.0.0,!=3.0.1,<3.1.0,>=2.0.0->ipython<9->ipympl->-r requirements.txt (line 1)) (0.2.5)\n",
      "Requirement already satisfied: charset-normalizer<4,>=2 in /home/ligon/anaconda3/lib/python3.9/site-packages (from requests>=2.22.0->dvc>=2.18.1->CFEDemands->-r requirements.txt (line 2)) (2.0.4)\n",
      "Requirement already satisfied: idna<4,>=2.5 in /home/ligon/anaconda3/lib/python3.9/site-packages (from requests>=2.22.0->dvc>=2.18.1->CFEDemands->-r requirements.txt (line 2)) (3.3)\n",
      "Requirement already satisfied: urllib3<1.27,>=1.21.1 in /home/ligon/anaconda3/lib/python3.9/site-packages (from requests>=2.22.0->dvc>=2.18.1->CFEDemands->-r requirements.txt (line 2)) (1.26.9)\n",
      "Requirement already satisfied: certifi>=2017.4.17 in /home/ligon/anaconda3/lib/python3.9/site-packages (from requests>=2.22.0->dvc>=2.18.1->CFEDemands->-r requirements.txt (line 2)) (2021.10.8)\n",
      "Requirement already satisfied: commonmark<0.10.0,>=0.9.0 in /home/ligon/anaconda3/lib/python3.9/site-packages (from rich>=10.13.0->dvc>=2.18.1->CFEDemands->-r requirements.txt (line 2)) (0.9.1)\n",
      "Requirement already satisfied: ruamel.yaml.clib>=0.2.6 in /home/ligon/anaconda3/lib/python3.9/site-packages (from ruamel.yaml>=0.17.11->dvc>=2.18.1->CFEDemands->-r requirements.txt (line 2)) (0.2.6)\n",
      "Requirement already satisfied: notebook>=4.4.1 in /home/ligon/anaconda3/lib/python3.9/site-packages (from widgetsnbextension~=3.5.0->ipywidgets<9,>=7.6.0->ipympl->-r requirements.txt (line 1)) (6.4.8)\n",
      "Requirement already satisfied: aiohttp-retry>=2.5.0 in /home/ligon/anaconda3/lib/python3.9/site-packages (from dvc-http->dvc>=2.18.1->CFEDemands->-r requirements.txt (line 2)) (2.8.3)\n",
      "Requirement already satisfied: pure-eval in /home/ligon/anaconda3/lib/python3.9/site-packages (from stack-data->ipython<9->ipympl->-r requirements.txt (line 1)) (0.2.2)\n",
      "Requirement already satisfied: asttokens in /home/ligon/anaconda3/lib/python3.9/site-packages (from stack-data->ipython<9->ipympl->-r requirements.txt (line 1)) (2.0.5)\n",
      "Requirement already satisfied: executing in /home/ligon/anaconda3/lib/python3.9/site-packages (from stack-data->ipython<9->ipympl->-r requirements.txt (line 1)) (0.8.3)\n",
      "Requirement already satisfied: distlib<1,>=0.3.5 in /home/ligon/anaconda3/lib/python3.9/site-packages (from virtualenv->ray>=2.0.0->CFEDemands->-r requirements.txt (line 2)) (0.3.5)\n",
      "Requirement already satisfied: platformdirs<3,>=2.4 in /home/ligon/anaconda3/lib/python3.9/site-packages (from virtualenv->ray>=2.0.0->CFEDemands->-r requirements.txt (line 2)) (2.5.2)\n",
      "Requirement already satisfied: aiohttp in /home/ligon/anaconda3/lib/python3.9/site-packages (from aiohttp-retry>=2.5.0->dvc-http->dvc>=2.18.1->CFEDemands->-r requirements.txt (line 2)) (3.8.1)\n",
      "Requirement already satisfied: cryptography>=3.1 in /home/ligon/anaconda3/lib/python3.9/site-packages (from asyncssh<3,>=2.7.1->scmrepo==0.1.7->dvc>=2.18.1->CFEDemands->-r requirements.txt (line 2)) (39.0.0)\n",
      "Requirement already satisfied: click-repl>=0.2.0 in /home/ligon/anaconda3/lib/python3.9/site-packages (from celery<6,>=5.2.0->dvc-task==0.1.11->dvc>=2.18.1->CFEDemands->-r requirements.txt (line 2)) (0.2.0)\n",
      "Requirement already satisfied: vine<6.0,>=5.0.0 in /home/ligon/anaconda3/lib/python3.9/site-packages (from celery<6,>=5.2.0->dvc-task==0.1.11->dvc>=2.18.1->CFEDemands->-r requirements.txt (line 2)) (5.0.0)\n",
      "Requirement already satisfied: billiard<4.0,>=3.6.4.0 in /home/ligon/anaconda3/lib/python3.9/site-packages (from celery<6,>=5.2.0->dvc-task==0.1.11->dvc>=2.18.1->CFEDemands->-r requirements.txt (line 2)) (3.6.4.0)\n",
      "Requirement already satisfied: click-plugins>=1.1.1 in /home/ligon/anaconda3/lib/python3.9/site-packages (from celery<6,>=5.2.0->dvc-task==0.1.11->dvc>=2.18.1->CFEDemands->-r requirements.txt (line 2)) (1.1.1)\n",
      "Requirement already satisfied: click-didyoumean>=0.0.3 in /home/ligon/anaconda3/lib/python3.9/site-packages (from celery<6,>=5.2.0->dvc-task==0.1.11->dvc>=2.18.1->CFEDemands->-r requirements.txt (line 2)) (0.3.0)\n",
      "Requirement already satisfied: gitdb<5,>=4.0.1 in /home/ligon/anaconda3/lib/python3.9/site-packages (from gitpython>3->scmrepo==0.1.7->dvc>=2.18.1->CFEDemands->-r requirements.txt (line 2)) (4.0.9)\n",
      "Requirement already satisfied: pyzmq>=13 in /home/ligon/anaconda3/lib/python3.9/site-packages (from jupyter-client<8.0->ipykernel>=4.5.1->ipywidgets<9,>=7.6.0->ipympl->-r requirements.txt (line 1)) (22.3.0)\n",
      "Requirement already satisfied: amqp<6.0.0,>=5.0.9 in /home/ligon/anaconda3/lib/python3.9/site-packages (from kombu<6,>=5.2.0->dvc-task==0.1.11->dvc>=2.18.1->CFEDemands->-r requirements.txt (line 2)) (5.1.1)\n",
      "Requirement already satisfied: argon2-cffi in /home/ligon/anaconda3/lib/python3.9/site-packages (from notebook>=4.4.1->widgetsnbextension~=3.5.0->ipywidgets<9,>=7.6.0->ipympl->-r requirements.txt (line 1)) (21.3.0)\n",
      "Requirement already satisfied: prometheus-client in /home/ligon/anaconda3/lib/python3.9/site-packages (from notebook>=4.4.1->widgetsnbextension~=3.5.0->ipywidgets<9,>=7.6.0->ipympl->-r requirements.txt (line 1)) (0.13.1)\n",
      "Requirement already satisfied: terminado>=0.8.3 in /home/ligon/anaconda3/lib/python3.9/site-packages (from notebook>=4.4.1->widgetsnbextension~=3.5.0->ipywidgets<9,>=7.6.0->ipympl->-r requirements.txt (line 1)) (0.13.1)\n",
      "Requirement already satisfied: Send2Trash>=1.8.0 in /home/ligon/anaconda3/lib/python3.9/site-packages (from notebook>=4.4.1->widgetsnbextension~=3.5.0->ipywidgets<9,>=7.6.0->ipympl->-r requirements.txt (line 1)) (1.8.0)\n",
      "Requirement already satisfied: nbconvert in /home/ligon/anaconda3/lib/python3.9/site-packages (from notebook>=4.4.1->widgetsnbextension~=3.5.0->ipywidgets<9,>=7.6.0->ipympl->-r requirements.txt (line 1)) (6.4.4)\n",
      "Requirement already satisfied: jinja2 in /home/ligon/anaconda3/lib/python3.9/site-packages (from notebook>=4.4.1->widgetsnbextension~=3.5.0->ipywidgets<9,>=7.6.0->ipympl->-r requirements.txt (line 1)) (2.11.3)\n",
      "Requirement already satisfied: cffi>=1.9.1 in /home/ligon/anaconda3/lib/python3.9/site-packages (from pygit2>=1.10.0->scmrepo==0.1.7->dvc>=2.18.1->CFEDemands->-r requirements.txt (line 2)) (1.15.0)\n"
     ]
    },
    {
     "name": "stdout",
     "output_type": "stream",
     "text": [
      "Requirement already satisfied: pycparser in /home/ligon/anaconda3/lib/python3.9/site-packages (from cffi>=1.9.1->pygit2>=1.10.0->scmrepo==0.1.7->dvc>=2.18.1->CFEDemands->-r requirements.txt (line 2)) (2.21)\n",
      "Requirement already satisfied: smmap<6,>=3.0.1 in /home/ligon/anaconda3/lib/python3.9/site-packages (from gitdb<5,>=4.0.1->gitpython>3->scmrepo==0.1.7->dvc>=2.18.1->CFEDemands->-r requirements.txt (line 2)) (5.0.0)\n",
      "Requirement already satisfied: yarl<2.0,>=1.0 in /home/ligon/anaconda3/lib/python3.9/site-packages (from aiohttp->aiohttp-retry>=2.5.0->dvc-http->dvc>=2.18.1->CFEDemands->-r requirements.txt (line 2)) (1.6.3)\n",
      "Requirement already satisfied: multidict<7.0,>=4.5 in /home/ligon/anaconda3/lib/python3.9/site-packages (from aiohttp->aiohttp-retry>=2.5.0->dvc-http->dvc>=2.18.1->CFEDemands->-r requirements.txt (line 2)) (5.2.0)\n",
      "Requirement already satisfied: async-timeout<5.0,>=4.0.0a3 in /home/ligon/anaconda3/lib/python3.9/site-packages (from aiohttp->aiohttp-retry>=2.5.0->dvc-http->dvc>=2.18.1->CFEDemands->-r requirements.txt (line 2)) (4.0.1)\n",
      "Requirement already satisfied: argon2-cffi-bindings in /home/ligon/anaconda3/lib/python3.9/site-packages (from argon2-cffi->notebook>=4.4.1->widgetsnbextension~=3.5.0->ipywidgets<9,>=7.6.0->ipympl->-r requirements.txt (line 1)) (21.2.0)\n",
      "Requirement already satisfied: MarkupSafe>=0.23 in /home/ligon/anaconda3/lib/python3.9/site-packages (from jinja2->notebook>=4.4.1->widgetsnbextension~=3.5.0->ipywidgets<9,>=7.6.0->ipympl->-r requirements.txt (line 1)) (2.0.1)\n",
      "Requirement already satisfied: jupyterlab-pygments in /home/ligon/anaconda3/lib/python3.9/site-packages (from nbconvert->notebook>=4.4.1->widgetsnbextension~=3.5.0->ipywidgets<9,>=7.6.0->ipympl->-r requirements.txt (line 1)) (0.1.2)\n",
      "Requirement already satisfied: testpath in /home/ligon/anaconda3/lib/python3.9/site-packages (from nbconvert->notebook>=4.4.1->widgetsnbextension~=3.5.0->ipywidgets<9,>=7.6.0->ipympl->-r requirements.txt (line 1)) (0.5.0)\n",
      "Requirement already satisfied: nbclient<0.6.0,>=0.5.0 in /home/ligon/anaconda3/lib/python3.9/site-packages (from nbconvert->notebook>=4.4.1->widgetsnbextension~=3.5.0->ipywidgets<9,>=7.6.0->ipympl->-r requirements.txt (line 1)) (0.5.13)\n",
      "Requirement already satisfied: beautifulsoup4 in /home/ligon/anaconda3/lib/python3.9/site-packages (from nbconvert->notebook>=4.4.1->widgetsnbextension~=3.5.0->ipywidgets<9,>=7.6.0->ipympl->-r requirements.txt (line 1)) (4.11.1)\n",
      "Requirement already satisfied: entrypoints>=0.2.2 in /home/ligon/anaconda3/lib/python3.9/site-packages (from nbconvert->notebook>=4.4.1->widgetsnbextension~=3.5.0->ipywidgets<9,>=7.6.0->ipympl->-r requirements.txt (line 1)) (0.4)\n",
      "Requirement already satisfied: mistune<2,>=0.8.1 in /home/ligon/anaconda3/lib/python3.9/site-packages (from nbconvert->notebook>=4.4.1->widgetsnbextension~=3.5.0->ipywidgets<9,>=7.6.0->ipympl->-r requirements.txt (line 1)) (0.8.4)\n",
      "Requirement already satisfied: pandocfilters>=1.4.1 in /home/ligon/anaconda3/lib/python3.9/site-packages (from nbconvert->notebook>=4.4.1->widgetsnbextension~=3.5.0->ipywidgets<9,>=7.6.0->ipympl->-r requirements.txt (line 1)) (1.5.0)\n",
      "Requirement already satisfied: defusedxml in /home/ligon/anaconda3/lib/python3.9/site-packages (from nbconvert->notebook>=4.4.1->widgetsnbextension~=3.5.0->ipywidgets<9,>=7.6.0->ipympl->-r requirements.txt (line 1)) (0.7.1)\n",
      "Requirement already satisfied: bleach in /home/ligon/anaconda3/lib/python3.9/site-packages (from nbconvert->notebook>=4.4.1->widgetsnbextension~=3.5.0->ipywidgets<9,>=7.6.0->ipympl->-r requirements.txt (line 1)) (4.1.0)\n",
      "Requirement already satisfied: soupsieve>1.2 in /home/ligon/anaconda3/lib/python3.9/site-packages (from beautifulsoup4->nbconvert->notebook>=4.4.1->widgetsnbextension~=3.5.0->ipywidgets<9,>=7.6.0->ipympl->-r requirements.txt (line 1)) (2.3.1)\n",
      "Requirement already satisfied: webencodings in /home/ligon/anaconda3/lib/python3.9/site-packages (from bleach->nbconvert->notebook>=4.4.1->widgetsnbextension~=3.5.0->ipywidgets<9,>=7.6.0->ipympl->-r requirements.txt (line 1)) (0.5.1)\n"
     ]
    },
    {
     "data": {
      "text/html": [
       "        <script type=\"text/javascript\">\n",
       "        window.PlotlyConfig = {MathJaxConfig: 'local'};\n",
       "        if (window.MathJax) {MathJax.Hub.Config({SVG: {font: \"STIX-Web\"}});}\n",
       "        if (typeof require !== 'undefined') {\n",
       "        require.undef(\"plotly\");\n",
       "        requirejs.config({\n",
       "            paths: {\n",
       "                'plotly': ['https://cdn.plot.ly/plotly-2.9.0.min']\n",
       "            }\n",
       "        });\n",
       "        require(['plotly'], function(Plotly) {\n",
       "            window._Plotly = Plotly;\n",
       "        });\n",
       "        }\n",
       "        </script>\n",
       "        "
      ]
     },
     "metadata": {},
     "output_type": "display_data"
    }
   ],
   "source": [
    "!pip install -r requirements.txt\n",
    "\n",
    "import plotly.offline as py\n",
    "import plotly.graph_objs as go\n",
    "\n",
    "py.init_notebook_mode(connected=True)\n",
    "\n",
    "# Uncomment for use in Jupyter Notebook\n",
    "%matplotlib widget\n",
    "\n",
    "# If widget doesn't work, try this (for static images)\n",
    "#%matplotlib inline"
   ]
  },
  {
   "cell_type": "markdown",
   "metadata": {},
   "source": [
    "## Consumer Demand for Food\n",
    "\n"
   ]
  },
  {
   "cell_type": "markdown",
   "metadata": {},
   "source": [
    "-   Minimum cost model can be regarded as *prescriptive* or *descriptive*.  In the former case it&rsquo;s a way of saying what people *should* eat.  In the latter it&rsquo;s a way of saying what people *do* eat.\n",
    "\n"
   ]
  },
  {
   "cell_type": "markdown",
   "metadata": {},
   "source": [
    "### Questions\n",
    "\n"
   ]
  },
  {
   "cell_type": "markdown",
   "metadata": {},
   "source": [
    "-   How do actual diets compare with minimum cost diets?\n",
    "-   How can changes in food prices affect demand for different kinds  of food?\n",
    "-   How can changes in  income affect demand for different kinds of food?\n",
    "-   Is there a set of prices and incomes that ensure people will choose to consume a nutritious diet?\n",
    "\n"
   ]
  },
  {
   "cell_type": "markdown",
   "metadata": {},
   "source": [
    "### Consumer&rsquo;s problem\n",
    "\n"
   ]
  },
  {
   "cell_type": "markdown",
   "metadata": {},
   "source": [
    "The basic consumer&rsquo;s problem considers the problem of allocating a budget $x$ to purchase consumption goods (including but not limited to different kinds of food).  The consumer is thought to try to choose goods to maximize their *utility*.  Utility in turn is a function that maps *consumption bundles* into the  real line&#x2014;one can think of the level of utility as corresponding to the consumer&rsquo;s happiness or satisfaction.\n",
    "\n",
    "The problem is expressed mathematically as\n",
    "   $$\n",
    "      \\max_{c\\in\\Re^n_{++}} U(c) \\qquad\\text{such that $p'c\\leq x$,}\n",
    "   $$\n",
    "where $U:\\Re^n_{++}\\rightarrow\\Re$ is generally assumed to be an increasing, concave, and continuously differentiable function of consumption; $c$ is the consumption bundle; $p$ is a vector of prices for the various goods in $c$; and $x$ is the consumer&rsquo;s total budget.\n",
    "\n"
   ]
  },
  {
   "cell_type": "markdown",
   "metadata": {},
   "source": [
    "#### Cobb-Douglas Example Utility Function\n",
    "\n"
   ]
  },
  {
   "cell_type": "markdown",
   "metadata": {},
   "source": [
    "Let&rsquo;s consider a particular utility function which  takes the form\n",
    "    $$\n",
    "       U(c) = \\sum_{i=1}^n\\alpha_i\\log c_i.\n",
    "    $$\n",
    "This logarithmic form is sometimes called a *Cobb-Douglas* utility function, named after a mathematician Charles Cobb and an economist (later Senator) Paul Douglas, who devised the mathematical form as a way of modeling [production](https://en.wikipedia.org/wiki/Cobb%25E2%2580%2593Douglas_production_function).\n",
    "\n"
   ]
  },
  {
   "cell_type": "code",
   "execution_count": 2,
   "metadata": {},
   "outputs": [],
   "source": [
    "import consumerdemands as demands\n",
    "\n",
    "# Cobb-Douglas utility is a special case of a more general class\n",
    "def cobb_douglas_utility(alpha):\n",
    "    \"\"\"\n",
    "    Define Cobb-Douglas utility function.\n",
    "    \"\"\"\n",
    "    n = len(alpha)\n",
    "    U = lambda c: demands.utility(c,alpha,[1]*n,[0]*n)\n",
    "\n",
    "    return U\n",
    "\n",
    "# Two good case:\n",
    "alpha=[0.3,0.7] # Preference parameters\n",
    "\n",
    "U = cobb_douglas_utility(alpha)"
   ]
  },
  {
   "cell_type": "markdown",
   "metadata": {},
   "source": [
    "Now construct a 3-d plot of the utility function for us to visualize:\n",
    "\n"
   ]
  },
  {
   "cell_type": "code",
   "execution_count": 3,
   "metadata": {},
   "outputs": [
    {
     "data": {
      "application/vnd.plotly.v1+json": {
       "config": {
        "linkText": "Export to plot.ly",
        "plotlyServerURL": "https://plot.ly",
        "showLink": false
       },
       "data": [
        {
         "contours": {
          "z": {
           "highlightcolor": "#42f462",
           "project": {
            "z": true
           },
           "show": true,
           "usecolormap": true
          }
         },
         "type": "surface",
         "x": [
          0.1,
          0.4413793103448276,
          0.7827586206896552,
          1.124137931034483,
          1.4655172413793105,
          1.806896551724138,
          2.148275862068966,
          2.4896551724137934,
          2.831034482758621,
          3.1724137931034484,
          3.513793103448276,
          3.855172413793104,
          4.196551724137931,
          4.537931034482758,
          4.879310344827586,
          5.220689655172413,
          5.562068965517241,
          5.903448275862069,
          6.244827586206896,
          6.586206896551724,
          6.927586206896551,
          7.268965517241379,
          7.610344827586207,
          7.951724137931034,
          8.293103448275863,
          8.63448275862069,
          8.975862068965517,
          9.317241379310344,
          9.658620689655173,
          10
         ],
         "y": [
          0.1,
          0.4413793103448276,
          0.7827586206896552,
          1.124137931034483,
          1.4655172413793105,
          1.806896551724138,
          2.148275862068966,
          2.4896551724137934,
          2.831034482758621,
          3.1724137931034484,
          3.513793103448276,
          3.855172413793104,
          4.196551724137931,
          4.537931034482758,
          4.879310344827586,
          5.220689655172413,
          5.562068965517241,
          5.903448275862069,
          6.244827586206896,
          6.586206896551724,
          6.927586206896551,
          7.268965517241379,
          7.610344827586207,
          7.951724137931034,
          8.293103448275863,
          8.63448275862069,
          8.975862068965517,
          9.317241379310344,
          9.658620689655173,
          10
         ],
         "z": [
          [
           -2.3025850929940455,
           -1.8571647628141026,
           -1.685288836745567,
           -1.5767046275799752,
           -1.4971470913126625,
           -1.434326336693675,
           -1.3824098863537517,
           -1.3381663003221398,
           -1.299616909154259,
           -1.2654617409770619,
           -1.2348007320231702,
           -1.2069848458754744,
           -1.1815306140937296,
           -1.158068208424409,
           -1.1363083989667864,
           -1.1160207117907694,
           -1.097018518552425,
           -1.0791485749794814,
           -1.0622835046249637,
           -1.046316285677785,
           -1.0311561325455074,
           -1.0167253690916118,
           -1.0029570201129667,
           -0.9897929317412864,
           -0.9771822872280291,
           -0.9650804223239909,
           -0.953447870491618,
           -0.9422495864339444,
           -0.9314543094119551,
           -0.921034037197618
          ],
          [
           -1.2632709892408454,
           -0.8178506590609025,
           -0.6459747329923669,
           -0.5373905238267753,
           -0.45783298755946256,
           -0.395012232940475,
           -0.3430957826005517,
           -0.29885219656893974,
           -0.26030280540105916,
           -0.22614763722386183,
           -0.1954866282699702,
           -0.16767074212227429,
           -0.1422165103405295,
           -0.11875410467120895,
           -0.09699429521358627,
           -0.07670660803756946,
           -0.05770441479922506,
           -0.039834471226281476,
           -0.02296940087176369,
           -0.007002181924585016,
           0.008157971207692571,
           0.022588734661588172,
           0.03635708364023327,
           0.04952117201191364,
           0.06213181652517086,
           0.07423368142920905,
           0.08586623326158194,
           0.09706451731925558,
           0.10785979434124493,
           0.11828006655558199
          ],
          [
           -0.8622271617475955,
           -0.4168068315676527,
           -0.24493090549911703,
           -0.13634669633352547,
           -0.05678916006621275,
           0.006031594552774827,
           0.05794804489269814,
           0.10219163092431008,
           0.14074102209219067,
           0.174896190269388,
           0.2055571992232796,
           0.23337308537097554,
           0.25882731715272034,
           0.2822897228220409,
           0.3040495322796636,
           0.3243372194556804,
           0.3433394126940248,
           0.3612093562669684,
           0.37807442662148616,
           0.39404164556866483,
           0.4092017987009424,
           0.423632562154838,
           0.4374009111334831,
           0.4505649995051635,
           0.4631756440184207,
           0.4752775089224589,
           0.4869100607548318,
           0.49810834481250543,
           0.5089036218344948,
           0.5193238940488318
          ],
          [
           -0.6088640070278819,
           -0.1634436768479391,
           0.008432249220596585,
           0.11701645838618814,
           0.19657399465350087,
           0.25939474927248846,
           0.31131119961241177,
           0.3555547856440237,
           0.3941041768119043,
           0.4282593449891016,
           0.45892035394299324,
           0.48673624009068917,
           0.5121904718724339,
           0.5356528775417545,
           0.5574126869993772,
           0.577700374175394,
           0.5967025674137384,
           0.614572510986682,
           0.6314375813411998,
           0.6474048002883784,
           0.662564953420656,
           0.6769957168745516,
           0.6907640658531967,
           0.7039281542248771,
           0.7165387987381343,
           0.7286406636421725,
           0.7402732154745454,
           0.751471499532219,
           0.7622667765542084,
           0.7726870487685454
          ],
          [
           -0.42322975573748556,
           0.022190574442457284,
           0.19406650051099295,
           0.3026507096765845,
           0.38220824594389724,
           0.4450290005628848,
           0.4969454509028081,
           0.5411890369344201,
           0.5797384281023006,
           0.613893596279498,
           0.6445546052333896,
           0.6723704913810855,
           0.6978247231628303,
           0.7212871288321508,
           0.7430469382897735,
           0.7633346254657903,
           0.7823368187041347,
           0.8002067622770783,
           0.8170718326315961,
           0.8330390515787748,
           0.8481992047110524,
           0.862629968164948,
           0.8763983171435931,
           0.8895624055152734,
           0.9021730500285307,
           0.9142749149325688,
           0.9259074667649417,
           0.9371057508226154,
           0.9479010278446047,
           0.9583213000589418
          ],
          [
           -0.2766479949598479,
           0.16877233522009497,
           0.3406482612886306,
           0.4492324704542222,
           0.5287900067215349,
           0.5916107613405225,
           0.6435272116804458,
           0.6877707977120577,
           0.7263201888799383,
           0.7604753570571356,
           0.7911363660110273,
           0.8189522521587231,
           0.8444064839404679,
           0.8678688896097886,
           0.8896286990674112,
           0.9099163862434281,
           0.9289185794817725,
           0.946788523054716,
           0.9636535934092338,
           0.9796208123564125,
           0.9947809654886901,
           1.0092117289425857,
           1.0229800779212308,
           1.0361441662929112,
           1.0487548108061684,
           1.0608566757102065,
           1.0724892275425795,
           1.0836875116002531,
           1.0944827886222424,
           1.1049030608365795
          ],
          [
           -0.15550961083336012,
           0.28991071934658275,
           0.4617866454151184,
           0.5703708545807099,
           0.6499283908480227,
           0.7127491454670103,
           0.7646655958069335,
           0.8089091818385454,
           0.8474585730064261,
           0.8816137411836233,
           0.912274750137515,
           0.940090636285211,
           0.9655448680669557,
           0.9890072737362763,
           1.0107670831938989,
           1.0310547703699158,
           1.0500569636082602,
           1.0679269071812039,
           1.0847919775357215,
           1.1007591964829002,
           1.1159193496151778,
           1.1303501130690734,
           1.1441184620477185,
           1.1572825504193989,
           1.169893194932656,
           1.1819950598366944,
           1.1936276116690672,
           1.2048258957267408,
           1.21562117274873,
           1.2260414449630672
          ],
          [
           -0.05227457675959901,
           0.39314575342034386,
           0.5650216794888795,
           0.673605888654471,
           0.7531634249217838,
           0.8159841795407714,
           0.8679006298806946,
           0.9121442159123065,
           0.9506936070801872,
           0.9848487752573845,
           1.0155097842112761,
           1.0433256703589722,
           1.068779902140717,
           1.0922423078100374,
           1.1140021172676602,
           1.1342898044436769,
           1.1532919976820213,
           1.1711619412549648,
           1.1880270116094827,
           1.2039942305566613,
           1.219154383688939,
           1.2335851471428345,
           1.2473534961214796,
           1.26051758449316,
           1.2731282290064172,
           1.2852300939104553,
           1.2968626457428283,
           1.308060929800502,
           1.3188562068224914,
           1.3292764790368283
          ],
          [
           0.037674002632122394,
           0.48309433281206526,
           0.6549702588806009,
           0.7635544680461924,
           0.8431120043135052,
           0.9059327589324928,
           0.957849209272416,
           1.002092795304028,
           1.0406421864719086,
           1.0747973546491059,
           1.1054583636029975,
           1.1332742497506936,
           1.1587284815324383,
           1.1821908872017588,
           1.2039506966593816,
           1.2242383838353983,
           1.2432405770737427,
           1.2611105206466862,
           1.277975591001204,
           1.2939428099483827,
           1.3091029630806603,
           1.323533726534556,
           1.337302075513201,
           1.3504661638848814,
           1.3630768083981386,
           1.3751786733021767,
           1.3868112251345497,
           1.3980095091922233,
           1.4088047862142128,
           1.4192250584285497
          ],
          [
           0.11736939504558275,
           0.5627897252255256,
           0.7346656512940613,
           0.8432498604596528,
           0.9228073967269655,
           0.985628151345953,
           1.0375446016858765,
           1.0817881877174884,
           1.120337578885369,
           1.1544927470625663,
           1.185153756016458,
           1.2129696421641538,
           1.2384238739458986,
           1.261886279615219,
           1.2836460890728418,
           1.3039337762488588,
           1.3229359694872032,
           1.3408059130601466,
           1.3576709834146645,
           1.373638202361843,
           1.3887983554941208,
           1.4032291189480164,
           1.4169974679266613,
           1.4301615562983416,
           1.442772200811599,
           1.4548740657156372,
           1.46650661754801,
           1.4777049016056836,
           1.488500178627673,
           1.49892045084201
          ],
          [
           0.18891174927132992,
           0.6343320794512728,
           0.8062080055198084,
           0.9147922146854,
           0.9943497509527127,
           1.0571705055717002,
           1.1090869559116237,
           1.1533305419432356,
           1.191879933111116,
           1.2260351012883135,
           1.256696110242205,
           1.284511996389901,
           1.3099662281716458,
           1.3334286338409664,
           1.355188443298589,
           1.3754761304746057,
           1.39447832371295,
           1.4123482672858938,
           1.4292133376404115,
           1.4451805565875904,
           1.4603407097198677,
           1.4747714731737633,
           1.4885398221524087,
           1.501703910524089,
           1.514314555037346,
           1.5264164199413843,
           1.5380489717737573,
           1.549247255831431,
           1.5600425328534202,
           1.5704628050677574
          ],
          [
           0.25381548361595374,
           0.6992358137958966,
           0.8711117398644322,
           0.9796959490300238,
           1.0592534852973365,
           1.1220742399163242,
           1.1739906902562474,
           1.2182342762878593,
           1.25678366745574,
           1.2909388356329372,
           1.3215998445868289,
           1.349415730734525,
           1.3748699625162697,
           1.3983323681855901,
           1.420092177643213,
           1.4403798648192296,
           1.459382058057574,
           1.4772520016305175,
           1.4941170719850354,
           1.510084290932214,
           1.5252444440644917,
           1.5396752075183873,
           1.5534435564970324,
           1.5666076448687127,
           1.57921828938197,
           1.591320154286008,
           1.602952706118381,
           1.6141509901760547,
           1.6249462671980441,
           1.635366539412381
          ],
          [
           0.3132086911066915,
           0.7586290212866343,
           0.93050494735517,
           1.0390891565207616,
           1.1186466927880743,
           1.1814674474070619,
           1.233383897746985,
           1.277627483778597,
           1.3161768749464777,
           1.350332043123675,
           1.3809930520775666,
           1.4088089382252624,
           1.4342631700070072,
           1.4577255756763279,
           1.4794853851339504,
           1.4997730723099674,
           1.5187752655483118,
           1.5366452091212555,
           1.5535102794757731,
           1.5694774984229518,
           1.5846376515552294,
           1.599068415009125,
           1.61283676398777,
           1.6260008523594505,
           1.6386114968727077,
           1.650713361776746,
           1.6623459136091188,
           1.6735441976667924,
           1.6843394746887816,
           1.6947597469031188
          ],
          [
           0.36795430433510623,
           0.8133746345150491,
           0.9852505605835847,
           1.0938347697491764,
           1.173392306016489,
           1.2362130606354766,
           1.2881295109753998,
           1.3323730970070118,
           1.3709224881748925,
           1.4050776563520897,
           1.4357386653059814,
           1.4635545514536772,
           1.489008783235422,
           1.5124711889047426,
           1.5342309983623652,
           1.5545186855383821,
           1.5735208787767265,
           1.5913908223496702,
           1.608255892704188,
           1.6242231116513666,
           1.6393832647836442,
           1.6538140282375398,
           1.6675823772161849,
           1.6807464655878652,
           1.6933571101011224,
           1.7054589750051607,
           1.7170915268375335,
           1.7282898108952072,
           1.7390850879171964,
           1.7495053601315336
          ],
          [
           0.4187271930695592,
           0.8641475232495021,
           1.0360234493180376,
           1.1446076584836293,
           1.224165194750942,
           1.2869859493699296,
           1.3389023997098528,
           1.3831459857414647,
           1.4216953769093454,
           1.4558505450865427,
           1.4865115540404343,
           1.5143274401881301,
           1.539781671969875,
           1.5632440776391956,
           1.5850038870968182,
           1.605291574272835,
           1.6242937675111795,
           1.6421637110841232,
           1.6590287814386409,
           1.6749960003858195,
           1.6901561535180971,
           1.7045869169719927,
           1.7183552659506378,
           1.7315193543223182,
           1.7441299988355754,
           1.7562318637396137,
           1.7678644155719865,
           1.7790626996296601,
           1.7898579766516494,
           1.8002782488659865
          ],
          [
           0.4660651298135984,
           0.9114854599935412,
           1.083361386062077,
           1.1919455952276685,
           1.2715031314949812,
           1.3343238861139688,
           1.386240336453892,
           1.430483922485504,
           1.4690333136533846,
           1.5031884818305818,
           1.5338494907844735,
           1.5616653769321696,
           1.5871196087139143,
           1.6105820143832348,
           1.6323418238408576,
           1.6526295110168743,
           1.6716317042552187,
           1.6895016478281621,
           1.70636671818268,
           1.7223339371298587,
           1.7374940902621363,
           1.751924853716032,
           1.765693202694677,
           1.7788572910663574,
           1.7914679355796146,
           1.8035698004836527,
           1.8152023523160257,
           1.8264006363736993,
           1.8371959133956888,
           1.8476161856100257
          ],
          [
           0.5104035807030686,
           0.9558239108830114,
           1.127699836951547,
           1.2362840461171387,
           1.3158415823844514,
           1.378662337003439,
           1.4305787873433622,
           1.4748223733749741,
           1.5133717645428548,
           1.547526932720052,
           1.5781879416739437,
           1.6060038278216395,
           1.6314580596033843,
           1.654920465272705,
           1.6766802747303275,
           1.6969679619063445,
           1.7159701551446889,
           1.7338400987176326,
           1.7507051690721502,
           1.766672388019329,
           1.7818325411516065,
           1.796263304605502,
           1.8100316535841472,
           1.8231957419558276,
           1.8358063864690848,
           1.847908251373123,
           1.8595408032054959,
           1.8707390872631695,
           1.8815343642851587,
           1.891954636499496
          ],
          [
           0.5521001157066038,
           0.9975204458865466,
           1.1693963719550822,
           1.277980581120674,
           1.3575381173879866,
           1.4203588720069742,
           1.4722753223468974,
           1.5165189083785093,
           1.55506829954639,
           1.5892234677235872,
           1.619884476677479,
           1.6477003628251747,
           1.6731545946069195,
           1.6966170002762402,
           1.7183768097338628,
           1.7386644969098797,
           1.757666690148224,
           1.7755366337211678,
           1.7924017040756854,
           1.8083689230228641,
           1.8235290761551417,
           1.8379598396090373,
           1.8517281885876824,
           1.8648922769593628,
           1.87750292147262,
           1.8896047863766583,
           1.901237338209031,
           1.9124356222667047,
           1.923230899288694,
           1.9336511715030311
          ],
          [
           0.5914519465338118,
           1.0368722767137546,
           1.2087482027822904,
           1.317332411947882,
           1.3968899482151946,
           1.4597107028341822,
           1.5116271531741055,
           1.5558707392057174,
           1.594420130373598,
           1.6285752985507953,
           1.659236307504687,
           1.687052193652383,
           1.7125064254341278,
           1.7359688311034482,
           1.757728640561071,
           1.7780163277370877,
           1.7970185209754321,
           1.8148884645483756,
           1.8317535349028935,
           1.8477207538500722,
           1.8628809069823498,
           1.8773116704362454,
           1.8910800194148905,
           1.9042441077865708,
           1.916854752299828,
           1.9289566172038661,
           1.9405891690362391,
           1.9517874530939128,
           1.9625827301159022,
           1.9730030023302392
          ],
          [
           0.6287087907438954,
           1.0741291209238382,
           1.2460050469923738,
           1.3545892561579655,
           1.4341467924252782,
           1.4969675470442658,
           1.548883997384189,
           1.593127583415801,
           1.6316769745836817,
           1.6658321427608789,
           1.6964931517147706,
           1.7243090378624664,
           1.7497632696442111,
           1.7732256753135318,
           1.7949854847711544,
           1.8152731719471713,
           1.8342753651855157,
           1.8521453087584594,
           1.869010379112977,
           1.8849775980601557,
           1.9001377511924333,
           1.914568514646329,
           1.928336863624974,
           1.9415009519966544,
           1.9541115965099116,
           1.96621346141395,
           1.9778460132463227,
           1.9890442973039963,
           1.9998395743259856,
           2.0102598465403227
          ],
          [
           0.6640824813858764,
           1.1095028115658192,
           1.281378737634355,
           1.3899629467999466,
           1.4695204830672592,
           1.5323412376862469,
           1.58425768802617,
           1.628501274057782,
           1.6670506652256627,
           1.70120583340286,
           1.7318668423567516,
           1.7596827285044476,
           1.7851369602861924,
           1.8085993659555128,
           1.8303591754131356,
           1.8506468625891523,
           1.8696490558274967,
           1.8875189994004402,
           1.904384069754958,
           1.9203512887021368,
           1.9355114418344144,
           1.94994220528831,
           1.963710554266955,
           1.9768746426386354,
           1.9894852871518927,
           2.0015871520559307,
           2.0132197038883035,
           2.024417987945977,
           2.035213264967967,
           2.0456335371823036
          ],
          [
           0.6977542627782994,
           1.1431745929582422,
           1.3150505190267778,
           1.4236347281923696,
           1.5031922644596822,
           1.5660130190786699,
           1.617929469418593,
           1.662173055450205,
           1.7007224466180857,
           1.734877614795283,
           1.7655386237491746,
           1.7933545098968704,
           1.8188087416786152,
           1.8422711473479358,
           1.8640309568055584,
           1.8843186439815753,
           1.9033208372199197,
           1.9211907807928634,
           1.938055851147381,
           1.9540230700945598,
           1.9691832232268374,
           1.983613986680733,
           1.997382335659378,
           2.0105464240310584,
           2.0231570685443154,
           2.035258933448354,
           2.0468914852807267,
           2.0580897693384004,
           2.0688850463603896,
           2.079305318574727
          ],
          [
           0.7298804103951381,
           1.1753007405750808,
           1.3471766666436165,
           1.4557608758092082,
           1.5353184120765209,
           1.5981391666955085,
           1.6500556170354317,
           1.6942992030670436,
           1.7328485942349243,
           1.7670037624121215,
           1.7976647713660132,
           1.825480657513709,
           1.8509348892954538,
           1.8743972949647745,
           1.896157104422397,
           1.916444791598414,
           1.9354469848367584,
           1.953316928409702,
           1.9701819987642197,
           1.9861492177113984,
           2.0013093708436758,
           2.0157401342975714,
           2.0295084832762167,
           2.042672571647897,
           2.055283216161154,
           2.0673850810651926,
           2.0790176328975654,
           2.090215916955239,
           2.1010111939772282,
           2.1114314661915654
          ],
          [
           0.7605966165957255,
           1.2060169467756683,
           1.3778928728442041,
           1.4864770820097957,
           1.5660346182771083,
           1.628855372896096,
           1.6807718232360191,
           1.725015409267631,
           1.7635648004355118,
           1.797719968612709,
           1.8283809775666007,
           1.8561968637142967,
           1.8816510954960415,
           1.905113501165362,
           1.9268733106229847,
           1.9471609977990014,
           1.9661631910373458,
           1.9840331346102893,
           2.000898204964807,
           2.0168654239119856,
           2.0320255770442635,
           2.046456340498159,
           2.0602246894768044,
           2.0733887778484847,
           2.0859994223617417,
           2.09810128726578,
           2.109733839098153,
           2.1209321231558267,
           2.131727400177816,
           2.142147672392153
          ],
          [
           0.7900214537933258,
           1.2354417839732685,
           1.4073177100418044,
           1.515901919207396,
           1.5954594554747086,
           1.6582802100936962,
           1.7101966604336194,
           1.7544402464652313,
           1.792989637633112,
           1.8271448058103092,
           1.857805814764201,
           1.885621700911897,
           1.9110759326936417,
           1.9345383383629622,
           1.956298147820585,
           1.9765858349966017,
           1.995588028234946,
           2.0134579718078895,
           2.0303230421624074,
           2.0462902611095863,
           2.0614504142418637,
           2.0758811776957593,
           2.089649526674404,
           2.1028136150460845,
           2.115424259559342,
           2.12752612446338,
           2.139158676295753,
           2.1503569603534265,
           2.161152237375416,
           2.171572509589753
          ],
          [
           0.818259138569415,
           1.2636794687493578,
           1.4355553948178934,
           1.5441396039834852,
           1.6236971402507978,
           1.6865178948697854,
           1.7384343452097086,
           1.7826779312413206,
           1.8212273224092013,
           1.8553824905863985,
           1.8860434995402902,
           1.913859385687986,
           1.9393136174697307,
           1.9627760231390514,
           1.984535832596674,
           2.0048235197726907,
           2.0238257130110355,
           2.041695656583979,
           2.058560726938497,
           2.0745279458856754,
           2.0896880990179527,
           2.1041188624718483,
           2.1178872114504936,
           2.131051299822174,
           2.143661944335431,
           2.1557638092394695,
           2.1673963610718423,
           2.178594645129516,
           2.189389922151505,
           2.1998101943658424
          ],
          [
           0.8454017595116182,
           1.290822089691561,
           1.4626980157600968,
           1.5712822249256884,
           1.650839761193001,
           1.7136605158119886,
           1.7655769661519118,
           1.8098205521835238,
           1.8483699433514045,
           1.8825251115286017,
           1.9131861204824934,
           1.9410020066301894,
           1.9664562384119342,
           1.9899186440812546,
           2.0116784535388774,
           2.031966140714894,
           2.0509683339532385,
           2.068838277526182,
           2.0857033478807,
           2.1016705668278783,
           2.116830719960156,
           2.1312614834140517,
           2.145029832392697,
           2.1581939207643774,
           2.1708045652776344,
           2.1829064301816725,
           2.1945389820140457,
           2.2057372660717194,
           2.2165325430937086,
           2.226952815308046
          ],
          [
           0.8715310889795235,
           1.3169514191594662,
           1.4888273452280019,
           1.5974115543935936,
           1.6769690906609063,
           1.7397898452798939,
           1.791706295619817,
           1.835949881651429,
           1.8744992728193097,
           1.908654440996507,
           1.9393154499503986,
           1.9671313360980944,
           1.9925855678798392,
           2.01604797354916,
           2.0378077830067824,
           2.058095470182799,
           2.077097663421144,
           2.0949676069940875,
           2.1118326773486054,
           2.127799896295784,
           2.142960049428061,
           2.1573908128819568,
           2.171159161860602,
           2.1843232502322825,
           2.1969338947455395,
           2.209035759649578,
           2.2206683114819508,
           2.2318665955396244,
           2.2426618725616136,
           2.253082144775951
          ],
          [
           0.8967200686974984,
           1.3421403988774412,
           1.514016324945977,
           1.6226005341115686,
           1.7021580703788812,
           1.7649788249978688,
           1.816895275337792,
           1.861138861369404,
           1.8996882525372847,
           1.933843420714482,
           1.9645044296683736,
           1.9923203158160696,
           2.0177745475978144,
           2.041236953267135,
           2.0629967627247576,
           2.0832844499007743,
           2.1022866431391187,
           2.120156586712062,
           2.13702165706658,
           2.152988876013759,
           2.1681490291460364,
           2.182579792599932,
           2.196348141578577,
           2.209512229950257,
           2.2221228744635146,
           2.2342247393675527,
           2.2458572911999255,
           2.257055575257599,
           2.267850852279589,
           2.2782711244939255
          ],
          [
           0.9210340371976183,
           1.366454367377561,
           1.538330293446097,
           1.6469145026116885,
           1.7264720388790011,
           1.7892927934979888,
           1.841209243837912,
           1.885452829869524,
           1.9240022210374046,
           1.9581573892146018,
           1.9888183981684935,
           2.0166342843161895,
           2.0420885160979343,
           2.0655509217672545,
           2.0873107312248775,
           2.1075984184008942,
           2.1266006116392386,
           2.144470555212182,
           2.1613356255667,
           2.1773028445138785,
           2.1924629976461563,
           2.206893761100052,
           2.220662110078697,
           2.2338261984503776,
           2.2464368429636346,
           2.2585387078676726,
           2.270171259700046,
           2.2813695437577195,
           2.2921648207797087,
           2.302585092994046
          ]
         ]
        }
       ],
       "layout": {
        "autosize": true,
        "scene": {
         "aspectmode": "auto",
         "aspectratio": {
          "x": 1.2906143910333385,
          "y": 1.2906143910333385,
          "z": 0.6003534257771623
         },
         "xaxis": {
          "title": {
           "text": "$c_1$"
          },
          "type": "linear"
         },
         "yaxis": {
          "title": {
           "text": "$c_2$"
          },
          "type": "linear"
         },
         "zaxis": {
          "title": {
           "text": "Utils"
          },
          "type": "linear"
         }
        },
        "template": {
         "data": {
          "bar": [
           {
            "error_x": {
             "color": "#2a3f5f"
            },
            "error_y": {
             "color": "#2a3f5f"
            },
            "marker": {
             "line": {
              "color": "#E5ECF6",
              "width": 0.5
             },
             "pattern": {
              "fillmode": "overlay",
              "size": 10,
              "solidity": 0.2
             }
            },
            "type": "bar"
           }
          ],
          "barpolar": [
           {
            "marker": {
             "line": {
              "color": "#E5ECF6",
              "width": 0.5
             },
             "pattern": {
              "fillmode": "overlay",
              "size": 10,
              "solidity": 0.2
             }
            },
            "type": "barpolar"
           }
          ],
          "carpet": [
           {
            "aaxis": {
             "endlinecolor": "#2a3f5f",
             "gridcolor": "white",
             "linecolor": "white",
             "minorgridcolor": "white",
             "startlinecolor": "#2a3f5f"
            },
            "baxis": {
             "endlinecolor": "#2a3f5f",
             "gridcolor": "white",
             "linecolor": "white",
             "minorgridcolor": "white",
             "startlinecolor": "#2a3f5f"
            },
            "type": "carpet"
           }
          ],
          "choropleth": [
           {
            "colorbar": {
             "outlinewidth": 0,
             "ticks": ""
            },
            "type": "choropleth"
           }
          ],
          "contour": [
           {
            "colorbar": {
             "outlinewidth": 0,
             "ticks": ""
            },
            "colorscale": [
             [
              0,
              "#0d0887"
             ],
             [
              0.1111111111111111,
              "#46039f"
             ],
             [
              0.2222222222222222,
              "#7201a8"
             ],
             [
              0.3333333333333333,
              "#9c179e"
             ],
             [
              0.4444444444444444,
              "#bd3786"
             ],
             [
              0.5555555555555556,
              "#d8576b"
             ],
             [
              0.6666666666666666,
              "#ed7953"
             ],
             [
              0.7777777777777778,
              "#fb9f3a"
             ],
             [
              0.8888888888888888,
              "#fdca26"
             ],
             [
              1,
              "#f0f921"
             ]
            ],
            "type": "contour"
           }
          ],
          "contourcarpet": [
           {
            "colorbar": {
             "outlinewidth": 0,
             "ticks": ""
            },
            "type": "contourcarpet"
           }
          ],
          "heatmap": [
           {
            "colorbar": {
             "outlinewidth": 0,
             "ticks": ""
            },
            "colorscale": [
             [
              0,
              "#0d0887"
             ],
             [
              0.1111111111111111,
              "#46039f"
             ],
             [
              0.2222222222222222,
              "#7201a8"
             ],
             [
              0.3333333333333333,
              "#9c179e"
             ],
             [
              0.4444444444444444,
              "#bd3786"
             ],
             [
              0.5555555555555556,
              "#d8576b"
             ],
             [
              0.6666666666666666,
              "#ed7953"
             ],
             [
              0.7777777777777778,
              "#fb9f3a"
             ],
             [
              0.8888888888888888,
              "#fdca26"
             ],
             [
              1,
              "#f0f921"
             ]
            ],
            "type": "heatmap"
           }
          ],
          "heatmapgl": [
           {
            "colorbar": {
             "outlinewidth": 0,
             "ticks": ""
            },
            "colorscale": [
             [
              0,
              "#0d0887"
             ],
             [
              0.1111111111111111,
              "#46039f"
             ],
             [
              0.2222222222222222,
              "#7201a8"
             ],
             [
              0.3333333333333333,
              "#9c179e"
             ],
             [
              0.4444444444444444,
              "#bd3786"
             ],
             [
              0.5555555555555556,
              "#d8576b"
             ],
             [
              0.6666666666666666,
              "#ed7953"
             ],
             [
              0.7777777777777778,
              "#fb9f3a"
             ],
             [
              0.8888888888888888,
              "#fdca26"
             ],
             [
              1,
              "#f0f921"
             ]
            ],
            "type": "heatmapgl"
           }
          ],
          "histogram": [
           {
            "marker": {
             "pattern": {
              "fillmode": "overlay",
              "size": 10,
              "solidity": 0.2
             }
            },
            "type": "histogram"
           }
          ],
          "histogram2d": [
           {
            "colorbar": {
             "outlinewidth": 0,
             "ticks": ""
            },
            "colorscale": [
             [
              0,
              "#0d0887"
             ],
             [
              0.1111111111111111,
              "#46039f"
             ],
             [
              0.2222222222222222,
              "#7201a8"
             ],
             [
              0.3333333333333333,
              "#9c179e"
             ],
             [
              0.4444444444444444,
              "#bd3786"
             ],
             [
              0.5555555555555556,
              "#d8576b"
             ],
             [
              0.6666666666666666,
              "#ed7953"
             ],
             [
              0.7777777777777778,
              "#fb9f3a"
             ],
             [
              0.8888888888888888,
              "#fdca26"
             ],
             [
              1,
              "#f0f921"
             ]
            ],
            "type": "histogram2d"
           }
          ],
          "histogram2dcontour": [
           {
            "colorbar": {
             "outlinewidth": 0,
             "ticks": ""
            },
            "colorscale": [
             [
              0,
              "#0d0887"
             ],
             [
              0.1111111111111111,
              "#46039f"
             ],
             [
              0.2222222222222222,
              "#7201a8"
             ],
             [
              0.3333333333333333,
              "#9c179e"
             ],
             [
              0.4444444444444444,
              "#bd3786"
             ],
             [
              0.5555555555555556,
              "#d8576b"
             ],
             [
              0.6666666666666666,
              "#ed7953"
             ],
             [
              0.7777777777777778,
              "#fb9f3a"
             ],
             [
              0.8888888888888888,
              "#fdca26"
             ],
             [
              1,
              "#f0f921"
             ]
            ],
            "type": "histogram2dcontour"
           }
          ],
          "mesh3d": [
           {
            "colorbar": {
             "outlinewidth": 0,
             "ticks": ""
            },
            "type": "mesh3d"
           }
          ],
          "parcoords": [
           {
            "line": {
             "colorbar": {
              "outlinewidth": 0,
              "ticks": ""
             }
            },
            "type": "parcoords"
           }
          ],
          "pie": [
           {
            "automargin": true,
            "type": "pie"
           }
          ],
          "scatter": [
           {
            "marker": {
             "colorbar": {
              "outlinewidth": 0,
              "ticks": ""
             }
            },
            "type": "scatter"
           }
          ],
          "scatter3d": [
           {
            "line": {
             "colorbar": {
              "outlinewidth": 0,
              "ticks": ""
             }
            },
            "marker": {
             "colorbar": {
              "outlinewidth": 0,
              "ticks": ""
             }
            },
            "type": "scatter3d"
           }
          ],
          "scattercarpet": [
           {
            "marker": {
             "colorbar": {
              "outlinewidth": 0,
              "ticks": ""
             }
            },
            "type": "scattercarpet"
           }
          ],
          "scattergeo": [
           {
            "marker": {
             "colorbar": {
              "outlinewidth": 0,
              "ticks": ""
             }
            },
            "type": "scattergeo"
           }
          ],
          "scattergl": [
           {
            "marker": {
             "colorbar": {
              "outlinewidth": 0,
              "ticks": ""
             }
            },
            "type": "scattergl"
           }
          ],
          "scattermapbox": [
           {
            "marker": {
             "colorbar": {
              "outlinewidth": 0,
              "ticks": ""
             }
            },
            "type": "scattermapbox"
           }
          ],
          "scatterpolar": [
           {
            "marker": {
             "colorbar": {
              "outlinewidth": 0,
              "ticks": ""
             }
            },
            "type": "scatterpolar"
           }
          ],
          "scatterpolargl": [
           {
            "marker": {
             "colorbar": {
              "outlinewidth": 0,
              "ticks": ""
             }
            },
            "type": "scatterpolargl"
           }
          ],
          "scatterternary": [
           {
            "marker": {
             "colorbar": {
              "outlinewidth": 0,
              "ticks": ""
             }
            },
            "type": "scatterternary"
           }
          ],
          "surface": [
           {
            "colorbar": {
             "outlinewidth": 0,
             "ticks": ""
            },
            "colorscale": [
             [
              0,
              "#0d0887"
             ],
             [
              0.1111111111111111,
              "#46039f"
             ],
             [
              0.2222222222222222,
              "#7201a8"
             ],
             [
              0.3333333333333333,
              "#9c179e"
             ],
             [
              0.4444444444444444,
              "#bd3786"
             ],
             [
              0.5555555555555556,
              "#d8576b"
             ],
             [
              0.6666666666666666,
              "#ed7953"
             ],
             [
              0.7777777777777778,
              "#fb9f3a"
             ],
             [
              0.8888888888888888,
              "#fdca26"
             ],
             [
              1,
              "#f0f921"
             ]
            ],
            "type": "surface"
           }
          ],
          "table": [
           {
            "cells": {
             "fill": {
              "color": "#EBF0F8"
             },
             "line": {
              "color": "white"
             }
            },
            "header": {
             "fill": {
              "color": "#C8D4E3"
             },
             "line": {
              "color": "white"
             }
            },
            "type": "table"
           }
          ]
         },
         "layout": {
          "annotationdefaults": {
           "arrowcolor": "#2a3f5f",
           "arrowhead": 0,
           "arrowwidth": 1
          },
          "autotypenumbers": "strict",
          "coloraxis": {
           "colorbar": {
            "outlinewidth": 0,
            "ticks": ""
           }
          },
          "colorscale": {
           "diverging": [
            [
             0,
             "#8e0152"
            ],
            [
             0.1,
             "#c51b7d"
            ],
            [
             0.2,
             "#de77ae"
            ],
            [
             0.3,
             "#f1b6da"
            ],
            [
             0.4,
             "#fde0ef"
            ],
            [
             0.5,
             "#f7f7f7"
            ],
            [
             0.6,
             "#e6f5d0"
            ],
            [
             0.7,
             "#b8e186"
            ],
            [
             0.8,
             "#7fbc41"
            ],
            [
             0.9,
             "#4d9221"
            ],
            [
             1,
             "#276419"
            ]
           ],
           "sequential": [
            [
             0,
             "#0d0887"
            ],
            [
             0.1111111111111111,
             "#46039f"
            ],
            [
             0.2222222222222222,
             "#7201a8"
            ],
            [
             0.3333333333333333,
             "#9c179e"
            ],
            [
             0.4444444444444444,
             "#bd3786"
            ],
            [
             0.5555555555555556,
             "#d8576b"
            ],
            [
             0.6666666666666666,
             "#ed7953"
            ],
            [
             0.7777777777777778,
             "#fb9f3a"
            ],
            [
             0.8888888888888888,
             "#fdca26"
            ],
            [
             1,
             "#f0f921"
            ]
           ],
           "sequentialminus": [
            [
             0,
             "#0d0887"
            ],
            [
             0.1111111111111111,
             "#46039f"
            ],
            [
             0.2222222222222222,
             "#7201a8"
            ],
            [
             0.3333333333333333,
             "#9c179e"
            ],
            [
             0.4444444444444444,
             "#bd3786"
            ],
            [
             0.5555555555555556,
             "#d8576b"
            ],
            [
             0.6666666666666666,
             "#ed7953"
            ],
            [
             0.7777777777777778,
             "#fb9f3a"
            ],
            [
             0.8888888888888888,
             "#fdca26"
            ],
            [
             1,
             "#f0f921"
            ]
           ]
          },
          "colorway": [
           "#636efa",
           "#EF553B",
           "#00cc96",
           "#ab63fa",
           "#FFA15A",
           "#19d3f3",
           "#FF6692",
           "#B6E880",
           "#FF97FF",
           "#FECB52"
          ],
          "font": {
           "color": "#2a3f5f"
          },
          "geo": {
           "bgcolor": "white",
           "lakecolor": "white",
           "landcolor": "#E5ECF6",
           "showlakes": true,
           "showland": true,
           "subunitcolor": "white"
          },
          "hoverlabel": {
           "align": "left"
          },
          "hovermode": "closest",
          "mapbox": {
           "style": "light"
          },
          "paper_bgcolor": "white",
          "plot_bgcolor": "#E5ECF6",
          "polar": {
           "angularaxis": {
            "gridcolor": "white",
            "linecolor": "white",
            "ticks": ""
           },
           "bgcolor": "#E5ECF6",
           "radialaxis": {
            "gridcolor": "white",
            "linecolor": "white",
            "ticks": ""
           }
          },
          "scene": {
           "xaxis": {
            "backgroundcolor": "#E5ECF6",
            "gridcolor": "white",
            "gridwidth": 2,
            "linecolor": "white",
            "showbackground": true,
            "ticks": "",
            "zerolinecolor": "white"
           },
           "yaxis": {
            "backgroundcolor": "#E5ECF6",
            "gridcolor": "white",
            "gridwidth": 2,
            "linecolor": "white",
            "showbackground": true,
            "ticks": "",
            "zerolinecolor": "white"
           },
           "zaxis": {
            "backgroundcolor": "#E5ECF6",
            "gridcolor": "white",
            "gridwidth": 2,
            "linecolor": "white",
            "showbackground": true,
            "ticks": "",
            "zerolinecolor": "white"
           }
          },
          "shapedefaults": {
           "line": {
            "color": "#2a3f5f"
           }
          },
          "ternary": {
           "aaxis": {
            "gridcolor": "white",
            "linecolor": "white",
            "ticks": ""
           },
           "baxis": {
            "gridcolor": "white",
            "linecolor": "white",
            "ticks": ""
           },
           "bgcolor": "#E5ECF6",
           "caxis": {
            "gridcolor": "white",
            "linecolor": "white",
            "ticks": ""
           }
          },
          "title": {
           "x": 0.05
          },
          "xaxis": {
           "automargin": true,
           "gridcolor": "white",
           "linecolor": "white",
           "ticks": "",
           "title": {
            "standoff": 15
           },
           "zerolinecolor": "white",
           "zerolinewidth": 2
          },
          "yaxis": {
           "automargin": true,
           "gridcolor": "white",
           "linecolor": "white",
           "ticks": "",
           "title": {
            "standoff": 15
           },
           "zerolinecolor": "white",
           "zerolinewidth": 2
          }
         }
        },
        "title": {
         "text": "Cobb-Douglas Utility"
        }
       }
      },
      "image/png": "[encoded data removed]",
      "text/html": [
       "<div>                            <div id=\"43dcde99-f523-49f8-855c-a2127635ae02\" class=\"plotly-graph-div\" style=\"height:525px; width:100%;\"></div>            <script type=\"text/javascript\">                require([\"plotly\"], function(Plotly) {                    window.PLOTLYENV=window.PLOTLYENV || {};                                    if (document.getElementById(\"43dcde99-f523-49f8-855c-a2127635ae02\")) {                    Plotly.newPlot(                        \"43dcde99-f523-49f8-855c-a2127635ae02\",                        [{\"contours\":{\"z\":{\"highlightcolor\":\"#42f462\",\"project\":{\"z\":true},\"show\":true,\"usecolormap\":true}},\"x\":[0.1,0.4413793103448276,0.7827586206896552,1.124137931034483,1.4655172413793105,1.806896551724138,2.148275862068966,2.4896551724137934,2.831034482758621,3.1724137931034484,3.513793103448276,3.855172413793104,4.196551724137931,4.537931034482758,4.879310344827586,5.220689655172413,5.562068965517241,5.903448275862069,6.244827586206896,6.586206896551724,6.927586206896551,7.268965517241379,7.610344827586207,7.951724137931034,8.293103448275863,8.63448275862069,8.975862068965517,9.317241379310344,9.658620689655173,10.0],\"y\":[0.1,0.4413793103448276,0.7827586206896552,1.124137931034483,1.4655172413793105,1.806896551724138,2.148275862068966,2.4896551724137934,2.831034482758621,3.1724137931034484,3.513793103448276,3.855172413793104,4.196551724137931,4.537931034482758,4.879310344827586,5.220689655172413,5.562068965517241,5.903448275862069,6.244827586206896,6.586206896551724,6.927586206896551,7.268965517241379,7.610344827586207,7.951724137931034,8.293103448275863,8.63448275862069,8.975862068965517,9.317241379310344,9.658620689655173,10.0],\"z\":[[-2.3025850929940455,-1.8571647628141026,-1.685288836745567,-1.5767046275799752,-1.4971470913126625,-1.434326336693675,-1.3824098863537517,-1.3381663003221398,-1.299616909154259,-1.2654617409770619,-1.2348007320231702,-1.2069848458754744,-1.1815306140937296,-1.158068208424409,-1.1363083989667864,-1.1160207117907694,-1.097018518552425,-1.0791485749794814,-1.0622835046249637,-1.046316285677785,-1.0311561325455074,-1.0167253690916118,-1.0029570201129667,-0.9897929317412864,-0.9771822872280291,-0.9650804223239909,-0.953447870491618,-0.9422495864339444,-0.9314543094119551,-0.921034037197618],[-1.2632709892408454,-0.8178506590609025,-0.6459747329923669,-0.5373905238267753,-0.45783298755946256,-0.395012232940475,-0.3430957826005517,-0.29885219656893974,-0.26030280540105916,-0.22614763722386183,-0.1954866282699702,-0.16767074212227429,-0.1422165103405295,-0.11875410467120895,-0.09699429521358627,-0.07670660803756946,-0.05770441479922506,-0.039834471226281476,-0.02296940087176369,-0.007002181924585016,0.008157971207692571,0.022588734661588172,0.03635708364023327,0.04952117201191364,0.06213181652517086,0.07423368142920905,0.08586623326158194,0.09706451731925558,0.10785979434124493,0.11828006655558199],[-0.8622271617475955,-0.4168068315676527,-0.24493090549911703,-0.13634669633352547,-0.05678916006621275,0.006031594552774827,0.05794804489269814,0.10219163092431008,0.14074102209219067,0.174896190269388,0.2055571992232796,0.23337308537097554,0.25882731715272034,0.2822897228220409,0.3040495322796636,0.3243372194556804,0.3433394126940248,0.3612093562669684,0.37807442662148616,0.39404164556866483,0.4092017987009424,0.423632562154838,0.4374009111334831,0.4505649995051635,0.4631756440184207,0.4752775089224589,0.4869100607548318,0.49810834481250543,0.5089036218344948,0.5193238940488318],[-0.6088640070278819,-0.1634436768479391,0.008432249220596585,0.11701645838618814,0.19657399465350087,0.25939474927248846,0.31131119961241177,0.3555547856440237,0.3941041768119043,0.4282593449891016,0.45892035394299324,0.48673624009068917,0.5121904718724339,0.5356528775417545,0.5574126869993772,0.577700374175394,0.5967025674137384,0.614572510986682,0.6314375813411998,0.6474048002883784,0.662564953420656,0.6769957168745516,0.6907640658531967,0.7039281542248771,0.7165387987381343,0.7286406636421725,0.7402732154745454,0.751471499532219,0.7622667765542084,0.7726870487685454],[-0.42322975573748556,0.022190574442457284,0.19406650051099295,0.3026507096765845,0.38220824594389724,0.4450290005628848,0.4969454509028081,0.5411890369344201,0.5797384281023006,0.613893596279498,0.6445546052333896,0.6723704913810855,0.6978247231628303,0.7212871288321508,0.7430469382897735,0.7633346254657903,0.7823368187041347,0.8002067622770783,0.8170718326315961,0.8330390515787748,0.8481992047110524,0.862629968164948,0.8763983171435931,0.8895624055152734,0.9021730500285307,0.9142749149325688,0.9259074667649417,0.9371057508226154,0.9479010278446047,0.9583213000589418],[-0.2766479949598479,0.16877233522009497,0.3406482612886306,0.4492324704542222,0.5287900067215349,0.5916107613405225,0.6435272116804458,0.6877707977120577,0.7263201888799383,0.7604753570571356,0.7911363660110273,0.8189522521587231,0.8444064839404679,0.8678688896097886,0.8896286990674112,0.9099163862434281,0.9289185794817725,0.946788523054716,0.9636535934092338,0.9796208123564125,0.9947809654886901,1.0092117289425857,1.0229800779212308,1.0361441662929112,1.0487548108061684,1.0608566757102065,1.0724892275425795,1.0836875116002531,1.0944827886222424,1.1049030608365795],[-0.15550961083336012,0.28991071934658275,0.4617866454151184,0.5703708545807099,0.6499283908480227,0.7127491454670103,0.7646655958069335,0.8089091818385454,0.8474585730064261,0.8816137411836233,0.912274750137515,0.940090636285211,0.9655448680669557,0.9890072737362763,1.0107670831938989,1.0310547703699158,1.0500569636082602,1.0679269071812039,1.0847919775357215,1.1007591964829002,1.1159193496151778,1.1303501130690734,1.1441184620477185,1.1572825504193989,1.169893194932656,1.1819950598366944,1.1936276116690672,1.2048258957267408,1.21562117274873,1.2260414449630672],[-0.05227457675959901,0.39314575342034386,0.5650216794888795,0.673605888654471,0.7531634249217838,0.8159841795407714,0.8679006298806946,0.9121442159123065,0.9506936070801872,0.9848487752573845,1.0155097842112761,1.0433256703589722,1.068779902140717,1.0922423078100374,1.1140021172676602,1.1342898044436769,1.1532919976820213,1.1711619412549648,1.1880270116094827,1.2039942305566613,1.219154383688939,1.2335851471428345,1.2473534961214796,1.26051758449316,1.2731282290064172,1.2852300939104553,1.2968626457428283,1.308060929800502,1.3188562068224914,1.3292764790368283],[0.037674002632122394,0.48309433281206526,0.6549702588806009,0.7635544680461924,0.8431120043135052,0.9059327589324928,0.957849209272416,1.002092795304028,1.0406421864719086,1.0747973546491059,1.1054583636029975,1.1332742497506936,1.1587284815324383,1.1821908872017588,1.2039506966593816,1.2242383838353983,1.2432405770737427,1.2611105206466862,1.277975591001204,1.2939428099483827,1.3091029630806603,1.323533726534556,1.337302075513201,1.3504661638848814,1.3630768083981386,1.3751786733021767,1.3868112251345497,1.3980095091922233,1.4088047862142128,1.4192250584285497],[0.11736939504558275,0.5627897252255256,0.7346656512940613,0.8432498604596528,0.9228073967269655,0.985628151345953,1.0375446016858765,1.0817881877174884,1.120337578885369,1.1544927470625663,1.185153756016458,1.2129696421641538,1.2384238739458986,1.261886279615219,1.2836460890728418,1.3039337762488588,1.3229359694872032,1.3408059130601466,1.3576709834146645,1.373638202361843,1.3887983554941208,1.4032291189480164,1.4169974679266613,1.4301615562983416,1.442772200811599,1.4548740657156372,1.46650661754801,1.4777049016056836,1.488500178627673,1.49892045084201],[0.18891174927132992,0.6343320794512728,0.8062080055198084,0.9147922146854,0.9943497509527127,1.0571705055717002,1.1090869559116237,1.1533305419432356,1.191879933111116,1.2260351012883135,1.256696110242205,1.284511996389901,1.3099662281716458,1.3334286338409664,1.355188443298589,1.3754761304746057,1.39447832371295,1.4123482672858938,1.4292133376404115,1.4451805565875904,1.4603407097198677,1.4747714731737633,1.4885398221524087,1.501703910524089,1.514314555037346,1.5264164199413843,1.5380489717737573,1.549247255831431,1.5600425328534202,1.5704628050677574],[0.25381548361595374,0.6992358137958966,0.8711117398644322,0.9796959490300238,1.0592534852973365,1.1220742399163242,1.1739906902562474,1.2182342762878593,1.25678366745574,1.2909388356329372,1.3215998445868289,1.349415730734525,1.3748699625162697,1.3983323681855901,1.420092177643213,1.4403798648192296,1.459382058057574,1.4772520016305175,1.4941170719850354,1.510084290932214,1.5252444440644917,1.5396752075183873,1.5534435564970324,1.5666076448687127,1.57921828938197,1.591320154286008,1.602952706118381,1.6141509901760547,1.6249462671980441,1.635366539412381],[0.3132086911066915,0.7586290212866343,0.93050494735517,1.0390891565207616,1.1186466927880743,1.1814674474070619,1.233383897746985,1.277627483778597,1.3161768749464777,1.350332043123675,1.3809930520775666,1.4088089382252624,1.4342631700070072,1.4577255756763279,1.4794853851339504,1.4997730723099674,1.5187752655483118,1.5366452091212555,1.5535102794757731,1.5694774984229518,1.5846376515552294,1.599068415009125,1.61283676398777,1.6260008523594505,1.6386114968727077,1.650713361776746,1.6623459136091188,1.6735441976667924,1.6843394746887816,1.6947597469031188],[0.36795430433510623,0.8133746345150491,0.9852505605835847,1.0938347697491764,1.173392306016489,1.2362130606354766,1.2881295109753998,1.3323730970070118,1.3709224881748925,1.4050776563520897,1.4357386653059814,1.4635545514536772,1.489008783235422,1.5124711889047426,1.5342309983623652,1.5545186855383821,1.5735208787767265,1.5913908223496702,1.608255892704188,1.6242231116513666,1.6393832647836442,1.6538140282375398,1.6675823772161849,1.6807464655878652,1.6933571101011224,1.7054589750051607,1.7170915268375335,1.7282898108952072,1.7390850879171964,1.7495053601315336],[0.4187271930695592,0.8641475232495021,1.0360234493180376,1.1446076584836293,1.224165194750942,1.2869859493699296,1.3389023997098528,1.3831459857414647,1.4216953769093454,1.4558505450865427,1.4865115540404343,1.5143274401881301,1.539781671969875,1.5632440776391956,1.5850038870968182,1.605291574272835,1.6242937675111795,1.6421637110841232,1.6590287814386409,1.6749960003858195,1.6901561535180971,1.7045869169719927,1.7183552659506378,1.7315193543223182,1.7441299988355754,1.7562318637396137,1.7678644155719865,1.7790626996296601,1.7898579766516494,1.8002782488659865],[0.4660651298135984,0.9114854599935412,1.083361386062077,1.1919455952276685,1.2715031314949812,1.3343238861139688,1.386240336453892,1.430483922485504,1.4690333136533846,1.5031884818305818,1.5338494907844735,1.5616653769321696,1.5871196087139143,1.6105820143832348,1.6323418238408576,1.6526295110168743,1.6716317042552187,1.6895016478281621,1.70636671818268,1.7223339371298587,1.7374940902621363,1.751924853716032,1.765693202694677,1.7788572910663574,1.7914679355796146,1.8035698004836527,1.8152023523160257,1.8264006363736993,1.8371959133956888,1.8476161856100257],[0.5104035807030686,0.9558239108830114,1.127699836951547,1.2362840461171387,1.3158415823844514,1.378662337003439,1.4305787873433622,1.4748223733749741,1.5133717645428548,1.547526932720052,1.5781879416739437,1.6060038278216395,1.6314580596033843,1.654920465272705,1.6766802747303275,1.6969679619063445,1.7159701551446889,1.7338400987176326,1.7507051690721502,1.766672388019329,1.7818325411516065,1.796263304605502,1.8100316535841472,1.8231957419558276,1.8358063864690848,1.847908251373123,1.8595408032054959,1.8707390872631695,1.8815343642851587,1.891954636499496],[0.5521001157066038,0.9975204458865466,1.1693963719550822,1.277980581120674,1.3575381173879866,1.4203588720069742,1.4722753223468974,1.5165189083785093,1.55506829954639,1.5892234677235872,1.619884476677479,1.6477003628251747,1.6731545946069195,1.6966170002762402,1.7183768097338628,1.7386644969098797,1.757666690148224,1.7755366337211678,1.7924017040756854,1.8083689230228641,1.8235290761551417,1.8379598396090373,1.8517281885876824,1.8648922769593628,1.87750292147262,1.8896047863766583,1.901237338209031,1.9124356222667047,1.923230899288694,1.9336511715030311],[0.5914519465338118,1.0368722767137546,1.2087482027822904,1.317332411947882,1.3968899482151946,1.4597107028341822,1.5116271531741055,1.5558707392057174,1.594420130373598,1.6285752985507953,1.659236307504687,1.687052193652383,1.7125064254341278,1.7359688311034482,1.757728640561071,1.7780163277370877,1.7970185209754321,1.8148884645483756,1.8317535349028935,1.8477207538500722,1.8628809069823498,1.8773116704362454,1.8910800194148905,1.9042441077865708,1.916854752299828,1.9289566172038661,1.9405891690362391,1.9517874530939128,1.9625827301159022,1.9730030023302392],[0.6287087907438954,1.0741291209238382,1.2460050469923738,1.3545892561579655,1.4341467924252782,1.4969675470442658,1.548883997384189,1.593127583415801,1.6316769745836817,1.6658321427608789,1.6964931517147706,1.7243090378624664,1.7497632696442111,1.7732256753135318,1.7949854847711544,1.8152731719471713,1.8342753651855157,1.8521453087584594,1.869010379112977,1.8849775980601557,1.9001377511924333,1.914568514646329,1.928336863624974,1.9415009519966544,1.9541115965099116,1.96621346141395,1.9778460132463227,1.9890442973039963,1.9998395743259856,2.0102598465403227],[0.6640824813858764,1.1095028115658192,1.281378737634355,1.3899629467999466,1.4695204830672592,1.5323412376862469,1.58425768802617,1.628501274057782,1.6670506652256627,1.70120583340286,1.7318668423567516,1.7596827285044476,1.7851369602861924,1.8085993659555128,1.8303591754131356,1.8506468625891523,1.8696490558274967,1.8875189994004402,1.904384069754958,1.9203512887021368,1.9355114418344144,1.94994220528831,1.963710554266955,1.9768746426386354,1.9894852871518927,2.0015871520559307,2.0132197038883035,2.024417987945977,2.035213264967967,2.0456335371823036],[0.6977542627782994,1.1431745929582422,1.3150505190267778,1.4236347281923696,1.5031922644596822,1.5660130190786699,1.617929469418593,1.662173055450205,1.7007224466180857,1.734877614795283,1.7655386237491746,1.7933545098968704,1.8188087416786152,1.8422711473479358,1.8640309568055584,1.8843186439815753,1.9033208372199197,1.9211907807928634,1.938055851147381,1.9540230700945598,1.9691832232268374,1.983613986680733,1.997382335659378,2.0105464240310584,2.0231570685443154,2.035258933448354,2.0468914852807267,2.0580897693384004,2.0688850463603896,2.079305318574727],[0.7298804103951381,1.1753007405750808,1.3471766666436165,1.4557608758092082,1.5353184120765209,1.5981391666955085,1.6500556170354317,1.6942992030670436,1.7328485942349243,1.7670037624121215,1.7976647713660132,1.825480657513709,1.8509348892954538,1.8743972949647745,1.896157104422397,1.916444791598414,1.9354469848367584,1.953316928409702,1.9701819987642197,1.9861492177113984,2.0013093708436758,2.0157401342975714,2.0295084832762167,2.042672571647897,2.055283216161154,2.0673850810651926,2.0790176328975654,2.090215916955239,2.1010111939772282,2.1114314661915654],[0.7605966165957255,1.2060169467756683,1.3778928728442041,1.4864770820097957,1.5660346182771083,1.628855372896096,1.6807718232360191,1.725015409267631,1.7635648004355118,1.797719968612709,1.8283809775666007,1.8561968637142967,1.8816510954960415,1.905113501165362,1.9268733106229847,1.9471609977990014,1.9661631910373458,1.9840331346102893,2.000898204964807,2.0168654239119856,2.0320255770442635,2.046456340498159,2.0602246894768044,2.0733887778484847,2.0859994223617417,2.09810128726578,2.109733839098153,2.1209321231558267,2.131727400177816,2.142147672392153],[0.7900214537933258,1.2354417839732685,1.4073177100418044,1.515901919207396,1.5954594554747086,1.6582802100936962,1.7101966604336194,1.7544402464652313,1.792989637633112,1.8271448058103092,1.857805814764201,1.885621700911897,1.9110759326936417,1.9345383383629622,1.956298147820585,1.9765858349966017,1.995588028234946,2.0134579718078895,2.0303230421624074,2.0462902611095863,2.0614504142418637,2.0758811776957593,2.089649526674404,2.1028136150460845,2.115424259559342,2.12752612446338,2.139158676295753,2.1503569603534265,2.161152237375416,2.171572509589753],[0.818259138569415,1.2636794687493578,1.4355553948178934,1.5441396039834852,1.6236971402507978,1.6865178948697854,1.7384343452097086,1.7826779312413206,1.8212273224092013,1.8553824905863985,1.8860434995402902,1.913859385687986,1.9393136174697307,1.9627760231390514,1.984535832596674,2.0048235197726907,2.0238257130110355,2.041695656583979,2.058560726938497,2.0745279458856754,2.0896880990179527,2.1041188624718483,2.1178872114504936,2.131051299822174,2.143661944335431,2.1557638092394695,2.1673963610718423,2.178594645129516,2.189389922151505,2.1998101943658424],[0.8454017595116182,1.290822089691561,1.4626980157600968,1.5712822249256884,1.650839761193001,1.7136605158119886,1.7655769661519118,1.8098205521835238,1.8483699433514045,1.8825251115286017,1.9131861204824934,1.9410020066301894,1.9664562384119342,1.9899186440812546,2.0116784535388774,2.031966140714894,2.0509683339532385,2.068838277526182,2.0857033478807,2.1016705668278783,2.116830719960156,2.1312614834140517,2.145029832392697,2.1581939207643774,2.1708045652776344,2.1829064301816725,2.1945389820140457,2.2057372660717194,2.2165325430937086,2.226952815308046],[0.8715310889795235,1.3169514191594662,1.4888273452280019,1.5974115543935936,1.6769690906609063,1.7397898452798939,1.791706295619817,1.835949881651429,1.8744992728193097,1.908654440996507,1.9393154499503986,1.9671313360980944,1.9925855678798392,2.01604797354916,2.0378077830067824,2.058095470182799,2.077097663421144,2.0949676069940875,2.1118326773486054,2.127799896295784,2.142960049428061,2.1573908128819568,2.171159161860602,2.1843232502322825,2.1969338947455395,2.209035759649578,2.2206683114819508,2.2318665955396244,2.2426618725616136,2.253082144775951],[0.8967200686974984,1.3421403988774412,1.514016324945977,1.6226005341115686,1.7021580703788812,1.7649788249978688,1.816895275337792,1.861138861369404,1.8996882525372847,1.933843420714482,1.9645044296683736,1.9923203158160696,2.0177745475978144,2.041236953267135,2.0629967627247576,2.0832844499007743,2.1022866431391187,2.120156586712062,2.13702165706658,2.152988876013759,2.1681490291460364,2.182579792599932,2.196348141578577,2.209512229950257,2.2221228744635146,2.2342247393675527,2.2458572911999255,2.257055575257599,2.267850852279589,2.2782711244939255],[0.9210340371976183,1.366454367377561,1.538330293446097,1.6469145026116885,1.7264720388790011,1.7892927934979888,1.841209243837912,1.885452829869524,1.9240022210374046,1.9581573892146018,1.9888183981684935,2.0166342843161895,2.0420885160979343,2.0655509217672545,2.0873107312248775,2.1075984184008942,2.1266006116392386,2.144470555212182,2.1613356255667,2.1773028445138785,2.1924629976461563,2.206893761100052,2.220662110078697,2.2338261984503776,2.2464368429636346,2.2585387078676726,2.270171259700046,2.2813695437577195,2.2921648207797087,2.302585092994046]],\"type\":\"surface\"}],                        {\"scene\":{\"xaxis\":{\"title\":{\"text\":\"$c_1$\"}},\"yaxis\":{\"title\":{\"text\":\"$c_2$\"}},\"zaxis\":{\"title\":{\"text\":\"Utils\"}}},\"template\":{\"data\":{\"barpolar\":[{\"marker\":{\"line\":{\"color\":\"#E5ECF6\",\"width\":0.5},\"pattern\":{\"fillmode\":\"overlay\",\"size\":10,\"solidity\":0.2}},\"type\":\"barpolar\"}],\"bar\":[{\"error_x\":{\"color\":\"#2a3f5f\"},\"error_y\":{\"color\":\"#2a3f5f\"},\"marker\":{\"line\":{\"color\":\"#E5ECF6\",\"width\":0.5},\"pattern\":{\"fillmode\":\"overlay\",\"size\":10,\"solidity\":0.2}},\"type\":\"bar\"}],\"carpet\":[{\"aaxis\":{\"endlinecolor\":\"#2a3f5f\",\"gridcolor\":\"white\",\"linecolor\":\"white\",\"minorgridcolor\":\"white\",\"startlinecolor\":\"#2a3f5f\"},\"baxis\":{\"endlinecolor\":\"#2a3f5f\",\"gridcolor\":\"white\",\"linecolor\":\"white\",\"minorgridcolor\":\"white\",\"startlinecolor\":\"#2a3f5f\"},\"type\":\"carpet\"}],\"choropleth\":[{\"colorbar\":{\"outlinewidth\":0,\"ticks\":\"\"},\"type\":\"choropleth\"}],\"contourcarpet\":[{\"colorbar\":{\"outlinewidth\":0,\"ticks\":\"\"},\"type\":\"contourcarpet\"}],\"contour\":[{\"colorbar\":{\"outlinewidth\":0,\"ticks\":\"\"},\"colorscale\":[[0.0,\"#0d0887\"],[0.1111111111111111,\"#46039f\"],[0.2222222222222222,\"#7201a8\"],[0.3333333333333333,\"#9c179e\"],[0.4444444444444444,\"#bd3786\"],[0.5555555555555556,\"#d8576b\"],[0.6666666666666666,\"#ed7953\"],[0.7777777777777778,\"#fb9f3a\"],[0.8888888888888888,\"#fdca26\"],[1.0,\"#f0f921\"]],\"type\":\"contour\"}],\"heatmapgl\":[{\"colorbar\":{\"outlinewidth\":0,\"ticks\":\"\"},\"colorscale\":[[0.0,\"#0d0887\"],[0.1111111111111111,\"#46039f\"],[0.2222222222222222,\"#7201a8\"],[0.3333333333333333,\"#9c179e\"],[0.4444444444444444,\"#bd3786\"],[0.5555555555555556,\"#d8576b\"],[0.6666666666666666,\"#ed7953\"],[0.7777777777777778,\"#fb9f3a\"],[0.8888888888888888,\"#fdca26\"],[1.0,\"#f0f921\"]],\"type\":\"heatmapgl\"}],\"heatmap\":[{\"colorbar\":{\"outlinewidth\":0,\"ticks\":\"\"},\"colorscale\":[[0.0,\"#0d0887\"],[0.1111111111111111,\"#46039f\"],[0.2222222222222222,\"#7201a8\"],[0.3333333333333333,\"#9c179e\"],[0.4444444444444444,\"#bd3786\"],[0.5555555555555556,\"#d8576b\"],[0.6666666666666666,\"#ed7953\"],[0.7777777777777778,\"#fb9f3a\"],[0.8888888888888888,\"#fdca26\"],[1.0,\"#f0f921\"]],\"type\":\"heatmap\"}],\"histogram2dcontour\":[{\"colorbar\":{\"outlinewidth\":0,\"ticks\":\"\"},\"colorscale\":[[0.0,\"#0d0887\"],[0.1111111111111111,\"#46039f\"],[0.2222222222222222,\"#7201a8\"],[0.3333333333333333,\"#9c179e\"],[0.4444444444444444,\"#bd3786\"],[0.5555555555555556,\"#d8576b\"],[0.6666666666666666,\"#ed7953\"],[0.7777777777777778,\"#fb9f3a\"],[0.8888888888888888,\"#fdca26\"],[1.0,\"#f0f921\"]],\"type\":\"histogram2dcontour\"}],\"histogram2d\":[{\"colorbar\":{\"outlinewidth\":0,\"ticks\":\"\"},\"colorscale\":[[0.0,\"#0d0887\"],[0.1111111111111111,\"#46039f\"],[0.2222222222222222,\"#7201a8\"],[0.3333333333333333,\"#9c179e\"],[0.4444444444444444,\"#bd3786\"],[0.5555555555555556,\"#d8576b\"],[0.6666666666666666,\"#ed7953\"],[0.7777777777777778,\"#fb9f3a\"],[0.8888888888888888,\"#fdca26\"],[1.0,\"#f0f921\"]],\"type\":\"histogram2d\"}],\"histogram\":[{\"marker\":{\"pattern\":{\"fillmode\":\"overlay\",\"size\":10,\"solidity\":0.2}},\"type\":\"histogram\"}],\"mesh3d\":[{\"colorbar\":{\"outlinewidth\":0,\"ticks\":\"\"},\"type\":\"mesh3d\"}],\"parcoords\":[{\"line\":{\"colorbar\":{\"outlinewidth\":0,\"ticks\":\"\"}},\"type\":\"parcoords\"}],\"pie\":[{\"automargin\":true,\"type\":\"pie\"}],\"scatter3d\":[{\"line\":{\"colorbar\":{\"outlinewidth\":0,\"ticks\":\"\"}},\"marker\":{\"colorbar\":{\"outlinewidth\":0,\"ticks\":\"\"}},\"type\":\"scatter3d\"}],\"scattercarpet\":[{\"marker\":{\"colorbar\":{\"outlinewidth\":0,\"ticks\":\"\"}},\"type\":\"scattercarpet\"}],\"scattergeo\":[{\"marker\":{\"colorbar\":{\"outlinewidth\":0,\"ticks\":\"\"}},\"type\":\"scattergeo\"}],\"scattergl\":[{\"marker\":{\"colorbar\":{\"outlinewidth\":0,\"ticks\":\"\"}},\"type\":\"scattergl\"}],\"scattermapbox\":[{\"marker\":{\"colorbar\":{\"outlinewidth\":0,\"ticks\":\"\"}},\"type\":\"scattermapbox\"}],\"scatterpolargl\":[{\"marker\":{\"colorbar\":{\"outlinewidth\":0,\"ticks\":\"\"}},\"type\":\"scatterpolargl\"}],\"scatterpolar\":[{\"marker\":{\"colorbar\":{\"outlinewidth\":0,\"ticks\":\"\"}},\"type\":\"scatterpolar\"}],\"scatter\":[{\"marker\":{\"colorbar\":{\"outlinewidth\":0,\"ticks\":\"\"}},\"type\":\"scatter\"}],\"scatterternary\":[{\"marker\":{\"colorbar\":{\"outlinewidth\":0,\"ticks\":\"\"}},\"type\":\"scatterternary\"}],\"surface\":[{\"colorbar\":{\"outlinewidth\":0,\"ticks\":\"\"},\"colorscale\":[[0.0,\"#0d0887\"],[0.1111111111111111,\"#46039f\"],[0.2222222222222222,\"#7201a8\"],[0.3333333333333333,\"#9c179e\"],[0.4444444444444444,\"#bd3786\"],[0.5555555555555556,\"#d8576b\"],[0.6666666666666666,\"#ed7953\"],[0.7777777777777778,\"#fb9f3a\"],[0.8888888888888888,\"#fdca26\"],[1.0,\"#f0f921\"]],\"type\":\"surface\"}],\"table\":[{\"cells\":{\"fill\":{\"color\":\"#EBF0F8\"},\"line\":{\"color\":\"white\"}},\"header\":{\"fill\":{\"color\":\"#C8D4E3\"},\"line\":{\"color\":\"white\"}},\"type\":\"table\"}]},\"layout\":{\"annotationdefaults\":{\"arrowcolor\":\"#2a3f5f\",\"arrowhead\":0,\"arrowwidth\":1},\"autotypenumbers\":\"strict\",\"coloraxis\":{\"colorbar\":{\"outlinewidth\":0,\"ticks\":\"\"}},\"colorscale\":{\"diverging\":[[0,\"#8e0152\"],[0.1,\"#c51b7d\"],[0.2,\"#de77ae\"],[0.3,\"#f1b6da\"],[0.4,\"#fde0ef\"],[0.5,\"#f7f7f7\"],[0.6,\"#e6f5d0\"],[0.7,\"#b8e186\"],[0.8,\"#7fbc41\"],[0.9,\"#4d9221\"],[1,\"#276419\"]],\"sequential\":[[0.0,\"#0d0887\"],[0.1111111111111111,\"#46039f\"],[0.2222222222222222,\"#7201a8\"],[0.3333333333333333,\"#9c179e\"],[0.4444444444444444,\"#bd3786\"],[0.5555555555555556,\"#d8576b\"],[0.6666666666666666,\"#ed7953\"],[0.7777777777777778,\"#fb9f3a\"],[0.8888888888888888,\"#fdca26\"],[1.0,\"#f0f921\"]],\"sequentialminus\":[[0.0,\"#0d0887\"],[0.1111111111111111,\"#46039f\"],[0.2222222222222222,\"#7201a8\"],[0.3333333333333333,\"#9c179e\"],[0.4444444444444444,\"#bd3786\"],[0.5555555555555556,\"#d8576b\"],[0.6666666666666666,\"#ed7953\"],[0.7777777777777778,\"#fb9f3a\"],[0.8888888888888888,\"#fdca26\"],[1.0,\"#f0f921\"]]},\"colorway\":[\"#636efa\",\"#EF553B\",\"#00cc96\",\"#ab63fa\",\"#FFA15A\",\"#19d3f3\",\"#FF6692\",\"#B6E880\",\"#FF97FF\",\"#FECB52\"],\"font\":{\"color\":\"#2a3f5f\"},\"geo\":{\"bgcolor\":\"white\",\"lakecolor\":\"white\",\"landcolor\":\"#E5ECF6\",\"showlakes\":true,\"showland\":true,\"subunitcolor\":\"white\"},\"hoverlabel\":{\"align\":\"left\"},\"hovermode\":\"closest\",\"mapbox\":{\"style\":\"light\"},\"paper_bgcolor\":\"white\",\"plot_bgcolor\":\"#E5ECF6\",\"polar\":{\"angularaxis\":{\"gridcolor\":\"white\",\"linecolor\":\"white\",\"ticks\":\"\"},\"bgcolor\":\"#E5ECF6\",\"radialaxis\":{\"gridcolor\":\"white\",\"linecolor\":\"white\",\"ticks\":\"\"}},\"scene\":{\"xaxis\":{\"backgroundcolor\":\"#E5ECF6\",\"gridcolor\":\"white\",\"gridwidth\":2,\"linecolor\":\"white\",\"showbackground\":true,\"ticks\":\"\",\"zerolinecolor\":\"white\"},\"yaxis\":{\"backgroundcolor\":\"#E5ECF6\",\"gridcolor\":\"white\",\"gridwidth\":2,\"linecolor\":\"white\",\"showbackground\":true,\"ticks\":\"\",\"zerolinecolor\":\"white\"},\"zaxis\":{\"backgroundcolor\":\"#E5ECF6\",\"gridcolor\":\"white\",\"gridwidth\":2,\"linecolor\":\"white\",\"showbackground\":true,\"ticks\":\"\",\"zerolinecolor\":\"white\"}},\"shapedefaults\":{\"line\":{\"color\":\"#2a3f5f\"}},\"ternary\":{\"aaxis\":{\"gridcolor\":\"white\",\"linecolor\":\"white\",\"ticks\":\"\"},\"baxis\":{\"gridcolor\":\"white\",\"linecolor\":\"white\",\"ticks\":\"\"},\"bgcolor\":\"#E5ECF6\",\"caxis\":{\"gridcolor\":\"white\",\"linecolor\":\"white\",\"ticks\":\"\"}},\"title\":{\"x\":0.05},\"xaxis\":{\"automargin\":true,\"gridcolor\":\"white\",\"linecolor\":\"white\",\"ticks\":\"\",\"title\":{\"standoff\":15},\"zerolinecolor\":\"white\",\"zerolinewidth\":2},\"yaxis\":{\"automargin\":true,\"gridcolor\":\"white\",\"linecolor\":\"white\",\"ticks\":\"\",\"title\":{\"standoff\":15},\"zerolinecolor\":\"white\",\"zerolinewidth\":2}}},\"title\":{\"text\":\"Cobb-Douglas Utility\"}},                        {\"responsive\": true}                    ).then(function(){\n",
       "                            \n",
       "var gd = document.getElementById('43dcde99-f523-49f8-855c-a2127635ae02');\n",
       "var x = new MutationObserver(function (mutations, observer) {{\n",
       "        var display = window.getComputedStyle(gd).display;\n",
       "        if (!display || display === 'none') {{\n",
       "            console.log([gd, 'removed!']);\n",
       "            Plotly.purge(gd);\n",
       "            observer.disconnect();\n",
       "        }}\n",
       "}});\n",
       "\n",
       "// Listen for the removal of the full notebook cells\n",
       "var notebookContainer = gd.closest('#notebook-container');\n",
       "if (notebookContainer) {{\n",
       "    x.observe(notebookContainer, {childList: true});\n",
       "}}\n",
       "\n",
       "// Listen for the clearing of the current output cell\n",
       "var outputEl = gd.closest('.output');\n",
       "if (outputEl) {{\n",
       "    x.observe(outputEl, {childList: true});\n",
       "}}\n",
       "\n",
       "                        })                };                });            </script>        </div>"
      ]
     },
     "metadata": {},
     "output_type": "display_data"
    }
   ],
   "source": [
    "import plotly.offline as py\n",
    "import plotly.graph_objs as go\n",
    "import numpy as np\n",
    "\n",
    "\n",
    "# Commodity space\n",
    "c1 = np.linspace(0.1, 10, 30)\n",
    "c2 = np.linspace(0.1, 10, 30)\n",
    "\n",
    "Utils = np.array([[U([c_1,c_2]) for c_1 in c1] for c_2 in c2])\n",
    "\n",
    "utils = [\n",
    "    go.Surface(\n",
    "        x=c1,\n",
    "        y=c2,\n",
    "        z=Utils,\n",
    "        contours=go.surface.Contours(\n",
    "            z=go.surface.contours.Z(\n",
    "              show=True,\n",
    "              usecolormap=True,\n",
    "              highlightcolor=\"#42f462\",\n",
    "              project=dict(z=True)\n",
    "            )\n",
    "        )\n",
    "    )\n",
    "]\n",
    "\n",
    "layout = go.Layout(\n",
    "    title='Cobb-Douglas Utility',\n",
    "    scene={'xaxis':{'title':'$c_1$'},\n",
    "           'yaxis':{'title':'$c_2$'},\n",
    "           'zaxis':{'title':'Utils'}})\n",
    "\n",
    "fig = go.Figure(data=utils, layout=layout)\n",
    "\n",
    "py.iplot(fig, filename='latex')"
   ]
  },
  {
   "cell_type": "markdown",
   "metadata": {},
   "source": [
    "##### Questions\n",
    "\n"
   ]
  },
  {
   "cell_type": "markdown",
   "metadata": {},
   "source": [
    "Some questions covering basic consumer demand that should be familiar.  If not, consult a textbook on intermediate microeconomics (such as [Perloff&rsquo;s textbook with calculus](https://www.amazon.com/Microeconomics-Applications-Calculus-Pearson-Economics/dp/0134167384)).  Or for a concise high-level treatment see the excellent (and free!) [Introduction by Arne Hallam](http://www2.econ.iastate.edu/faculty/hallam/Microeconomics/Intro-Micro.pdf).\n",
    "\n",
    "1.  Economists would call the $(c_1,c_2)$ plane the &ldquo;commodity space&rdquo;.  Explain.\n",
    "2.  The contour lines in the figure are called &ldquo;Indifference curves&rdquo;.  Why is this sensible?\n",
    "3.  Economists call the partial derivatives of the utility function with respect to $c_1$ and $c_2$ *marginal utilities*.  Give a graphical interpretation of the marginal utility of $c_1$ (holding     $c_2$ fixed).\n",
    "4.  Pick out a point on an indifference curve.  What is its slope in the $(c_1,c_2)$ plane?\n",
    "5.  Economists call (minus) the slope in the previous question the consumer&rsquo;s *marginal rate of substitution*.  Explain.\n",
    "\n"
   ]
  },
  {
   "cell_type": "markdown",
   "metadata": {},
   "source": [
    "##### The Budget Constraint\n",
    "\n"
   ]
  },
  {
   "cell_type": "markdown",
   "metadata": {},
   "source": [
    "Now, how about  the budget constraint?\n",
    "\n"
   ]
  },
  {
   "cell_type": "code",
   "execution_count": 4,
   "metadata": {},
   "outputs": [
    {
     "data": {
      "text/html": [
       "        <script type=\"text/javascript\">\n",
       "        window.PlotlyConfig = {MathJaxConfig: 'local'};\n",
       "        if (window.MathJax) {MathJax.Hub.Config({SVG: {font: \"STIX-Web\"}});}\n",
       "        if (typeof require !== 'undefined') {\n",
       "        require.undef(\"plotly\");\n",
       "        requirejs.config({\n",
       "            paths: {\n",
       "                'plotly': ['https://cdn.plot.ly/plotly-2.9.0.min']\n",
       "            }\n",
       "        });\n",
       "        require(['plotly'], function(Plotly) {\n",
       "            window._Plotly = Plotly;\n",
       "        });\n",
       "        }\n",
       "        </script>\n",
       "        "
      ]
     },
     "metadata": {},
     "output_type": "display_data"
    },
    {
     "data": {
      "application/vnd.plotly.v1+json": {
       "config": {
        "linkText": "Export to plot.ly",
        "plotlyServerURL": "https://plot.ly",
        "showLink": false
       },
       "data": [
        {
         "color": "black",
         "delaunayaxis": "x",
         "opacity": 1,
         "type": "mesh3d",
         "x": [
          0,
          2,
          0,
          2
         ],
         "y": [
          1,
          0,
          1,
          0
         ],
         "z": [
          -2.3025850929940455,
          -2.3025850929940455,
          0.42929228205813197,
          0.42929228205813197
         ]
        },
        {
         "contours": {
          "z": {
           "highlightcolor": "#42f462",
           "project": {
            "z": true
           },
           "show": true,
           "usecolormap": true
          }
         },
         "type": "surface",
         "x": [
          0.1,
          0.1793103448275862,
          0.2586206896551724,
          0.33793103448275863,
          0.4172413793103448,
          0.496551724137931,
          0.5758620689655172,
          0.6551724137931033,
          0.7344827586206896,
          0.8137931034482758,
          0.893103448275862,
          0.9724137931034481,
          1.0517241379310345,
          1.1310344827586207,
          1.2103448275862068,
          1.289655172413793,
          1.3689655172413793,
          1.4482758620689655,
          1.5275862068965518,
          1.6068965517241378,
          1.686206896551724,
          1.7655172413793103,
          1.8448275862068964,
          1.9241379310344826,
          2.003448275862069,
          2.082758620689655,
          2.1620689655172414,
          2.2413793103448274,
          2.3206896551724134,
          2.4
         ],
         "y": [
          0.1,
          0.13793103448275862,
          0.17586206896551723,
          0.21379310344827585,
          0.25172413793103443,
          0.28965517241379307,
          0.3275862068965517,
          0.3655172413793103,
          0.4034482758620689,
          0.44137931034482747,
          0.47931034482758617,
          0.5172413793103448,
          0.5551724137931033,
          0.5931034482758619,
          0.6310344827586206,
          0.6689655172413792,
          0.7068965517241378,
          0.7448275862068964,
          0.782758620689655,
          0.8206896551724137,
          0.8586206896551722,
          0.8965517241379308,
          0.9344827586206895,
          0.9724137931034481,
          1.0103448275862068,
          1.0482758620689654,
          1.086206896551724,
          1.1241379310344826,
          1.1620689655172414,
          1.2
         ],
         "z": [
          [
           -2.3025850929940455,
           -2.1274007264155594,
           -2.0175274079290944,
           -1.9372835983888161,
           -1.8740366783109654,
           -1.8218298521171874,
           -1.7773756982649611,
           -1.738666620341842,
           -1.7043861922771602,
           -1.6736243004823046,
           -1.6457254234801264,
           -1.6202017207085537,
           -1.5966803090077641,
           -1.5748697594747445,
           -1.554537974950228,
           -1.5354971027656281,
           -1.5175929577838305,
           -1.5006974286067634,
           -1.484702910976447,
           -1.469518151752294,
           -1.4550650951475261,
           -1.4412764544781353,
           -1.4280938179211857,
           -1.4154661532755943,
           -1.4033486149344143,
           -1.3917015826095431,
           -1.3804898798001115,
           -1.3696821331230828,
           -1.3592502430965694,
           -1.3491689438896617
          ],
          [
           -2.077476556104822,
           -1.902292189526336,
           -1.7924188710398712,
           -1.7121750614995928,
           -1.648928141421742,
           -1.596721315227964,
           -1.5522671613757377,
           -1.5135580834526186,
           -1.4792776553879368,
           -1.4485157635930812,
           -1.420616886590903,
           -1.3950931838193303,
           -1.3715717721185408,
           -1.3497612225855211,
           -1.3294294380610046,
           -1.3103885658764047,
           -1.2924844208946071,
           -1.27558889171754,
           -1.2595943740872235,
           -1.2444096148630706,
           -1.2299565582583027,
           -1.216167917588912,
           -1.2029852810319623,
           -1.190357616386371,
           -1.178240078045191,
           -1.1665930457203197,
           -1.1553813429108881,
           -1.1445735962338595,
           -1.134141706207346,
           -1.1240604070004383
          ],
          [
           -1.9074142310775493,
           -1.7322298644990635,
           -1.6223565460125986,
           -1.54211273647232,
           -1.4788658163944692,
           -1.4266589902006914,
           -1.3822048363484651,
           -1.343495758425346,
           -1.3092153303606642,
           -1.2784534385658086,
           -1.2505545615636304,
           -1.2250308587920578,
           -1.2015094470912682,
           -1.1796988975582485,
           -1.159367113033732,
           -1.1403262408491321,
           -1.1224220958673345,
           -1.1055265666902674,
           -1.089532049059951,
           -1.074347289835798,
           -1.0598942332310302,
           -1.0461055925616394,
           -1.0329229560046898,
           -1.0202952913590984,
           -1.0081777530179183,
           -0.9965307206930472,
           -0.9853190178836155,
           -0.9745112712065869,
           -0.9640793811800734,
           -0.9539980819731658
          ],
          [
           -1.7706981044530132,
           -1.5955137378745274,
           -1.4856404193880626,
           -1.405396609847784,
           -1.3421496897699332,
           -1.2899428635761554,
           -1.245488709723929,
           -1.20677963180081,
           -1.1724992037361281,
           -1.1417373119412726,
           -1.1138384349390944,
           -1.0883147321675217,
           -1.0647933204667321,
           -1.0429827709337125,
           -1.022650986409196,
           -1.0036101142245961,
           -0.9857059692427985,
           -0.9688104400657315,
           -0.9528159224354149,
           -0.9376311632112619,
           -0.923178106606494,
           -0.9093894659371033,
           -0.8962068293801537,
           -0.8835791647345623,
           -0.8714616263933823,
           -0.8598145940685111,
           -0.8486028912590795,
           -0.8377951445820508,
           -0.8273632545555374,
           -0.8172819553486298
          ],
          [
           -1.656370565180704,
           -1.481186198602218,
           -1.371312880115753,
           -1.2910690705754746,
           -1.2278221504976239,
           -1.1756153243038459,
           -1.1311611704516196,
           -1.0924520925285004,
           -1.0581716644638186,
           -1.027409772668963,
           -0.9995108956667849,
           -0.9739871928952121,
           -0.9504657811944226,
           -0.928655231661403,
           -0.9083234471368864,
           -0.8892825749522866,
           -0.871378429970489,
           -0.8544829007934219,
           -0.8384883831631054,
           -0.8233036239389524,
           -0.8088505673341845,
           -0.7950619266647938,
           -0.7818792901078442,
           -0.7692516254622528,
           -0.7571340871210728,
           -0.7454870547962016,
           -0.73427535198677,
           -0.7234676053097413,
           -0.7130357152832278,
           -0.7029544160763203
          ],
          [
           -1.5581204147942578,
           -1.382936048215772,
           -1.2730627297293071,
           -1.1928189201890285,
           -1.1295720001111778,
           -1.0773651739174,
           -1.0329110200651737,
           -0.9942019421420544,
           -0.9599215140773727,
           -0.9291596222825171,
           -0.901260745280339,
           -0.8757370425087662,
           -0.8522156308079767,
           -0.830405081274957,
           -0.8100732967504405,
           -0.7910324245658407,
           -0.7731282795840431,
           -0.756232750406976,
           -0.7402382327766595,
           -0.7250534735525065,
           -0.7106004169477386,
           -0.6968117762783479,
           -0.6836291397213983,
           -0.6710014750758069,
           -0.6588839367346269,
           -0.6472369044097557,
           -0.636025201600324,
           -0.6252174549232954,
           -0.6147855648967819,
           -0.6047042656898743
          ],
          [
           -1.4719783498641987,
           -1.296793983285713,
           -1.1869206647992478,
           -1.1066768552589694,
           -1.0434299351811187,
           -0.9912231089873409,
           -0.9467689551351145,
           -0.9080598772119952,
           -0.8737794491473135,
           -0.843017557352458,
           -0.8151186803502798,
           -0.789594977578707,
           -0.7660735658779175,
           -0.7442630163448979,
           -0.7239312318203813,
           -0.7048903596357815,
           -0.6869862146539839,
           -0.6700906854769169,
           -0.6540961678466003,
           -0.6389114086224473,
           -0.6244583520176794,
           -0.6106697113482887,
           -0.5974870747913391,
           -0.5848594101457478,
           -0.5727418718045677,
           -0.5610948394796966,
           -0.5498831366702648,
           -0.5390753899932362,
           -0.5286434999667228,
           -0.5185622007598152
          ],
          [
           -1.3952848081061304,
           -1.2201004415276446,
           -1.1102271230411795,
           -1.029983313500901,
           -0.9667363934230504,
           -0.9145295672292726,
           -0.8700754133770462,
           -0.8313663354539269,
           -0.7970859073892452,
           -0.7663240155943897,
           -0.7384251385922115,
           -0.7129014358206387,
           -0.6893800241198492,
           -0.6675694745868296,
           -0.647237690062313,
           -0.6281968178777132,
           -0.6102926728959156,
           -0.5933971437188486,
           -0.577402626088532,
           -0.562217866864379,
           -0.5477648102596111,
           -0.5339761695902204,
           -0.5207935330332708,
           -0.5081658683876795,
           -0.4960483300464994,
           -0.48440129772162827,
           -0.47318959491219653,
           -0.4623818482351679,
           -0.45194995820865447,
           -0.4418686590017469
          ],
          [
           -1.3261704196261483,
           -1.1509860530476623,
           -1.0411127345611975,
           -0.9608689250209189,
           -0.8976220049430682,
           -0.8454151787492903,
           -0.800961024897064,
           -0.7622519469739447,
           -0.727971518909263,
           -0.6972096271144075,
           -0.6693107501122293,
           -0.6437870473406565,
           -0.620265635639867,
           -0.5984550861068474,
           -0.5781233015823308,
           -0.559082429397731,
           -0.5411782844159334,
           -0.5242827552388664,
           -0.5082882376085498,
           -0.49310347838439683,
           -0.4786504217796289,
           -0.46486178111023824,
           -0.4516791445532886,
           -0.4390514799076973,
           -0.4269339415665172,
           -0.4152869092416461,
           -0.40407520643221434,
           -0.39326745975518573,
           -0.3828355697286723,
           -0.3727542705217647
          ],
          [
           -1.2632709892408456,
           -1.0880866226623596,
           -0.9782133041758948,
           -0.8979694946356163,
           -0.8347225745577656,
           -0.7825157483639877,
           -0.7380615945117613,
           -0.6993525165886421,
           -0.6650720885239604,
           -0.6343101967291048,
           -0.6064113197269266,
           -0.5808876169553538,
           -0.5573662052545644,
           -0.5355556557215447,
           -0.5152238711970282,
           -0.49618299901242835,
           -0.47827885403063075,
           -0.4613833248535637,
           -0.44538880722324714,
           -0.4302040479990942,
           -0.41575099139432625,
           -0.4019623507249356,
           -0.38877971416798596,
           -0.3761520495223946,
           -0.36403451118121455,
           -0.3523874788563434,
           -0.3411757760469117,
           -0.3303680293698831,
           -0.3199361393433696,
           -0.30985484013646203
          ],
          [
           -1.2055604207930932,
           -1.0303760542146074,
           -0.9205027357281425,
           -0.8402589261878639,
           -0.7770120061100132,
           -0.7248051799162354,
           -0.680351026064009,
           -0.6416419481408897,
           -0.607361520076208,
           -0.5765996282813525,
           -0.5487007512791743,
           -0.5231770485076015,
           -0.499655636806812,
           -0.4778450872737924,
           -0.4575133027492758,
           -0.438472430564676,
           -0.4205682855828784,
           -0.40367275640581135,
           -0.3876782387754948,
           -0.3724934795513418,
           -0.3580404229465739,
           -0.3442517822771832,
           -0.3310691457202336,
           -0.31844148107464226,
           -0.3063239427334622,
           -0.29467691040859106,
           -0.28346520759915933,
           -0.2726574609221307,
           -0.26222557089561727,
           -0.2521442716887097
          ],
          [
           -1.1522474681171984,
           -0.9770631015387126,
           -0.8671897830522477,
           -0.786945973511969,
           -0.7236990534341183,
           -0.6714922272403405,
           -0.6270380733881142,
           -0.588328995464995,
           -0.5540485674003132,
           -0.5232866756054577,
           -0.4953877986032794,
           -0.4698640958317067,
           -0.4463426841309172,
           -0.42453213459789757,
           -0.404200350073381,
           -0.38515947788878113,
           -0.3672553329069836,
           -0.35035980372991654,
           -0.33436528609960003,
           -0.31918052687544696,
           -0.30472747027067915,
           -0.29093882960128836,
           -0.2777561930443388,
           -0.26512852839874745,
           -0.25301099005756733,
           -0.24136395773269625,
           -0.23015225492326452,
           -0.21934450824623591,
           -0.20891261821972246,
           -0.19883131901281487
          ],
          [
           -1.1027091184954534,
           -0.9275247519169676,
           -0.8176514334305027,
           -0.7374076238902241,
           -0.6741607038123734,
           -0.6219538776185956,
           -0.5774997237663693,
           -0.53879064584325,
           -0.5045102177785682,
           -0.47374832598371275,
           -0.44584944898153445,
           -0.4203257462099617,
           -0.39680433450917224,
           -0.3749937849761526,
           -0.35466200045163604,
           -0.33562112826703616,
           -0.3177169832852386,
           -0.30082145410817157,
           -0.28482693647785506,
           -0.269642177253702,
           -0.2551891206489342,
           -0.24140047997954342,
           -0.22821784342259382,
           -0.21559017877700248,
           -0.2034726404358224,
           -0.19182560811095128,
           -0.18061390530151955,
           -0.16980615862449094,
           -0.1593742685979775,
           -0.1492929693910699
          ],
          [
           -1.0564460402151603,
           -0.8812616736366745,
           -0.7713883551502096,
           -0.6911445456099311,
           -0.6278976255320804,
           -0.5756907993383025,
           -0.5312366454860762,
           -0.4925275675629569,
           -0.4582471394982752,
           -0.4274852477034197,
           -0.3995863707012414,
           -0.3740626679296687,
           -0.3505412562288792,
           -0.3287307066958596,
           -0.308398922171343,
           -0.2893580499867432,
           -0.2714539050049456,
           -0.25455837582787855,
           -0.238563858197562,
           -0.223379098973409,
           -0.20892604236864112,
           -0.1951374016992504,
           -0.1819547651423008,
           -0.16932710049670946,
           -0.15720956215552936,
           -0.14556252983065826,
           -0.13435082702122653,
           -0.12354308034419792,
           -0.11311119031768446,
           -0.10302989111077687
          ],
          [
           -1.0130518669955828,
           -0.8378675004170969,
           -0.727994181930632,
           -0.6477503723903535,
           -0.5845034523125028,
           -0.532296626118725,
           -0.4878424722664986,
           -0.4491333943433793,
           -0.4148529662786976,
           -0.3840910744838421,
           -0.3561921974816638,
           -0.3306684947100911,
           -0.3071470830093016,
           -0.28533653347628196,
           -0.2650047489517654,
           -0.24596387676716555,
           -0.22805973178536798,
           -0.21116420260830093,
           -0.1951696849779844,
           -0.17998492575383138,
           -0.1655318691490635,
           -0.15174322847967278,
           -0.1385605919227232,
           -0.12593292727713185,
           -0.11381538893595175,
           -0.10216835661108065,
           -0.09095665380164891,
           -0.0801489071246203,
           -0.06971701709810685,
           -0.05963571789119926
          ],
          [
           -0.9721914626402478,
           -0.7970070960617619,
           -0.687133777575297,
           -0.6068899680350185,
           -0.5436430479571678,
           -0.4914362217633899,
           -0.44698206791116357,
           -0.4082729899880443,
           -0.3739925619233626,
           -0.3432306701285071,
           -0.3153317931263288,
           -0.2898080903547561,
           -0.2662866786539666,
           -0.24447612912094696,
           -0.2241443445964304,
           -0.20510347241183055,
           -0.18719932743003298,
           -0.17030379825296593,
           -0.1543092806226494,
           -0.13912452139849638,
           -0.12467146479372851,
           -0.11088282412433778,
           -0.09770018756738819,
           -0.08507252292179684,
           -0.07295498458061675,
           -0.061307952255745646,
           -0.05009624944631391,
           -0.039288502769285305,
           -0.028856612742771848,
           -0.018775313535864258
          ],
          [
           -0.9335851885876918,
           -0.7584008220092059,
           -0.648527503522741,
           -0.5682836939824625,
           -0.5050367739046118,
           -0.45282994771083396,
           -0.4083757938586076,
           -0.36966671593548833,
           -0.3353862878708066,
           -0.3046243960759511,
           -0.27672551907377285,
           -0.2512018163022001,
           -0.22768040460141065,
           -0.205869855068391,
           -0.18553807054387442,
           -0.16649719835927457,
           -0.14859305337747702,
           -0.13169752420040992,
           -0.11570300657009341,
           -0.10051824734594039,
           -0.08606519074117253,
           -0.0722765500717818,
           -0.0590939135148322,
           -0.04646624886924086,
           -0.034348710528060766,
           -0.022701678203189662,
           -0.011489975393757929,
           -0.0006822287167293217,
           0.009749661309784136,
           0.019830960516691726
          ],
          [
           -0.8969972886056621,
           -0.7218129220271762,
           -0.6119396035407113,
           -0.5316957940004328,
           -0.46844887392258205,
           -0.4162420477288042,
           -0.37178789387657785,
           -0.33307881595345856,
           -0.2987983878887769,
           -0.2680364960939214,
           -0.24013761909174308,
           -0.21461391632017035,
           -0.1910925046193809,
           -0.16928195508636124,
           -0.14895017056184467,
           -0.12990929837724483,
           -0.11200515339544727,
           -0.09510962421838019,
           -0.07911510658806367,
           -0.06393034736391065,
           -0.049477290759142784,
           -0.035688650089752055,
           -0.02250601353280246,
           -0.00987834888721112,
           0.002239189453968976,
           0.01388622177884008,
           0.025097924588271814,
           0.03590567126530042,
           0.04633756129181388,
           0.05641886049872147
          ],
          [
           -0.8622271617475957,
           -0.6870427951691098,
           -0.577169476682645,
           -0.4969256671423664,
           -0.4336787470645157,
           -0.38147192087073784,
           -0.3370177670185115,
           -0.2983086890953922,
           -0.26402826103071053,
           -0.23326636923585503,
           -0.20536749223367673,
           -0.179843789462104,
           -0.15632237776131455,
           -0.13451182822829488,
           -0.11418004370377832,
           -0.09513917151917847,
           -0.07723502653738092,
           -0.06033949736031384,
           -0.04434497972999732,
           -0.029160220505844298,
           -0.014707163901076431,
           -0.0009185232316857028,
           0.012264113325263892,
           0.024891777970855233,
           0.03700931631203533,
           0.04865634863690643,
           0.059868051446338166,
           0.07067579812336677,
           0.08110768814988023,
           0.09118898735678782
          ],
          [
           -0.8291027024145452,
           -0.6539183358360593,
           -0.5440450173495944,
           -0.4638012078093159,
           -0.4005542877314652,
           -0.34834746153768736,
           -0.303893307685461,
           -0.26518422976234174,
           -0.23090380169766,
           -0.2001419099028045,
           -0.17224303290062623,
           -0.1467193301290535,
           -0.12319791842826404,
           -0.1013873688952444,
           -0.08105558437072782,
           -0.062014712186127974,
           -0.04411056720433042,
           -0.02721503802726334,
           -0.01122052039694682,
           0.003964238827206201,
           0.018417295431974068,
           0.032205936101364796,
           0.04538857265831439,
           0.05801623730390573,
           0.07013377564508583,
           0.08178080796995693,
           0.09299251077938867,
           0.10380025745641727,
           0.11423214748293073,
           0.12431344668983832
          ],
          [
           -0.7974751464592822,
           -0.6222907798807963,
           -0.5124174613943314,
           -0.4321736518540529,
           -0.36892673177620217,
           -0.31671990558242435,
           -0.272265751730198,
           -0.23355667380707873,
           -0.199276245742397,
           -0.1685143539475415,
           -0.14061547694536322,
           -0.11509177417379049,
           -0.09157036247300103,
           -0.06975981293998139,
           -0.049428028415464814,
           -0.030387156230864965,
           -0.012483011249067408,
           0.004412517927999668,
           0.02040703555831619,
           0.03559179478246921,
           0.05004485138723708,
           0.0638334920566278,
           0.0770161286135774,
           0.08964379325916874,
           0.10176133160034884,
           0.11340836392521994,
           0.12462006673465167,
           0.13542781341168028,
           0.14585970343819374,
           0.15594100264510133
          ],
          [
           -0.7672150322737081,
           -0.5920306656952222,
           -0.48215734720875736,
           -0.4019135376684788,
           -0.3386666175906281,
           -0.2864597913968503,
           -0.24200563754462395,
           -0.20329655962150467,
           -0.16901613155682293,
           -0.13825423976196743,
           -0.11035536275978916,
           -0.08483165998821643,
           -0.06131024828742697,
           -0.03949969875440733,
           -0.019167914229890753,
           -0.0001270420452909038,
           0.017777102936506653,
           0.03467263211357373,
           0.05066714974389025,
           0.06585190896804327,
           0.08030496557281114,
           0.09409360624220187,
           0.10727624279915146,
           0.1199039074447428,
           0.1320214457859229,
           0.143668478110794,
           0.15488018092022574,
           0.16568792759725434,
           0.1761198176237678,
           0.1862011168306754
          ],
          [
           -0.7382089993687869,
           -0.563024632790301,
           -0.4531513143038361,
           -0.37290750476355755,
           -0.30966058468570684,
           -0.257453758491929,
           -0.2129996046397027,
           -0.1742905267165834,
           -0.14001009865190167,
           -0.10924820685704617,
           -0.0813493298548679,
           -0.05582562708329515,
           -0.03230421538250569,
           -0.01049366584948605,
           0.009838118675030524,
           0.028878990859630374,
           0.04678313584142793,
           0.063678665018495,
           0.07967318264881153,
           0.09485794187296455,
           0.10931099847773242,
           0.12309963914712314,
           0.13628227570407275,
           0.1489099403496641,
           0.16102747869084416,
           0.1726745110157153,
           0.18388621382514703,
           0.19469396050217563,
           0.2051258505286891,
           0.21520714973559668
          ],
          [
           -0.710357224327898,
           -0.5351728577494121,
           -0.4252995392629472,
           -0.3450557297226687,
           -0.28180880964481797,
           -0.22960198345104013,
           -0.18514782959881382,
           -0.14643875167569453,
           -0.11215832361101281,
           -0.08139643181615731,
           -0.053497554813979026,
           -0.027973852042406294,
           -0.004452440341616834,
           0.01735810919140281,
           0.03768989371591938,
           0.05673076590051923,
           0.07463491088231679,
           0.09153044005938386,
           0.10752495768970038,
           0.1227097169138534,
           0.13716277351862127,
           0.150951414188012,
           0.1641340507449616,
           0.17676171539055294,
           0.18887925373173303,
           0.20052628605660414,
           0.21173798886603587,
           0.22254573554306448,
           0.23297762556957793,
           0.24305892477648552
          ],
          [
           -0.6835713476726304,
           -0.5083869810941445,
           -0.39851366260767956,
           -0.318269853067401,
           -0.2550229329895503,
           -0.20281610679577247,
           -0.15836195294354616,
           -0.11965287502042687,
           -0.08537244695574515,
           -0.054610555160889654,
           -0.02671167815871137,
           -0.0011879753871386336,
           0.022333436313650826,
           0.04414398584667047,
           0.06447577037118704,
           0.08351664255578689,
           0.10142078753758445,
           0.11831631671465152,
           0.13431083434496804,
           0.14949559356912107,
           0.16394865017388893,
           0.17773729084327966,
           0.19091992740022926,
           0.2035475920458206,
           0.2156651303870007,
           0.2273121627118718,
           0.23852386552130353,
           0.24933161219833214,
           0.2597635022248456,
           0.2698448014317532
          ],
          [
           -0.6577727830002223,
           -0.4825884164217364,
           -0.3727150979352715,
           -0.292471288394993,
           -0.22922436831714227,
           -0.1770175421233644,
           -0.13256338827113812,
           -0.09385431034801882,
           -0.0595738822833371,
           -0.028811990488481598,
           -0.0009131134863033172,
           0.02461058928526942,
           0.04813200098605888,
           0.06994255051907852,
           0.0902743350435951,
           0.10931520722819495,
           0.1272193522099925,
           0.14411488138705958,
           0.1601093990173761,
           0.1752941582415291,
           0.18974721484629697,
           0.2035358555156877,
           0.21671849207263733,
           0.22934615671822867,
           0.24146369505940873,
           0.25311072738427987,
           0.2643224301937116,
           0.2751301768707402,
           0.28556206689725366,
           0.29564336610416125
          ],
          [
           -0.6328913268066344,
           -0.4577069602281485,
           -0.34783364174168363,
           -0.2675898322014051,
           -0.20434291212355435,
           -0.15213608592977648,
           -0.10768193207755017,
           -0.06897285415443088,
           -0.03469242608974917,
           -0.003930534294893671,
           0.02396834270728461,
           0.04949204547885735,
           0.0730134571796468,
           0.09482400671266644,
           0.11515579123718303,
           0.13419666342178288,
           0.15210080840358042,
           0.1689963375806475,
           0.18499085521096403,
           0.20017561443511706,
           0.21462867103988492,
           0.22841731170927565,
           0.24159994826622525,
           0.25422761291181656,
           0.2663451512529967,
           0.27799218357786776,
           0.2892038863872995,
           0.3000116330643281,
           0.31044352309084156,
           0.32052482229774915
          ],
          [
           -0.6088640070278822,
           -0.4336796404493963,
           -0.3238063219629314,
           -0.24356251242265287,
           -0.18031559234480216,
           -0.1281087661510243,
           -0.08365461229879799,
           -0.044945534375678706,
           -0.010665106310996986,
           0.020096785483858515,
           0.047995662486036796,
           0.07351936525760953,
           0.097040776958399,
           0.11885132649141864,
           0.13918311101593522,
           0.15822398320053505,
           0.17612812818233262,
           0.1930236573593997,
           0.2090181749897162,
           0.22420293421386922,
           0.2386559908186371,
           0.2524446314880278,
           0.26562726804497744,
           0.2782549326905688,
           0.29037247103174885,
           0.30201950335662,
           0.3132312061660517,
           0.3240389528430803,
           0.3344708428695938,
           0.34455214207650137
          ],
          [
           -0.5856341227379243,
           -0.4104497561594383,
           -0.30057643767297343,
           -0.22033262813269489,
           -0.15708570805484418,
           -0.10487888186106632,
           -0.06042472800884001,
           -0.021715650085720725,
           0.012564777978960995,
           0.043326669773816495,
           0.07122554677599477,
           0.09674924954756751,
           0.12027066124835697,
           0.14208121078137662,
           0.1624129953058932,
           0.18145386749049303,
           0.1993580124722906,
           0.21625354164935767,
           0.23224805927967418,
           0.2474328185038272,
           0.26188587510859507,
           0.2756745157779858,
           0.2888571523349354,
           0.30148481698052676,
           0.3136023553217068,
           0.32524938764657796,
           0.3364610904560097,
           0.3472688371330383,
           0.35770072715955176,
           0.36778202636645935
          ],
          [
           -0.5631504381424455,
           -0.3879660715639595,
           -0.27809275307749465,
           -0.1978489435372161,
           -0.1346020234593654,
           -0.08239519726558753,
           -0.037941043413361214,
           0.0007680345097580699,
           0.03504846257443979,
           0.06581035436929529,
           0.09370923137147358,
           0.11923293414304631,
           0.14275434584383576,
           0.16456489537685542,
           0.18489667990137199,
           0.20393755208597183,
           0.2218416970677694,
           0.23873722624483645,
           0.25473174387515296,
           0.26991650309930604,
           0.28436955970407385,
           0.29815820037346463,
           0.3113408369304142,
           0.32396850157600554,
           0.33608603991718566,
           0.34773307224205674,
           0.3589447750514885,
           0.3697525217285171,
           0.38018441175503054,
           0.39026571096193813
          ]
         ]
        }
       ],
       "layout": {
        "autosize": true,
        "scene": {
         "aspectmode": "auto",
         "aspectratio": {
          "x": 1.206683419493248,
          "y": 0.603341709746624,
          "z": 1.3735463052350834
         },
         "xaxis": {
          "title": {
           "text": "$c_1$"
          },
          "type": "linear"
         },
         "yaxis": {
          "title": {
           "text": "$c_2$"
          },
          "type": "linear"
         },
         "zaxis": {
          "title": {
           "text": "Utils"
          },
          "type": "linear"
         }
        },
        "template": {
         "data": {
          "bar": [
           {
            "error_x": {
             "color": "#2a3f5f"
            },
            "error_y": {
             "color": "#2a3f5f"
            },
            "marker": {
             "line": {
              "color": "#E5ECF6",
              "width": 0.5
             },
             "pattern": {
              "fillmode": "overlay",
              "size": 10,
              "solidity": 0.2
             }
            },
            "type": "bar"
           }
          ],
          "barpolar": [
           {
            "marker": {
             "line": {
              "color": "#E5ECF6",
              "width": 0.5
             },
             "pattern": {
              "fillmode": "overlay",
              "size": 10,
              "solidity": 0.2
             }
            },
            "type": "barpolar"
           }
          ],
          "carpet": [
           {
            "aaxis": {
             "endlinecolor": "#2a3f5f",
             "gridcolor": "white",
             "linecolor": "white",
             "minorgridcolor": "white",
             "startlinecolor": "#2a3f5f"
            },
            "baxis": {
             "endlinecolor": "#2a3f5f",
             "gridcolor": "white",
             "linecolor": "white",
             "minorgridcolor": "white",
             "startlinecolor": "#2a3f5f"
            },
            "type": "carpet"
           }
          ],
          "choropleth": [
           {
            "colorbar": {
             "outlinewidth": 0,
             "ticks": ""
            },
            "type": "choropleth"
           }
          ],
          "contour": [
           {
            "colorbar": {
             "outlinewidth": 0,
             "ticks": ""
            },
            "colorscale": [
             [
              0,
              "#0d0887"
             ],
             [
              0.1111111111111111,
              "#46039f"
             ],
             [
              0.2222222222222222,
              "#7201a8"
             ],
             [
              0.3333333333333333,
              "#9c179e"
             ],
             [
              0.4444444444444444,
              "#bd3786"
             ],
             [
              0.5555555555555556,
              "#d8576b"
             ],
             [
              0.6666666666666666,
              "#ed7953"
             ],
             [
              0.7777777777777778,
              "#fb9f3a"
             ],
             [
              0.8888888888888888,
              "#fdca26"
             ],
             [
              1,
              "#f0f921"
             ]
            ],
            "type": "contour"
           }
          ],
          "contourcarpet": [
           {
            "colorbar": {
             "outlinewidth": 0,
             "ticks": ""
            },
            "type": "contourcarpet"
           }
          ],
          "heatmap": [
           {
            "colorbar": {
             "outlinewidth": 0,
             "ticks": ""
            },
            "colorscale": [
             [
              0,
              "#0d0887"
             ],
             [
              0.1111111111111111,
              "#46039f"
             ],
             [
              0.2222222222222222,
              "#7201a8"
             ],
             [
              0.3333333333333333,
              "#9c179e"
             ],
             [
              0.4444444444444444,
              "#bd3786"
             ],
             [
              0.5555555555555556,
              "#d8576b"
             ],
             [
              0.6666666666666666,
              "#ed7953"
             ],
             [
              0.7777777777777778,
              "#fb9f3a"
             ],
             [
              0.8888888888888888,
              "#fdca26"
             ],
             [
              1,
              "#f0f921"
             ]
            ],
            "type": "heatmap"
           }
          ],
          "heatmapgl": [
           {
            "colorbar": {
             "outlinewidth": 0,
             "ticks": ""
            },
            "colorscale": [
             [
              0,
              "#0d0887"
             ],
             [
              0.1111111111111111,
              "#46039f"
             ],
             [
              0.2222222222222222,
              "#7201a8"
             ],
             [
              0.3333333333333333,
              "#9c179e"
             ],
             [
              0.4444444444444444,
              "#bd3786"
             ],
             [
              0.5555555555555556,
              "#d8576b"
             ],
             [
              0.6666666666666666,
              "#ed7953"
             ],
             [
              0.7777777777777778,
              "#fb9f3a"
             ],
             [
              0.8888888888888888,
              "#fdca26"
             ],
             [
              1,
              "#f0f921"
             ]
            ],
            "type": "heatmapgl"
           }
          ],
          "histogram": [
           {
            "marker": {
             "pattern": {
              "fillmode": "overlay",
              "size": 10,
              "solidity": 0.2
             }
            },
            "type": "histogram"
           }
          ],
          "histogram2d": [
           {
            "colorbar": {
             "outlinewidth": 0,
             "ticks": ""
            },
            "colorscale": [
             [
              0,
              "#0d0887"
             ],
             [
              0.1111111111111111,
              "#46039f"
             ],
             [
              0.2222222222222222,
              "#7201a8"
             ],
             [
              0.3333333333333333,
              "#9c179e"
             ],
             [
              0.4444444444444444,
              "#bd3786"
             ],
             [
              0.5555555555555556,
              "#d8576b"
             ],
             [
              0.6666666666666666,
              "#ed7953"
             ],
             [
              0.7777777777777778,
              "#fb9f3a"
             ],
             [
              0.8888888888888888,
              "#fdca26"
             ],
             [
              1,
              "#f0f921"
             ]
            ],
            "type": "histogram2d"
           }
          ],
          "histogram2dcontour": [
           {
            "colorbar": {
             "outlinewidth": 0,
             "ticks": ""
            },
            "colorscale": [
             [
              0,
              "#0d0887"
             ],
             [
              0.1111111111111111,
              "#46039f"
             ],
             [
              0.2222222222222222,
              "#7201a8"
             ],
             [
              0.3333333333333333,
              "#9c179e"
             ],
             [
              0.4444444444444444,
              "#bd3786"
             ],
             [
              0.5555555555555556,
              "#d8576b"
             ],
             [
              0.6666666666666666,
              "#ed7953"
             ],
             [
              0.7777777777777778,
              "#fb9f3a"
             ],
             [
              0.8888888888888888,
              "#fdca26"
             ],
             [
              1,
              "#f0f921"
             ]
            ],
            "type": "histogram2dcontour"
           }
          ],
          "mesh3d": [
           {
            "colorbar": {
             "outlinewidth": 0,
             "ticks": ""
            },
            "type": "mesh3d"
           }
          ],
          "parcoords": [
           {
            "line": {
             "colorbar": {
              "outlinewidth": 0,
              "ticks": ""
             }
            },
            "type": "parcoords"
           }
          ],
          "pie": [
           {
            "automargin": true,
            "type": "pie"
           }
          ],
          "scatter": [
           {
            "marker": {
             "colorbar": {
              "outlinewidth": 0,
              "ticks": ""
             }
            },
            "type": "scatter"
           }
          ],
          "scatter3d": [
           {
            "line": {
             "colorbar": {
              "outlinewidth": 0,
              "ticks": ""
             }
            },
            "marker": {
             "colorbar": {
              "outlinewidth": 0,
              "ticks": ""
             }
            },
            "type": "scatter3d"
           }
          ],
          "scattercarpet": [
           {
            "marker": {
             "colorbar": {
              "outlinewidth": 0,
              "ticks": ""
             }
            },
            "type": "scattercarpet"
           }
          ],
          "scattergeo": [
           {
            "marker": {
             "colorbar": {
              "outlinewidth": 0,
              "ticks": ""
             }
            },
            "type": "scattergeo"
           }
          ],
          "scattergl": [
           {
            "marker": {
             "colorbar": {
              "outlinewidth": 0,
              "ticks": ""
             }
            },
            "type": "scattergl"
           }
          ],
          "scattermapbox": [
           {
            "marker": {
             "colorbar": {
              "outlinewidth": 0,
              "ticks": ""
             }
            },
            "type": "scattermapbox"
           }
          ],
          "scatterpolar": [
           {
            "marker": {
             "colorbar": {
              "outlinewidth": 0,
              "ticks": ""
             }
            },
            "type": "scatterpolar"
           }
          ],
          "scatterpolargl": [
           {
            "marker": {
             "colorbar": {
              "outlinewidth": 0,
              "ticks": ""
             }
            },
            "type": "scatterpolargl"
           }
          ],
          "scatterternary": [
           {
            "marker": {
             "colorbar": {
              "outlinewidth": 0,
              "ticks": ""
             }
            },
            "type": "scatterternary"
           }
          ],
          "surface": [
           {
            "colorbar": {
             "outlinewidth": 0,
             "ticks": ""
            },
            "colorscale": [
             [
              0,
              "#0d0887"
             ],
             [
              0.1111111111111111,
              "#46039f"
             ],
             [
              0.2222222222222222,
              "#7201a8"
             ],
             [
              0.3333333333333333,
              "#9c179e"
             ],
             [
              0.4444444444444444,
              "#bd3786"
             ],
             [
              0.5555555555555556,
              "#d8576b"
             ],
             [
              0.6666666666666666,
              "#ed7953"
             ],
             [
              0.7777777777777778,
              "#fb9f3a"
             ],
             [
              0.8888888888888888,
              "#fdca26"
             ],
             [
              1,
              "#f0f921"
             ]
            ],
            "type": "surface"
           }
          ],
          "table": [
           {
            "cells": {
             "fill": {
              "color": "#EBF0F8"
             },
             "line": {
              "color": "white"
             }
            },
            "header": {
             "fill": {
              "color": "#C8D4E3"
             },
             "line": {
              "color": "white"
             }
            },
            "type": "table"
           }
          ]
         },
         "layout": {
          "annotationdefaults": {
           "arrowcolor": "#2a3f5f",
           "arrowhead": 0,
           "arrowwidth": 1
          },
          "autotypenumbers": "strict",
          "coloraxis": {
           "colorbar": {
            "outlinewidth": 0,
            "ticks": ""
           }
          },
          "colorscale": {
           "diverging": [
            [
             0,
             "#8e0152"
            ],
            [
             0.1,
             "#c51b7d"
            ],
            [
             0.2,
             "#de77ae"
            ],
            [
             0.3,
             "#f1b6da"
            ],
            [
             0.4,
             "#fde0ef"
            ],
            [
             0.5,
             "#f7f7f7"
            ],
            [
             0.6,
             "#e6f5d0"
            ],
            [
             0.7,
             "#b8e186"
            ],
            [
             0.8,
             "#7fbc41"
            ],
            [
             0.9,
             "#4d9221"
            ],
            [
             1,
             "#276419"
            ]
           ],
           "sequential": [
            [
             0,
             "#0d0887"
            ],
            [
             0.1111111111111111,
             "#46039f"
            ],
            [
             0.2222222222222222,
             "#7201a8"
            ],
            [
             0.3333333333333333,
             "#9c179e"
            ],
            [
             0.4444444444444444,
             "#bd3786"
            ],
            [
             0.5555555555555556,
             "#d8576b"
            ],
            [
             0.6666666666666666,
             "#ed7953"
            ],
            [
             0.7777777777777778,
             "#fb9f3a"
            ],
            [
             0.8888888888888888,
             "#fdca26"
            ],
            [
             1,
             "#f0f921"
            ]
           ],
           "sequentialminus": [
            [
             0,
             "#0d0887"
            ],
            [
             0.1111111111111111,
             "#46039f"
            ],
            [
             0.2222222222222222,
             "#7201a8"
            ],
            [
             0.3333333333333333,
             "#9c179e"
            ],
            [
             0.4444444444444444,
             "#bd3786"
            ],
            [
             0.5555555555555556,
             "#d8576b"
            ],
            [
             0.6666666666666666,
             "#ed7953"
            ],
            [
             0.7777777777777778,
             "#fb9f3a"
            ],
            [
             0.8888888888888888,
             "#fdca26"
            ],
            [
             1,
             "#f0f921"
            ]
           ]
          },
          "colorway": [
           "#636efa",
           "#EF553B",
           "#00cc96",
           "#ab63fa",
           "#FFA15A",
           "#19d3f3",
           "#FF6692",
           "#B6E880",
           "#FF97FF",
           "#FECB52"
          ],
          "font": {
           "color": "#2a3f5f"
          },
          "geo": {
           "bgcolor": "white",
           "lakecolor": "white",
           "landcolor": "#E5ECF6",
           "showlakes": true,
           "showland": true,
           "subunitcolor": "white"
          },
          "hoverlabel": {
           "align": "left"
          },
          "hovermode": "closest",
          "mapbox": {
           "style": "light"
          },
          "paper_bgcolor": "white",
          "plot_bgcolor": "#E5ECF6",
          "polar": {
           "angularaxis": {
            "gridcolor": "white",
            "linecolor": "white",
            "ticks": ""
           },
           "bgcolor": "#E5ECF6",
           "radialaxis": {
            "gridcolor": "white",
            "linecolor": "white",
            "ticks": ""
           }
          },
          "scene": {
           "xaxis": {
            "backgroundcolor": "#E5ECF6",
            "gridcolor": "white",
            "gridwidth": 2,
            "linecolor": "white",
            "showbackground": true,
            "ticks": "",
            "zerolinecolor": "white"
           },
           "yaxis": {
            "backgroundcolor": "#E5ECF6",
            "gridcolor": "white",
            "gridwidth": 2,
            "linecolor": "white",
            "showbackground": true,
            "ticks": "",
            "zerolinecolor": "white"
           },
           "zaxis": {
            "backgroundcolor": "#E5ECF6",
            "gridcolor": "white",
            "gridwidth": 2,
            "linecolor": "white",
            "showbackground": true,
            "ticks": "",
            "zerolinecolor": "white"
           }
          },
          "shapedefaults": {
           "line": {
            "color": "#2a3f5f"
           }
          },
          "ternary": {
           "aaxis": {
            "gridcolor": "white",
            "linecolor": "white",
            "ticks": ""
           },
           "baxis": {
            "gridcolor": "white",
            "linecolor": "white",
            "ticks": ""
           },
           "bgcolor": "#E5ECF6",
           "caxis": {
            "gridcolor": "white",
            "linecolor": "white",
            "ticks": ""
           }
          },
          "title": {
           "x": 0.05
          },
          "xaxis": {
           "automargin": true,
           "gridcolor": "white",
           "linecolor": "white",
           "ticks": "",
           "title": {
            "standoff": 15
           },
           "zerolinecolor": "white",
           "zerolinewidth": 2
          },
          "yaxis": {
           "automargin": true,
           "gridcolor": "white",
           "linecolor": "white",
           "ticks": "",
           "title": {
            "standoff": 15
           },
           "zerolinecolor": "white",
           "zerolinewidth": 2
          }
         }
        },
        "title": {
         "text": "Cobb-Douglas Utility"
        }
       }
      },
      "image/png": "[encoded data removed]",
      "text/html": [
       "<div>                            <div id=\"e0397c56-6faa-44ee-aafb-d6a114506632\" class=\"plotly-graph-div\" style=\"height:525px; width:100%;\"></div>            <script type=\"text/javascript\">                require([\"plotly\"], function(Plotly) {                    window.PLOTLYENV=window.PLOTLYENV || {};                                    if (document.getElementById(\"e0397c56-6faa-44ee-aafb-d6a114506632\")) {                    Plotly.newPlot(                        \"e0397c56-6faa-44ee-aafb-d6a114506632\",                        [{\"color\":\"black\",\"delaunayaxis\":\"x\",\"opacity\":1.0,\"x\":[0,2.0,0,2.0],\"y\":[1.0,0,1.0,0],\"z\":[-2.3025850929940455,-2.3025850929940455,0.42929228205813197,0.42929228205813197],\"type\":\"mesh3d\"},{\"contours\":{\"z\":{\"highlightcolor\":\"#42f462\",\"project\":{\"z\":true},\"show\":true,\"usecolormap\":true}},\"x\":[0.1,0.1793103448275862,0.2586206896551724,0.33793103448275863,0.4172413793103448,0.496551724137931,0.5758620689655172,0.6551724137931033,0.7344827586206896,0.8137931034482758,0.893103448275862,0.9724137931034481,1.0517241379310345,1.1310344827586207,1.2103448275862068,1.289655172413793,1.3689655172413793,1.4482758620689655,1.5275862068965518,1.6068965517241378,1.686206896551724,1.7655172413793103,1.8448275862068964,1.9241379310344826,2.003448275862069,2.082758620689655,2.1620689655172414,2.2413793103448274,2.3206896551724134,2.4],\"y\":[0.1,0.13793103448275862,0.17586206896551723,0.21379310344827585,0.25172413793103443,0.28965517241379307,0.3275862068965517,0.3655172413793103,0.4034482758620689,0.44137931034482747,0.47931034482758617,0.5172413793103448,0.5551724137931033,0.5931034482758619,0.6310344827586206,0.6689655172413792,0.7068965517241378,0.7448275862068964,0.782758620689655,0.8206896551724137,0.8586206896551722,0.8965517241379308,0.9344827586206895,0.9724137931034481,1.0103448275862068,1.0482758620689654,1.086206896551724,1.1241379310344826,1.1620689655172414,1.2],\"z\":[[-2.3025850929940455,-2.1274007264155594,-2.0175274079290944,-1.9372835983888161,-1.8740366783109654,-1.8218298521171874,-1.7773756982649611,-1.738666620341842,-1.7043861922771602,-1.6736243004823046,-1.6457254234801264,-1.6202017207085537,-1.5966803090077641,-1.5748697594747445,-1.554537974950228,-1.5354971027656281,-1.5175929577838305,-1.5006974286067634,-1.484702910976447,-1.469518151752294,-1.4550650951475261,-1.4412764544781353,-1.4280938179211857,-1.4154661532755943,-1.4033486149344143,-1.3917015826095431,-1.3804898798001115,-1.3696821331230828,-1.3592502430965694,-1.3491689438896617],[-2.077476556104822,-1.902292189526336,-1.7924188710398712,-1.7121750614995928,-1.648928141421742,-1.596721315227964,-1.5522671613757377,-1.5135580834526186,-1.4792776553879368,-1.4485157635930812,-1.420616886590903,-1.3950931838193303,-1.3715717721185408,-1.3497612225855211,-1.3294294380610046,-1.3103885658764047,-1.2924844208946071,-1.27558889171754,-1.2595943740872235,-1.2444096148630706,-1.2299565582583027,-1.216167917588912,-1.2029852810319623,-1.190357616386371,-1.178240078045191,-1.1665930457203197,-1.1553813429108881,-1.1445735962338595,-1.134141706207346,-1.1240604070004383],[-1.9074142310775493,-1.7322298644990635,-1.6223565460125986,-1.54211273647232,-1.4788658163944692,-1.4266589902006914,-1.3822048363484651,-1.343495758425346,-1.3092153303606642,-1.2784534385658086,-1.2505545615636304,-1.2250308587920578,-1.2015094470912682,-1.1796988975582485,-1.159367113033732,-1.1403262408491321,-1.1224220958673345,-1.1055265666902674,-1.089532049059951,-1.074347289835798,-1.0598942332310302,-1.0461055925616394,-1.0329229560046898,-1.0202952913590984,-1.0081777530179183,-0.9965307206930472,-0.9853190178836155,-0.9745112712065869,-0.9640793811800734,-0.9539980819731658],[-1.7706981044530132,-1.5955137378745274,-1.4856404193880626,-1.405396609847784,-1.3421496897699332,-1.2899428635761554,-1.245488709723929,-1.20677963180081,-1.1724992037361281,-1.1417373119412726,-1.1138384349390944,-1.0883147321675217,-1.0647933204667321,-1.0429827709337125,-1.022650986409196,-1.0036101142245961,-0.9857059692427985,-0.9688104400657315,-0.9528159224354149,-0.9376311632112619,-0.923178106606494,-0.9093894659371033,-0.8962068293801537,-0.8835791647345623,-0.8714616263933823,-0.8598145940685111,-0.8486028912590795,-0.8377951445820508,-0.8273632545555374,-0.8172819553486298],[-1.656370565180704,-1.481186198602218,-1.371312880115753,-1.2910690705754746,-1.2278221504976239,-1.1756153243038459,-1.1311611704516196,-1.0924520925285004,-1.0581716644638186,-1.027409772668963,-0.9995108956667849,-0.9739871928952121,-0.9504657811944226,-0.928655231661403,-0.9083234471368864,-0.8892825749522866,-0.871378429970489,-0.8544829007934219,-0.8384883831631054,-0.8233036239389524,-0.8088505673341845,-0.7950619266647938,-0.7818792901078442,-0.7692516254622528,-0.7571340871210728,-0.7454870547962016,-0.73427535198677,-0.7234676053097413,-0.7130357152832278,-0.7029544160763203],[-1.5581204147942578,-1.382936048215772,-1.2730627297293071,-1.1928189201890285,-1.1295720001111778,-1.0773651739174,-1.0329110200651737,-0.9942019421420544,-0.9599215140773727,-0.9291596222825171,-0.901260745280339,-0.8757370425087662,-0.8522156308079767,-0.830405081274957,-0.8100732967504405,-0.7910324245658407,-0.7731282795840431,-0.756232750406976,-0.7402382327766595,-0.7250534735525065,-0.7106004169477386,-0.6968117762783479,-0.6836291397213983,-0.6710014750758069,-0.6588839367346269,-0.6472369044097557,-0.636025201600324,-0.6252174549232954,-0.6147855648967819,-0.6047042656898743],[-1.4719783498641987,-1.296793983285713,-1.1869206647992478,-1.1066768552589694,-1.0434299351811187,-0.9912231089873409,-0.9467689551351145,-0.9080598772119952,-0.8737794491473135,-0.843017557352458,-0.8151186803502798,-0.789594977578707,-0.7660735658779175,-0.7442630163448979,-0.7239312318203813,-0.7048903596357815,-0.6869862146539839,-0.6700906854769169,-0.6540961678466003,-0.6389114086224473,-0.6244583520176794,-0.6106697113482887,-0.5974870747913391,-0.5848594101457478,-0.5727418718045677,-0.5610948394796966,-0.5498831366702648,-0.5390753899932362,-0.5286434999667228,-0.5185622007598152],[-1.3952848081061304,-1.2201004415276446,-1.1102271230411795,-1.029983313500901,-0.9667363934230504,-0.9145295672292726,-0.8700754133770462,-0.8313663354539269,-0.7970859073892452,-0.7663240155943897,-0.7384251385922115,-0.7129014358206387,-0.6893800241198492,-0.6675694745868296,-0.647237690062313,-0.6281968178777132,-0.6102926728959156,-0.5933971437188486,-0.577402626088532,-0.562217866864379,-0.5477648102596111,-0.5339761695902204,-0.5207935330332708,-0.5081658683876795,-0.4960483300464994,-0.48440129772162827,-0.47318959491219653,-0.4623818482351679,-0.45194995820865447,-0.4418686590017469],[-1.3261704196261483,-1.1509860530476623,-1.0411127345611975,-0.9608689250209189,-0.8976220049430682,-0.8454151787492903,-0.800961024897064,-0.7622519469739447,-0.727971518909263,-0.6972096271144075,-0.6693107501122293,-0.6437870473406565,-0.620265635639867,-0.5984550861068474,-0.5781233015823308,-0.559082429397731,-0.5411782844159334,-0.5242827552388664,-0.5082882376085498,-0.49310347838439683,-0.4786504217796289,-0.46486178111023824,-0.4516791445532886,-0.4390514799076973,-0.4269339415665172,-0.4152869092416461,-0.40407520643221434,-0.39326745975518573,-0.3828355697286723,-0.3727542705217647],[-1.2632709892408456,-1.0880866226623596,-0.9782133041758948,-0.8979694946356163,-0.8347225745577656,-0.7825157483639877,-0.7380615945117613,-0.6993525165886421,-0.6650720885239604,-0.6343101967291048,-0.6064113197269266,-0.5808876169553538,-0.5573662052545644,-0.5355556557215447,-0.5152238711970282,-0.49618299901242835,-0.47827885403063075,-0.4613833248535637,-0.44538880722324714,-0.4302040479990942,-0.41575099139432625,-0.4019623507249356,-0.38877971416798596,-0.3761520495223946,-0.36403451118121455,-0.3523874788563434,-0.3411757760469117,-0.3303680293698831,-0.3199361393433696,-0.30985484013646203],[-1.2055604207930932,-1.0303760542146074,-0.9205027357281425,-0.8402589261878639,-0.7770120061100132,-0.7248051799162354,-0.680351026064009,-0.6416419481408897,-0.607361520076208,-0.5765996282813525,-0.5487007512791743,-0.5231770485076015,-0.499655636806812,-0.4778450872737924,-0.4575133027492758,-0.438472430564676,-0.4205682855828784,-0.40367275640581135,-0.3876782387754948,-0.3724934795513418,-0.3580404229465739,-0.3442517822771832,-0.3310691457202336,-0.31844148107464226,-0.3063239427334622,-0.29467691040859106,-0.28346520759915933,-0.2726574609221307,-0.26222557089561727,-0.2521442716887097],[-1.1522474681171984,-0.9770631015387126,-0.8671897830522477,-0.786945973511969,-0.7236990534341183,-0.6714922272403405,-0.6270380733881142,-0.588328995464995,-0.5540485674003132,-0.5232866756054577,-0.4953877986032794,-0.4698640958317067,-0.4463426841309172,-0.42453213459789757,-0.404200350073381,-0.38515947788878113,-0.3672553329069836,-0.35035980372991654,-0.33436528609960003,-0.31918052687544696,-0.30472747027067915,-0.29093882960128836,-0.2777561930443388,-0.26512852839874745,-0.25301099005756733,-0.24136395773269625,-0.23015225492326452,-0.21934450824623591,-0.20891261821972246,-0.19883131901281487],[-1.1027091184954534,-0.9275247519169676,-0.8176514334305027,-0.7374076238902241,-0.6741607038123734,-0.6219538776185956,-0.5774997237663693,-0.53879064584325,-0.5045102177785682,-0.47374832598371275,-0.44584944898153445,-0.4203257462099617,-0.39680433450917224,-0.3749937849761526,-0.35466200045163604,-0.33562112826703616,-0.3177169832852386,-0.30082145410817157,-0.28482693647785506,-0.269642177253702,-0.2551891206489342,-0.24140047997954342,-0.22821784342259382,-0.21559017877700248,-0.2034726404358224,-0.19182560811095128,-0.18061390530151955,-0.16980615862449094,-0.1593742685979775,-0.1492929693910699],[-1.0564460402151603,-0.8812616736366745,-0.7713883551502096,-0.6911445456099311,-0.6278976255320804,-0.5756907993383025,-0.5312366454860762,-0.4925275675629569,-0.4582471394982752,-0.4274852477034197,-0.3995863707012414,-0.3740626679296687,-0.3505412562288792,-0.3287307066958596,-0.308398922171343,-0.2893580499867432,-0.2714539050049456,-0.25455837582787855,-0.238563858197562,-0.223379098973409,-0.20892604236864112,-0.1951374016992504,-0.1819547651423008,-0.16932710049670946,-0.15720956215552936,-0.14556252983065826,-0.13435082702122653,-0.12354308034419792,-0.11311119031768446,-0.10302989111077687],[-1.0130518669955828,-0.8378675004170969,-0.727994181930632,-0.6477503723903535,-0.5845034523125028,-0.532296626118725,-0.4878424722664986,-0.4491333943433793,-0.4148529662786976,-0.3840910744838421,-0.3561921974816638,-0.3306684947100911,-0.3071470830093016,-0.28533653347628196,-0.2650047489517654,-0.24596387676716555,-0.22805973178536798,-0.21116420260830093,-0.1951696849779844,-0.17998492575383138,-0.1655318691490635,-0.15174322847967278,-0.1385605919227232,-0.12593292727713185,-0.11381538893595175,-0.10216835661108065,-0.09095665380164891,-0.0801489071246203,-0.06971701709810685,-0.05963571789119926],[-0.9721914626402478,-0.7970070960617619,-0.687133777575297,-0.6068899680350185,-0.5436430479571678,-0.4914362217633899,-0.44698206791116357,-0.4082729899880443,-0.3739925619233626,-0.3432306701285071,-0.3153317931263288,-0.2898080903547561,-0.2662866786539666,-0.24447612912094696,-0.2241443445964304,-0.20510347241183055,-0.18719932743003298,-0.17030379825296593,-0.1543092806226494,-0.13912452139849638,-0.12467146479372851,-0.11088282412433778,-0.09770018756738819,-0.08507252292179684,-0.07295498458061675,-0.061307952255745646,-0.05009624944631391,-0.039288502769285305,-0.028856612742771848,-0.018775313535864258],[-0.9335851885876918,-0.7584008220092059,-0.648527503522741,-0.5682836939824625,-0.5050367739046118,-0.45282994771083396,-0.4083757938586076,-0.36966671593548833,-0.3353862878708066,-0.3046243960759511,-0.27672551907377285,-0.2512018163022001,-0.22768040460141065,-0.205869855068391,-0.18553807054387442,-0.16649719835927457,-0.14859305337747702,-0.13169752420040992,-0.11570300657009341,-0.10051824734594039,-0.08606519074117253,-0.0722765500717818,-0.0590939135148322,-0.04646624886924086,-0.034348710528060766,-0.022701678203189662,-0.011489975393757929,-0.0006822287167293217,0.009749661309784136,0.019830960516691726],[-0.8969972886056621,-0.7218129220271762,-0.6119396035407113,-0.5316957940004328,-0.46844887392258205,-0.4162420477288042,-0.37178789387657785,-0.33307881595345856,-0.2987983878887769,-0.2680364960939214,-0.24013761909174308,-0.21461391632017035,-0.1910925046193809,-0.16928195508636124,-0.14895017056184467,-0.12990929837724483,-0.11200515339544727,-0.09510962421838019,-0.07911510658806367,-0.06393034736391065,-0.049477290759142784,-0.035688650089752055,-0.02250601353280246,-0.00987834888721112,0.002239189453968976,0.01388622177884008,0.025097924588271814,0.03590567126530042,0.04633756129181388,0.05641886049872147],[-0.8622271617475957,-0.6870427951691098,-0.577169476682645,-0.4969256671423664,-0.4336787470645157,-0.38147192087073784,-0.3370177670185115,-0.2983086890953922,-0.26402826103071053,-0.23326636923585503,-0.20536749223367673,-0.179843789462104,-0.15632237776131455,-0.13451182822829488,-0.11418004370377832,-0.09513917151917847,-0.07723502653738092,-0.06033949736031384,-0.04434497972999732,-0.029160220505844298,-0.014707163901076431,-0.0009185232316857028,0.012264113325263892,0.024891777970855233,0.03700931631203533,0.04865634863690643,0.059868051446338166,0.07067579812336677,0.08110768814988023,0.09118898735678782],[-0.8291027024145452,-0.6539183358360593,-0.5440450173495944,-0.4638012078093159,-0.4005542877314652,-0.34834746153768736,-0.303893307685461,-0.26518422976234174,-0.23090380169766,-0.2001419099028045,-0.17224303290062623,-0.1467193301290535,-0.12319791842826404,-0.1013873688952444,-0.08105558437072782,-0.062014712186127974,-0.04411056720433042,-0.02721503802726334,-0.01122052039694682,0.003964238827206201,0.018417295431974068,0.032205936101364796,0.04538857265831439,0.05801623730390573,0.07013377564508583,0.08178080796995693,0.09299251077938867,0.10380025745641727,0.11423214748293073,0.12431344668983832],[-0.7974751464592822,-0.6222907798807963,-0.5124174613943314,-0.4321736518540529,-0.36892673177620217,-0.31671990558242435,-0.272265751730198,-0.23355667380707873,-0.199276245742397,-0.1685143539475415,-0.14061547694536322,-0.11509177417379049,-0.09157036247300103,-0.06975981293998139,-0.049428028415464814,-0.030387156230864965,-0.012483011249067408,0.004412517927999668,0.02040703555831619,0.03559179478246921,0.05004485138723708,0.0638334920566278,0.0770161286135774,0.08964379325916874,0.10176133160034884,0.11340836392521994,0.12462006673465167,0.13542781341168028,0.14585970343819374,0.15594100264510133],[-0.7672150322737081,-0.5920306656952222,-0.48215734720875736,-0.4019135376684788,-0.3386666175906281,-0.2864597913968503,-0.24200563754462395,-0.20329655962150467,-0.16901613155682293,-0.13825423976196743,-0.11035536275978916,-0.08483165998821643,-0.06131024828742697,-0.03949969875440733,-0.019167914229890753,-0.0001270420452909038,0.017777102936506653,0.03467263211357373,0.05066714974389025,0.06585190896804327,0.08030496557281114,0.09409360624220187,0.10727624279915146,0.1199039074447428,0.1320214457859229,0.143668478110794,0.15488018092022574,0.16568792759725434,0.1761198176237678,0.1862011168306754],[-0.7382089993687869,-0.563024632790301,-0.4531513143038361,-0.37290750476355755,-0.30966058468570684,-0.257453758491929,-0.2129996046397027,-0.1742905267165834,-0.14001009865190167,-0.10924820685704617,-0.0813493298548679,-0.05582562708329515,-0.03230421538250569,-0.01049366584948605,0.009838118675030524,0.028878990859630374,0.04678313584142793,0.063678665018495,0.07967318264881153,0.09485794187296455,0.10931099847773242,0.12309963914712314,0.13628227570407275,0.1489099403496641,0.16102747869084416,0.1726745110157153,0.18388621382514703,0.19469396050217563,0.2051258505286891,0.21520714973559668],[-0.710357224327898,-0.5351728577494121,-0.4252995392629472,-0.3450557297226687,-0.28180880964481797,-0.22960198345104013,-0.18514782959881382,-0.14643875167569453,-0.11215832361101281,-0.08139643181615731,-0.053497554813979026,-0.027973852042406294,-0.004452440341616834,0.01735810919140281,0.03768989371591938,0.05673076590051923,0.07463491088231679,0.09153044005938386,0.10752495768970038,0.1227097169138534,0.13716277351862127,0.150951414188012,0.1641340507449616,0.17676171539055294,0.18887925373173303,0.20052628605660414,0.21173798886603587,0.22254573554306448,0.23297762556957793,0.24305892477648552],[-0.6835713476726304,-0.5083869810941445,-0.39851366260767956,-0.318269853067401,-0.2550229329895503,-0.20281610679577247,-0.15836195294354616,-0.11965287502042687,-0.08537244695574515,-0.054610555160889654,-0.02671167815871137,-0.0011879753871386336,0.022333436313650826,0.04414398584667047,0.06447577037118704,0.08351664255578689,0.10142078753758445,0.11831631671465152,0.13431083434496804,0.14949559356912107,0.16394865017388893,0.17773729084327966,0.19091992740022926,0.2035475920458206,0.2156651303870007,0.2273121627118718,0.23852386552130353,0.24933161219833214,0.2597635022248456,0.2698448014317532],[-0.6577727830002223,-0.4825884164217364,-0.3727150979352715,-0.292471288394993,-0.22922436831714227,-0.1770175421233644,-0.13256338827113812,-0.09385431034801882,-0.0595738822833371,-0.028811990488481598,-0.0009131134863033172,0.02461058928526942,0.04813200098605888,0.06994255051907852,0.0902743350435951,0.10931520722819495,0.1272193522099925,0.14411488138705958,0.1601093990173761,0.1752941582415291,0.18974721484629697,0.2035358555156877,0.21671849207263733,0.22934615671822867,0.24146369505940873,0.25311072738427987,0.2643224301937116,0.2751301768707402,0.28556206689725366,0.29564336610416125],[-0.6328913268066344,-0.4577069602281485,-0.34783364174168363,-0.2675898322014051,-0.20434291212355435,-0.15213608592977648,-0.10768193207755017,-0.06897285415443088,-0.03469242608974917,-0.003930534294893671,0.02396834270728461,0.04949204547885735,0.0730134571796468,0.09482400671266644,0.11515579123718303,0.13419666342178288,0.15210080840358042,0.1689963375806475,0.18499085521096403,0.20017561443511706,0.21462867103988492,0.22841731170927565,0.24159994826622525,0.25422761291181656,0.2663451512529967,0.27799218357786776,0.2892038863872995,0.3000116330643281,0.31044352309084156,0.32052482229774915],[-0.6088640070278822,-0.4336796404493963,-0.3238063219629314,-0.24356251242265287,-0.18031559234480216,-0.1281087661510243,-0.08365461229879799,-0.044945534375678706,-0.010665106310996986,0.020096785483858515,0.047995662486036796,0.07351936525760953,0.097040776958399,0.11885132649141864,0.13918311101593522,0.15822398320053505,0.17612812818233262,0.1930236573593997,0.2090181749897162,0.22420293421386922,0.2386559908186371,0.2524446314880278,0.26562726804497744,0.2782549326905688,0.29037247103174885,0.30201950335662,0.3132312061660517,0.3240389528430803,0.3344708428695938,0.34455214207650137],[-0.5856341227379243,-0.4104497561594383,-0.30057643767297343,-0.22033262813269489,-0.15708570805484418,-0.10487888186106632,-0.06042472800884001,-0.021715650085720725,0.012564777978960995,0.043326669773816495,0.07122554677599477,0.09674924954756751,0.12027066124835697,0.14208121078137662,0.1624129953058932,0.18145386749049303,0.1993580124722906,0.21625354164935767,0.23224805927967418,0.2474328185038272,0.26188587510859507,0.2756745157779858,0.2888571523349354,0.30148481698052676,0.3136023553217068,0.32524938764657796,0.3364610904560097,0.3472688371330383,0.35770072715955176,0.36778202636645935],[-0.5631504381424455,-0.3879660715639595,-0.27809275307749465,-0.1978489435372161,-0.1346020234593654,-0.08239519726558753,-0.037941043413361214,0.0007680345097580699,0.03504846257443979,0.06581035436929529,0.09370923137147358,0.11923293414304631,0.14275434584383576,0.16456489537685542,0.18489667990137199,0.20393755208597183,0.2218416970677694,0.23873722624483645,0.25473174387515296,0.26991650309930604,0.28436955970407385,0.29815820037346463,0.3113408369304142,0.32396850157600554,0.33608603991718566,0.34773307224205674,0.3589447750514885,0.3697525217285171,0.38018441175503054,0.39026571096193813]],\"type\":\"surface\"}],                        {\"scene\":{\"xaxis\":{\"title\":{\"text\":\"$c_1$\"}},\"yaxis\":{\"title\":{\"text\":\"$c_2$\"}},\"zaxis\":{\"title\":{\"text\":\"Utils\"}}},\"template\":{\"data\":{\"barpolar\":[{\"marker\":{\"line\":{\"color\":\"#E5ECF6\",\"width\":0.5},\"pattern\":{\"fillmode\":\"overlay\",\"size\":10,\"solidity\":0.2}},\"type\":\"barpolar\"}],\"bar\":[{\"error_x\":{\"color\":\"#2a3f5f\"},\"error_y\":{\"color\":\"#2a3f5f\"},\"marker\":{\"line\":{\"color\":\"#E5ECF6\",\"width\":0.5},\"pattern\":{\"fillmode\":\"overlay\",\"size\":10,\"solidity\":0.2}},\"type\":\"bar\"}],\"carpet\":[{\"aaxis\":{\"endlinecolor\":\"#2a3f5f\",\"gridcolor\":\"white\",\"linecolor\":\"white\",\"minorgridcolor\":\"white\",\"startlinecolor\":\"#2a3f5f\"},\"baxis\":{\"endlinecolor\":\"#2a3f5f\",\"gridcolor\":\"white\",\"linecolor\":\"white\",\"minorgridcolor\":\"white\",\"startlinecolor\":\"#2a3f5f\"},\"type\":\"carpet\"}],\"choropleth\":[{\"colorbar\":{\"outlinewidth\":0,\"ticks\":\"\"},\"type\":\"choropleth\"}],\"contourcarpet\":[{\"colorbar\":{\"outlinewidth\":0,\"ticks\":\"\"},\"type\":\"contourcarpet\"}],\"contour\":[{\"colorbar\":{\"outlinewidth\":0,\"ticks\":\"\"},\"colorscale\":[[0.0,\"#0d0887\"],[0.1111111111111111,\"#46039f\"],[0.2222222222222222,\"#7201a8\"],[0.3333333333333333,\"#9c179e\"],[0.4444444444444444,\"#bd3786\"],[0.5555555555555556,\"#d8576b\"],[0.6666666666666666,\"#ed7953\"],[0.7777777777777778,\"#fb9f3a\"],[0.8888888888888888,\"#fdca26\"],[1.0,\"#f0f921\"]],\"type\":\"contour\"}],\"heatmapgl\":[{\"colorbar\":{\"outlinewidth\":0,\"ticks\":\"\"},\"colorscale\":[[0.0,\"#0d0887\"],[0.1111111111111111,\"#46039f\"],[0.2222222222222222,\"#7201a8\"],[0.3333333333333333,\"#9c179e\"],[0.4444444444444444,\"#bd3786\"],[0.5555555555555556,\"#d8576b\"],[0.6666666666666666,\"#ed7953\"],[0.7777777777777778,\"#fb9f3a\"],[0.8888888888888888,\"#fdca26\"],[1.0,\"#f0f921\"]],\"type\":\"heatmapgl\"}],\"heatmap\":[{\"colorbar\":{\"outlinewidth\":0,\"ticks\":\"\"},\"colorscale\":[[0.0,\"#0d0887\"],[0.1111111111111111,\"#46039f\"],[0.2222222222222222,\"#7201a8\"],[0.3333333333333333,\"#9c179e\"],[0.4444444444444444,\"#bd3786\"],[0.5555555555555556,\"#d8576b\"],[0.6666666666666666,\"#ed7953\"],[0.7777777777777778,\"#fb9f3a\"],[0.8888888888888888,\"#fdca26\"],[1.0,\"#f0f921\"]],\"type\":\"heatmap\"}],\"histogram2dcontour\":[{\"colorbar\":{\"outlinewidth\":0,\"ticks\":\"\"},\"colorscale\":[[0.0,\"#0d0887\"],[0.1111111111111111,\"#46039f\"],[0.2222222222222222,\"#7201a8\"],[0.3333333333333333,\"#9c179e\"],[0.4444444444444444,\"#bd3786\"],[0.5555555555555556,\"#d8576b\"],[0.6666666666666666,\"#ed7953\"],[0.7777777777777778,\"#fb9f3a\"],[0.8888888888888888,\"#fdca26\"],[1.0,\"#f0f921\"]],\"type\":\"histogram2dcontour\"}],\"histogram2d\":[{\"colorbar\":{\"outlinewidth\":0,\"ticks\":\"\"},\"colorscale\":[[0.0,\"#0d0887\"],[0.1111111111111111,\"#46039f\"],[0.2222222222222222,\"#7201a8\"],[0.3333333333333333,\"#9c179e\"],[0.4444444444444444,\"#bd3786\"],[0.5555555555555556,\"#d8576b\"],[0.6666666666666666,\"#ed7953\"],[0.7777777777777778,\"#fb9f3a\"],[0.8888888888888888,\"#fdca26\"],[1.0,\"#f0f921\"]],\"type\":\"histogram2d\"}],\"histogram\":[{\"marker\":{\"pattern\":{\"fillmode\":\"overlay\",\"size\":10,\"solidity\":0.2}},\"type\":\"histogram\"}],\"mesh3d\":[{\"colorbar\":{\"outlinewidth\":0,\"ticks\":\"\"},\"type\":\"mesh3d\"}],\"parcoords\":[{\"line\":{\"colorbar\":{\"outlinewidth\":0,\"ticks\":\"\"}},\"type\":\"parcoords\"}],\"pie\":[{\"automargin\":true,\"type\":\"pie\"}],\"scatter3d\":[{\"line\":{\"colorbar\":{\"outlinewidth\":0,\"ticks\":\"\"}},\"marker\":{\"colorbar\":{\"outlinewidth\":0,\"ticks\":\"\"}},\"type\":\"scatter3d\"}],\"scattercarpet\":[{\"marker\":{\"colorbar\":{\"outlinewidth\":0,\"ticks\":\"\"}},\"type\":\"scattercarpet\"}],\"scattergeo\":[{\"marker\":{\"colorbar\":{\"outlinewidth\":0,\"ticks\":\"\"}},\"type\":\"scattergeo\"}],\"scattergl\":[{\"marker\":{\"colorbar\":{\"outlinewidth\":0,\"ticks\":\"\"}},\"type\":\"scattergl\"}],\"scattermapbox\":[{\"marker\":{\"colorbar\":{\"outlinewidth\":0,\"ticks\":\"\"}},\"type\":\"scattermapbox\"}],\"scatterpolargl\":[{\"marker\":{\"colorbar\":{\"outlinewidth\":0,\"ticks\":\"\"}},\"type\":\"scatterpolargl\"}],\"scatterpolar\":[{\"marker\":{\"colorbar\":{\"outlinewidth\":0,\"ticks\":\"\"}},\"type\":\"scatterpolar\"}],\"scatter\":[{\"marker\":{\"colorbar\":{\"outlinewidth\":0,\"ticks\":\"\"}},\"type\":\"scatter\"}],\"scatterternary\":[{\"marker\":{\"colorbar\":{\"outlinewidth\":0,\"ticks\":\"\"}},\"type\":\"scatterternary\"}],\"surface\":[{\"colorbar\":{\"outlinewidth\":0,\"ticks\":\"\"},\"colorscale\":[[0.0,\"#0d0887\"],[0.1111111111111111,\"#46039f\"],[0.2222222222222222,\"#7201a8\"],[0.3333333333333333,\"#9c179e\"],[0.4444444444444444,\"#bd3786\"],[0.5555555555555556,\"#d8576b\"],[0.6666666666666666,\"#ed7953\"],[0.7777777777777778,\"#fb9f3a\"],[0.8888888888888888,\"#fdca26\"],[1.0,\"#f0f921\"]],\"type\":\"surface\"}],\"table\":[{\"cells\":{\"fill\":{\"color\":\"#EBF0F8\"},\"line\":{\"color\":\"white\"}},\"header\":{\"fill\":{\"color\":\"#C8D4E3\"},\"line\":{\"color\":\"white\"}},\"type\":\"table\"}]},\"layout\":{\"annotationdefaults\":{\"arrowcolor\":\"#2a3f5f\",\"arrowhead\":0,\"arrowwidth\":1},\"autotypenumbers\":\"strict\",\"coloraxis\":{\"colorbar\":{\"outlinewidth\":0,\"ticks\":\"\"}},\"colorscale\":{\"diverging\":[[0,\"#8e0152\"],[0.1,\"#c51b7d\"],[0.2,\"#de77ae\"],[0.3,\"#f1b6da\"],[0.4,\"#fde0ef\"],[0.5,\"#f7f7f7\"],[0.6,\"#e6f5d0\"],[0.7,\"#b8e186\"],[0.8,\"#7fbc41\"],[0.9,\"#4d9221\"],[1,\"#276419\"]],\"sequential\":[[0.0,\"#0d0887\"],[0.1111111111111111,\"#46039f\"],[0.2222222222222222,\"#7201a8\"],[0.3333333333333333,\"#9c179e\"],[0.4444444444444444,\"#bd3786\"],[0.5555555555555556,\"#d8576b\"],[0.6666666666666666,\"#ed7953\"],[0.7777777777777778,\"#fb9f3a\"],[0.8888888888888888,\"#fdca26\"],[1.0,\"#f0f921\"]],\"sequentialminus\":[[0.0,\"#0d0887\"],[0.1111111111111111,\"#46039f\"],[0.2222222222222222,\"#7201a8\"],[0.3333333333333333,\"#9c179e\"],[0.4444444444444444,\"#bd3786\"],[0.5555555555555556,\"#d8576b\"],[0.6666666666666666,\"#ed7953\"],[0.7777777777777778,\"#fb9f3a\"],[0.8888888888888888,\"#fdca26\"],[1.0,\"#f0f921\"]]},\"colorway\":[\"#636efa\",\"#EF553B\",\"#00cc96\",\"#ab63fa\",\"#FFA15A\",\"#19d3f3\",\"#FF6692\",\"#B6E880\",\"#FF97FF\",\"#FECB52\"],\"font\":{\"color\":\"#2a3f5f\"},\"geo\":{\"bgcolor\":\"white\",\"lakecolor\":\"white\",\"landcolor\":\"#E5ECF6\",\"showlakes\":true,\"showland\":true,\"subunitcolor\":\"white\"},\"hoverlabel\":{\"align\":\"left\"},\"hovermode\":\"closest\",\"mapbox\":{\"style\":\"light\"},\"paper_bgcolor\":\"white\",\"plot_bgcolor\":\"#E5ECF6\",\"polar\":{\"angularaxis\":{\"gridcolor\":\"white\",\"linecolor\":\"white\",\"ticks\":\"\"},\"bgcolor\":\"#E5ECF6\",\"radialaxis\":{\"gridcolor\":\"white\",\"linecolor\":\"white\",\"ticks\":\"\"}},\"scene\":{\"xaxis\":{\"backgroundcolor\":\"#E5ECF6\",\"gridcolor\":\"white\",\"gridwidth\":2,\"linecolor\":\"white\",\"showbackground\":true,\"ticks\":\"\",\"zerolinecolor\":\"white\"},\"yaxis\":{\"backgroundcolor\":\"#E5ECF6\",\"gridcolor\":\"white\",\"gridwidth\":2,\"linecolor\":\"white\",\"showbackground\":true,\"ticks\":\"\",\"zerolinecolor\":\"white\"},\"zaxis\":{\"backgroundcolor\":\"#E5ECF6\",\"gridcolor\":\"white\",\"gridwidth\":2,\"linecolor\":\"white\",\"showbackground\":true,\"ticks\":\"\",\"zerolinecolor\":\"white\"}},\"shapedefaults\":{\"line\":{\"color\":\"#2a3f5f\"}},\"ternary\":{\"aaxis\":{\"gridcolor\":\"white\",\"linecolor\":\"white\",\"ticks\":\"\"},\"baxis\":{\"gridcolor\":\"white\",\"linecolor\":\"white\",\"ticks\":\"\"},\"bgcolor\":\"#E5ECF6\",\"caxis\":{\"gridcolor\":\"white\",\"linecolor\":\"white\",\"ticks\":\"\"}},\"title\":{\"x\":0.05},\"xaxis\":{\"automargin\":true,\"gridcolor\":\"white\",\"linecolor\":\"white\",\"ticks\":\"\",\"title\":{\"standoff\":15},\"zerolinecolor\":\"white\",\"zerolinewidth\":2},\"yaxis\":{\"automargin\":true,\"gridcolor\":\"white\",\"linecolor\":\"white\",\"ticks\":\"\",\"title\":{\"standoff\":15},\"zerolinecolor\":\"white\",\"zerolinewidth\":2}}},\"title\":{\"text\":\"Cobb-Douglas Utility\"}},                        {\"responsive\": true}                    ).then(function(){\n",
       "                            \n",
       "var gd = document.getElementById('e0397c56-6faa-44ee-aafb-d6a114506632');\n",
       "var x = new MutationObserver(function (mutations, observer) {{\n",
       "        var display = window.getComputedStyle(gd).display;\n",
       "        if (!display || display === 'none') {{\n",
       "            console.log([gd, 'removed!']);\n",
       "            Plotly.purge(gd);\n",
       "            observer.disconnect();\n",
       "        }}\n",
       "}});\n",
       "\n",
       "// Listen for the removal of the full notebook cells\n",
       "var notebookContainer = gd.closest('#notebook-container');\n",
       "if (notebookContainer) {{\n",
       "    x.observe(notebookContainer, {childList: true});\n",
       "}}\n",
       "\n",
       "// Listen for the clearing of the current output cell\n",
       "var outputEl = gd.closest('.output');\n",
       "if (outputEl) {{\n",
       "    x.observe(outputEl, {childList: true});\n",
       "}}\n",
       "\n",
       "                        })                };                });            </script>        </div>"
      ]
     },
     "metadata": {},
     "output_type": "display_data"
    }
   ],
   "source": [
    "import plotly.offline as py\n",
    "import plotly.graph_objs as go\n",
    "import numpy as np\n",
    "import pandas as pd\n",
    "import consumerdemands as demands\n",
    "\n",
    "py.init_notebook_mode(connected=True)\n",
    "\n",
    "########### Play with these parameters\n",
    "parms = {'alpha':[0.3,0.7], # Preference parameters\n",
    "         'beta':[1,1], # Curvature parameters\n",
    "         'phi':0}\n",
    "\n",
    "####################\n",
    "\n",
    "U = lambda c: demands.utility(c,**parms)\n",
    "\n",
    "# Prices of goods\n",
    "p = (1,2)\n",
    "\n",
    "# Budget\n",
    "x=2\n",
    "\n",
    "c1 = np.linspace(0.1, x/p[0]*1.2, 30)\n",
    "c2 = np.linspace(0.1, x/p[1]*1.2, 30)\n",
    "\n",
    "Utils = np.array([[U([c_1,c_2]) for c_1 in c1] for c_2 in c2])\n",
    "\n",
    "Ustar =  demands.marshallian.indirect_utility(x,p,parms)\n",
    "\n",
    "xs = [0,x/p[0],0,x/p[0]]\n",
    "ys = [x/p[1],0,x/p[1],0]\n",
    "zs = [Utils.min(),Utils.min(),Utils.max()*1.1,Utils.max()*1.1]\n",
    "\n",
    "budget= [{\n",
    "    'type': 'mesh3d',\n",
    "    'x': xs,\n",
    "    'y': ys,\n",
    "    'z': zs,\n",
    "    'delaunayaxis':'x',\n",
    "    'color': 'black',\n",
    "    'opacity': 1.0,\n",
    "}]\n",
    "\n",
    "utils = [\n",
    "    go.Surface(\n",
    "        x=c1,\n",
    "        y=c2,\n",
    "        z=Utils,\n",
    "        contours=go.surface.Contours(\n",
    "            z=go.surface.contours.Z(\n",
    "              show=True,\n",
    "              usecolormap=True,\n",
    "              highlightcolor=\"#42f462\",\n",
    "              project=dict(z=True)\n",
    "            )\n",
    "        )\n",
    "    )\n",
    "]\n",
    "\n",
    "data = budget + utils\n",
    "\n",
    "\n",
    "layout = go.Layout(\n",
    "    title='Cobb-Douglas Utility',\n",
    "    scene={'xaxis':{'title':'$c_1$'},\n",
    "           'yaxis':{'title':'$c_2$'},\n",
    "           'zaxis':{'title':'Utils'}})\n",
    "\n",
    "fig = go.Figure(data=data, layout=layout)\n",
    "\n",
    "py.iplot(fig, filename='latex')"
   ]
  },
  {
   "cell_type": "markdown",
   "metadata": {},
   "source": [
    "The budget constraint here is the black line/form.\n",
    "\n"
   ]
  },
  {
   "cell_type": "markdown",
   "metadata": {},
   "source": [
    "###### Questions\n",
    "\n"
   ]
  },
  {
   "cell_type": "markdown",
   "metadata": {},
   "source": [
    "1.  How is the budget constraint determined by prices $p$ and budget $x$?\n",
    "2.  The figure above shows a tangency between the budget line and a particular indifference curve.  Show that this point &ldquo;solves&rdquo; the consumer&rsquo;s problem, in the sense that it maximizes utility subject to the consumer&rsquo;s budget constraint.\n",
    "\n"
   ]
  },
  {
   "cell_type": "markdown",
   "metadata": {},
   "source": [
    "##### Demands\n",
    "\n"
   ]
  },
  {
   "cell_type": "markdown",
   "metadata": {},
   "source": [
    "We&rsquo;ve seen how one can find demands given a utility function and a budget constraint.  As one varies the price of a particular good (given a fixed budget and holding other prices fixed) one traces out the *demand curve* for the good.\n",
    "\n",
    "The following code does this for the same utility function we explored above.  Note that for obscure historical reasons ([Alfred](https://en.wikipedia.org/wiki/Alfred_Marshall) & [Mary Paley Marshall](https://en.wikipedia.org/wiki/Mary_Paley_Marshall) are to blame) it&rsquo;s conventional to plot the independent variable &ldquo;price&rdquo; on the vertical axis, instead of the horizontal.\n",
    "\n"
   ]
  },
  {
   "cell_type": "code",
   "execution_count": 5,
   "metadata": {},
   "outputs": [
    {
     "data": {
      "application/vnd.jupyter.widget-view+json": {
       "model_id": "d6b36653158148108f057758b41d013f",
       "version_major": 2,
       "version_minor": 0
      },
      "image/png": "[encoded data removed]",
      "text/html": [
       "\n",
       "            <div style=\"display: inline-block;\">\n",
       "                <div class=\"jupyter-widgets widget-label\" style=\"text-align: center;\">\n",
       "                    Figure\n",
       "                </div>\n",
       "                <img src='data:image/png;base64,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' width=640.0/>\n",
       "            </div>\n",
       "        "
      ],
      "text/plain": [
       "Canvas(toolbar=Toolbar(toolitems=[('Home', 'Reset original view', 'home', 'home'), ('Back', 'Back to previous …"
      ]
     },
     "metadata": {},
     "output_type": "display_data"
    }
   ],
   "source": [
    "from consumerdemands import marshallian\n",
    "import numpy as np\n",
    "import matplotlib.pyplot as plt\n",
    "\n",
    "# Demand for c_1 as a function of own price\n",
    "D1 = lambda p1,p2=1,x=1: marshallian.demands(x,(p1,p2),parms)[0]\n",
    "\n",
    "P = np.linspace(.5,5,100)\n",
    "\n",
    "plt.plot([D1(p1) for p1 in P],P)\n",
    "plt.xlabel('$c_1$')\n",
    "plt.ylabel('$p_1$')\n",
    "\n",
    "plt.show()"
   ]
  },
  {
   "cell_type": "markdown",
   "metadata": {},
   "source": [
    "###### Questions\n",
    "\n"
   ]
  },
  {
   "cell_type": "markdown",
   "metadata": {},
   "source": [
    "1.  How does the demand curve for $c_1$ change if the price of the other good changes?\n",
    "2.  How does the demand curve for $c_1$ change if the budget $x$ changes?\n",
    "\n"
   ]
  },
  {
   "cell_type": "markdown",
   "metadata": {},
   "source": [
    "##### Engel Curves\n",
    "\n"
   ]
  },
  {
   "cell_type": "markdown",
   "metadata": {},
   "source": [
    "The &ldquo;demand curve&rdquo; traces out how demand for a good changes as its price changes.  If prices remain fixed and the consumer&rsquo;s *budget* increases this describes what we call an [Engel](https://en.wikipedia.org/wiki/Ernst_Engel) curve.\n",
    "\n"
   ]
  },
  {
   "cell_type": "code",
   "execution_count": 6,
   "metadata": {},
   "outputs": [
    {
     "data": {
      "application/vnd.jupyter.widget-view+json": {
       "model_id": "d6b36653158148108f057758b41d013f",
       "version_major": 2,
       "version_minor": 0
      },
      "image/png": "[encoded data removed]",
      "text/html": [
       "\n",
       "            <div style=\"display: inline-block;\">\n",
       "                <div class=\"jupyter-widgets widget-label\" style=\"text-align: center;\">\n",
       "                    Figure\n",
       "                </div>\n",
       "                <img src='data:image/png;base64,iVBORw0KGgoAAAANSUhEUgAAAoAAAAHgCAYAAAA10dzkAAAAOXRFWHRTb2Z0d2FyZQBNYXRwbG90bGliIHZlcnNpb24zLjUuMSwgaHR0cHM6Ly9tYXRwbG90bGliLm9yZy/YYfK9AAAACXBIWXMAAA9hAAAPYQGoP6dpAABsiElEQVR4nO3dd3hUVeLG8e9MeocASSihl4TeEUJTFKSpa18b4upaEcXQkSadWNfCsrq46k/RtQKKigoJTemCEHoLNUBIIX1m7u+PCQlZLCBJbmbm/TxPnt3cM5l5EzDzcs6951oMwzAQEREREY9hNTuAiIiIiFQsFUARERERD6MCKCIiIuJhVABFREREPIwKoIiIiIiHUQEUERER8TAqgCIiIiIeRgVQRERExMOoAIqIiIh4GBVAEREREQ+jAigiIiLiYVQARURERDyMCqCIiIiIh1EBFBEREfEwKoAiIiIiHkYFUERERMTDqACKiIiIeBgVQBEREREPowIoIiIi4mFUAEVEREQ8jAqgiIiIiIdRARQRERHxMCqAIiIiIh5GBVBERETEw6gAioiIiHgYFUARERERD6MCKCIiIuJhVABFREREPIwKoIiIiIiHUQEUERER8TAqgCIiIiIeRgVQRERExMOoAIqIiIh4GBVAEREREQ+jAigiIiLiYVQARURERDyMCqCIXLG3334bi8Xymx8rVqwwOyIA999/P/Xr17/kxy9evJjBgwcTGRmJr68v4eHh9OnTh//7v/+jsLCw/IKKiJQzb7MDiIj7WLBgATExMRcdb968uQlp/jzDMHjggQd4++23GTBgAC+88ALR0dFkZGSwfPlyHnvsMU6fPs3w4cPNjioi8qeoAIpImWnZsiUdO3Y0O8YVmzt3Lm+//TZTpkxh4sSJpcYGDx7MqFGj2Lt3b5m8Vk5ODoGBgWXyXCIil0pLwCJSoSwWC0888QTvvvsusbGxBAYG0qZNG5YsWXLRY7/44gtat26Nn58fDRs25OWXX2by5MlYLJZSjzMMg9dff522bdsSEBBA1apVufXWW9m/f/9l5yssLGT27NnExMTw7LPP/upjoqKi6N69OwArVqz41WXugwcPYrFYePvtt4uP3X///QQHB7Nt2zb69u1LSEgIffr04amnniIoKIjMzMyLXuuOO+4gMjKy1JLzhx9+SNeuXQkKCiI4OJh+/fqxefPmUl+3f/9+7rzzTmrVqoWfnx+RkZH06dOHLVu2XPbPRETcjwqgiJQZu92OzWYr9WG32y963Jdffsmrr77K1KlT+eSTTwgPD+cvf/lLqcL29ddfc/PNN1OtWjU+/PBD5syZwwcffMB//vOfi57v4Ycf5qmnnuLaa6/l888/5/XXX2f79u1069aNkydPXtb3sGHDBtLS0rjxxhsvKpploaCggBtuuIFrrrmGL774gilTpvDAAw+Qk5PDRx99VOqx6enpfPHFF9xzzz34+PgAMGPGDP7617/SvHlzPvroI959912ysrLo0aMHO3bsKP7aAQMGsHHjRubMmcOyZct44403aNeuHenp6WX+PYmICzJERK7QggULDOBXP7y8vEo9FjAiIyONzMzM4mMnTpwwrFarMXPmzOJjnTp1MqKjo438/PziY1lZWUa1atWMC391rV271gCM559/vtTrpKSkGAEBAcaoUaOKjw0ZMsSoV6/e734vCxcuNABj3rx5l/S9L1++3ACM5cuXlzp+4MABAzAWLFhQ6vUB49///vdFz9O+fXujW7dupY69/vrrBmBs27bNMAzDOHz4sOHt7W0MGzas1OOysrKMqKgo4/bbbzcMwzBOnz5tAMZLL710Sd+DiHgenQMoImXmnXfeITY2ttSxX5tFu/rqqwkJCSn+PDIykoiICA4dOgRAdnY2GzZs4IknnsDX17f4ccHBwQwePLjUsuqSJUuwWCzcc8892Gy24uNRUVG0adOm0lyBfKFbbrnlomNDhw5l2LBh7Nq1i2bNmgHOi2o6depEy5YtAfjmm2+w2Wzcd999pb5Xf39/evXqxfLlywEIDw+nUaNGzJ07F7vdztVXX02bNm2wWrXoIyJO+m0gImUmNjaWjh07lvro0KHDRY+rVq3aRcf8/PzIzc0F4OzZsxiGQWRk5EWP+99jJ0+eLH6sj49PqY8ff/yR06dPX9b3ULduXQAOHDhwWV93qQIDAwkNDb3o+N13342fn19xud2xYwfr169n6NChxY85v5zdqVOni77XDz/8sPh7tVgsfP/99/Tr1485c+bQvn17atSowZNPPklWVla5fF8i4lo0AygilU7VqlWxWCy/ev7eiRMnSn1evXp1LBYLK1euxM/P76LH/9qx39OxY0fCw8P54osvmDlz5h+eB+jv7w9Afn5+qeO/VTx/6/mqVq3KjTfeyDvvvMO0adNYsGAB/v7+/PWvfy1+TPXq1QH4+OOPqVev3u/mqlevHm+99RYAu3fv5qOPPmLy5MkUFBQwb9683/1aEXF/mgEUkUonKCiIjh078vnnn1NQUFB8/Ny5cxddLTxo0CAMw+Do0aMXzT527NiRVq1aXdZr+/j4MHr0aHbu3Mlzzz33q49JTU1l9erVAMUbS2/durXUYxYtWnRZrwvOZeBjx47x1Vdf8d577/GXv/yFKlWqFI/369cPb29v9u3b96vf629twdO0aVMmTJhAq1at2LRp02XnEhH3oxlAESkzv/zyS6lz085r1KgRNWrUuKznmjp1KgMHDqRfv34MHz4cu93O3LlzCQ4OJi0trfhxcXFx/P3vf2fo0KFs2LCBnj17EhQUxPHjx1m1ahWtWrXi0UcfvazXHjlyJMnJyUyaNIl169Zx1113FW8EnZSUxPz585kyZQpxcXFERUVx7bXXMnPmTKpWrUq9evX4/vvv+fTTTy/rNQH69u1LnTp1eOyxxzhx4kSp5V9wls2pU6cyfvx49u/fz/XXX0/VqlU5efIk69atIygoiClTprB161aeeOIJbrvtNpo0aYKvry8//PADW7duZcyYMZedS0TckMkXoYiIG/i9q4AB41//+lfxYwHj8ccfv+g56tWrZwwZMqTUsc8++8xo1aqV4evra9StW9eYNWuW8eSTTxpVq1a96Ov//e9/G126dDGCgoKMgIAAo1GjRsZ9991nbNiwofgxl3IV8IW++OILY+DAgUaNGjUMb29vo2rVqsbVV19tzJs3r9TVycePHzduvfVWIzw83AgLCzPuueceY8OGDb96FXBQUNDvvua4ceMMwIiOjjbsdvuvPubzzz83rr76aiM0NNTw8/Mz6tWrZ9x6663Gd999ZxiGYZw8edK4//77jZiYGCMoKMgIDg42Wrdubbz44ouGzWa75O9fRNyXxTAMw6zyKSJyOQoLC2nbti21a9fm22+/NTuOiIjL0hKwiFRaf/vb37juuuuoWbMmJ06cYN68eSQnJ/Pyyy+bHU1ExKWpAIpIpZWVlUV8fDynTp3Cx8eH9u3b89VXX3HttdeaHU1ExKVpCVhERETEw2gbGBEREREPowIoIiIi4mFUAEVEREQ8jAqgiIiIiIfRVcBXwOFwcOzYMUJCQv7wfqEiIiJSORiGQVZWFrVq1cJq9cy5MBXAK3Ds2DGio6PNjiEiIiJ/QkpKCnXq1DE7hilUAK9ASEgI4PwLFBoaanIaERERuRSZmZlER0cXv497IhXAK3B+2Tc0NFQFUERExMV48ulbnrnwLSIiIuLBVABFREREPIwKoIiIiIiH0TmA5cwwDGw2G3a73ewoFcrLywtvb2+PPr9CRESkslIBLEcFBQUcP36cnJwcs6OYIjAwkJo1a+Lr62t2FBEREbmACmA5cTgcHDhwAC8vL2rVqoWvr6/HzIYZhkFBQQGnTp3iwIEDNGnSxGM32hQREamMVADLSUFBAQ6Hg+joaAIDA82OU+ECAgLw8fHh0KFDFBQU4O/vb3YkERERKaJpmXLmyTNfnvy9i4iIVGZ6hxYRERHxMB5dAOvXr4/FYrno4/HHHzc7moiIiEi58ehzANevX19qe5ZffvmF6667jttuu83EVCIiIiLly6NnAGvUqEFUVFTxx5IlS2jUqBG9evUyO5rpTp06xd///nciIyMJCAigTZs2JCUlmR1LREQ8iGEYZkdwWx5dAC9UUFDAe++9xwMPPPCb27Xk5+eTmZlZ6sMdHTp0iNatW3P27Fm++OILtm7dyrBhwwgJCTE7moiIeIitp7Zyy+JbOJx52Owobsmjl4Av9Pnnn5Oens7999//m4+ZOXMmU6ZM+dOvYRgGuYUVf0eQAB+vy9qD8NFHHyUmJoaPPvqo+OuaNGkCwF/+8hdWrFhBnz59+Pjjj8slr4iIeC6H4eDdHe/y0saXsBk2Xtr0Ei/0fsHsWG7HYmh+FYB+/frh6+vL4sWLf/Mx+fn55OfnF3+emZlJdHQ0GRkZhIaGlnpsXl4eBw4coEGDBsV74OUU2Gg+8Zvy+QZ+x46p/Qj0vbSuf/jwYerVq8emTZto167dRePLly/n3Llz/Oc///nDAvhrPwMREZHfkp6XzvjV40k64jzlqG+9vkzuNpkQ37JdgcrMzCQsLOxX3789hWYAcS55fvfdd3z66ae/+zg/Pz/8/PwqKJU5Nm/ejK+v76+WP4Crr76aFStWVGwoERFxe5tObmJU0ihO5pzE1+rL6M6jua3pbR5zF62KpgIILFiwgIiICAYOHFiurxPg48WOqf3K9TV+63UvlY+PDzabjZycHI+8g4mIiFQsh+Hg37/8m1c3v4rdsFM/tD4JvRJoFt7M7GhuzeMLoMPhYMGCBQwZMgRv7/L9cVgslkteijVLly5dCAsL49FHH2XMmDEYhkFSUhK9e/cmJibG7HgiIuJGzuSeYdyqcaw5tgaAgQ0H8uxVzxLkE2RyMvfn8VcBf/fddxw+fJgHHnjA7CiVQrVq1Vi8eDF79uyhU6dOdO/enc8//5zIyEizo4mIiBtZd3wdty6+lTXH1uDv5c/UblOZ2X2myl8FqdzTURWgb9++2mfof8TFxbFmzRqzY4iIiBuyO+zM3zqfeVvn4TAcNAprREKvBBpXbWx2NI/i8QVQLk+/fv3YtGkT2dnZ1KlTh88++4xOnTqZHUtERFzAqZxTjFk5hnUn1gFwU+ObGNt5LIE+Oue8oqkAymX55puK38ZGRERc35qjaxi7aixpeWkEeAfw7FXPMrjRYLNjeSwVQBERESk3NoeN17a8xpvb3gSgadWmJPRKoEFYA5OTeTYVQBERESkXJ7JPMCppFJtTNwNwe9PbGdlpJP7eujmA2VQARUREpMwlHUli3KpxZORnEOQTxOSuk7m+wfVmx5IiKoAiIiJSZgrthby86WX+s+M/ADSv1pyEnglEh0abnEwupAIoIiIiZeLouaOMShzF1tNbAbgn9h6e7vA0vl6+JieT/6UCKCIiIlfs+0Pf8+yaZ8kqyCLEN4Tn4p6jT90+ZseS36ACKCIiIn9agb2A5zc8z/s73wegdY3WzO05l1rBtUxOJr9HBVBERET+lMOZhxmZNJIdZ3YAMLTFUIa1H4aP1cfkZPJHVABFRETksn198Gsmr5lMdmE2VfyqML37dHrW6Wl2LLlEKoAiIiJyyfJsecxZP4f/7v4vAO0j2jO752yigqJMTiaXQwVQRERELsmBjAPEJ8az++xuLFh4sNWDPNb2MbytqhOuRn9iIiIi8ocW71vMcz8+R64tl3D/cGb2mEm3Wt3MjiV/ktXsAFI5nTp1ir///e9ERkYSEBBAmzZtSEpKMjuWiIhUsJzCHCasmsC4VePIteXSOaozHw/+WOXPxWkGUC5y6NAhrrrqKrp3784XX3xBtWrVSExMJCQkxOxoIiJSgfac3UN8Yjz7M/ZjtVh5pM0j/L3V3/GyepkdTa6QCmBFMgwozKn41/UJBIvlkh/+6KOPEhMTw0cffYSl6OuaNGlCSkoKvXv3JjU1FW9vb5599lluu+228kotIiImMQyDT/d8yqx1s8iz51EjoAaze86mU1Qns6NJGVEBrEiFOTDDhI0xxx0D36BLeujhw4dZunQpmzZtKi5/53l7e/PSSy/Rtm1bUlNTad++PQMGDCAo6NKeW0REKr/swmymrp3KVwe+AiCuVhwzeswg3D/c5GRSllQApZTNmzfj6+tLu3btLhqrWbMmNWvWBCAiIoLw8HDS0tJUAEVE3MTOtJ3EJ8ZzKPMQXhYvhrUbxtCWQ7FadMmAu1EBrEg+gc7ZODNe91If6uODzWYjJyeHwMDf/roNGzbgcDiIjo4ui4QiImIiwzD4cNeHzF0/lwJHAVFBUcztOZe2EW3NjiblRAWwIlksl7wUa5YuXboQFhbGo48+ypgxYzAMg6SkJHr37k1MTAwAZ86c4b777uPNN980Oa2IiFyprIIsJq2ZxLJDywDoXac3z8U9RxX/KuYGk3KlOV0ppVq1aixevJg9e/bQqVMnunfvzueff05kZCQA+fn5/OUvf2Hs2LF066YtAEREXNkvp3/htsW3sezQMryt3ozsOJJXrnlF5c8DaAZQLhIXF8eaNWsuOm4YBvfffz/XXHMN9957rwnJRESkLBiGwXvJ7/HCxhewOWzUDq7N3J5zaVWjldnRpIKoAMolW716NR9++CGtW7fm888/B+Ddd9+lVSv9whARcRUZ+RlMWD2BFSkrALi27rVMiZtCqG+oqbmkYqkAyiXr3r07DofD7BgiIvInbUndwsikkZzIPoGP1YeRnUZyZ7M7L9r2S9yfCqCIiIibcxgO3t7+Nq9segW7YaduSF0SeiUQWy3W7GhiEhVAERERN5aWl8b4VeNZdXQVAP3r92di14kE+wabnEzMpAIoIiLipjac2MDopNGk5qbi5+XHmM5juKXJLVryFRVAERERd2N32Hlz25u8/vPrOAwHDcIakNArgaZVm5odTSoJFUARERE3cjr3NGNWjuGn4z8BcEOjGxjfZTyBl3FXKHF/KoDlzJOvmvXk711ExAw/Hv+RMUljOJN3hgDvAMZ3Gc+NjW80O5ZUQiqA5cTX1xer1cqxY8eoUaMGvr6+HnPOhWEYFBQUcOrUKaxWK76+vmZHEhFxazaHjXk/z2P+1vkYGDSu0pjnez1PwyoNzY4mlZQKYDmxWq00aNCA48ePc+zYMbPjmCIwMJC6detiteqOgyIi5eVk9klGrxzNxpMbAbilyS2M6TwGf29/k5NJZaYCWI58fX2pW7cuNpsNu91udpwK5eXlhbe3t8fMeoqImGHlkZWMXzWes/lnCfQOZFLXSQxoOMDsWOICVADLmcViwcfHBx8fH7OjiIiImyh0FPKPzf9gwS8LAIgJjyGhVwL1QuuZnExchQqgiIiICzl+7jgjk0by86mfAbiz2Z3Ed4rHz8vP5GTiSlQARUREXMTyw8uZsHoCmQWZhPiEMCVuCtfVu87sWOKCPPrs/KNHj3LPPfdQrVo1AgMDadu2LRs3bjQ7loiISCmF9kJmr5vNk8ufJLMgk5bVWvLh4A9V/uRP89gZwLNnzxIXF8fVV1/N0qVLiYiIYN++fVSpUsXsaCIiIsVSslIYmTiS7We2A3Bv83t5uv3T+Hjp3HL58zy2AM6ePZvo6GgWLFhQfKx+/frmBRIREfkf3x78lklrJnGu8BxhfmFMi5tG7+jeZscSN+CxS8CLFi2iY8eO3HbbbURERNCuXTv+9a9/mR1LRESEfHs+036cxjOJz3Cu8BztItrx8eCPVf6kzHhsAdy/fz9vvPEGTZo04ZtvvuGRRx7hySef5J133vnNr8nPzyczM7PUh4iISFk6mHGQu7+8mw93fQjA31r+jbf6vUVUUJTJycSdWAzDMMwOYQZfX186duzImjVrio89+eSTrF+/nrVr1/7q10yePJkpU6ZcdDwjI4PQ0NByyyoiIp7hy/1fMnXtVHJsOYT7hzOj+wziaseZHcvtZGZmEhYW5tHv3x47A1izZk2aN29e6lhsbCyHDx/+za8ZO3YsGRkZxR8pKSnlHVNERDxAri2XSWsmMWblGHJsOXSK6sR/B/9X5U/KjcdeBBIXF8euXbtKHdu9ezf16v32Lup+fn74+WmjTRERKTv70vcRnxjP3vS9WLDwSJtHeLj1w3hZvcyOJm7MYwvg008/Tbdu3ZgxYwa3334769atY/78+cyfP9/saCIi4gEMw+DzvZ8z46cZ5NnzqB5QnVk9ZtGlZhezo4kH8NhzAAGWLFnC2LFj2bNnDw0aNGDEiBE89NBDl/z1OodARET+jJzCHKb9OI3F+xcD0LVmV2b0mEH1gOomJ/MMev/28AJ4pfQXSERELteutF3EJ8ZzMPMgVouVJ9o+wd9a/Q2rxWNPy69wev/24CVgERGRimQYBv/d/V9mr5tNgaOAiMAI5vScQ4fIDmZHEw+kAigiIlLOzhWcY/LayXxz8BsAetTuwfTu06nqX9XkZOKpVABFRETK0fYz2xmZOJKUrBS8Ld4Mbz+c+1rcpyVfMZUKoIiISDkwDIP3d77P8xuep9BRSK2gWszpNYc2NdqYHU1EBVBERKSsZeRnMGnNJL4//D0A10Rfw9S4qYT5hZmcTMRJBVBERKQMbT21lZGJIzmWfQwfqw/PdHyGu2LuwmKxmB1NpJgKoIiISBlwGA7e3fEuL218CZtho05wHRJ6J9CiWguzo4lcRAVQRETkCqXnpTN+9XiSjiQB0K9+PyZ1nUSIb4jJyUR+nQqgiIjIFdh0chOjkkZxMuckvlZfRncezW1Nb9OSr1RqKoAiIiJ/gsNw8O9f/s2rm1/FbtipH1qfhF4JNAtvZnY0kT+kAigiInKZzuSeYdyqcaw5tgaAgQ0H8uxVzxLkE2RyMpFLowIoIiJyGdYdX8folaM5nXsafy9/xnUZx02Nb9KSr7gUFUAREZFLYHfYmb91PvO2zsNhOGgU1oiEXgk0rtrY7Ggil00FUERE5A+k5qQyZuUY1p9YD8BNjW9ibOexBPoEmpxM5M9RARQREfkda46uYeyqsaTlpRHgHcCzVz3L4EaDzY4lckVUAEVERH6FzWHjtS2v8ea2NwFoVrUZc3vNpUFYA5OTiVw5FUAREZH/cSL7BKOSRrE5dTMAdzS7g5GdRuLn5WdyMpGyoQIoIiJygcSURMavHk9GfgbBPsFM7jaZfvX7mR1LpEypAIqIiACF9kJe2vQS7+x4B4AW1Vowt9dcokOiTU4mUvZUAEVExOMdyTrCqKRRbDu9DYB7Yu/h6Q5P4+vla3IykfKhAigiIh7tu0PfMXH1RLIKswjxDeG5uOfoU7eP2bFEypUKoIiIeKR8ez7Pb3ieD3Z+AEDrGq2Z23MutYJrmZxMpPypAIqIiMc5nHmY+MR4ktOSARjacijD2g3Dx+pjcjKRiqECKCIiHmXpgaVMWTuF7MJsqvhVYXr36fSs09PsWCIVSgVQREQ8Qp4tj9nrZ/Px7o8BaB/Rntk9ZxMVFGVyMpGKpwIoIiJub3/GfuIT49lzdg8WLDzU+iEebfMo3la9DYpn0t98ERFxa4v2LWLaj9PIteVSzb8aM3vMpGutrmbHEjGVCqCIiLilnMIcZvw0gy/2fQFAl6guzOo5i+oB1U1OJmI+FUAREXE7e87uIT4xnv0Z+7FarDza5lEeavUQXlYvs6OJVAoqgCIi4jYMw+DTPZ8yc91M8u35RAREMKvnLDpFdTI7mkilogIoIiJuIbswm6lrp/LVga8AiKsVx4weMwj3Dzc5mUjlowIoIiIub2faTuIT4zmUeQgvixfD2g1jaMuhWC1Ws6OJVEoqgCIi4rIMw+CjXR8xZ/0cChwFRAVFMbfnXNpGtDU7mkilpgIoIiIuKbMgk8lrJrPs0DIAetfpzXNxz1HFv4q5wURcgAqgiIi4nF9O/0J8YjxHzx3F2+rN0+2f5t7m92KxWMyOJuISVABFRMRlGIbBe8nv8cLGF7A5bNQOrs3cnnNpVaOV2dFEXIoKoIiIuISM/AwmrJ7AipQVAFxb91qmxE0h1DfU1FwirshjL4+aPHkyFoul1EdUlG4ILiJSGW1J3cKti29lRcoKfKw+jO08lhd6v6DyJ/InefQMYIsWLfjuu++KP/fy0g7xIiKVicNw8Pb2t3ll0yvYDTt1Q+qS0CuB2GqxZkcTcWkeXQC9vb016yciUkml5aUxftV4Vh1dBUD/+v2Z2HUiwb7BJicTcX0eXQD37NlDrVq18PPzo0uXLsyYMYOGDRuaHYtj6bkcS8+lerAf9asHmR1HRKTCrT+xnjFJY0jNTcXPy48xncdwS5NbdJWvSBnx2HMAu3TpwjvvvMM333zDv/71L06cOEG3bt04c+bMb35Nfn4+mZmZpT7Kw8L1Kdw6by1vrTpQLs8vIlJZ2R125v08jwe/fZDU3FQahDXg/YHvc2vTW1X+RMqQx84A9u/fv/j/t2rViq5du9KoUSP+85//MGLEiF/9mpkzZzJlypRyz+ZV9EvObhjl/loiIpXF6dzTjFk5hp+O/wTAjY1uZFyXcQT6BJqcTMT9eOwM4P8KCgqiVatW7Nmz5zcfM3bsWDIyMoo/UlJSyiWLV9Gfit2uAiginmHtsbXcsugWfjr+EwHeAUzvPp1p3aep/ImUE4+dAfxf+fn5JCcn06NHj998jJ+fH35+fuWexWp1zgA6NAMoIm7O5rDx+pbXeXPbmxgYNKnahIReCTQMM/98bBF35rEFMD4+nsGDB1O3bl1SU1OZNm0amZmZDBkyxOxoWgIWEY9wMvsko5JGsSl1EwC3Nr2V0Z1G4+/tb3IyEffnsQXwyJEj/PWvf+X06dPUqFGDq666ih9//JF69eqZHQ2v8zOADhVAEXFPSUeSGL9qPOn56QR6BzK522T6N+j/x18oImXCYwvgwoULzY7wm6zFM4AmBxERKWOFjkL+sekfLNi+AIDY8Fjm9ppLvVDz//Et4kk8tgBWZpoBFBF3dOzcMUYmjWTrqa0A3BVzF890fAZfL1+Tk4l4HhXASuj8RSB2FUARcRM/HP6BZ1c/S2ZBJiE+IUyNm8q19a41O5aIx1IBrITOXwRiUwEUERdXaC/khY0v8F7yewC0qt6KOT3nUCekjsnJRDybCmAldH4fQENXAYuIC0vJSmFk4ki2n9kOwJDmQxjefjg+Xj4mJxMRFcBKyKptYETExX178FsmrZnEucJzhPmFMS1uGr2je5sdS0SKqABWQl46B1BEXFS+PZ+56+fy4a4PAWgX0Y45PecQFRRlcjIRuZAKYCWkAigiruhgxkHiE+PZdXYXAH9r+Tceb/c4PlYt+YpUNiqAlZAKoIi4miX7lzB17VRybbmE+4czo/sM4mrHmR1LRH6DCmAldP4qYN0LWEQqu1xbLrPWzeLTPZ8C0CmqE7N6zCIiMMLkZCLye1QAK6HzM4DaBkZEKrO9Z/cyMmkke9P3YsHCw20e5pHWj+Bl9TI7moj8ARXASkh3AhGRyswwDD7f+zkzfppBnj2P6gHVmdVjFl1qdjE7mohcIhXASkgzgCJSWeUU5jDtx2ks3r8YgK41uzKjxwyqB1Q3OZmIXA4VwEpIF4GISGW0K20X8YnxHMw8iNVi5Ym2T/C3Vn/DarGaHU1ELpMKYCWki0BEpDIxDIP/7v4vs9fNpsBRQERgBHN6zqFDZAezo4nIn6QCWAlpBlBEKotzBeeYsnYKXx/8GoAetXswvft0qvpXNTmZiFwJFcBKSOcAikhlsP3MdkYmjiQlKwVvizfD2w/nvhb3aclXxA2oAFZCmgEUETMZhsH7O9/n+Q3PU+gopFZQLeb0mkObGm3MjiYiZUQFsBJSARQRs2TkZzBx9UR+SPkBgGuir2Fq3FTC/MJMTiYiZcktCmBmZiY//PADzZo1IzY21uw4V8xqUQEUkYr386mfGZU4imPZx/Cx+vBMx2e4K+YuLEW/k0TEfbjkiRy33347r776KgC5ubl07NiR22+/ndatW/PJJ5+YnO7KeXupAIpIxXEYDt7+5W3uX3o/x7KPER0SzbsD3uXu2LtV/kTclEsWwKSkJHr06AHAZ599hmEYpKen88orrzBt2jST0105b10EIiIV5GzeWZ74/gme3/g8NsPG9fWv56NBH9GiWguzo4lIOXLJApiRkUF4eDgAX3/9NbfccguBgYEMHDiQPXv2mJzuyp1fAtat4ESkPG08uZFbF9/KyqMr8bX6MrHrROb0nEOwb7DZ0USknLnkOYDR0dGsXbuW8PBwvv76axYuXAjA2bNn8ff3NzndlfO2Onu5ZgBFpDw4DAdvbnuT17a8hsNwUD+0Pgm9EmgW3szsaCJSQVyyAD711FPcfffdBAcHU69ePXr37g04l4ZbtWplbrgy4HX+HEDdCUREytjp3NOMWzmOtcfXAjCo4SCevepZAn0CTU4mIhXJJQvgY489RufOnUlJSeG6667DWjRj1rBhQ7c6B1AXgYhIWfrp+E+MWTmG07mn8ffyZ1yXcdzU+CZd6CHigVyyAAJ07NiRjh07ljo2cOBAk9KUrQv3ATQMQ7+cReSK2B125m2dxz9//icGBo2rNCahVwKNqjQyO5qImMQlC6Ddbuftt9/m+++/JzU1FYfDUWr8hx9+MClZ2Tg/AwjOEnh+WxgRkcuVmpPKmJVjWH9iPQA3N7mZMZ3HEOAdYHIyETGTSxbA4cOH8/bbbzNw4EBatmzpdjNkXhcWQMNwzT8kETHd6qOrGbdqHGl5aQR6BzKx60QGNnSPlRIRuTIu2S0WLlzIRx99xIABA8yOUi7OXwUMYLMb+Lnkn5KImMXmsPHaltd4c9ubADSr2oyEXgnUD6tvbjARqTRcslr4+vrSuHFjs2OUm/+dARQRuVQnsk8wKmkUm1M3A3BHszsY2Wkkfl5+JicTkcrEJTeCfuaZZ3j55Zcx3LQclSqAdvf8HkWk7K1IWcGti29lc+pmgn2CSeiVwISrJqj8ichFXHIGcNWqVSxfvpylS5fSokULfHx8So1/+umnJiUrGxf0Pwr/5wIXEZH/VWgv5KVNL/HOjncAaFGtBXN7zSU6JNrkZCJSWblkAaxSpQp/+ctfzI5RbiwWC95WCzaHob0AReR3Hck6wqikUWw7vQ2Ae2Lv4ekOT+Pr5WtyMhGpzFyyAC5YsMDsCOXOq6gA2rQELCK/4btD3zFx9USyCrMI8Q3hubjn6FO3j9mxRMQFuGQBPO/UqVPs2rULi8VC06ZNqVGjhtmRyoy31UI+uhuIiFyswF5AwoYEPtj5AQCta7Rmbs+51AquZXIyEXEVLlkAs7OzGTZsGO+8807xJtBeXl7cd999/OMf/yAw0PXvaentZQXs2HQOoIhc4HDmYeIT40lOSwZgaMuhDGs3DB+rzx98pYhICZe8CnjEiBEkJiayePFi0tPTSU9P54svviAxMZFnnnnG7HhlouR+wCYHEZFKY+mBpdy+5HaS05Kp4leF1/q8xogOI1T+ROSyueQM4CeffMLHH39M7969i48NGDCAgIAAbr/9dt544w3zwpWR87d/K1QDFPF4ebY8Zq+fzce7PwagfUR75vScQ2RQpMnJRMRVueQMYE5ODpGRF//ii4iIICcn508958yZM7FYLDz11FNXmK5snL8biM4BFPFs+zP2c9dXd/Hx7o+xYOHvrf/OW/3eUvkTkSvikgWwa9euTJo0iby8vOJjubm5TJkyha5du172861fv5758+fTunXrsox5Rc5vBq1zAEU816J9i7hzyZ3sObuHcP9w/nndPxnWbhjeVpdcvBGRSsQlf4u8/PLLXH/99dSpU4c2bdpgsVjYsmUL/v7+fPPNN5f1XOfOnePuu+/mX//6F9OmTSunxJdP5wCKeK6cwhxm/DSDL/Z9AUCXqC7M6jmL6gHVTU4mIu7CJQtgy5Yt2bNnD++99x47d+7EMAzuvPNO7r77bgICAi7ruR5//HEGDhzItdde+4cFMD8/n/z8/OLPMzMz/1T+S3H+HECbGqCIR9lzdg/xifHsz9iP1WLl0TaP8lCrh/CyepkdTUTciEsWQICAgAAeeuihK3qOhQsXsmnTJtavX39Jj585cyZTpky5ote8VF5F5wDadA6giEcwDINP93zKzHUzybfnExEQwayes+gU1cnsaCLihlymAC5atIj+/fvj4+PDokWLfvexN9xwwx8+X0pKCsOHD+fbb7/F39//kjKMHTuWESNGFH+emZlJdHT53GvTx0vnAIp4iuzCbKasncLSA0sBiKsdx4zuMwj3Dzc5mYi4K5cpgDfddBMnTpwgIiKCm2666TcfZ7FYsNvtf/h8GzduJDU1lQ4dOhQfs9vtJCUl8eqrr5Kfn4+XV+klFz8/P/z8/P7093A5zl8EUqhbwYm4teQzycQnxnM46zBeFi+ebP8k97e4H6vFJa/RExEX4TIF0HHBTJijDGbF+vTpw7Zt20odGzp0KDExMYwePfqi8lfRfM4vAasAirglwzBYuGshc9fPpdBRSFRQFHN7zqVtRFuzo4mIB3CZAnihd955hzvuuOOi2biCggIWLlzIfffd94fPERISQsuWLUsdCwoKolq1ahcdN4O3loBF3FZmQSaT10xm2aFlAPSu05tp3acR5hdmcjIR8RQuucYwdOhQMjIyLjqelZXF0KFDTUhU9or3AdQMoIhb2XZqG7cvvp1lh5bhbfVmVKdRvHLNKyp/IlKhXHIG0DAMLBbLRcePHDlCWNif/yW6YsWKK0hVtny8zl8FrBlAEXdgGAbv7niXFze9iM1ho3ZwbRJ6JdCyuvkrDiLieVyqALZr1w6LxYLFYqFPnz54e5fEt9vtHDhwgOuvv97EhGXHWxeBiLiNjPwMJqyawIojKwC4rt51TOk2hRDfEHODiYjHcqkCeP7q3y1bttCvXz+Cg4OLx3x9falfvz633HKLSenKVvEMoDaCFnFpW1K3MDJpJCeyT+Bj9WFUp1Hc0eyOX13FEBGpKC5VACdNmgRA/fr1ueOOOy55/z5XVLIPoGYARVyRw3Cw4JcF/GPzP7AbduqF1iOhVwIx4TFmRxMRca0CeN6QIUMA2LBhA8nJyVgsFmJjY0vt6efqvItmALUELOJ60vLSGLdqHKuPrgZgQIMBTOw6kSCfIJOTiYg4uWQBPHr0KHfeeSerV6+mSpUqAKSnp9OtWzc++OCDcrs7R0Xy0b2ARVzS+hPrGZM0htTcVPy8/BjbeSw3N7lZS74iUqm47DYwhYWFJCcnk5aWRlpaGsnJyRiGwd/+9jez45UJ76KNoAu1BCziEuwOO2/8/AYPfvsgqbmpNAxryAcDP+CWpreo/IlIpeOSM4ArV65kzZo1NGvWrPhYs2bN+Mc//kFcXJyJycqOt2YARVzG6dzTjEkaw08nfgLgxkY3Mq7LOAJ9Ak1OJiLy61yyANatW5fCwsKLjttsNmrXrm1CorJXsg+gZgBFKrO1x9YyZuUY0vLSCPAOYMJVE7ih0Q1mxxIR+V0uuQQ8Z84chg0bxoYNGzAMZ0HasGEDw4cPJyEhweR0ZeP8PoAFNs0AilRGNoeNVza9wsPLHiYtL40mVZuwcNBClT8RcQkuOQN4//33k5OTQ5cuXYo3g7bZbHh7e/PAAw/wwAMPFD82LS3NrJhXxFt3AhGptE5mn2T0ytFsPLkRgNua3saoTqPw93bfralExL24ZAF86aWXzI5Q7nyLzgEstGkJWKQySTqSxPhV40nPTyfIJ4hJXSfRv0F/s2OJiFwWlyyA5/cBdGfF+wBqBlCkUih0FPKPTf9gwfYFAMSGx5LQK4G6oXVNTiYicvlcsgCel5qaSmpqKo7/KUmtW7c2KVHZ8dFG0CKVxrFzxxiVNIqfT/0MwF0xd/FMx2fw9fI1OZmIyJ/jkgVw48aNDBkypHjvvwtZLBbsdrtJycqOr7aBEakUfjj8A8+ufpbMgkxCfEKYGjeVa+tda3YsEZEr4pIFcOjQoTRt2pS33nqLyMhIt9xktWQGUAVQxAwF9gJe3Pgi7yW/B0Cr6q2Y03MOdULqmJxMROTKuWQBPHDgAJ9++imNGzc2O0q50RKwiHlSMlOIT4pnx5kdAAxpPoTh7Yfj4+VjcjIRkbLhkgWwT58+/Pzzz+5dAL01Ayhihm8OfsPkNZM5V3iOML8wpsdNp1d0L7NjiYiUKZcsgG+++SZDhgzhl19+oWXLlvj4lP5X+Q03uP5GrOfPAdRG0CIVI9+ez9z1c/lw14cAtItox5yec4gKijI5mYhI2XPJArhmzRpWrVrF0qVLLxpzl4tAvK3nt4HRErBIeTuYcZD4xHh2nd0FwIOtHuTxto/jbXXJX5EiIn/IJW8F9+STT3Lvvfdy/PhxHA5HqQ93KH9QsgSsGUCR8rVk/xJuX3I7u87uItw/nHnXzmN4++EqfyLi1lzyN9yZM2d4+umniYyMNDtKufHRNjAi5SrXlsusdbP4dM+nAHSK6sSsHrOICIwwOZmISPlzyQJ48803s3z5cho1amR2lHLjW3QVcIEKoEiZ23t2L/GJ8ezL2IcFC4+0eYSHWz+Ml9XL7GgiIhXCJQtg06ZNGTt2LKtWraJVq1YXXQTy5JNPmpSs7JzfBsambWBEyoxhGHy+93Nm/DSDPHse1QOqM6vHLLrU7GJ2NBGRCuWSBfDNN98kODiYxMREEhMTS41ZLBa3KIC+RecA5uscQJEykVOYw3M/PseS/UsA6FarGzO6z6BaQDWTk4mIVDyXLIAHDhwwO0K5051ARMrOrrRdxCfGczDzIF4WLx5v+zh/a/U3rBaXvA5OROSKuWQB9AR+ugpY5IoZhsF/d/+X2etmU+AoICIwgrk959I+sr3Z0URETOWSBfCBBx743fF///vfFZSk/GgGUOTKZBVkMWXtFL45+A0APev0ZFrcNKr6VzU5mYiI+VyyAJ49e7bU54WFhfzyyy+kp6dzzTXXmJSqbJ0/B9DmMHA4DKxWi8mJRFzH9tPbiU+M58i5I3hbvHmqw1Pc2/xeLfmKiBRxyQL42WefXXTM4XDw2GOP0bBhQxMSlb3zBRCcW8H4a3sKkT9kGAbv73yfhA0J2Bw2agXVYk6vObSp0cbsaCIilYrb/HPYarXy9NNP8+KLL5odpUyc3wcQdCWwyKXIyM/gqeVPMWvdLGwOG9dEX8NHgz9S+RMR+RUuOQP4W/bt24fNZjM7Rpk4fycQ0IUgIn/k51M/MypxFMeyj+Fj9eGZjs9wV8xdWCw6dUJE5Ne4ZAEcMWJEqc8Nw+D48eN8+eWXDBkyxKRUZctiseDrZaXA7tDdQER+g8Nw8M72d3h508vYDBt1guuQ0DuBFtVamB1NRKRSc8kCuHnz5lKfW61WatSowfPPP/+HVwi7El/vogKoGUCRi5zNO8uE1RNIOpIEQL/6/ZjUdRIhviEmJxMRqfxcsgAuX77c7AgVws/byrl8LQGL/K+NJzcyKmkUqTmp+Fp9GdNlDLc2uVVLviIil8glC2Bubi6GYRAYGAjAoUOH+Oyzz2jevDl9+/Y1OV3Z8dVm0CKlOAwHb257k9e2vIbDcFA/tD4JvRJoFt7M7GgiIi7FJQvgjTfeyM0338wjjzxCeno6nTt3xtfXl9OnT/PCCy/w6KOPmh2xTBQXQLvd5CQi5jude5pxK8ex9vhaAAY3HMyEqyYQ6BNocjIREdfjktvAbNq0iR49egDw8ccfExUVxaFDh3jnnXd45ZVXTE5Xds5vBZNXqBlA8Ww/Hf+JWxfdytrja/H38mdqt6lM7z5d5U9E5E9yyQKYk5NDSIjzRO9vv/2Wm2++GavVylVXXcWhQ4cu6TneeOMNWrduTWhoKKGhoXTt2pWlS5eWZ+zL5uejJWDxbHaHnde2vMZD3z7EmbwzNK7SmIWDFvKXJn/R+X4iIlfAJQtg48aN+fzzz0lJSeGbb74pPu8vNTWV0NDQS3qOOnXqMGvWLDZs2MCGDRu45ppruPHGG9m+fXt5Rr8sft7Ou39oI2jxRKk5qTz47YPM+3keBgY3N7mZ9we+T6MqjcyOJiLi8lzyHMCJEydy11138fTTT9OnTx+6du0KOGcD27Vrd0nPMXjw4FKfT58+nTfeeIMff/yRFi0qxx5ifkXnAObbdA6geJbVR1czbtU40vLSCPAOYGLXiQxqOMjsWCJS0QwDDAfodqhlziUL4K233kr37t05fvw4bdqU3OapT58+/OUvf7ns57Pb7fz3v/8lOzu7uEz+mvz8fPLz84s/z8zMvOzXuhwlBVAzgOIZCh2FvLb5Nd765S0AmlVtRkKvBOqH1Tc3mIhUHIcdDq+F5MWQvAT6z4ZY/QOwrLlkAQSIiooiKiqq1LHOnTtf1nNs27aNrl27kpeXR3BwcPFWMr9l5syZTJky5U/l/TOKl4ALNQMo7u9E9glGJo5ky6ktANzR7A5GdhqJn5efucFEpPzZ8mH/Cmfp2/UV5JwpGdu1VAWwHLhkAczOzmbWrFl8//33pKam4nCUniHbv3//JT1Ps2bN2LJlC+np6XzyyScMGTKExMTE3yyBY8eOLXUbuszMTKKjo//8N/IHzl8EohlAcXcrUlYwYfUEMvIzCPYJZnK3yfSr38/sWCJSnvKzYM8y2LkEdn8LBVklYwFVodkAiB0MDXubFtGduWQBfPDBB0lMTOTee++lZs2af/pqQF9fXxo3bgxAx44dWb9+PS+//DL//Oc/f/Xxfn5++PlV3GyEloDF3RXaC3lx04u8u+NdAFpUa8HcXnOJDim/f1iJiIly0pwzfMlLYN8PYC85rYqQmhAzEGJvgHpx4OWSFcVluORPd+nSpXz55ZfExcWV6fMahlHqHD+zaQlY3NmRrCOMTBzJL2d+AeCe2HsY0WEEPl4+JicTkTKVcRR2fgk7F8PB1WBc8J4W3tA5yxd7A9RqD1aX3JzEJblkAaxatSrh4eFX9Bzjxo2jf//+REdHk5WVxcKFC1mxYgVff/11GaW8cv5FS8B5mgEUN7Ps0DImrZ5EVmEWob6hTIubxtV1rzY7loiUldN7nYUveTEc3Vh6LKoVxAx2ntcX0Ry0p6cpXLIAPvfcc0ycOJH//Oc/xfcDvlwnT57k3nvv5fjx44SFhdG6dWu+/vprrrvuujJO++f5+2gGUNxLvj2fhPUJLNy1EIA2Ndowt+dcagbXNDmZiFwRw4ATW51Lu8mL4VTyBYMWiO4MMYOcs33hDUyLKSVcsgA+//zz7Nu3j8jISOrXr4+PT+klo02bNv3hc7z11lvlFa/MnD8HULeCE3dwKPMQIxNHkpzmfGMY2nIow9oNw8eqJV8Rl+SwQ8o650UcyYsg/XDJmNUbGvR0lr6YgRAS9dvPI6ZwyQJ40003mR2hQpyfAczTRtDi4r7a/xVT1k4hx5ZDVb+qTO8+nR51epgdS0Qul60ADiY5Z/p2fgnZqSVj3gHQuI/zfL6mfZ1X8kql5ZIFcNKkSWZHqBB+5wugloDFReXZ8pi1bhaf7PkEgPYR7ZnTcw6RQZEmJxORS1aQDXu/c5a+3d9AfkbJmF8YNLveOdPX+Frw/XOnZUnFc8kCeN7GjRtJTk7GYrHQvHnzS74NnKvw1xKwuLD96fuJT4pnz9k9WLDwUOuHeLTNo3hbXfrXjohnyD0Lu752Lu/u/Q5seSVjQRHOCzhiBkH9HuDta15O+dNc8jdxamoqd955JytWrKBKlSoYhkFGRgZXX301CxcupEaNGmZHLBMBvpoBFNf0xd4vmP7TdHJtuYT7hzOrxyy61vrt2yyKSCWQdbLofL7FcHAlOGwlY1XqFW3XMhjqdNK9ed2ASxbAYcOGkZmZyfbt24mNjQVgx44dDBkyhCeffJIPPvjA5IRlw99bBVBcS05hDtN/ms6ifYsA6BLVhVk9Z1E9oLrJyUTkV6UdKCl9KesAo2QsonnRlbuDIKq1tmtxMy5ZAL/++mu+++674vIH0Lx5c1577TX69u1rYrKyVTIDqCVgqfx2n91NfGI8BzIOYLVYebTNozzU6iG8NFMgUnkYBqTucBa+5CVwclvp8dodnBdxxA6Gao3MySgVwiULoMPhuGjrFwAfH5+L7gvsys5vBJ2rGUCpxAzD4JM9nzBr3Szy7flEBEQwq+csOkV1MjuaiAA4HM7NmJMXOWf70vaXjFm8oH6cs/TFDITQWubllArlkgXwmmuuYfjw4XzwwQfUquX8y3r06FGefvpp+vTpY3K6suOvq4ClkjtXcI6pa6ey9OBSAOJqxzGj+wzC/a/sTj0icoXshXBwVdHy7hI4d6JkzMsPGl3jXNptNgAC9d+rJ3LJAvjqq69y4403Ur9+faKjo7FYLBw+fJhWrVrx3nvvmR2vzJwvgJoBlMoo+Uwy8YnxHM46jJfFiyfbP8n9Le7HatG9PEVMUZgL+35wFr5dX0FeesmYb4hzb77YG5zbtfgFmxZTKgeXLIDR0dFs2rSJZcuWsXPnTgzDoHnz5lx77bVmRytTgboKWCohwzBYuGshc9fPpdBRSFRQFHN7zqVtRFuzo4l4nrwM2LPMuby75zsozC4ZC6wOMQOcpa9BT/D2My+nVDouVQB/+OEHnnjiCX788UdCQ0O57rrriu/dm5GRQYsWLZg3bx49erjHHQYCimYAC+0GhXYHPl6aWRFzZRZkMnnNZJYdWgZA7zq9mdZ9GmF+YSYnE/Eg507Bri+dM337V4CjsGQstE7Rdi2DoG5Xbdciv8mlCuBLL73EQw89RGho6EVjYWFhPPzww7zwwgvuUwB9S/7DzS20qwCKqbad2sbIpJEcPXcUb6s3IzqM4J7Ye7BoawiR8pd+2Fn4khdDyo9gXHDBY/Wmzu1amt8ANdtquxa5JC5VAH/++Wdmz579m+N9+/YlISGhAhOVL18vK1YLOAzILbAT6n/xlc8i5c0wDN7d8S4vbnoRm8NG7eDaJPRKoGX1lmZHE3FfhgGndsHOxc7Sd/zn0uO12hXt0TcYajQzJ6O4NJcqgCdPnvzV7V/O8/b25tSpUxWYqHxZLBYCfb05l28jp0DnAUrFS89LZ8LqCSQeSQTgunrXMbnbZEJ9L56FF5ErZBhwbFPJHn1n9pSMWaxQt1vRLdgGQpW65uUUt+BSBbB27dps27aNxo0b/+r41q1bqVmzZgWnKl8Bvl6cy7eRqwIoFWxz6mZGJY3iRPYJfK2+jOo0itub3a4lX5GyZLfB4bXO0rfzS8g8UjLm5QsNeztn+mIGQpDuqCNlx6UK4IABA5g4cSL9+/fH39+/1Fhubi6TJk1i0KBBJqUrH+evBM4psP3BI0XKhsNw8O9f/s2rm1/FbtipF1qPhF4JxITHmB1NxD3Y8p0XbyQvgp1fQW5ayZhPEDS5zrm026Qv+Gu2XcqHSxXACRMm8Omnn9K0aVOeeOIJmjVrhsViITk5mddeew273c748ePNjlmmzl8JrCVgqQhncs8wftV4Vh9bDcCABgOY2HUiQT5BJicTcXH5Wc7tWnYugd3fQkFWyVhAVeeGzLGDnTN+PgGmxRTP4VIFMDIykjVr1vDoo48yduxYDMN502qLxUK/fv14/fXXiYyMNDll2Qryc/4RaQZQytv6E+sZnTSaU7mn8PPyY2znsdzc5GYt+Yr8WdlnYPdS5/LuvuVgzy8ZC6nlXNaNHQT1uoOXS70dixtwub9x9erV46uvvuLs2bPs3bsXwzBo0qQJVatWNTtauShZAtYMoJQPu8PO/G3zmffzPByGg4ZhDUnolUCTqk3MjibiejKOOs/lS14Eh1aX3q4lvKFzU+bYwVCrPVi1tZeYx+UK4HlVq1alUyf3v9l8kK/zjyg7XzOAUvZO555mTNIYfjrxEwA3Nb6JsZ3HEugTaHIyERdyem/R+XxL4OjG0mNRrZylL2YQRMRqjz6pNFy2AHqKQD/NAEr5WHNsDWNXjiUtL40A7wAmXDWBGxrdYHYskcrPMODE1qLtWhbDqZ0XDFoguotzli9mIIQ3MC2myO9RAazkNAMoZc3msPH6ltd5c9ubGBg0qdqEhF4JNAxraHY0kcrLYYeUdUXbtSx23pnjPKu38167sYOh2UAIca9z0cU9qQBWcudnALM1Ayhl4ET2CUYnjWZT6iYAbmt6G6M6jcLf2/8PvlLEA9kK4GBSyR592RfcaMA7AJpc61zebdIXAqqYFlPkz1ABrOSCNQMoZSTpSBLjV40nPT+dIJ8gJnedzPUNrjc7lkjlUpANe79z3olj9zeQn1Ey5h8GTfs7r9xt1Ad8da6suC4VwEousGgbGM0Ayp9V6CjkH5v+wYLtCwCIDY8loVcCdUN1KykRAHLSnGVv5xLY+z3YckvGgiNL9uir3wO8fc3LKVKGVAAruZCiAngur9DkJOKKjp07xsikkWw9tRWAu2PvZkSHEfh66U1MPFzWCWfhS14MB1aCccE/sqvWd161G3sD1Omk7VrELakAVnLnN4I+pyVguUzfH/6eZ1c/S1ZBFiG+ITwX9xx96vYxO5aIedL2O5d2kxfDkXWlxyJaOJd2YwY5t27Rdi3i5lQAK7lg//MFUEvAcmkK7AW8uPFF3kt+D4DW1Vszp9ccagfXNjmZSAUzDDi5vWSm7+QvpcfrdCqa6RsM1RqZk1HEJCqAlVxw8QygloDlj6VkphCfFM+OMzsAuL/F/TzZ/kl8rD4mJxOpIA4HHN1Qskff2QMlYxYvqN+9ZI++0Frm5RQxmQpgJRdyfgYwT0vA8vu+Pvg1U9ZM4VzhOar4VWF69+n0rNPT7Fgi5c9eCAdXFc30LYFzJ0rGvP2dV+zGDoKm10NguHk5RSoRFcBK7nwBzMqzYRgGFp2XIv8jz5bH3PVz+Wj3RwC0j2jP7J6ziQqKMjmZSDkqzIV9Pzhn+XYthbz0kjG/UGjaz7m82/ha8As2LaZIZaUCWMmdXwK2OQzybQ78fbxMTiSVyYGMA8QnxrP77G4sWHiw1YM81vYxvK36T1vcUG467PnWWfr2fgeFOSVjgdUhZoDzyt0GPcHbz7SYIq5A7xKVXJCvNxaL81zmzNxCFUAptmT/EqaunUquLZdw/3Bmdp9Jt9rdzI4lUrbOpTrvwrFzCexPBMcF50OHRRedzzcI6l4FVv1+FLlUKoCVnNVqIdjPm6w8G5l5NiJCzU4kZsu15TLzp5l8tvczADpHdWZWj1nUCKxhcjKRMnL2UMmVu4d/BIySserNnKUvdhDUbKvtWkT+JBVAFxDq71NUAHUlsKfbe3Yv8Ynx7MvYhwULj7Z5lL+3/jtemvkQV2YYcGpX0ZW7i+DE1tLjtdoVzfQNhhpNzcko4mZUAF1AaIAPR9NzydKVwB7LMAw+3/s5M36aQZ49j+oB1ZndYzada3Y2O5rIn2MYcGxTUelbAmf2lIxZrFC3W8l2LVWizcsp4qZUAF1AaNGVwBm5mgH0RNmF2Uz7cRpL9i8BoFutbszoPoNqAdVMTiZymew2OLzWWfp2LoHMoyVjXr7QsLez9DXtD8E6pUGkPHlsAZw5cyaffvopO3fuJCAggG7dujF79myaNWtmdrSLhAU4N/HNVAH0OLvSdhGfGM/BzIN4Wbx4vO3j/K3V37BadG9ScRGFebB/BexcDDu/gty0kjGfIGhynbP0NekL/jrJWaSieGwBTExM5PHHH6dTp07YbDbGjx9P37592bFjB0FBQWbHKyW0qABqBtBzGIbBf3f/l9nrZlPgKCAiMIK5PefSPrK92dFE/lh+VtF2LUuc/1twrmQsoCo0G+gsfQ17g4+/aTFFPJnHFsCvv/661OcLFiwgIiKCjRs30rNn5bp7QhXNAHqUrIIspqydwjcHvwGgZ52eTIubRlX/qiYnE/kd2Wdg11fO5d39y8FeUDIWUst51W7sYOe5fV4e+9YjUmnov8IiGRkZAISH//ZtgvLz88nPzy/+PDMzs9xzQckSsGYA3d/209uJT4znyLkjeFu8Gd5+OPe1uE9LvlI5ZRxx7tGXvBgOrQbDUTIW3qhou5YbnFfxWvV3WKQyUQHEudw2YsQIunfvTsuWLX/zcTNnzmTKlCkVmMypSqCzAJ7NKfiDR4qrMgyD93e+T8KGBGwOG7WCajG311xa12htdjSR0k7vcW7VkrzEeRXvhaJaQeyNztm+GjHao0+kElMBBJ544gm2bt3KqlWrfvdxY8eOZcSIEcWfZ2ZmEh1d/tsThAX6ApCeoxlAd5SRn8HE1RP5IeUHAPrU7cOUblMI8wszOZkIzu1ajv9csjHzqZ0XDFqcd+A4v11L1fpmpRSRy+TxBXDYsGEsWrSIpKQk6tSp87uP9fPzw8+v4u8vWbVoBlAF0P38fOpnRiWO4lj2MXysPsR3jOevMX/FopkTMZPDDik/lezRl3G4ZMzqDQ16OWf5mg2EkEjzcorIn+axBdAwDIYNG8Znn33GihUraNCggdmRflPV8zOAuVoCdhcOw8E729/h5U0vYzNsRIdEk9ArgebVmpsdTTyVrQAOJDmXd3d9BdmnSsa8A6DJtc7z+Zr0hYAqpsUUkbLhsQXw8ccf5/333+eLL74gJCSEEydOABAWFkZAQIDJ6UqrGuQsgGezCzEMQ7NDLu5s3lkmrJ5A0pEkAK6vfz2Tuk4i2DfY5GTicQqyYe93zpm+3d9A/gUXtvmHQbMBEDMIGl0DvoHm5RSRMuexBfCNN94AoHfv3qWOL1iwgPvvv7/iA/2O8KIZwAK7g+wCO8F+HvvH5vI2ntzIqKRRpOak4uflx+jOo7m1ya0q9VJxctJg99fO0rfvB7DllYwFRzoLX+wgqN8DvHzMyyki5cpjm4RhGGZHuGQBvl74+1jJK3SQdq5ABdAFOQwHb257k9e2vIbDcFA/tD4JvRJoFl757jwjbijzeMlFHAdXgWEvGatav2S7ltodtV2LiIdQk3AR4YG+HMvIIy2ngLrVtBTjSk7nnmbcynGsPb4WgMENBzPhqgkE+ujPUcpR2n7nBRzJi+HIutJjES2KSt9giGyh7VpEPJAKoIsID3YWwDPn8v/4wVJp/Hj8R8auHMvp3NMEeAcwvst4bmx8o9mxxB0ZBpzc7ix8O5fAyV9Kj9fpVLRdyyCo1sicjCJSaagAuohqQc7tZ86c05XArsDusDNv6zz++fM/MTBoXKUxCb0SaFRFb7xShhwOOLIedhZt13L2QMmYxQvqdy/Zoy+0lnk5RaTSUQF0EdWDnQXwdLZmACu71JxUxqwcw/oT6wG4pcktjO48mgDvynV1ubgoeyEcXOksfDu/hHMnSsa8/aFRH+dFHE2vh8DfvrWliHg2FUAXUT3EeSXw6SzNAFZmq4+uZtyqcaTlpRHoHcjErhMZ2HCg2bHE1RXkOK/YTV4Mu5dCXkbJmF8oNO3nnOlr1Af8tJ2QiPwxFUAXUeP8DKDOAayUCh2FvLb5Nd765S0AmlVtRkKvBOqH1Tc3mLiu3HTY861zY+a930NhTslYUA3nHn2xN0CDnuDta1pMEXFNKoAu4vwS8KksFcDK5kT2CUYmjmTLqS0A3NHsDkZ2GomfV8XfNlBc3LlU57LuziWwPxEcF9z+MSy65Mrd6C5g9TIvp4i4PBVAFxER4iwTqVl5f/BIqUgrUlYwYfUEMvIzCPYJZkq3KfSt39fsWOJKzh4q2aPv8I/ABXuUVm9WUvpqttF2LSJSZlQAXURE6PkCqBnAyqDQXshLm17inR3vANCiWgvm9ppLdEi0ycmk0jMMOLWzaI++RXBia+nxWu2dF3HEDIYaTc3JKCJuTwXQRUSE+gOQlWcjt8BOgK+Wf8xyJOsIIxNH8ssZ5z5r98Tew4gOI/DRbbPktzgccGyzs/DtXAJn9paMWaxQL65ku5awOublFBGPoQLoIkL8vAnw8SK30M7JzDzqVw8yO5JHWnZoGZNWTyKrMItQ31CmxU3j6rpXmx1LKiO7DQ6vcS7tJi+BrGMlY16+0Oga56bMzfpDUHXzcoqIR1IBdBEWi4WoMH8OnM7mhApghcu355OwPoGFuxYC0KZGG+b0nEOtYG2uKxcozIP9K5ylb9dXkJtWMuYbDE36Opd3G18H/qGmxRQRUQF0IVGhRQUwQxeCVKRDmYcYmTiS5LRkAIa2HMqwdsPwsWrJV4D8rKLtWpY4/7fgXMlYQHjRdi2DoWFv8PE3LaaIyIVUAF1IzTDnm8exjFyTk3iOr/Z/xZS1U8ix5VDVryrTu0+nR50eZscSs2Wfcc7wJS+G/cvBfsEG7SG1Sq7crdsVvPRrVkQqH/1mciE1qzgL4PF0zQCWtzxbHrPWzeKTPZ8A0CGyA7N7zCYyKNLkZGKajCNFt19bAodWg+EoGavWuOgijsFQqx1YreblFBG5BCqALqRmmPNessfSNQNYnvan7+eZxGfYm74XCxb+3vrvPNLmEbyt+s/F45zaDTuLLuI4tqn0WFTropm+G6BGM+3RJyIuRe9oLqROVWcBPKoCWG6+2PsF03+aTq4tl2r+1ZjZYyZda3U1O5ZUFMOA41uK9uhbDKd3XTBocS7pxg5yXr1btZ5ZKUVErpgKoAspLoBnczEMA4tmHMpMTmEO03+azqJ9iwDoUrMLs3rMonqAtudwew678w4c5+/GkZFSMmb1gYa9nIUvZiAER5iXU0SkDKkAupA6VQMByMq3kZFbSJVA3QC+LOxK28XIpJEcyDiA1WLlsTaP8WCrB/HSvVbdly0fDiQ5C9/OLyHndMmYTyA07gOxN0LTvuAfZl5OEZFyogLoQvx9vKgR4seprHxS0nJVAK+QYRh8vOdjZq+bTb49n4iACGb1nEWnqE5mR5PykH8O9n7nnOnb/Q3kZ5aM+YddsF3L1eAbaF5OEZEKoALoYuqGB3IqK59Dadm0qqOZiT/rXME5pq6dytKDSwHoXrs707tPJ9w/3ORkUqZy0mD3186Zvn0/gO2CK+iDI51Lu7GDoH4P0K38RMSDqAC6mHrhgWw8dJZDZ3LMjuKyks8kE58Yz+Gsw3hZvBjefjhDWgzBatHWHW4h83jJ+XwHV4FhLxmrWr/kyt3aHbVdi4h4LBVAF3P+FnAHT2ebnMT1GIbBwl0Lmbt+LoWOQmoG1WROzzm0jWhrdjS5Umf2lZS+I+tLj0W0KNmYObKFtmsREUEF0OWcL4AHVAAvS2ZBJpPXTGbZoWUAXB19Nc/FPUeYn5bRXZJhwMlfnIUveQmkbi89XqdzUekbBOENzckoIlKJqQC6mIZFBXC/CuAl23ZqGyOTRnL03FG8rd480+EZ7o69W9vouBqHwzm7l7zIWfzSD5WMWbygQY+i7VoGQWhN83KKiLgAFUAX07CGswCmZReQll1AeJCuBP4thmHw7o53eXHTi9gcNuoE1yGhVwItqrcwO5pcKnshHFxZsl3LuZMlY97+0Oga5/l8TftBoC7gERG5VCqALibQ15vaVQI4mp7L3tRzdG6gN71fk56XzoTVE0g8kgjAdfWuY0q3KYT4hpicTP5QQY7zit3kxbB7KeRllIz5hTrLXuxgaHwt+AaZl1NExIWpALqgJpHBHE3PZffJLBXAX7E5dTMjE0dyMuckvlZfRnUaxe3NbteSb2WWmw57vnUu7+79HgovuMo9qIbzLhwxg6FBT/DWrLeIyJVSAXRBTSNDWLHrFLtPZpkdpVJxGA7+/cu/eXXzq9gNO/VC65HQK4GY8Bizo8mvyToJu750XsRxIAkchSVjYXWdF3DEDoboLqC7soiIlCkVQBcUE+Vcxtx5XAXwvDO5Zxi3ahxrjq0BYECDAUzsOpEgHy0RVipnD5Vs13L4R8AoGasRW1L6olpruxYRkXKkAuiCYqJCAUg+kYlhGB6/tLn+xHpGJ43mVO4p/L38GddlHDc1vsnjfy6VgmHAqZ1F27UshhNbS4/X7lB0N47BUL2JORlFRDyQCqALahwRjK+Xlaw8GylpudSt5pn3LbU77MzfNp95P8/DYThoFNaIhF4JNK7a2Oxons3hgGObSkpf2r6SMYsV6sU5C1/MQAirY15OEREPpgLogny9rTSNCuaXo5n8cizDIwvgqZxTjF05lp9O/ATATY1vYmznsQT6eN7PolKw2+DQ6pLtWrKOlYx5+Tq3a4kZBM0GQFA183KKiAigAuiyWtWuwi9HM9l6JIMBrTxr09s1x9YwduVY0vLSCPAO4NmrnmVwo8Fmx/I8hXmwf7mz9O36CnLPloz5BkOTvs6ZvibXgZ+23xERqUxUAF1U2+gwPlgHW1LO/vGD3YTNYeP1La/z5rY3MTBoWrUpc3vNpWGYbvVVYfIyi7ZrWQx7lkHhBXekCazmnOGLHQwNeoGPv3k5RUTkd6kAuqi20VUB2HokA5vdgbeX1eRE5etE9glGJ41mU+omAG5rehujOo3C31slo9ydO+Wc4du5BPavAHtByVhIraJ77g6Gul3BS79SRERcgX5bu6gmEcGE+HuTlWdj54ksWtYOMztSuUk6ksT4VeNJz08nyCeIyV0nc32D682O5d7SUy7YrmUtGI6SsWqNS0pfrfbarkVExAV5dAFMSkpi7ty5bNy4kePHj/PZZ59x0003mR3rklitFtrXrUri7lOsO5DmlgWw0FHIK5te4e3tbwPQvFpzEnomEB0abW4wd3Vqt/NOHMmL4fiW0mM12zjvxBE7GGo0U+kTEXFxHl0As7OzadOmDUOHDuWWW24xO85l69IwnMTdp/jpwBke6N7A7Dhl6ui5o4xKGsXWU8594+6OvZsRHUbg66XbgJUZw3AWveSimb7Tuy4YtDiXdM9v11K1nlkpRUSkHHh0Aezfvz/9+/c3O8af1qWBczuNnw6kYXcYeFndY1bm+8Pf8+zqZ8kqyCLEN4Tn4p6jT90+ZsdyDw678w4cyYudS7wZKSVjVh9o2MtZ+poNgOAI83KKiEi58ugC6Ora1AkjxM+b9JxCth/LoHWdKmZHuiIF9gJe2PgC/5f8fwC0rt6aOb3mUDu4tsnJXJwtH/Ynws7FsPMryDldMuYTCI2vdZa+pv3A3/1OJRARkYupAF6G/Px88vPziz/PzMw0MQ14e1m5qlE1lu04SdLuUy5dAFMyU4hPimfHmR0A3N/ifp5s/yQ+Vh+Tk7mo/HOwd5lzeXf3N1BwwX2j/atAs/7O0tfoGvAJMC2miIiYQwXwMsycOZMpU6aYHaOU3s1qsGzHSZbvOsUT17jmvVS/Pvg1k9dMJrswmyp+VZjefTo96/Q0O5bryUmDXUudS7t7vwd7yT9WCI6C2EHOu3HU7w5eKtYiIp5MBfAyjB07lhEjRhR/npmZSXS0uVekXhPjPE9r0+GznDmXT7VgP1PzXI48Wx5z1s/hv7v/C0C7iHbM6TmHqKAok5O5kMxjzluvJS+Gg6vAsJeMVW1Qsl1L7Y5gde+9IkVE5NKpAF4GPz8//PwqV8GqGRZAy9qh/HI0k2U7TnJn57pmR7okBzIOEJ8Yz+6zu7Fg4cFWD/JY28fwtuqv5B86s6/kIo4j60uPRbZ0zvLFDobIFtquRUREfpVHv9ueO3eOvXv3Fn9+4MABtmzZQnh4OHXrukaRAujfsia/HM3ky23HXaIALt63mOd+fI5cWy7h/uHM7D6TbrW7mR2r8jIMOPmLs/QlL4HU7aXHo7sUlb5BEK7b4omIyB/z6AK4YcMGrr766uLPzy/vDhkyhLffftukVJdvQKuazP1mF2v2neFUVj41QirXLOV5OYU5zFw3k8/3fg5A56jOzOoxixqBNcwNVhk5HM7ZvfMbM6cfKhmzekP9HiV79IVoyVxERC6PRxfA3r17YxiG2TGuWIPqQbSJrsLPKeks/vlYpdwUeu/ZvcQnxrMvYx9Wi5VH2jzC31v9HS+rl9nRKg9bARxc6Sx8u76CcydLxrwDoHEf50xfs+shoKp5OUVExOV5dAF0Jze3q83PKel8tCGFoXH1sVSSc78Mw+DzvZ8z46cZ5NnzqBFQg9k9Z9MpqpPZ0SqHghzY972z9O3+GvIySsb8wpx788UOdpY/3yDzcoqIiFtRAXQTN7WtzYyvktl5IovNKem0r2v+DFF2YTbP/fgcX+7/EoButboxo/sMqgVUMzmZyXLTnXvzJS9ybtdiyy0ZC4pwLuvGDoL6PcFbt74TEZGypwLoJsICfRjYuiafbjrKO2sOml4Ad6btZGTiSA5mHsTL4sUT7Z7ggZYPYLV46FYkWSedV+3uXAIHksBhKxmrUhdiBjtLX3QX0LK4iIiUMxVAN3J/t/p8uukoS7YeZ3T/GGqGVfwdHgzD4KNdHzFn/RwKHAVEBkYyt9dc2kW0q/Aspks74Cx8yUsg5SfggvNNa8SU7NEX1VrbtYiISIVSAXQjretUoXODcNYdSOPNlQd4dlDzCn39rIIsJq+ZzLeHvgWgV51eTIubRhX/KhWawzSGAanJRXv0LYYT20qP1+5QdOXuYKje2JyMIiIiqAC6ncd6N2LdgTT+76dDPNyrIREh/hXyuttPbyc+MZ4j547gbfHmqQ5PcV/z+yrNxSjlxuGAoxudhS95MaTtLxmzeEG9bhB7g/O8vrDa5uUUERG5gAqgm+nVtAbt6lZh8+F0XvthL1NubFmur2cYBv+X/H88v/F5bA4btYNrM7fnXFrVaFWur2sqeyEcWu1c2t25BLKOl4x5+ULDq6H5DdC0PwR5+AUvIiJSKakAuhmLxcLIvs24682feO+nw9zbtR6NI0LK5bUy8jN4dvWzLE9ZDsC1da9lStwUQn1Dy+X1TFWYC/uWOwvfrq8g92zJmG8wNOnrXN5tch34lc/PW0REpKyoALqhbo2rc13zSJbtOMnUJcn8Z2inMl+K/fnUz4xMHMnx7OP4WH0Y2Wkkdza7072WfPMyYc+3zu1a9nwHhdklY4HVoNkAZ+lr0At8KmapXUREpCyoALqp8QNiSdx9iqTdp/hs81Fubl+nTJ7XYTj4z/b/8MqmV7AZNuqG1CWhVwKx1WLL5PlNd+6Uc4YveTEcSAR7QclYaO2ie+4OhrpdwUv/+YiIiGvSO5ibql89iKeubcKcr3cxZfEO4hpXJzL0ymapzuadZfyq8aw8uhKA/vX7M7HrRIJ9g8sisnnSU0q2azm8BgxHyVi1JiXbtdRqp+1aRETELagAurGHejTkq23H+eVoJk9+sJn/e7AL3l5/biPmDSc2MHrlaFJzUvHz8mNM5zHc0uQW113yPbXLOcuXvBiObyk9VrOtc1PmmMEQEWNGOhERkXKlAujGfLysvHJnOwb/YxU/HUjjpe/2EN+v2WU9h91h581tb/L6z6/jMBzUD61PQq8EmoVf3vOYzjDg2Oaimb7FcHr3BYMW53YtMYOcxa9KXdNiioiIVAQVQDfXsEYwM25uxfCFW3h1+V4aVA/ilg6Xdj7g6dzTjFk5hp+O/wTADY1uYHyX8QT6BJZn5LLjsMPhtSXbtWSklIxZfaBhb+fSbrMBEFzDtJgiIiIVTQXQA9zYtjY7jmfyz8T9jP5kK1Fh/sQ1rv67X/Pj8R8ZkzSGM3lnCPAOYHyX8dzY+MYKSnwFbPmwP9F55e6upZBzumTMJ9C5TUvsDc7/9Q8zL6eIiIiJVAA9xOh+MRxLz2Pxz8d48D8beHNIx18tgTaHjXk/z2P+1vkYGDSu0piEXgk0qtLIhNSXKD8L9ixzzvLt/hYKskrG/KsUbdcyCBpdAz4Vf39kERGRykYF0ENYrRYSbmtNVl4hK3adYujb6/nnPR24Oiai+DEns08yeuVoNp7cCMAtTW5hdOfRBHhXwtKUk1a0XcsS2PcD2PNLxoKjnIUvdjDUiwMvH/NyioiIVEIWwzAMs0O4qszMTMLCwsjIyCA01DXufpFvs/PE+5tZtuMkPl4W/u/Bq+jcIJyVR1YyftV4zuafJdA7kIldJzKw4UCz45aWeQx2fulc3j24Ggx7yVh4Q2fhixkMtTuA9c9d7SwiIu7PFd+/y5pmAD2Mn7cXr9/dnqc/3EJ6TiHNawXywsYXWPDLAgBiwmNI6JVAvdB6Jictcnov7CzaruXoxtJjka2K9ugbBBHNtUefiIjIJVIB9EA+XlZevrMdKZlHefT7h9hyagsAdza7k/hO8fh5+ZkXzjDgxLaSPfpOJV8waIHozkUzfYMgvIFpMUVERFyZCqCHSjqyggmrJ5BZkEmITwhT4qZwXb3rzAnjcMCRdSWlL/1QyZjVGxr0dBa+mIEQEmVORhERETeiAuhhCu2FvLjpRd7d8S4ALau1ZE6vOUSHRFdsEFsBHFzpvHJ355dw7mTJmHcANO7jnOlr2g8CqlZsNhERETenAuhBUrJSGJk4ku1ntgNwb/N7ebr90/hU1FWyBTmw73vnLN/uryEvo2TMLwyaXe8sfY36gK+LbDYtIiLiglQAPcS3B79l0ppJnCs8R6hvKNPipnF13avL/4Vzz8Lub5ylb+/3YMstGQuKcC7rxg6G+j3A27f884iIiIgKoLvLt+czd/1cPtz1IQBta7RlTs851AyuWX4vmnWiaLuWxc5lXoetZKxKXeedOGIGOS/osHqVXw4RERH5VSqAbuxgxkHiE+PZdXYXAA+0fIAn2j2Bj7UclnzTDjjP50teDCnrgAu2l6wRW7Qx8w0Q1UrbtYiIiJhMBdBNfbn/S6aunUqOLYeqflWZ0WMG3Wt3L7sXMAxI3eG8E0fyYji5rfR47Q4lGzNXb1x2rysiIiJXTAXQzeTacpm9bjaf7PkEgI6RHZndczYRgRF/8JWXwOFwbsacvMg525e2v2TM4gX144qWdwdCaK0rfz0REREpFyqAbmR/+n6eSXyGvel7sWDh4TYP83Drh/G2XsEfs70QDq12zvLt/BKyjpeMeflBo2ucy7tN+0NQtSv/JkRERKTcqQC6iS/2fsH0n6aTa8ulmn81ZvWcxVU1r/pzT1aYC/uWO2f5dn3lvJL3PN8QaNrXubzb+FrwCymbb0BEREQqjAqgi8spzGH6T9NZtG8RAFfVvIqZPWZSPaD65T1RXibs+da5vLvnOyjMLhkLrOZc1o0ZDA17gbeJt4oTERGRK6YC6MJ2n91NfGI8BzIOYLVYebzt4/yt5d/wutStVc6dcs7wJS+GA4lgLygZC63jnOWLHQR1u2q7FhERETeiAuiCDMPgkz2fMGvdLPLt+UQERDC752w6RnX84y9OTynZruXwWjAcJWPVmxaVvsFQs622axEREXFTKoAu5lzBOaauncrSg0sB6F67O9O7TyfcP/y3v+jULmfhS14Mx7eUHqvZtqT01WhWbrlFRESk8lABdCE7zuxgZOJIDmcdxsvixfD2wxnSYghWi7X0Aw0Djm0q2aPvzJ6SMYvVuaQbO9h5Xl+VuhX7TYiIiIjpVABdgGEYfLDzAxI2JFDoKKRmUE3m9JxD24i2JQ+y25xLujuXOItf5pGSMS9faNALmt8AzQZA0GVeICIiIiJuRQWwksvIz2DSmkl8f/h7AK6Ovprn4p4jzC8MbPmwf4Vzlm/XV5BzpuQLfYKgyXXOmb4mfcE/1JxvQERERCodjy+Ar7/+OnPnzuX48eO0aNGCl156iR49epgdC4Ctp7YyKmkUR88dxdvqzTMdnuHuhjdg2fOds/TtWQYFWSVfEFDVOcMXMwgaXQ0+AeaFFxERkUrLowvghx9+yFNPPcXrr79OXFwc//znP+nfvz87duygbl1zz42zO+xMWD2Bo+eOUieoFgk1r6XFlsXwyQiw55c8MKSms/DFDoJ63cHLo/9IRURE5BJYDMMwzA5hli5dutC+fXveeOON4mOxsbHcdNNNzJw58w+/PjMzk7CwMDIyMggNLfsl1u0rZ/LOvs+ZcHgPIQ57yUB4w6Ird2+AWu3Bav3tJxEREZFSyvv92xV47HRRQUEBGzduZMyYMaWO9+3blzVr1piUqrQWhzcz++BO5ydRrZx34ogdDBGx2qNPRERE/jSPLYCnT5/GbrcTGRlZ6nhkZCQnTpz41a/Jz88nP79k+TUzM7NcM9LpQWjQ07m8W7V++b6WiIiIeAyPXzu0/M9MmmEYFx07b+bMmYSFhRV/REdHl2+4pn2h2xMqfyIiIlKmPLYAVq9eHS8vr4tm+1JTUy+aFTxv7NixZGRkFH+kpKRURFQRERGRMuWxBdDX15cOHTqwbNmyUseXLVtGt27dfvVr/Pz8CA0NLfUhIiIi4mo89hxAgBEjRnDvvffSsWNHunbtyvz58zl8+DCPPPKI2dFEREREyo1HF8A77riDM2fOMHXqVI4fP07Lli356quvqFevntnRRERERMqNR+8DeKW0j5CIiIjr0fu3B58DKCIiIuKpVABFREREPIwKoIiIiIiHUQEUERER8TAqgCIiIiIeRgVQRERExMOoAIqIiIh4GBVAEREREQ/j0XcCuVLn99DOzMw0OYmIiIhcqvPv2558LwwVwCuQlZUFQHR0tMlJRERE5HJlZWURFhZmdgxT6FZwV8DhcHDs2DFCQkKwWCxX/HyZmZlER0eTkpLisbemqSj6WVcM/Zwrjn7WFUc/64pRnj9nwzDIysqiVq1aWK2eeTacZgCvgNVqpU6dOmX+vKGhofqlUkH0s64Y+jlXHP2sK45+1hWjvH7Onjrzd55n1l4RERERD6YCKCIiIuJhVAArET8/PyZNmoSfn5/ZUdyeftYVQz/niqOfdcXRz7pi6OdcvnQRiIiIiIiH0QygiIiIiIdRARQRERHxMCqAIiIiIh5GBVBERETEw6gAVhKvv/46DRo0wN/fnw4dOrBy5UqzI7mdmTNn0qlTJ0JCQoiIiOCmm25i165dZsfyCDNnzsRisfDUU0+ZHcUtHT16lHvuuYdq1aoRGBhI27Zt2bhxo9mx3IrNZmPChAk0aNCAgIAAGjZsyNSpU3E4HGZHc3lJSUkMHjyYWrVqYbFY+Pzzz0uNG4bB5MmTqVWrFgEBAfTu3Zvt27ebE9aNqABWAh9++CFPPfUU48ePZ/PmzfTo0YP+/ftz+PBhs6O5lcTERB5//HF+/PFHli1bhs1mo2/fvmRnZ5sdza2tX7+e+fPn07p1a7OjuKWzZ88SFxeHj48PS5cuZceOHTz//PNUqVLF7GhuZfbs2cybN49XX32V5ORk5syZw9y5c/nHP/5hdjSXl52dTZs2bXj11Vd/dXzOnDm88MILvPrqq6xfv56oqCiuu+46srKyKjipe9E2MJVAly5daN++PW+88UbxsdjYWG666SZmzpxpYjL3durUKSIiIkhMTKRnz55mx3FL586do3379rz++utMmzaNtm3b8tJLL5kdy62MGTOG1atXa9WgnA0aNIjIyEjeeuut4mO33HILgYGBvPvuuyYmcy8Wi4XPPvuMm266CXDO/tWqVYunnnqK0aNHA5Cfn09kZCSzZ8/m4YcfNjGta9MMoMkKCgrYuHEjffv2LXW8b9++rFmzxqRUniEjIwOA8PBwk5O4r8cff5yBAwdy7bXXmh3FbS1atIiOHTty2223ERERQbt27fjXv/5ldiy30717d77//nt2794NwM8//8yqVasYMGCAycnc24EDBzhx4kSp90g/Pz969eql98gr5G12AE93+vRp7HY7kZGRpY5HRkZy4sQJk1K5P8MwGDFiBN27d6dly5Zmx3FLCxcuZNOmTaxfv97sKG5t//79vPHGG4wYMYJx48axbt06nnzySfz8/LjvvvvMjuc2Ro8eTUZGBjExMXh5eWG325k+fTp//etfzY7m1s6/D/7ae+ShQ4fMiOQ2VAArCYvFUupzwzAuOiZl54knnmDr1q2sWrXK7ChuKSUlheHDh/Ptt9/i7+9vdhy35nA46NixIzNmzACgXbt2bN++nTfeeEMFsAx9+OGHvPfee7z//vu0aNGCLVu28NRTT1GrVi2GDBlidjy3p/fIsqcCaLLq1avj5eV10WxfamrqRf/ikbIxbNgwFi1aRFJSEnXq1DE7jlvauHEjqampdOjQofiY3W4nKSmJV199lfz8fLy8vExM6D5q1qxJ8+bNSx2LjY3lk08+MSmRexo5ciRjxozhzjvvBKBVq1YcOnSImTNnqgCWo6ioKMA5E1izZs3i43qPvHI6B9Bkvr6+dOjQgWXLlpU6vmzZMrp162ZSKvdkGAZPPPEEn376KT/88AMNGjQwO5Lb6tOnD9u2bWPLli3FHx07duTuu+9my5YtKn9lKC4u7qLtjHbv3k29evVMSuSecnJysFpLv2V6eXlpG5hy1qBBA6Kiokq9RxYUFJCYmKj3yCukGcBKYMSIEdx777107NiRrl27Mn/+fA4fPswjjzxidjS38vjjj/P+++/zxRdfEBISUjzrGhYWRkBAgMnp3EtISMhF51YGBQVRrVo1nXNZxp5++mm6devGjBkzuP3221m3bh3z589n/vz5ZkdzK4MHD2b69OnUrVuXFi1asHnzZl544QUeeOABs6O5vHPnzrF3797izw8cOMCWLVsIDw+nbt26PPXUU8yYMYMmTZrQpEkTZsyYQWBgIHfddZeJqd2AIZXCa6+9ZtSrV8/w9fU12rdvbyQmJpodye0Av/qxYMECs6N5hF69ehnDhw83O4ZbWrx4sdGyZUvDz8/PiImJMebPn292JLeTmZlpDB8+3Khbt67h7+9vNGzY0Bg/fryRn59vdjSXt3z58l/93TxkyBDDMAzD4XAYkyZNMqKiogw/Pz+jZ8+exrZt28wN7Qa0D6CIiIiIh9E5gCIiIiIeRgVQRERExMOoAIqIiIh4GBVAEREREQ+jAigiIiLiYVQARURERDyMCqCIiIiIh1EBFBEREfEwKoAiIiIiHkYFUERERMTDqACKiFzggw8+wN/fn6NHjxYfe/DBB2ndujUZGRkmJhMRKTu6F7CIyAUMw6Bt27b06NGDV199lSlTpvDmm2/y448/Urt2bbPjiYiUCW+zA4iIVCYWi4Xp06dz6623UqtWLV5++WVWrlyp8icibkUzgCIiv6J9+/Zs376db7/9ll69epkdR0SkTOkcQBGR//HNN9+wc+dO7HY7kZGRZscRESlzmgEUEbnApk2b6N27N6+99hoLFy4kMDCQ//73v2bHEhEpUzoHUESkyMGDBxk4cCBjxozh3nvvpXnz5nTq1ImNGzfSoUMHs+OJiJQZzQCKiABpaWnExcXRs2dP/vnPfxYfv/HGG8nPz+frr782MZ2ISNlSARQRERHxMLoIRERERMTDqACKiIiIeBgVQBEREREPowIoIiIi4mFUAEVEREQ8jAqgiIiIiIdRARQRERHxMCqAIiIiIh5GBVBERETEw6gAioiIiHgYFUARERERD6MCKCIiIuJh/h9jl4WcXCFRrwAAAABJRU5ErkJggg==' width=640.0/>\n",
       "            </div>\n",
       "        "
      ],
      "text/plain": [
       "Canvas(toolbar=Toolbar(toolitems=[('Home', 'Reset original view', 'home', 'home'), ('Back', 'Back to previous …"
      ]
     },
     "metadata": {},
     "output_type": "display_data"
    }
   ],
   "source": [
    "from consumerdemands import marshallian\n",
    "import numpy as np\n",
    "import matplotlib.pyplot as plt\n",
    "\n",
    "# Demand for c_1 as a function of own price\n",
    "E1 = lambda x,p1=1,p2=1: marshallian.demands(x,(p1,p2),parms)\n",
    "\n",
    "X = np.linspace(.1,10,100)\n",
    "\n",
    "plt.plot(X,[E1(x)[0] for x in X],X,[E1(x)[1] for x in X])\n",
    "plt.xlabel('$x$')\n",
    "plt.ylabel('Consumptions')\n",
    "plt.legend(('$c_1$','$c_2$'))\n",
    "plt.title('Engel Curves')\n",
    "\n",
    "plt.show()"
   ]
  },
  {
   "cell_type": "markdown",
   "metadata": {},
   "source": [
    "###### Questions\n",
    "\n"
   ]
  },
  {
   "cell_type": "markdown",
   "metadata": {},
   "source": [
    "1.  How do the Engel curves depend on prices?\n",
    "2.  In the Cobb-Douglas case the parameters $\\alpha_i$ are sometimes called &ldquo;budget shares.&rdquo;  Why does this makes sense?\n",
    "\n"
   ]
  },
  {
   "cell_type": "markdown",
   "metadata": {},
   "source": [
    "#### Constant Frisch Elasticity (CFE) Example Utility Function\n",
    "\n"
   ]
  },
  {
   "cell_type": "markdown",
   "metadata": {},
   "source": [
    "The Cobb-Douglas utility function is a special case of a more general class of utility functions.  These allow different curvatures in the utility derived from each good, unlike the Cobb-Douglas case.  They take the form\n",
    "    $$\n",
    "       U(c) =\\sum_{i=1}^n\\alpha_i\\frac{\\beta_i}{\\beta_i-1}(c_i^{1-1/\\beta_i} -1).\n",
    "    $$\n",
    "Thus, where the Cobb-Douglas case had an $n$-vector of parameters $\\alpha$, the CFE case has two $n$-vectors, &alpha; and &beta;.\n",
    "\n"
   ]
  },
  {
   "cell_type": "code",
   "execution_count": 7,
   "metadata": {},
   "outputs": [],
   "source": [
    "import consumerdemands as demands\n",
    "\n",
    "########### Play with these parameters\n",
    "parms = {'alpha':[0.3,0.7], # Preference parameters\n",
    "         'beta':[5,1], # Curvature parameters\n",
    "         'phi':0}\n",
    "\n",
    "####################\n",
    "\n",
    "U = lambda c: demands.utility(c,**parms)"
   ]
  },
  {
   "cell_type": "markdown",
   "metadata": {},
   "source": [
    "Now construct a 3-d plot of the utility function for us to visualize:\n",
    "\n"
   ]
  },
  {
   "cell_type": "code",
   "execution_count": 8,
   "metadata": {},
   "outputs": [
    {
     "data": {
      "application/vnd.jupyter.widget-view+json": {
       "model_id": "e2243495324d4badb49c748e7f8307e9",
       "version_major": 2,
       "version_minor": 0
      },
      "image/png": "[encoded data removed]",
      "text/html": [
       "\n",
       "            <div style=\"display: inline-block;\">\n",
       "                <div class=\"jupyter-widgets widget-label\" style=\"text-align: center;\">\n",
       "                    Figure\n",
       "                </div>\n",
       "                <img src='data:image/png;base64,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' width=640.0/>\n",
       "            </div>\n",
       "        "
      ],
      "text/plain": [
       "Canvas(toolbar=Toolbar(toolitems=[('Home', 'Reset original view', 'home', 'home'), ('Back', 'Back to previous …"
      ]
     },
     "metadata": {},
     "output_type": "display_data"
    }
   ],
   "source": [
    "from mpl_toolkits import mplot3d\n",
    "import numpy as np\n",
    "import matplotlib.pyplot as plt\n",
    "\n",
    "fig = plt.figure()\n",
    "ax = plt.axes(projection='3d')\n",
    "\n",
    "# Commodity space\n",
    "c1 = np.linspace(0.1, 10, 30)\n",
    "c2 = np.linspace(0.1, 10, 30)\n",
    "\n",
    "C1,C2 = np.meshgrid(c1,c2)\n",
    "\n",
    "Utils = np.array([[U([c_1,c_2]) for c_1 in c1] for c_2 in c2])\n",
    "\n",
    "ax.plot_surface(C1, C2, Utils, rstride=1, cstride=1,\n",
    "                cmap='viridis', edgecolor='none',alpha=0.8)\n",
    "\n",
    "ax.set_xlabel('$c_1$')\n",
    "ax.set_ylabel('$c_2$')\n",
    "ax.set_zlabel('Utility')\n",
    "\n",
    "# Plot indifference curves\n",
    "ax.contour(C1,C2,Utils,offset=Utils.min())\n",
    "ax.contour(C1,C2,Utils, colors=\"k\", linestyles=\"solid\")\n",
    "\n",
    "plt.show()"
   ]
  },
  {
   "cell_type": "markdown",
   "metadata": {},
   "source": [
    "##### Demands\n",
    "\n"
   ]
  },
  {
   "cell_type": "markdown",
   "metadata": {},
   "source": [
    "We&rsquo;ve seen how one can find demands given a utility function and a budget constraint.  As one varies the price of a particular good (given a fixed budget and holding other prices fixed) one traces out the *demand curve* for the good.\n",
    "\n",
    "The following code does this for the same utility function we explored above.  Note that for obscure historical reasons it&rsquo;s conventional to plot the independent variable &ldquo;price&rdquo; on the vertical axis, instead of the  horizontal.\n",
    "\n"
   ]
  },
  {
   "cell_type": "code",
   "execution_count": 9,
   "metadata": {},
   "outputs": [
    {
     "data": {
      "application/vnd.jupyter.widget-view+json": {
       "model_id": "42b6b91a204a45908d60d0c5b2e4e014",
       "version_major": 2,
       "version_minor": 0
      },
      "image/png": "[encoded data removed]",
      "text/html": [
       "\n",
       "            <div style=\"display: inline-block;\">\n",
       "                <div class=\"jupyter-widgets widget-label\" style=\"text-align: center;\">\n",
       "                    Figure\n",
       "                </div>\n",
       "                <img src='data:image/png;base64,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' width=640.0/>\n",
       "            </div>\n",
       "        "
      ],
      "text/plain": [
       "Canvas(toolbar=Toolbar(toolitems=[('Home', 'Reset original view', 'home', 'home'), ('Back', 'Back to previous …"
      ]
     },
     "metadata": {},
     "output_type": "display_data"
    }
   ],
   "source": [
    "from consumerdemands import marshallian\n",
    "import numpy as np\n",
    "import matplotlib.pyplot as plt\n",
    "\n",
    "# Demand for c_1 as a function of own price\n",
    "D1 = lambda p1,p2=1,x=1: marshallian.demands(x,(p1,p2),parms)[0]\n",
    "\n",
    "P = np.linspace(.5,5,100)\n",
    "\n",
    "fig,ax = plt.subplots()\n",
    "\n",
    "#### Play with  p2 & x below!\n",
    "ax.plot([D1(p1,p2=1,x=1) for p1 in P],P)\n",
    "\n",
    "ax.set_xlabel('$c_1$')\n",
    "ax.set_ylabel('$p_1$')\n",
    "\n",
    "plt.show()"
   ]
  },
  {
   "cell_type": "markdown",
   "metadata": {},
   "source": [
    "###### Questions\n",
    "\n"
   ]
  },
  {
   "cell_type": "markdown",
   "metadata": {},
   "source": [
    "1.  How does the demand curve for $c_1$ change if the price of  the other good changes?\n",
    "2.  How does the demand curve for $c_1$ change if the budget $x$ changes?\n",
    "\n"
   ]
  },
  {
   "cell_type": "markdown",
   "metadata": {},
   "source": [
    "##### Engel Curves\n",
    "\n"
   ]
  },
  {
   "cell_type": "markdown",
   "metadata": {},
   "source": [
    "The &ldquo;demand curve&rdquo; traces out how demand for a good changes as its price changes.  If prices remain fixed and the consumer&rsquo;s *budget* increases this describes what we call an [Engel](https://en.wikipedia.org/wiki/Ernst_Engel) curve.\n",
    "\n"
   ]
  },
  {
   "cell_type": "code",
   "execution_count": 10,
   "metadata": {},
   "outputs": [
    {
     "data": {
      "application/vnd.jupyter.widget-view+json": {
       "model_id": "8f2033674a2c4fda958dbea8f99debd0",
       "version_major": 2,
       "version_minor": 0
      },
      "image/png": "[encoded data removed]",
      "text/html": [
       "\n",
       "            <div style=\"display: inline-block;\">\n",
       "                <div class=\"jupyter-widgets widget-label\" style=\"text-align: center;\">\n",
       "                    Figure\n",
       "                </div>\n",
       "                <img src='data:image/png;base64,iVBORw0KGgoAAAANSUhEUgAAAoAAAAHgCAYAAAA10dzkAAAAOXRFWHRTb2Z0d2FyZQBNYXRwbG90bGliIHZlcnNpb24zLjUuMSwgaHR0cHM6Ly9tYXRwbG90bGliLm9yZy/YYfK9AAAACXBIWXMAAA9hAAAPYQGoP6dpAABfRUlEQVR4nO3dd3wUdeLG8c+m904CgRB67yRUURAEERt2eudUisidZ7tT8VQsZ7sfooJKFRBFQD3FdgIq0nvvPZCEkEJ6duf3x4ZABAQkyWx53q/XvLI7254EyDx8Z+Y7FsMwDERERETEbXiYHUBEREREKpYKoIiIiIibUQEUERERcTMqgCIiIiJuRgVQRERExM2oAIqIiIi4GRVAERERETejAigiIiLiZlQARURERNyMCqCIiIiIm1EBFBEREXEzKoAiIiIibkYFUERERMTNqACKiIiIuBkVQBERERE3owIoIiIi4mZUAEVERETcjAqgiIiIiJtRARQRERFxMyqAIiIiIm5GBVBERETEzagAioiIiLgZFUARERERN6MCKCIiIuJmVABFRERE3IwKoIiIiIibUQEUERERcTMqgCIiIiJuRgVQRERExM2oAIqIiIi4GRVAERERETejAigiIiLiZlQARURERNyMCqCIiIiIm1EBFBEREXEzKoAiIiIibkYFUESu2fTp07FYLJdcli5danZEAAYPHkyNGjWu+Plffvklt912GzExMfj4+BAREUHXrl35+OOPKSwsLL+gIiLlzMvsACLiOqZNm0aDBg0uWN+oUSMT0vx5hmEwdOhQpk+fzi233MIbb7xBXFwcGRkZ/PTTTzz88MOkpqbyyCOPmB1VRORPUQEUkTLTpEkTEhISzI5xzV577TWmT5/OhAkTeOaZZ0o9dtttt/H3v/+dvXv3lsln5eTkEBAQUCbvJSJypbQLWEQqlMViYfTo0cyaNYuGDRsSEBBA8+bN+eqrry547uLFi2nWrBm+vr7UqlWLt99+m+eeew6LxVLqeYZhMHnyZFq0aIG/vz/h4eHcc8897N+//6rzFRYW8sorr9CgQQP++c9/XvQ5lStX5rrrrgNg6dKlF93NffDgQSwWC9OnTy9ZN3jwYIKCgtiyZQvdu3cnODiYrl27Mm7cOAIDA8nMzLzgs+6//35iYmJK7XL+5JNPaN++PYGBgQQFBdGjRw82bNhQ6nX79+/ngQceIDY2Fl9fX2JiYujatSsbN2686p+JiLgeFUARKTNWq5WioqJSi9VqveB5//3vf5k0aRLPP/88CxYsICIigt69e5cqbEuWLOGuu+4iMjKSTz75hFdffZW5c+cyY8aMC97vL3/5C+PGjaNbt24sWrSIyZMns23bNjp06MDJkyev6ntYu3YtaWlp3HHHHRcUzbJQUFDA7bffzo033sjixYuZMGECQ4cOJScnh/nz55d6bnp6OosXL6Z///54e3sD8NJLL9GnTx8aNWrE/PnzmTVrFllZWXTq1Int27eXvPaWW25h3bp1vPrqq3z//fe8++67tGzZkvT09DL/nkTECRkiItdo2rRpBnDRxdPTs9RzASMmJsbIzMwsWXfixAnDw8PDmDhxYsm6xMREIy4uzsjPzy9Zl5WVZURGRhrn/+r67bffDMB4/fXXS33OkSNHDH9/f+Pvf/97ybpBgwYZ8fHxf/i9zJs3zwCM995774q+959++skAjJ9++qnU+gMHDhiAMW3atFKfDxgfffTRBe/TqlUro0OHDqXWTZ482QCMLVu2GIZhGIcPHza8vLyMMWPGlHpeVlaWUblyZeO+++4zDMMwUlNTDcB46623ruh7EBH3o2MARaTMzJw5k4YNG5Zad7FRtC5duhAcHFxyPyYmhujoaA4dOgRAdnY2a9euZfTo0fj4+JQ8LygoiNtuu63UbtWvvvoKi8VC//79KSoqKllfuXJlmjdv7jBnIJ/v7rvvvmDdkCFDGDNmDLt27aJ+/fqA/aSaxMREmjRpAsC3335LUVERAwcOLPW9+vn5ccMNN/DTTz8BEBERQe3atXnttdewWq106dKF5s2b4+GhnT4iYqffBiJSZho2bEhCQkKppXXr1hc8LzIy8oJ1vr6+5ObmAnD69GkMwyAmJuaC5/1+3cmTJ0ue6+3tXWpZuXIlqampV/U9VK9eHYADBw5c1euuVEBAACEhIRes79evH76+viXldvv27axZs4YhQ4aUPOfs7uzExMQLvtdPPvmk5Hu1WCz8+OOP9OjRg1dffZVWrVpRqVIlxo4dS1ZWVrl8XyLiXDQCKCIOJzw8HIvFctHj906cOFHqflRUFBaLhZ9//hlfX98Lnn+xdX8kISGBiIgIFi9ezMSJEy97HKCfnx8A+fn5pdZfqnhe6v3Cw8O54447mDlzJi+88ALTpk3Dz8+PPn36lDwnKioKgM8++4z4+Pg/zBUfH8+HH34IwO7du5k/fz7PPfccBQUFvPfee3/4WhFxfRoBFBGHExgYSEJCAosWLaKgoKBk/ZkzZy44W/jWW2/FMAyOHTt2wehjQkICTZs2varP9vb25vHHH2fnzp3861//uuhzkpOT+fXXXwFKJpbevHlzqed88cUXV/W5YN8NfPz4cb7++mtmz55N7969CQsLK3m8R48eeHl5sW/fvot+r5eagqdevXr84x//oGnTpqxfv/6qc4mI69EIoIiUma1bt5Y6Nu2s2rVrU6lSpat6r+eff55evXrRo0cPHnnkEaxWK6+99hpBQUGkpaWVPK9jx46MHDmSIUOGsHbtWq6//noCAwNJSkril19+oWnTpjz00ENX9dmPPfYYO3bs4Nlnn2X16tX07du3ZCLo5cuXM2XKFCZMmEDHjh2pXLky3bp1Y+LEiYSHhxMfH8+PP/7I559/flWfCdC9e3eqVavGww8/zIkTJ0rt/gV72Xz++ed5+umn2b9/PzfffDPh4eGcPHmS1atXExgYyIQJE9i8eTOjR4/m3nvvpW7duvj4+PC///2PzZs388QTT1x1LhFxQSafhCIiLuCPzgIGjKlTp5Y8FzBGjRp1wXvEx8cbgwYNKrVu4cKFRtOmTQ0fHx+jevXqxssvv2yMHTvWCA8Pv+D1H330kdG2bVsjMDDQ8Pf3N2rXrm0MHDjQWLt2bclzruQs4PMtXrzY6NWrl1GpUiXDy8vLCA8PN7p06WK89957pc5OTkpKMu655x4jIiLCCA0NNfr372+sXbv2omcBBwYG/uFnPvXUUwZgxMXFGVar9aLPWbRokdGlSxcjJCTE8PX1NeLj44177rnH+OGHHwzDMIyTJ08agwcPNho0aGAEBgYaQUFBRrNmzYw333zTKCoquuLvX0Rcl8UwDMOs8ikicjUKCwtp0aIFVatW5bvvvjM7joiI09IuYBFxWMOGDeOmm26iSpUqnDhxgvfee48dO3bw9ttvmx1NRMSpqQCKiMPKysrib3/7GykpKXh7e9OqVSu+/vprunXrZnY0ERGnpl3AIiIiIm5G08CIiIiIuBkVQBERERE3owIoIiIi4mZUAEVERETcjM4CvgY2m43jx48THBx82euFioiIiGMwDIOsrCxiY2Px8HDPsTAVwGtw/Phx4uLizI4hIiIif8KRI0eoVq2a2TFMoQJ4DYKDgwH7X6CQkBCT04iIiMiVyMzMJC4urmQ77o5UAK/B2d2+ISEhKoAiIiJOxp0P33LPHd8iIiIibkwFUERERMTNqACKiIiIuBkdA1jODMOgqKgIq9VqdpQK5enpiZeXl1sfXyEiIuKoVADLUUFBAUlJSeTk5JgdxRQBAQFUqVIFHx8fs6OIiIjIeVQAy4nNZuPAgQN4enoSGxuLj4+P24yGGYZBQUEBKSkpHDhwgLp167rtRJsiIiKOSAWwnBQUFGCz2YiLiyMgIMDsOBXO398fb29vDh06REFBAX5+fmZHEhERkWIaliln7jzy5c7fu4iIiCPTFlpERETEzagAioiIiLgZFUARERERN6MCKBeVkpLCyJEjiYmJwd/fn+bNm7N8+XKzY4mIiBux2QyzI7gsFUC5wKFDh2jWrBmnT59m8eLFbN68mTFjxhAcHGx2NBERcRNbj2Vwy39+5mBqttlRXJKmgalAhmGQW1jxVwTx9/a8qjkIH3roIRo0aMD8+fNLXle3bl0AevfuzdKlS+natSufffZZueQVERH3tu14Bv0+WEVGbiGvfruTyf1amx3J5agAVqDcQiuNnvm2wj93+/M9CPC5sj/qw4cP880337B+/fqLlsaxY8cydOhQZsyYUdYxRURE2JGUSf/i8teyehiv3N3M7EguSbuApZQNGzbg4+NDy5YtL/p4ly5dtCtYRETKxa4TWfT7YBWncwppHhfGjKFtCPbzNjuWS9IIYAXy9/Zk+/M9TPncK+Xt7U1RURE5OTlueQUTERExx56TWfSdupK07AKaVg1l5tA2hKj8lRsVwApksViueFesWdq2bUtoaCgPPfQQTzzxBIZhsHz5cjp37kyDBg3MjiciIi5ob/IZ+kxdxansAhrHhjBrWBtC/VX+ypN2AUspkZGRfPnll+zZs4fExESuu+46Fi1aRExMjNnRRETEBe1POUPfqStJPZNPwyohzB7WlrAAH7NjuTzHHo4SU3Ts2JEVK1aYHUNERFzcgdRs+kxdSXJWPg0qB/Px8LaEB6r8VQQVQLkqPXr0YP369WRnZ1OtWjUWLlxIYmKi2bFERMTJHDqVTZ8pKzmZmU/9GHv5i1D5qzAqgHJVvv224qexERER13IkLYc+U1ZyIjOPutFBfDyiLZFBvmbHcis6BlBEREQqzJG0HB6YspLjGXnUrhTInBHtiFL5q3AqgCIiIlIhjp7Ooc/UlRxLz6VWVCBzR7SjUrDKnxlUAEVERKTcHUvPpc/UlRw9nUvNqEDmjmxHdIif2bHclgqgiIiIlKukjFz6TFnJkbRc4iMDmDuiHTEqf6ZSARQREZFycyIjjz5TVnI4LYfqEfbyVzlU5c9sKoAiIiJSLk5m5tF36koOnsqhWrg/c0e2IzbM3+xYggqgiIiIlIPkzDz6TF3J/tRsqob5M3dEO6qq/DkMFUAREREpU8lZxeUvxV7+5o1sR1xEgNmx5DwqgCIiIlJmUrLy6Td1FftSsqkS6sfcESp/jkgFUERERMpE6pl8+n2wkj3JZ6gc4se8ke2oHqny54hUAEVEROSanTpjH/nbffIMMSG+zB3ZjvjIQLNjySWoAIqIiMg1ScsuoN8Hq9h1MovoYF/mjmhHzSiVP0emAigXlZKSwsiRI4mJicHf35/mzZuzfPlys2OJiIiDOV1c/naeyKJSsC9zRrSjVqUgs2PJZXiZHUAcz6FDh2jXrh3XXXcdixcvJjIykmXLlhEcHGx2NBERcSDpOfbytyMpk6ggX+aOaEudaJU/Z6ACWJEMAwpzKv5zvQPAYrnipz/00EM0aNCA+fPnYyl+Xd26dTly5AidO3cmOTkZLy8v/vnPf3LvvfeWV2oREXFgZ8vf9qRMooJ8isufBgqchQpgRSrMgZdiK/5znzoOPld2LMbhw4f55ptvWL9+fUn5O8vLy4u33nqLFi1akJycTKtWrbjlllsIDNRxHiIi7iQjp5ABH65m2/FMIgN9mDOiHXVjVP6ciQqglLJhwwZ8fHxo2bLlBY9VqVKFKlWqABAdHU1ERARpaWkqgCIibiQjt5ABH61iy7EMIorLXz2VP6fj1gXw2LFjPP7443zzzTfk5uZSr149PvzwQ1q3bl0+H+gdYB+Nq2jeVz4Hk7e3N0VFReTk5BAQcOnXrV27FpvNRlxcXFkkFBERJ5CZV8jAD1ex+WgG4QHezBnRlvqVVf6ckdsWwNOnT9OxY0e6dOnCN998Q3R0NPv27SMsLKz8PtRiueJdsWZp27YtoaGhPPTQQzzxxBMYhsHy5cvp3LkzDRo0AODUqVMMHDiQDz74wOS0IiJSUezlbzWbisvfx8Pb0aByiNmx5E9y2wL4yiuvEBcXx7Rp00rW1ahRw7xADiIyMpIvv/ySxx57jMTERHx8fGjTpg33338/APn5+fTu3Zsnn3ySDh06mJxWREQqQlZeIYM+Ws3GI+mEBXgze3hbGsWq/Dkzt50H8IsvviAhIYF7772X6OhoWrZsydSpU82O5RA6duzIihUrOHPmDGlpaSxZsoTw8HAMw2Dw4MHceOONDBgwwOyYIiJSAc6Wvw2H0wn192b2sLY0jg01O5ZcI7ctgPv37+fdd9+lbt26fPvttzz44IOMHTuWmTNnXvI1+fn5ZGZmllrcya+//sonn3zCokWLaNGiBS1atGDLli1mxxIRkXJyJr+IwdPWsL64/H08vC1Nqqr8uQK33QVss9lISEjgpZdeAqBly5Zs27aNd999l4EDB170NRMnTmTChAkVGdOhXHfdddhsNrNjiIhIBTiTX8Tgj1az7tBpQvy8VP5cjNuOAFapUoVGjRqVWtewYUMOHz58ydc8+eSTZGRklCxHjhwp75giIiIV7kx+EUOmrWZtSflrp/LnYtx2BLBjx47s2rWr1Lrdu3cTHx9/ydf4+vri6+tb3tFERERMk11c/tYcPE2wnxezhrWlaTWVP1fjtiOAjz76KCtXruSll15i7969zJkzhylTpjBq1Cizo4mIiJjCXv7W2Mufrxezh7WleVyY2bGkHLhtAUxMTGThwoXMnTuXJk2a8K9//Yu33nqLfv36mR1NRESkwuUUFDFk+hpWH0wj2NeLWcNV/lyZ2+4CBrj11lu59dZbzY4hIiJiqpyCIoZOX8PqA/byN3NYG1qo/Lk0tx0BrCjufNasO3/vIiLOIrfAytDpa1i5P40gXy9mDGtDy+rhZseScubWI4DlycfHBw8PD44fP06lSpXw8fHBYrGYHatCGIZBQUEBKSkpeHh44OPjY3YkERG5iAvK39A2tFL5cwsqgOXEw8ODmjVrkpSUxPHjx82OY4qAgACqV6+Oh4cGmkVEHE1ugZVhM9bw2/5TJeWvdbzKn7tQASxHPj4+VK9enaKiIqxWq9lxKpSnpydeXl5uM+opIuJMcgusDJ+5hhX7ThHo48mMoYkqf25GBbCcWSwWvL298fb2NjuKiIgIeYVWRsxcy6977eVv5rA2tI6PMDuWVDDtmxMREXETeYVWhs9Yyy97U4tH/lT+3JUKoIiIiBs4O/J3tvxNH9qGhBoqf+5KBVBERMTFnS1/P+9JJaC4/CWq/Lk1FUAREREX9vvyN0PlT1ABFBERcVl5hVZGzlp3buRviMqf2KkAioiIuKCz5W/57hQCfDyZNjiRNjVV/sROBVBERMTFXKz8ta0VaXYscSAqgCIiIi5E5U+uhAqgiIiIizi//Pl7q/zJpakAioiIuIALyt8QlT+5NBVAERERJ3ex8tdO5U/+gAqgiIiIE1P5kz9DBVBERMRJqfzJn6UCKCIi4oRU/uRaeJkdQERERK7O+Zd3U/mTP0MFUERExIn8vvxN19m+8idoF7CIiIiTUPmTsqICKCIi4gRU/qQsqQCKiIg4uPPLX4CPyp9cOx0DKCIi4sDyCq0Mn7GWX/aeLX9taFMzwuxY4uQ0AigiIuKgcgtU/qR8aARQRETEAeUW2Hf7ni1/M4a2IbGGyp+UDRVAERERB5NbYGXYjDWs2HeKQB9Ppqv8SRlTARQREXEgvy9/M4a2IUHlT8qYCqCIiIiDyCkoYtj0tfy2X+VPypcKoIiIiAPIKShi6PQ1rNyfRpCvFzOGJtI6XuVPyocKoIiIiMlyCooYMm0Nqw6cLX9taB0fbnYscWEqgCIiIibKzi9iyPQ1rFb5kwqkAigiImKS7Hz7yN/qg2kE+3oxY1gbWlVX+ZPypwIoIiJigjP5RQyZtpo1B08T7OvFzGFtaKnyJxVEBVBERKSClSp/fl7MGtaWFnFhZscSN6ICKCIiUoGy8goZPG0N6w7Zy9/sYW1prvInFUwFUEREpIJk5RUy6KPVrD+cToifF7OHt6VZtTCzY4kbUgEUERGpAJnF5W/D4XRC/b35eHhbmlQNNTuWuCkVQBERkXKWkVvIwI9Ws+lIOmEB3swepvIn5vIwO4BZnnvuOSwWS6mlcuXKZscSEREXk5FbyMAPV5WUP438iSNw6xHAxo0b88MPP5Tc9/T0NDGNiIi4moycQgZ8tIrNRzMID/Dm4+HtaBQbYnYsEfcugF5eXhr1ExGRcpGeU0D/D1ex9VgmEYE+fDy8LQ2rqPyJY3DbXcAAe/bsITY2lpo1a/LAAw+wf/9+syOJiIgLOJ1dQN+p9vIXGejD3BHtVP7EobjtCGDbtm2ZOXMm9erV4+TJk7zwwgt06NCBbdu2ERkZedHX5Ofnk5+fX3I/MzOzouKKiIiTSMsuoN8Hq9iRlElUkA9zRrSjXkyw2bFESrEYhmGYHcIRZGdnU7t2bf7+978zfvz4iz7nueeeY8KECResz8jIICRE/7MTEXF3p87k0++DVew8kUVUkC9zR7Slrsqfw8nMzCQ0NNStt99uvQv4fIGBgTRt2pQ9e/Zc8jlPPvkkGRkZJcuRI0cqMKGIiDiy1DP59J1qL3+Vgn2ZN7Kdyp84LLfdBfx7+fn57Nixg06dOl3yOb6+vvj6+lZgKhERcQYpWfn0nbqSPclniA72Ze7IdtSuFGR2LJFLctsRwL/97W8sW7aMAwcOsGrVKu655x4yMzMZNGiQ2dFERMSJJGfl0ae4/FUO8eOTv7RX+ROH57YjgEePHqVPnz6kpqZSqVIl2rVrx8qVK4mPjzc7moiIOInkTHv525eSTZVQP+aOaEeNqECzY4lcltsWwHnz5pkdQUREnNiJjDz6Tl3J/tRsYkP9mDuyHfGRKn/iHNy2AIqIiPxZSRm59JmykoOncqga5s+8ke2IiwgwO5bIFVMBFBERuQrH0u3l73BaDtXC/Zk7QuVPnI8KoIiIyBU6ejqHPlNXciQtl+oRAcwd2Y6qYf5mxxK5aiqAIiIiV+BIWg4PTFnJsfRc4iMDmDuiHbEqf+KkVABFREQu49CpbPpOXcWx9FxqRgUyd0Q7Kof6mR1L5E9TARQREfkDB1Kz6Tt1JUkZedSqFMi8Ee2IDlH5E+emAigiInIJ+1LO0HfqSk5m5lMnOog5I9oSHazyJ85PBVBEROQi9iafoc/UlaRk5VMvJog5I9oRFaTLgYprUAEUERH5nd0ns+g7dRWpZ/JpUDmYj4e3JVLlT1yICqCIiMh5dp7IpN/UVZzKLqBRlRBmD29LRKCP2bFEypQKoIiISLHtxzPp98FKTucU0qRqCLOHtSUsQOVPXI8KoIiICLD1WAb9P1xFek4hzauFMnNoW0IDvM2OJVIuVABFRMTtbTqSzoAPV5GZV0TL6mHMGNqGED+VP3FdKoAiIuLW1h8+zaAPV5OVX0Tr+HCmD0kkWOVPXJwKoIiIuK21B9MYPG0NZ/KLaFMzgmmDEwn01aZRXJ/+louIiFtatf8UQ6avIafASvtakXw4OIEAH20WxT3ob7qIiLid3/adYuj0NeQWWulUN4opAxLw9/E0O5ZIhVEBFBERt/LLnlSGz1xDXqGNG+pV4v0BrfHzVvkT96ICKCIibmPprmRGzlpHQZGNGxtEM7lfK5U/cUsqgCIi4hZ+3HGSh2avp8Bq46ZGMbzTtxU+Xh5mxxIxhQqgiIi4vG+3nWD0nPUUWg16NqnMf/q0xNtT5U/clwqgiIi4tK+3JDF27gaKbAa3NqvCm/e3UPkTt6cCKCIiLmvxxmOMn78Jq83gzhax/Pve5nip/ImoAIqIiGv6fP1R/vbpJmwG3NO6Gq/c3QxPD4vZsUQcggqgiIi4nPlrjvD455sxDOjTJo4X72yKh8qfSAkVQBERcSkfrzrE0wu3AtC/XXWev72Jyp/I76gAioiIy5j+6wGe+3I7AIM71ODZ2xphsaj8ifyeCqCIiLiED37ezwv/3QHAyOtr8WTPBip/IpegAigiIk5v8tK9vLpkFwCjutTmb93rq/yJ/AEVQBERcWpv/7CHN3/YDcC4bnV5pGtdlT+Ry1ABFBERp2QYBq9/t5tJP+0F4LEe9RnVpY7JqUScgwqgiIg4HcMwePmbnby/fD8AT93SgJHX1zY5lYjzUAEUERGnYhgGz3+1nWm/HgTgudsaMbhjTXNDiTgZl7geTmZmJosWLWLHjh1mRxERkXJksxn8c/HWkvL3Yu8mKn8if4JTFsD77ruPSZMmAZCbm0tCQgL33XcfzZo1Y8GCBSanExGR8mC1GTy1cAuzVx7GYoFX725Gv7bxZscScUpOWQCXL19Op06dAFi4cCGGYZCens5//vMfXnjhBZPTiYhIWSuy2njs003MW3MEDwu8fm9z7kuMMzuWiNNyygKYkZFBREQEAEuWLOHuu+8mICCAXr16sWfPHpPTiYhIWSq02hj3yUY+33AMTw8Lbz/QkrtaVTM7lohTc8oCGBcXx2+//UZ2djZLliyhe/fuAJw+fRo/Pz+T04mISFkpKLIxes56vtqchLenhXf6tuK25rFmxxJxek55FvC4cePo168fQUFBxMfH07lzZ8C+a7hp06bmhhMRkTKRV2hl1Mfr+XFnMj5eHrzXvxU3NogxO5aIS3DKAvjwww/Tpk0bjhw5wk033YSHh30gs1atWjoGUETEBeQWWBk5ay0/70nF18uDqQMTuL5eJbNjibgMp9wFDJCQkEDv3r0JCgoqWderVy86duz4p95v4sSJWCwWxo0bV0YJRUTkz8jOL2LI9NX8vCeVAB9Ppg1JVPkTKWNOOQJotVqZPn06P/74I8nJydhstlKP/+9//7uq91uzZg1TpkyhWbNmZRlTRESuUmZeIUOmrWHdodME+XoxfUgiCTUizI4l4nKcsgA+8sgjTJ8+nV69etGkSZNruuj3mTNn6NevH1OnTtXuYxERE2XkFDLwo1VsOppBiJ8XM4e1pUVcmNmxRFySUxbAefPmMX/+fG655ZZrfq9Ro0bRq1cvunXrpgIoImKStOwC+n+wiu1JmYQHeDNrWFuaVA01O5aIy3LKAujj40OdOnWu+X3mzZvH+vXrWbNmzRU9Pz8/n/z8/JL7mZmZ15xBRMTdpWTl0++Dlew+eYaoIB9mD29Lg8ohZscScWlOeRLIX//6V95++20Mw/jT73HkyBEeeeQRZs+efcVzB06cOJHQ0NCSJS5Os9CLiFyLExl53D/lN3afPENMiC/zRrZX+ROpABbjWlqUSXr37s1PP/1EREQEjRs3xtvbu9Tjn3/++WXfY9GiRfTu3RtPT8+SdVarFYvFgoeHB/n5+aUeg4uPAMbFxZGRkUFIiH5hiYhcjaOnc+g7dRWH03KoGubPnBFtiY8MNDuWuIHMzExCQ0PdevvtlLuAw8LC6N279zW9R9euXdmyZUupdUOGDKFBgwY8/vjjF5Q/AF9fX3x9fa/pc0VEBA6dyqbv1FUcS8+lekQAc0a0pVp4gNmxRNyGUxbAadOmXfN7BAcH06RJk1LrAgMDiYyMvGC9iIiUnb3JZ+g7dSXJWfnUigpkzoh2VA7VZTxFKpJTFsCzUlJS2LVrFxaLhXr16lGpkiYKFRFxZDtPZNL/g1WknimgXkwQs4e3JTpY5U+kojllAczOzmbMmDHMnDmzZBJoT09PBg4cyP/93/8REPDndiMsXbq0DFOKiMj5th7LoP+Hq0jPKaRxbAizhrUlItDH7FgibskpzwIeP348y5Yt48svvyQ9PZ309HQWL17MsmXL+Otf/2p2PBER+Z31h0/TZ+pK0nMKaREXxpzh7VT+REzklGcBR0VF8dlnn9G5c+dS63/66Sfuu+8+UlJSKiSHziISEbm8VftPMXT6GrILrCTWCOejwYkE+3lf/oUi5UTbbyfdBZyTk0NMTMwF66Ojo8nJyTEhkYiIXMzPe1IYMXMteYU2OtSO5INBCQT4OOWmR8SlOOUu4Pbt2/Pss8+Sl5dXsi43N5cJEybQvn17E5OJiMhZP+44ybDp9vLXpX4lPhqcqPIn4iCc8l/i22+/zc0330y1atVo3rw5FouFjRs34ufnx7fffmt2PBERt/f1liTGzt1Akc2gR+MY/q9PK3y8nHLMQcQlOeUxgGAf8Zs9ezY7d+7EMAwaNWpEv3798Pf3r7AMOoZARORCizYc46+fbsJqM7i9eSyv39ccb0+VP3Ec2n476QgggL+/PyNGjDA7hoiInGfu6sM8tXALhgH3tq7Gy3c3w9PDYnYsEfkdpymAX3zxBT179sTb25svvvjiD597++23V1AqERE5a9qvB5jw5XYABrSLZ8LtjfFQ+RNxSE6zC9jDw4MTJ04QHR2Nh8eldyVYLBasVmuFZNIQsoiI3eSle3l1yS4ARl5fiyd7NsBiUfkTx6TttxONAJ694sfvb4uIiHkMw+DNH/bwnx/3ADC2a10e7VZX5U/EwTnlUbkzZ84kPz//gvUFBQXMnDnThEQiIu7HMAxe+npHSfl7/OYGjL+pnsqfiBNwml3A5/P09CQpKYno6OhS60+dOkV0dLR2AYuIlDObzeCZL7Yye+VhAJ69rRFDOtY0OZXIldH224l2AZ/PMIyL/g/z6NGjhIaGmpBIRMR9WG0Gjy/YzGfrjmKxwMt3NeX+xOpmxxKRq+BUBbBly5ZYLBYsFgtdu3bFy+tcfKvVyoEDB7j55ptNTCgi4toKrTYe/WQjX21OwtPDwhv3NeeOFlXNjiUiV8mpCuCdd94JwMaNG+nRowdBQUElj/n4+FCjRg3uvvtuk9KJiLi2vEIro+es54cdyXh7Wvi/Pq24uUlls2OJyJ/gVAXw2WefBaBGjRrcf//9+Pn5mZxIRMQ95BZYGTlrLT/vScXXy4P3BrSmS/3oy79QRBySUxXAswYNGgTA2rVr2bFjBxaLhYYNG9K6dWuTk4mIuJ6svEKGTV/L6oNpBPh48sGgBDrUjjI7lohcA6csgMeOHeOBBx7g119/JSwsDID09HQ6dOjA3LlziYuLMzegiIiLSM8pYNBHq9l0NINgPy+mD2lD6/hws2OJyDVyynkAhwwZQmFhITt27CAtLY20tDR27NiBYRgMGzbM7HgiIi4hJSufB6asZNPRDMIDvJk7op3Kn4iLcMp5AP39/VmxYgUtW7YstX79+vV07NiR3NzcCsmheYRExFUlZeTS74NV7E/JplKwLx8Pb0u9mGCzY4mUCW2/nXQXcPXq1SksLLxgfVFREVWrajoCEZFrcfhUDn0/WMnR07lUDfPn4+FtqREVaHYsESlDTrkL+NVXX2XMmDGsXbuWswOYa9eu5ZFHHuHf//63yelERJzX3uQs7n1/BUdP51IjMoD5D7ZX+RNxQU65Czg8PJycnByKiopKJoM+ezswsPQvqrS0tHLLoSFkEXEl245nMPDD1ZzKLqBeTBCzh7UlOkTTbYmJDANsVvAs2x2W2n476S7gt956y+wIIiIuZf3h0wz+aDWZeUU0qRrCzKFtiQj0MTuWuLKiAshKgszjkHUcMpPOu198O+sEdH0G2o8yO63LccoCeHYeQBERuXYr9qUyfMZacgqsJMSH89GQREL8vM2OJc4s/4y9yGUeK/56tuSdt+SkXtl7ZSWVb1Y35ZQF8Kzk5GSSk5Ox2Wyl1jdr1sykRCIizuV/O0/y0Oz15BfZuK5OFFMGtibAx6k3DVLe8jLsBS7jWHHBO7sknSt3+RlX9l6ePhBcBUJif/e1CgTHFn+tUr7fj5tyyn/l69atY9CgQSVz/53PYrFgtVpNSiYi4jz+uzmJR+ZtoMhm0K1hDJP6tsTP29PsWGKm/DP2MpdxtPjrMcg8el7hOw4FWVf2Xr4h9kIXEltc5ooLXUjVc2UvIBIslvL9nuSinLIADhkyhHr16vHhhx8SExODRX95RESuyqdrj/D4gs3YDLi9eSyv39ccb0+nnBhCrlRRgX03bMbR0sv5RS/vCkfu/MLsRS60uMyFVjtX9kKq2Yuer+aNdGROWQAPHDjA559/Tp06dcyOIiLidGasOMizX2wD4IHEOF7s3RRPD/1H2qkZBuSkQcaR4uXohcuZk8AVTPzhG2ovdiFV7YUutNq5snd2nY+mBnJ2TlkAu3btyqZNm1QARUSu0js/7eW1b3cBMOy6mvyjV0PtRXEG1iL76F36kXMlL/13Za8w5/Lv4+lrL3ShVe0jdb+/HRILfu45LYq7ccoC+MEHHzBo0CC2bt1KkyZN8PYufbba7bffblIyERHHZBgGr367i3eX7gNgbNe6PNqtrsqfoyjKt5e49MP25WzBO3s78zgYV3B8e2A0hMXZR+rCqhcXvLPlrhoERumYOwGctACuWLGCX375hW+++eaCx3QSiIhIaTabwYQvtzHjt0MAPHVLA0ZeX9vkVG6mpOAdOlfyzl+yTnDZ3bOePsXFLg5Ci8tdWFxxwSsufd6auFuujFMWwLFjxzJgwAD++c9/EhMTY3YcERGHVWS18fiCLSxYfxSLBf51RxP6t4s3O5brsRbZT6JIPwynD50reqeLv2YlcdmC5x1gL3Jh1e3FLqz6ufuhcRAUAx46UUfKhlMWwFOnTvHoo4+q/ImI/IH8IiuPzN3Ikm0n8PSw8MZ9zbmjRVWzYzknw4CcU3D6YOkl/ZC95GUcvfwuWu8ACIsvLnhnS9559zUlilQgpyyAd911Fz/99BO1a2sXhojIxeQWWPnL7HUs352Cj6cHk/q2pHvjymbHcmxF+cWjdgftS9qB0mWvMPuPX+/pU1zmiktdeHzx7Xj7bRU8cSBOWQDr1avHk08+yS+//ELTpk0vOAlk7NixJiUTETFfZl4hw6evZfXBNPy9PZk6MIHr6kaZHcsx5KbD6QPF5e7AuZKXdsA+H94f7qa12M+SDYuH8BrnCt7Z20GVtYtWnIbF+P2lNJxAzZo1L/mYxWJh//79FZIjMzOT0NBQMjIyCAnRafMiYr607AIGfrSKrccyCfbzYvqQRFrHR5gdq+IYBmSnQtr+4oK3/7zlAOSm/fHrvQPthS6ipv1rWPy526FxOsnCRWj77aQjgAcOHDA7goiIwzmRkUf/D1exN/kMkYE+zBjahiZVQ82OVfYMA7JT4NQ+SNtX/PW8kne5S5UFRheXuprnvp4tfYGVtJtW3IJTFkARESnt0Kls+n2wiqOnc6kS6sesYW2pEx1kdqxrk5NmL3en9p5X9PbBqf2XKXkW+5QokbUgolZx0at1ruz5OvnPRaQMOGUBHDp06B8+/tFHH1VQEhER8+0+mUX/D1aRnJVPjcgAZg9vS7XwALNjXZmCHPvI3am9xcu+c7f/cHetxb5LNrIWRNS2F7zI4q9h8dpVK3IZTlkAT58+Xep+YWEhW7duJT09nRtvvPGK3uPdd9/l3Xff5eDBgwA0btyYZ555hp49e5Z1XBGRcrPpSDqDpq0mPaeQ+jHBzBrehuhgBys/Npv9BItTeyC1eDm1B1L32ufO+yMhVc8rd7XPfQ2voZIncg2csgAuXLjwgnU2m42HH36YWrVqXdF7VKtWjZdffrnkesIzZszgjjvuYMOGDTRu3LhM84qIlIff9p1i+Iw1ZBdYaR4XxowhiYQF+JgXqCDHvos2Zdd5JW+3vegV5V76dX5hEFUXIuvYC15kHfsSUQt8Aissvog7ccqzgC9l165ddO7cmaSkpD/1+oiICF577TWGDRt2Rc/XWUQiYpYfd5zkoY/XU1Bko0PtSKYMTCDIt4L+T599ClJ32ctdyu5zt9OPcMlpVDy8ikfy6kJUneKvde1fAyJ04oVUKG2/nXQE8FL27dtHUVHRVb/OarXy6aefkp2dTfv27cshmYhI2Vm88Rh/nb+JIptBt4YxTOrbEj9vz7L9EMOAMycheUfxiN4u+9eUXZCTeunX+YdDVH17yYuqZ18i69rnyfP0vvTrRKRCOWUBHD9+fKn7hmGQlJTEf//7XwYNGnTF77Nlyxbat29PXl4eQUFBLFy4kEaNGl3y+fn5+eTn55fcz8zMvPrwIiLX4ONVh/jHoq0YBtzZIpbX7m2Ot+c1TD5sGJB1AlJ2QPJOSDlvycu49OtC4+zlrlL9c0WvUn1d7ULESThlAdywYUOp+x4eHlSqVInXX3/9smcIn69+/fps3LiR9PR0FixYwKBBg1i2bNklS+DEiROZMGHCNWUXEfmzJi/dy6tLdgEwoF08E25vjIfHVZStMynFRW8HJG8vLnw7Ll30LB72aVMqNbCXu7NLZF1NpSLi5FzqGMBr1a1bN2rXrs37779/0ccvNgIYFxfn1scQiEj5MwyDV5bs4r1l+wAY3aUOf+1eD8ulRtryz9hH8E5uKy57xV+zUy7+fIun/fi8SvUhumFx4WtgPxFDZ9qKC9IxgE46Apibm4thGAQE2Oe5OnToUMnu2+7du//p9zUMo1TB+z1fX198fX3/9PuLiFwtq83gn4u3MmfVYQCeuqUBI6+vbX/QZrVf+eLkFnvZO7ndXvZOH7zEu1ns06dENyxeGtmLXlRd8NLvNhF34pQF8I477uCuu+7iwQcfJD09nTZt2uDj40NqaipvvPEGDz300GXf46mnnqJnz57ExcWRlZXFvHnzWLp0KUuWLKmA70BE5PIKimyMn7+RrzYnEWLJ5s3rPenq8z0sfvPc6N6lplcJirEXvJjG5wpfpQaaVkVEACctgOvXr+fNN98E4LPPPqNy5cps2LCBBQsW8Mwzz1xRATx58iQDBgwgKSmJ0NBQmjVrxpIlS7jpppvKO76IyKUZBqQfIv/oJr754TvuSNvBk76HqGpJhVUXeb6Xv73cxTSGmCYQ0wiiG0NgZIVHFxHn4ZQFMCcnh+DgYAC+++477rrrLjw8PGjXrh2HDh26ovf48MMPyzOiiMjlWQvt06qc2AxJm+1fT2yF/Ax8gTsBzp/dJTTOXvIqNykue03s17f1KOMpYETE5TllAaxTpw6LFi2id+/efPvttzz66KMAJCcnu+3BnCLi4Arz7LttkzYWF75N9vvWggufihe7bNXY41GD1m2up3qjtvYRPv/wis8tIi7JKQvgM888Q9++fXn00Ufp2rVryeTN3333HS1btjQ5nYi4vcJce7k7vgGOb7SXvuQdYFgvfK5vCFRuCpWbkRbSgL//YrDsdAShQYHMHNqG6rH6T62IlD2nnQbmxIkTJCUl0bx5czw87JOgrl69mpCQEBo0aFAhGXQauYhQVGA/8/b4hnNL8g6wXeSqRAGRUKUFVGkOVZrZv4bVAA8P9pzMYsCHqzmRmUe1cH9mD2tLjSidsCFSHrT9dtIRQIDKlStTuXLlUuvatGljUhoRcQs2G5zaA8fWFS/r4eTWi+7GJSAKYltCbAt76YttASFVL3qVjE1H0hk8bTWncwqpGx3ErGFtqRyq+fdEpPw4ZQHMzs7m5Zdf5scffyQ5ORmbzVbq8f3795uUTERcStYJOLoWjq21F77jGyH/IpeA9Auzl72qrYpLX8tLlr3fW7E3lREz15JdYKV5XBjTBycSHuhT5t+KiMj5nLIADh8+nGXLljFgwACqVKly6dnwRUSuVFG+/cSMo2uKl7WQceTC53kH2Ef0zpa9qq3sl0v7E7+Hvt12gjFzNlBgtdGxTiTvD0ggyNcpfy2LiJNxyt8033zzDf/973/p2LGj2VFExFllHocjq+DIavtyYvNFduVa7HPsVW0N1RLsXys1BM9r/9U5f+0RnliwGZsBNzeuzNt9WuDrpelcRKRiOGUBDA8PJyIiwuwYIuIsrEX2Y/WOrDpX+i42uhcQBXFtistegn2Ez6/sDxCfsnwfL329E4B7W1dj4l1N8fL0KPPPERG5FKcsgP/617945plnmDFjRsn1gEVEShRk23fjHl4Jh3+z784tOFP6ORYP+/Qr1doUl75E+3Vyy/GQEsMweGXJLt5btg+AkdfX4smeDXQYi4hUOKcsgK+//jr79u0jJiaGGjVq4O3tXerx9evXm5RMREyRk2YveodW2JekTRfOuecbCnGJENfOXviqtgbfoAqLaLUZPL1wC/PW2EceH7+5AQ91rl1hny8icj6nLIB33nmn2RFExExnkuHgL8WF71dI3n7hc0KqQXx7qN4Oqre3H7vnYc5u1vwiK+PmbeSbrSfwsMCLvZvSp011U7KIiIATTwTtCDSRpEgFOVv4Dv5s/5q6+8LnRNWH+A72pXp7CIur+JwXcSa/iJEz17Ji3yl8PD1464EW3NK0itmxRNyatt9OOgJ41rp169ixYwcWi4VGjRrpMnAiriL3NBz8FQ4sty8pO373BAvENIEaHYtLX0cIjDIl6h85dSafIdPXsPloBoE+nkwZmEDHOo6XU0Tcj1MWwOTkZB544AGWLl1KWFgYhmGQkZFBly5dmDdvHpUqVTI7oohcjcJc+zF8+5fC/mX2Y/j43c6JmKZQ4zr7Et8BAhx7JoBj6bkM+HAV+1OyiQj0YdrgRJrHhZkdS0QEcNICOGbMGDIzM9m2bRsNGzYEYPv27QwaNIixY8cyd+5ckxOKyB+y2eDEJtj3P3vpO7wKrPmlnxNVH2peDzU7QY1ODl/4zrc32X5d36SMPGJD/Zg5rC11oivuhBMRkctxymMAQ0ND+eGHH0hMTCy1fvXq1XTv3p309PQKyaFjCESuQuZx2PvjudKXm1b68ZCqUKuzfanRCUKc8zi5DYdPM2T6GtJzCqkTHcTMoW2IDfM3O5aInEfbbycdAbTZbBdM/QLg7e19wXWBRcQkRfn2efj2/mAvfsnbSj/uE2wf4avdxV76IuuU6xx8FWHZ7hQenLWO3EIrLeLCmKbr+oqIg3LKAnjjjTfyyCOPMHfuXGJjYwE4duwYjz76KF27djU5nYgbyzgKe763L/uXQmH2eQ9a7HPv1b7RvlRLAM8L/yPnrBZvPMZf52+iyGZwfb1KvNuvFYG6rq+IOCin/O00adIk7rjjDmrUqEFcXBwWi4XDhw/TtGlTZs+ebXY8Efdhs9qvsrF7Cez+9sJRvsBoqNMN6nS1lz4nOo7vakz/9QDPfWmfi/D25rH8+97m+Hjp0m4i4ricsgDGxcWxfv16vv/+e3bu3IlhGDRq1Ihu3bqZHU3E9eVn2Xfp7l4Ce76DnFPnHrN42C+pVvcmqNvdfuauSZMvVwTDMHj9u91M+mkvAIPax/PsbY3x8HDuXdki4vqc6iSQ//3vf4wePZqVK1decNBmRkYGHTp04L333qNTp04VkkcHkYrbyEyCXV/blwPLwVpw7jG/UPsoX72b7V9ddJTv94qsNv65eCtzV9sv7fbXm+ox+sY6uq6viBPQ9tvJRgDfeustRowYcdE/rNDQUP7yl7/wxhtvVFgBFHFpqXth55ew40s4tq70YxG1oX5P+xLX1qWO5bsSeYVWxs7dwHfbT+JhgRfubErftrq0m4g4D6cqgJs2beKVV1655OPdu3fn3//+dwUmEnEhhgEnt8H2xfbSV+rqGxb7SRv1b4EGvSCqntOfsftnZeYVMmLGWlYdSMPHy4P/PNCCm5s455Q1IuK+nKoAnjx58qLTv5zl5eVFSkpKBSYScXKGASc220vftkWQtu/cYx5e9mlaGt4G9XtBcIxpMR1FcmYeg6atYUdSJsG+XkwZmED72pFmxxIRuWpOVQCrVq3Kli1bqFOnzkUf37x5M1Wq6H/iIn/IMCB5O2z9HLZ9Dmn7zz3m6Ws/gaPh7VCvO/iHm5fTwRxIzWbAh6s4ejqXqCBfZgxNpHFsqNmxRET+FKcqgLfccgvPPPMMPXv2xM/Pr9Rjubm5PPvss9x6660mpRNxcKf2wdYF9iVl57n1Xv720tfoDqjXA3yDzcvooDYfTWfItDWcyi6gRmQAM4e2pXpkgNmxRET+NKc6C/jkyZO0atUKT09PRo8eTf369bFYLOzYsYN33nkHq9XK+vXriYmpmF1VOotIHN6ZZPtI35b5pU/k8PSBOjdBk7vsZ+/66jq1l/LzHvvVPbILrDStGsq0IYlEBfmaHUtEroG23042AhgTE8OKFSt46KGHePLJJznbXS0WCz169GDy5MkVVv5EHFZBjn26lk1z7dfdNYovj2jxgFpdoOk99hM5/LT78nIWbzzG3z7dRKHVoGOdSN4fkECQru4hIi7A6X6TxcfH8/XXX3P69Gn27t2LYRjUrVuX8HAdqyRuzGaDwyvspW/bYijIOvdY1QRodh807g1B0eZldDIf/LyfF/5rPxP61mZVeP2+5vh6eZqcSkSkbDhdATwrPDycxMREs2OImCv9iL30bfwYTh88tz4sHpr3sRe/yNqmxXNGNpvBK0t28v5y+8kxQzvW5B+9GurqHiLiUpy2AIq4raJ82PkVrJ8F+5cCxYfx+gRDk97QvC9Ub+e28/Rdi0Krjcc/28znG44B8ETPBvzl+lq6uoeIuBwVQBFnkboX1k+HjXNKX3+3RidoOcA+X5+Pzkz9s7Lzi3jo4/Us352Cp4eFV+9uxt2tq5kdS0SkXKgAijiyogL7aN/aj+Dgz+fWB1eBlv2hRT+IqGlePheRkpXP0Olr2HIsA39vTyb3b0WX+jpeUkRclwqgiCPKOAbrpsP6GXDmpH2dxQPqdodWg+xfPfXPtywcTM1m0LTVHDqVQ0SgDx8NTqRFXJjZsUREypW2ICKOwjDg0K+w6j3Y+TUYVvv6oBhoPRhaDYRQ7ZIsS+dP8BwX4c/MoW2pGRVodiwRkXKnAihitsI82PoZrHwPTm45t75GJ0gcBg1uBc9LXwNb/pylu5J5+OP15BRYaRwbwrQhiUQH+13+hSIiLkAFUMQsZ1JgzVRY88G5kzq8/KH5A9D2LxDd0Nx8LuyzdUd5YsFmimwG19WJ4r0BrTXBs4i4Ff3GE6loqXvgt0mwcS5Y8+3rQqpBmxH23bwBEebmc2GGYTB56T5e+3YXAL1bVuWVu5vh4+VhcjIRkYqlAihSUY6sgV/esF+m7azYVtBhDDS8XSd1lDOrzeDZL7Yye+VhAB7qXJu/96ivOf5ExC1piyNSngzDfj3eX948bxoXC9S/BTqMhurtNWFzBcgtsDJ23ga+334SiwWeu60xgzrUMDuWiIhp3LYATpw4kc8//5ydO3fi7+9Phw4deOWVV6hfv77Z0cQVGAbs/C8sfw2SNtrXeXjZj+/rOA6i6pqZzq2kZRcwbMYaNhxOx8fLg7fvb0HPplXMjiUiYiq3LYDLli1j1KhRJCYmUlRUxNNPP0337t3Zvn07gYGaBkL+JJvNPnHzslfPndHr5W+fxqXDaE3jUsEOn8ph0LTVHEjNJtTfmw8GJZBYQ8dYiohYDMMwzA7hCFJSUoiOjmbZsmVcf/31V/SazMxMQkNDycjIICQkpJwTikOz2WDnl7D0FUjeZl/nEwRtRkL7URAYZW4+N7T5aDpDp68h9UwBVcP8mTE0kTrRwWbHEhEHoO23G48A/l5GRgYAEREaHZCrYBiw9wf48Xk4sdm+zifYPo1L+1E6o9ckP+20z/GXW2ilUZUQpg9JJDpEc/yJiJylAoh9aojx48dz3XXX0aRJk0s+Lz8/n/z8/JL7mZmZFRFPHNXBX+3F78hK+32fIGj3ELR7WMXPRHNXH+Yfi7ZiLZ7j793+rQj200TaIiLnUwEERo8ezebNm/nll1/+8HkTJ05kwoQJFZRKHNbJbfD9s7D3e/t9Lz/7HH4dH4XASHOzuTHDMHj9u91M+mkvAHe3qsbLdzfF21Nz/ImI/J7bHwM4ZswYFi1axPLly6lZs+YfPvdiI4BxcXFufQyBW8k8Dj+9CBvngGGzn9XbahBc/zcIiTU7nVsrKLLxxILNfL7hGABju9bl0W51NcefiFyUjgF04xFAwzAYM2YMCxcuZOnSpZctfwC+vr74+vpWQDpxKPlZ8Mtb8Ns7UJRrX9foDuj6LETWNjWaQGZeIQ/OWseKfafw9LDwUu8m3J9Y3exYIiIOzW0L4KhRo5gzZw6LFy8mODiYEydOABAaGoq/v7/J6cQh2Gyw+RP44Tk4Y//7QVw76P4CxCWaGk3sjqfnMmTaGnadzCLQx5N3+rWic/1os2OJiDg8t90FfKldQ9OmTWPw4MFX9B4aQnZhR9fCN4/DsbX2++E17MWvwa26coeD2HY8g6HT13AyM5/oYF+mDUmkcWyo2bFExAlo++3GI4Bu2nvlcs6kwA/PwsaP7fd9guzH+LV7GLy0+99RLNudwsOz15FdYKVeTBDThrShaphG7kVErpTbFkCRUmxWWDcdfpwAefY5IWnRD7o+A8GVTY0mpc1bfZini6d5aV8rkvcGtCbUX9O8iIhcDRVAkeMb4L9/hWPr7PcrN4Neb+g4Pwdjsxm8/v0u3vlpHwB3tazKy3c3w8dL07yIiFwtFUBxXwXZ8L8XYdW79mldfEPgxn9AwjDw1D8NR5JfZOWxTzfzxabjADzStS7jNM2LiMifpq2cuKe9P8JX4yD9sP1+k3ugx4va3euATmcX8JdZ61h9MA0vDwsv392Me1pXMzuWiIhTUwEU95KTBt8+DZvm2O+HxsGtb0HdbqbGkos7mJrNkOlrOJCaTbCfF+/3b02HOlFmxxIRcXoqgOI+dn0DX4yF7GTAAm3/Yt/l6xtsdjK5iLUH0xgxcy2ncwqpGubPtCGJ1IvRn5WISFlQARTXl5cBS548N7VLVH24YxLEtTE3l1zS4o3HeOzTzRRYbTSvFsrUQQlEB/uZHUtExGWoAIpr278UFo2CzKOABTqMhi7/AG+VCUdkGAbv/LSXf3+3G4AejWN46/6W+Pt4mpxMRMS1qACKayrMs8/pt3Ky/X54TbjzXYhvb24uuaSCIhtPfr6FBeuPAjCiU02e6NkQTw+d6SsiUtZUAMX1JO+EBcPh5Bb7/YRhcNPz4Btkbi65pPQc+5m+qw6k4elh4bnbGzOgXbzZsUREXJYKoLgOw4B102DJU1CUCwFRcOdkqNfD7GTyBw6kZjO0+EzfIF8vJvVtSef60WbHEhFxaSqA4hpyT8Pi0bDzK/v92jfCne9BcIy5ueQPrT6QxshZa0kvPtP3w8EJNKjsnhdmFxGpSCqA4vyOrYdPB0P6IfDwhpsmQNuHwEOXCHNkC9Yd5YnPN1NoNXSmr4hIBVMBFOdlGLDmA/j2KbAWQFg83DcDYluanUz+wO+v6duzSWXeuK+FzvQVEalAKoDinPKz4MtHYOsC+/0Gt8Id74B/mKmx5I/lFlgZP38j32w9AcDoLnUYf1M9PHSmr4hIhVIBFOdzah/M6wspO8HDy36Gb7uHwaIS4chOZuYxYuZaNh/NwNvTwst3NeNuXdNXRMQUKoDiXHZ/Z5/iJT8DgqvAvTOgeluzU8llbD2WwfAZazmRmUd4gDfvD0igTc0Is2OJiLgtFUBxDoYBP78O/3sBMCCuHdw3U2f5OoElW5MY98lG8gpt1K4UyEeDE4mPDDQ7loiIW1MBFMdXkA0LH4QdX9jvJwyFm18BLx9zc8kfMgyDyUv38dq3uwDoVDeKd/q1IsTP2+RkIiKiAiiOLfM4zLkfTmwGTx+45d/QepDZqeQy8gqtPPn5FhZuOAbA4A41+Eevhnh5amoeERFHoAIojuv4BpjbB7KS7Ff1eGCOjvdzAslZeYycuY6NR9J1WTcREQelAiiOafsX8PlI+yXdKjWAvp9AeA2zU8llbD2WwYiZa0nKyCPU35vJ/VrRsU6U2bFEROR3VADFsRgG/Po2/PCs/X6dbnDPR+AXam4uuaxvtiTx6Hz7yR61KgXy4aBEakbpZA8REUekAiiOw2aFbx6HNVPt99uMhB4TwVN/TR2ZzWbwn//t4a0f9gD2kz0m9W1FqL9O9hARcVTasopjKMy1z++38yvAAj1ehPajzE4ll5FTUMRf528qubKHTvYQEXEOKoBivpw0+5m+R1fbz/S9awo07m12KrmMo6dzGDFzHTuSMvH2tPDCnU24P7G62bFEROQKqACKudIPw6y74NQe+3F+D8yFGh3NTiWXsfpAGg/NXsep7AKignx4r39rEmroyh4iIs5CBVDMk7ILZt4JWcchpBr0/wyiG5qdSi5j9spDPPfFNopsBo1jQ5gyMIGqYf5mxxIRkaugAijmOLYeZt8NuWkQVR8GLITQqmankj9QUGTjuS+3MWfVYQB6NavCa/c0I8BHv0ZERJyNfnNLxTuw3D7Bc8EZiG0F/T6DwEizU8kfSMnK5+GP17Hm4GksFvhb9/o83Lk2FovF7GgiIvInqABKxdr5NXw6GKz5UPN6+9U9fIPNTiV/YMvRDEbOsk/uHOzrxdt9WnBjgxizY4mIyDVQAZSKs3UBLBgBhhUa3Ap3fwjefmankj+wYN1Rnly4hYIi++TOUwcmULtSkNmxRETkGqkASsXYOAcWjwLDBs3uhzsma4JnB1ZotfHif3cwfcVBALo2iObNB1oQ4qfJnUVEXIG2wFL+1k6Drx4FDGg1EG59Gzw0UbCjSj2Tz6iP17PqQBoAY2+sw7hu9fDw0PF+IiKuQgVQyteq9+Gbv9tvtxkJN7+i8ufANh1J56HZ6ziekUegjydv3N+CHo0rmx1LRETKmAqglJ8Vk+C7p+23O4yBm/4FOmvUYX2y5jD/XLSNAquNWlGBTBnYmjrROkFHRMQVqQBK+fjtnXPlr9Pf4MZ/qPw5qPwiKxO+3F4yv1+3hjG8cX9zHe8nIuLCVACl7P32Dnz7lP329X+HLk+p/DmopIxcHpq9no1H0rFYYHy3eozqUkfH+4mIuDgVQClbpcrfYyp/DmzF3lTGzN3AqewCQv29eeuBFnSpH212LBERqQAqgFJ2Vr57rvx1+ht0eVrlzwEZhsF7y/bz2rc7sRnQsEoI7/dvTfXIALOjiYhIBXHr0zGXL1/ObbfdRmxsLBaLhUWLFpkdyXmtngpLnrDf1jF/Diszr5CRs9bxyhJ7+bundTUWPtxB5U9ExM24dQHMzs6mefPmTJo0yewozm39LPj6b/bbHcep/DmoHUmZ3P5/v/D99pP4eHrwUu+mvHZPM/y8Pc2OJiIiFcytdwH37NmTnj17mh3DuW2eD1+Msd9u9zB0e07lzwHNX3uEfy7aSn6Rjaph/kzu14rmcWFmxxIREZO4dQG8Wvn5+eTn55fcz8zMNDGNA9i2CBY+CBiQMAx6vKTy52DyCq08s3gr89ceBaBz/Uq8eV8LwgN9TE4mIiJmcutdwFdr4sSJhIaGlixxcXFmRzLPriWwYBgYVmjRH275t8qfgzmQms2d7/zK/LVH8bDA37rX46NBiSp/IiKiAng1nnzySTIyMkqWI0eOmB3JHPuXwfyBYCuCpvfC7f/R5d0czJebjnPb//3CzhNZRAX5MHtYW0bfWFfz+4mICKBdwFfF19cXX19fs2OY68gamNsHrPnQ4Fa48z3w0EkEjiKv0MoL/93O7JX2q3q0qRHB//VtSUyIn8nJRETEkagAypU7sRU+vhsKs6FWF7jnI/DUXyFHcTA1m4c/Xs/2JPuxqaO71GFct7p4eWp0VkRESnPrrfeZM2fYu3dvyf0DBw6wceNGIiIiqF69uonJHFDqXph1J+RlQFxbeOBj8HLz0VAH8uWm4zz5+RbO5BcREejDm/e34IZ6lcyOJSIiDsqtC+DatWvp0qVLyf3x48cDMGjQIKZPn25SKgeUfgRm3gHZKVC5GfSdDz6BZqcSILfAyoQvtzFvjf141DY1IvhPn5ZUDtUuXxERuTS3LoCdO3fGMAyzYzi27FSY1Rsyj0JUPRiwEPzDzE4lwK4TWYyes549yWewWOy7fB/pql2+IiJyeW5dAOUy8jJh9l1wag+ExsGARRAYZXYqt2cYBnNXH2HCl9vIL7JRKdiXt+9vQYc6+rMREZErowIoF1eYaz/bN2kTBETZy19oVbNTub30nAKeWLCFJdtOAHBDvUq8fl9zooJ0PKaIiFw5FUC5kLUQPh0Ch34Bn2DovwCi6pidyu2t3H+KRz/ZSFJGHt6eFh7rUZ/h19XS3H4iInLVVAClNJvNfm3f3d+Alx/0nQexLcxO5dYKrTb+8+MeJv20F8OAmlGB/OeBljStFmp2NBERcVIqgHKOYcD3/4RNc8HiCfdOhxrXmZ3KrR1IzWbcJxvZdCQdgPsSqvHsbY0J9NU/XRER+fO0FZFzfn0bfptkv33HO1C/p7l53JhhGHyy5gjPf7WdnAIrIX5evHRXU25tFmt2NBERcQEqgGK3fhb88Kz9dvcXoEUfc/O4sVNn8nni8y18v/0kAO1rRfL6fc2JDfM3OZmIiLgKFUCBnV/Dl2Pttzs+Ah3GmJvHjf2w/SRPfL6F1DP5+Hh68FiP+gy7rqZO9BARkTKlAujuDq2Az4aAYYMW/aHbBLMTuaWsvEKe/3I7n647CkC9mCDeur8ljWJDTE4mIiKuSAXQnZ3cBnMfgKI8qNcTbnsbLBppqmgr9qXy2KebOZaei8UCIzvV4tGb6uHn7Wl2NBERcVEqgO4q/TDMvhvyMiCuHdzzEXjqr0NFyiko4tUlu5i+4iAAcRH+vH5vC9rUjDA3mIiIuDxt8d1R9imYdRdkJUGlhtBnLvgEmJ3Krazaf4q/L9jMoVM5APRpE8fTvRoRpOldRESkAmhr424KsmHOvfbr+4ZUs1/lI0AjThXl96N+saF+TLy7GTfUq2RuMBERcSsqgO7EWgjzB8GxdeAfDgM+1/V9K9CKvak88fkWDqfZR/0eSIzjqV4NCfHzNjmZiIi4GxVAd2EY8MVY2Ps9ePlD3/lQqb7ZqdxCRk4hL329g0/WHgHso34v392M6zXqJyIiJlEBdBc/ToBNc+yXeLtvBsS1MTuRW/hmSxLPfLGNlKx8AAa2j+fvNzfQsX4iImIqbYXcwcr34Jc37bdv/w/U62FuHjdwPD2XZ7/YVnI1j1qVAnnl7mYk1tDxliIiYj4VQFe3dQEsecJ++8Z/Qsv+5uZxcUVWG9NXHOSN73eTU2DFy8PCgzfUZvSNdTSvn4iIOAwVQFd2YDksfBAwoM1I6PRXsxO5tI1H0nnq8y1sT8oEoHV8OC/1bkr9ysEmJxMRESlNBdBVJW2GuX3BWgCN7oCbX9ZVPspJWnYBr327k3lrjmAYEOrvzRM9G3B/Qpyu4SsiIg5JBdAVnT4EH98DBVkQfx30ngIe2v1Y1qw2g7mrD/Pv73aRnlMIQO+WVXm6V0OignxNTiciInJpKoCuJvuU/RJvZ05CdGN44GPw9jM7lctZd+g0z36xla3H7Lt7G1QO5vk7mugybiIi4hRUAF1JQQ7Mvd9+lY/QOOj/GfiHmZ3KpRw9ncMrS3bx5abjAAT7efHXm+rRv108Xp4eJqcTERG5MiqArsJaBJ8NgaNrwC/Mfom3kFizU7mM7Pwi3lu2jynL95NfZMNigXtbV+OxHg2oFKzdvSIi4lxUAF2BYcBX42D3EvDy01U+ylCR1can647y5ve7SS6ezLltzQj+eWsjmlQNNTmdiIjIn6MC6AqWToQNs8DiAfd8BNXbmp3I6RmGwbfbTvLqtzvZn5INQPWIAJ66pSE9Gsdg0RnVIiLixFQAnd3aj2DZK/bbvd6ABr3MzeMCVu0/xStLdrL+cDoA4QHejLmxLv3aVcfXS2dTi4iI81MBdGY7voL/Fk/ufMPjkDDE3DxObt2hNN74fje/7j0FgL+3J8M71WTk9bUI9vM2OZ2IiEjZUQF0VodXwYJhYNig1UDo/KTZiZzWxiPpvPH9bpbvTgHA29PC/YlxjL2xLtEhmkJHRERcjwqgM0rZBXPug6I8qHcz9HpTV/m4SoZhsHJ/GpOX7uXnPakAeHlYuDehGqO61KFaeIDJCUVERMqPCqCzyUyyT/Sclw5VE+CeaeCpP8YrZbMZ/LgzmclL97Kh+Bg/Tw8LvVtWZeyNdakeqeInIiKuT83BmeRl2C/xlnEEIuvYp3vxUWG5EnmFVhZuOMZHvxxgT/IZAHy8PLg/IY6R19ciLkI/RxERcR8qgM6iKB/m9YOTWyEoxj7Rc2Ck2akc3omMPGatPMicVYc5XXy93iBfL/q3i2fodTWIDtYxfiIi4n5UAJ2BzQYLH4SDP4NPMPT7FMJrmJ3KYdlsBr/uS2Xu6sN8t+0kRTYDgGrh/gzuUIP7EuMI0Vm9IiLixlQAncF3/4Btn4OHN9w/C6o0NzuRQ0rOyuOzdUeZt/oIh9NySta3qRnB0I41ualRDJ4eOllGREREBdDRrfg/WPmO/fad70LtLubmcTA5BUV8t+0kCzcc45e9qViLR/uCfb3o3aoqDyRWp1FsiMkpRUREHIsKoCPb/Kl99A/gpn9Bs3vNzeMg8gqtLN+dwtdbkvhu+0lyCqwlj7WsHkbfNtXp1awKAT766y0iInIx2kI6qv1LYdFD9tvtHoYOY0yNY7aM3EJ+2pnMt9tOsHRXCrmF50pfjcgA7mhRlTtbVqVmVKCJKUVERJyDCqAjStoM8/qDrRAa3wXdX3S7iZ6LrDY2H8vg592pLN+TwsYj6SW7dwGqhvlzU6MY7mgRS4u4MCxu9vMRERG5FiqAjujXt6AgC2p0gt7vgYeH2YnKXV6hlS3HMlh78DTrDqWx+kAamXlFpZ5TNzqIHo0r06NxZZpUDVHpExER+ZPcvgBOnjyZ1157jaSkJBo3bsxbb71Fp06dzA1157sQFg/XjQMvX3OzlIO8Qiu7T2ax/Xgm245nsvV4BtuOZVJgtZV6XoifF9fVjaJT3UpcVydKkzWLiIiUEbcugJ988gnjxo1j8uTJdOzYkffff5+ePXuyfft2qlevbl4wL1/o9qx5n18GCq02Tmbmcex0LgdSszmQms2+lGwOpJ7h0Kmckrn5zhcV5EtCfDgJNcJJqBFB06qhmrZFRESkHFgMw7hwS+wm2rZtS6tWrXj33XdL1jVs2JA777yTiRMnXvb1mZmZhIaGkpGRQUiI6041YrMZ5BfZyMovJCuviKy8IjJzC8nMKyQtu4DUMwWkZedz6kwBJzPzOJ6eR3JWHhfpeCXCA7xpHBtK49gQGsWG0CIujOoRAdqtKyIi5c5dtt9/xG1HAAsKCli3bh1PPPFEqfXdu3dnxYoVF31Nfn4++fn5JfczMzPLJduSrUks2XrigvW/71MXq+4GYBiG/bkGGBgYBtgMA5thf8xqM7Aa9mJXZLNhtRkUWg0KrTYKimwlX3MLreQWWskrtF34QVfAx9ODyqF+1IgKpFZUILUqBVIrKog60UHEhPiq7ImIiJjEbQtgamoqVquVmJiYUutjYmI4ceLC8gUwceJEJkyYUO7Zdp7IYtHG4+X+OVfLYrFPsBzs502wnxchft5EBvkQGeRDRKAvUUE+VAryJTbMn9gwfyIDffDQLlwRERGH47YF8Kzfj0IZhnHJkaknn3yS8ePHl9zPzMwkLi6uzDN1qluJIN8r+6M5m9VSap39vsVisd+2WLAAHhYLHhb7V0+P0ou3pwc+Xh54e1rwKb7t7+2Jn7cnAT6e+Pt44uflqUInIiLiAty2AEZFReHp6XnBaF9ycvIFo4Jn+fr64utb/mflto4Pp3V8eLl/joiIiLgn159g7hJ8fHxo3bo133//fan133//PR06dDAplYiIiEj5c9sRQIDx48czYMAAEhISaN++PVOmTOHw4cM8+OCDZkcTERERKTduXQDvv/9+Tp06xfPPP09SUhJNmjTh66+/Jj4+3uxoIiIiIuXGrecBvFaaR0hERMT5aPvtxscAioiIiLgrFUARERERN6MCKCIiIuJmVABFRERE3IwKoIiIiIibUQEUERERcTMqgCIiIiJuRgVQRERExM2oAIqIiIi4Gbe+FNy1OnsRlczMTJOTiIiIyJU6u91254uhqQBeg6ysLADi4uJMTiIiIiJXKysri9DQULNjmELXAr4GNpuN48ePExwcjMVi+dPvk5mZSVxcHEeOHHHbaxJWFP2sK45+1hVHP+uKo591xSnPn7VhGGRlZREbG4uHh3seDacRwGvg4eFBtWrVyuz9QkJC9AulguhnXXH0s644+llXHP2sK055/azddeTvLPesvSIiIiJuTAVQRERExM2oADoAX19fnn32WXx9fc2O4vL0s644+llXHP2sK45+1hVHP+vypZNARERERNyMRgBFRERE3IwKoIiIiIibUQEUERERcTMqgCIiIiJuRgXQZJMnT6ZmzZr4+fnRunVrfv75Z7MjuaSJEyeSmJhIcHAw0dHR3HnnnezatcvsWC5v4sSJWCwWxo0bZ3YUl3Xs2DH69+9PZGQkAQEBtGjRgnXr1pkdy+UUFRXxj3/8g5o1a+Lv70+tWrV4/vnnsdlsZkdzesuXL+e2224jNjYWi8XCokWLSj1uGAbPPfccsbGx+Pv707lzZ7Zt22ZOWBeiAmiiTz75hHHjxvH000+zYcMGOnXqRM+ePTl8+LDZ0VzOsmXLGDVqFCtXruT777+nqKiI7t27k52dbXY0l7VmzRqmTJlCs2bNzI7isk6fPk3Hjh3x9vbmm2++Yfv27bz++uuEhYWZHc3lvPLKK7z33ntMmjSJHTt28Oqrr/Laa6/xf//3f2ZHc3rZ2dk0b96cSZMmXfTxV199lTfeeINJkyaxZs0aKleuzE033URWVlYFJ3UtmgbGRG3btqVVq1a8++67JesaNmzInXfeycSJE01M5vpSUlKIjo5m2bJlXH/99WbHcTlnzpyhVatWTJ48mRdeeIEWLVrw1ltvmR3L5TzxxBP8+uuv2nNQAW699VZiYmL48MMPS9bdfffdBAQEMGvWLBOTuRaLxcLChQu58847AfvoX2xsLOPGjePxxx8HID8/n5iYGF555RX+8pe/mJjWuWkE0CQFBQWsW7eO7t27l1rfvXt3VqxYYVIq95GRkQFARESEyUlc06hRo+jVqxfdunUzO4pL++KLL0hISODee+8lOjqali1bMnXqVLNjuaTrrruOH3/8kd27dwOwadMmfvnlF2655RaTk7m2AwcOcOLEiVLbSl9fX2644QZtK6+Rl9kB3FVqaipWq5WYmJhS62NiYjhx4oRJqdyDYRiMHz+e6667jiZNmpgdx+XMmzeP9evXs2bNGrOjuLz9+/fz7rvvMn78eJ566ilWr17N2LFj8fX1ZeDAgWbHcymPP/44GRkZNGjQAE9PT6xWKy+++CJ9+vQxO5pLO7s9vNi28tChQ2ZEchkqgCazWCyl7huGccE6KVujR49m8+bN/PLLL2ZHcTlHjhzhkUce4bvvvsPPz8/sOC7PZrORkJDASy+9BEDLli3Ztm0b7777rgpgGfvkk0+YPXs2c+bMoXHjxmzcuJFx48YRGxvLoEGDzI7n8rStLHsqgCaJiorC09PzgtG+5OTkC/6nI2VnzJgxfPHFFyxfvpxq1aqZHcflrFu3juTkZFq3bl2yzmq1snz5ciZNmkR+fj6enp4mJnQtVapUoVGjRqXWNWzYkAULFpiUyHU99thjPPHEEzzwwAMANG3alEOHDjFx4kQVwHJUuXJlwD4SWKVKlZL12lZeOx0DaBIfHx9at27N999/X2r9999/T4cOHUxK5boMw2D06NF8/vnn/O9//6NmzZpmR3JJXbt2ZcuWLWzcuLFkSUhIoF+/fmzcuFHlr4x17NjxgumMdu/eTXx8vEmJXFdOTg4eHqU3mZ6enpoGppzVrFmTypUrl9pWFhQUsGzZMm0rr5FGAE00fvx4BgwYQEJCAu3bt2fKlCkcPnyYBx980OxoLmfUqFHMmTOHxYsXExwcXDLyGhoair+/v8npXEdwcPAFx1UGBgYSGRmp4y3LwaOPPkqHDh146aWXuO+++1i9ejVTpkxhypQpZkdzObfddhsvvvgi1atXp3HjxmzYsIE33niDoUOHmh3N6Z05c4a9e/eW3D9w4AAbN24kIiKC6tWrM27cOF566SXq1q1L3bp1eemllwgICKBv374mpnYBhpjqnXfeMeLj4w0fHx+jVatWxrJly8yO5JKAiy7Tpk0zO5rLu+GGG4xHHnnE7Bgu68svvzSaNGli+Pr6Gg0aNDCmTJlidiSXlJmZaTzyyCNG9erVDT8/P6NWrVrG008/beTn55sdzen99NNPF/39PGjQIMMwDMNmsxnPPvusUblyZcPX19e4/vrrjS1btpgb2gVoHkARERERN6NjAEVERETcjAqgiIiIiJtRARQRERFxMyqAIiIiIm5GBVBERETEzagAioiIiLgZFUARERERN6MCKCIiIuJmVABFRERE3IwKoIiIiIibUQEUETnP3Llz8fPz49ixYyXrhg8fTrNmzcjIyDAxmYhI2dG1gEVEzmMYBi1atKBTp05MmjSJCRMm8MEHH7By5UqqVq1qdjwRkTLhZXYAERFHYrFYePHFF7nnnnuIjY3l7bff5ueff1b5ExGXohFAEZGLaNWqFdu2beO7777jhhtuMDuOiEiZ0jGAIiK/8+2337Jz506sVisxMTFmxxERKXMaARQROc/69evp3Lkz77zzDvPmzSMgIIBPP/3U7FgiImVKxwCKiBQ7ePAgvXr14oknnmDAgAE0atSIxMRE1q1bR+vWrc2OJyJSZjQCKCICpKWl0bFjR66//nref//9kvV33HEH+fn5LFmyxMR0IiJlSwVQRERExM3oJBARERERN6MCKCIiIuJmVABFRERE3IwKoIiIiIibUQEUERERcTMqgCIiIiJuRgVQRERExM2oAIqIiIi4GRVAERERETejAigiIiLiZlQARURERNyMCqCIiIiIm/l/TrtnlCI/ph4AAAAASUVORK5CYII=' width=640.0/>\n",
       "            </div>\n",
       "        "
      ],
      "text/plain": [
       "Canvas(toolbar=Toolbar(toolitems=[('Home', 'Reset original view', 'home', 'home'), ('Back', 'Back to previous …"
      ]
     },
     "metadata": {},
     "output_type": "display_data"
    }
   ],
   "source": [
    "from consumerdemands import marshallian\n",
    "import numpy as np\n",
    "import matplotlib.pyplot as plt\n",
    "\n",
    "# Demand for c_1 as a function of own price\n",
    "E1 = lambda x,p1=1,p2=1: marshallian.demands(x,(p1,p2),parms)\n",
    "\n",
    "X = np.linspace(.1,10,100)\n",
    "\n",
    "fig,ax = plt.subplots()\n",
    "\n",
    "#### Play with prices p1 & p2 below!\n",
    "Ecurves = list(zip(*[E1(x,p1=1,p2=1) for x in X]))\n",
    "\n",
    "ax.plot(X,Ecurves[0],X,Ecurves[1])\n",
    "\n",
    "ax.set_xlabel('$x$')\n",
    "ax.set_ylabel('Consumptions')\n",
    "ax.legend(('$c_1$','$c_2$'))\n",
    "ax.set_title('Engel Curves')\n",
    "\n",
    "plt.show()"
   ]
  },
  {
   "cell_type": "markdown",
   "metadata": {},
   "source": [
    "##### Final Questions for your team\n",
    "\n"
   ]
  },
  {
   "cell_type": "markdown",
   "metadata": {},
   "source": [
    "Suppose there are three or more goods\n",
    "\n"
   ]
  },
  {
   "cell_type": "code",
   "execution_count": 11,
   "metadata": {},
   "outputs": [],
   "source": [
    "import consumerdemands as demands\n",
    "\n",
    "########### Play with these parameters\n",
    "parms = {'alpha':[0.2,0.7,0.1], # Preference parameters\n",
    "         'beta':[.5,.75,1.5], # Curvature parameters\n",
    "         'phi':0}\n",
    "\n",
    "####################"
   ]
  },
  {
   "cell_type": "markdown",
   "metadata": {},
   "source": [
    "You can play with the utility function\n",
    "\n"
   ]
  },
  {
   "cell_type": "code",
   "execution_count": 12,
   "metadata": {},
   "outputs": [],
   "source": [
    "U = lambda c: demands.utility(c,**parms)"
   ]
  },
  {
   "cell_type": "markdown",
   "metadata": {},
   "source": [
    "1.  What is the level of utility if prices are all equal to one, and income is equal to one?  What happens if income doubles?\n",
    "\n",
    "2.  Write code to calculate the Marshallian demands.  If all prices are equal to one, and income is equal to one, then how much is demanded of each good?\n",
    "\n",
    "3.  If the price of good one changes, what happens to the demand for all three goods?\n",
    "\n",
    "4.  Marshallian (uncompensated) demands depend on prices and income; Hicksian (compensated) demands depend on prices and the level of utility.  Here&rsquo;s how you can define hicksian demand schedules:\n",
    "\n",
    "\\#+begin<sub>src</sub> jupyter-python\n",
    "from consumerdemands import hicksian\n",
    "h =  hicksian.demands(x,(p1,p2),parms)\n",
    "\\#end<sub>src</sub>\n",
    "\n"
   ]
  }
 ],
 "metadata": {
  "kernelspec": {
   "display_name": "Python 3 (ipykernel)",
   "language": "python",
   "name": "python3"
  },
  "language_info": {
   "codemirror_mode": {
    "name": "ipython",
    "version": 3
   },
   "file_extension": ".py",
   "mimetype": "text/x-python",
   "name": "python",
   "nbconvert_exporter": "python",
   "pygments_lexer": "ipython3",
   "version": "3.9.15"
  },
  "org": null
 },
 "nbformat": 4,
 "nbformat_minor": 4
}

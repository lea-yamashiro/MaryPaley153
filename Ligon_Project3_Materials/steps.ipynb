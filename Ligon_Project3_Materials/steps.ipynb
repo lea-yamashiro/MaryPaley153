{
  "cells": [
    {
      "cell_type": "markdown",
      "metadata": {},
      "source": [
        "## Preface\n\n"
      ]
    },
    {
      "cell_type": "markdown",
      "metadata": {},
      "source": [
        "If need be&#x2026;\n\n"
      ]
    },
    {
      "cell_type": "code",
      "execution_count": 1,
      "metadata": {},
      "outputs": [],
      "source": [
        "!pip install -r requirements.txt"
      ]
    },
    {
      "cell_type": "markdown",
      "metadata": {},
      "source": [
        "## Introduction\n\n"
      ]
    },
    {
      "cell_type": "markdown",
      "metadata": {},
      "source": [
        "Here we give a set of generic instructions for analyzing demand for\nfood and nutrition.  Inputs include a datasets of consumption\nquantities, consumption expenditures, household characteristics, and a\nfood conversion table.\n\nThe different datasets should be indexed as follows:\n\n| Dataset|Indexed by|Columns|\n|---|---|---|\n| Expenditures|i,t,m|j|\n| Consumption|i,t,m,u|j|\n| Prices|t,m|j|\n| HH Characteristics|i,t,m|k|\n| FCT|j,u|n|\n| RDI|n|k|\n\nwhere `i` indexes households, `t` indexes periods, `m` indexes\nmarkets, `j` indexes goods, `k` indexes different kinds of household\ncharacteristics, `u` indexes different unit names, and `n` indexes\ndifferent nutrients.  Finally, any RDI (&ldquo;recommended daily intake&rdquo;)\ntables should be indexed by nutrients, with columns corresponding to\ncharacteristics of persons within the household (e.g., age & sex\ncategories).\n\nNote that some countries have more than one dataframe of consumption,\ndistinguished by source; for example Malawi has consumption items\npurchased as well as consumption items produced.  Here we focus on\nconsumption purchases, since one of our immediate aims is to infer\nprices paid.\n\n"
      ]
    },
    {
      "cell_type": "markdown",
      "metadata": {},
      "source": [
        "## Step 1: Acquire DataFrames\n\n"
      ]
    },
    {
      "cell_type": "markdown",
      "metadata": {},
      "source": [
        "Here are addresses of google sheets for different dataframes for the\ncase of Uganda:\n\n"
      ]
    },
    {
      "cell_type": "code",
      "execution_count": 1,
      "metadata": {},
      "outputs": [],
      "source": [
        "InputFiles = {'Expenditures':('1yVLriVpo7KGUXvR3hq_n53XpXlD5NmLaH1oOMZyV0gQ','Expenditures (2019-20)'),\n              'Prices':('1yVLriVpo7KGUXvR3hq_n53XpXlD5NmLaH1oOMZyV0gQ','Prices'),\n              'HH Characteristics':('1yVLriVpo7KGUXvR3hq_n53XpXlD5NmLaH1oOMZyV0gQ','HH Characteristics'),\n              'FCT':('1yVLriVpo7KGUXvR3hq_n53XpXlD5NmLaH1oOMZyV0gQ','FCT'),\n              'RDI':('1yVLriVpo7KGUXvR3hq_n53XpXlD5NmLaH1oOMZyV0gQ','RDI'),}"
      ]
    },
    {
      "cell_type": "markdown",
      "metadata": {},
      "source": [
        "Note that in some cases not the food items for the FCT (e.g., for Niger) are **not** yet all matched up (&ldquo;harmonized&rdquo;) with food labels indexed by `j` in the expenditure,\nconsumption and price datasets.\n\n"
      ]
    },
    {
      "cell_type": "code",
      "execution_count": 1,
      "metadata": {},
      "outputs": [],
      "source": [
        "from eep153_tools.sheets import read_sheets\nimport numpy as np\nimport pandas as pd\n\ndef get_clean_sheet(key,sheet=None):\n\n    df = read_sheets(key,sheet=sheet)\n    df.columns = [c.strip() for c in df.columns.tolist()]\n\n    df = df.loc[:,~df.columns.duplicated(keep='first')]   \n\n    df = df.drop([col for col in df.columns if col.startswith('Unnamed')], axis=1)\n\n    df = df.loc[~df.index.duplicated(), :]\n\n    return df\n\n# Get expenditures...\nx = get_clean_sheet(InputFiles['Expenditures'][0],\n                    sheet=InputFiles['Expenditures'][1])\n\nif 'm' not in x.columns:\n    x['m'] = 1\n\nx = x.set_index(['i','t','m'])\nx.columns.name = 'j'\n\nx = x.apply(lambda x: pd.to_numeric(x,errors='coerce'))\nx = x.replace(0,np.nan)\n\n# Get HH characteristics...\nz = get_clean_sheet(InputFiles['HH Characteristics'][0],\n                    sheet=InputFiles['HH Characteristics'][1])\n\nif 'm' not in z.columns:\n    z['m'] = 1\n\nz = z.set_index(['i','t','m'])\nz.columns.name = 'k'\n\nz = z.apply(lambda x: pd.to_numeric(x,errors='coerce'))\n\n# Get prices\np = get_clean_sheet(InputFiles['Prices'][0],\n                    sheet=InputFiles['Prices'][1])\n\nif 'm' not in p.columns:  # Supply \"market\" indicator if missing\n    p['m'] = 1\n\np = p.set_index(['t','m'])\np.columns.name = 'j'\n\np = p.apply(lambda x: pd.to_numeric(x,errors='coerce'))\np = p.replace(0,np.nan)\n\nfct = get_clean_sheet(InputFiles['FCT'][0],\n                    sheet=InputFiles['FCT'][1])\n\n#### This bit peculiar to Niger FCT #####\n#fct = fct.loc[fct.Code.str.len()==6]\n#fct = fct.set_index('Code')\n#fct.columns = [v.replace('\\n',' ') for v in fct.columns]\n########################################\nfct = fct.set_index('j')\nfct.columns.name = 'n'\n\nfct = fct.apply(lambda x: pd.to_numeric(x,errors='coerce'))\n\n################## RDI, if available (consider using US) #####################\nrdi = get_clean_sheet(InputFiles['RDI'][0],\n                    sheet=InputFiles['RDI'][1])\nrdi = rdi.set_index('n')\nrdi.columns.name = 'k'"
      ]
    },
    {
      "cell_type": "markdown",
      "metadata": {},
      "source": [
        "## Step 2: Estimate Demand System\n\n"
      ]
    },
    {
      "cell_type": "markdown",
      "metadata": {},
      "source": [
        "Here, use data on log *expenditures* and household characteristics to\ncreate a CFEDemand `result`.\n\n"
      ]
    },
    {
      "cell_type": "code",
      "execution_count": 1,
      "metadata": {},
      "outputs": [],
      "source": [
        "import cfe\n\nresult = cfe.Regression(y=np.log(x.stack()),d=z)\n\nresult.get_beta().sort_values(ascending=False) # Check sanity..."
      ]
    },
    {
      "cell_type": "markdown",
      "metadata": {},
      "source": [
        "Make this persistent&#x2026;\n\n"
      ]
    },
    {
      "cell_type": "code",
      "execution_count": 1,
      "metadata": {},
      "outputs": [],
      "source": [
        "result.to_pickle('./foo.pickle')"
      ]
    },
    {
      "cell_type": "markdown",
      "metadata": {},
      "source": [
        "## Step 3: Infer quantities\n\n"
      ]
    },
    {
      "cell_type": "markdown",
      "metadata": {},
      "source": [
        "Next, we divide predicted expenditures by prices to get\nquantities (in kilograms) we can map into the  FCT.\n\n"
      ]
    },
    {
      "cell_type": "code",
      "execution_count": 1,
      "metadata": {},
      "outputs": [],
      "source": [
        "import cfe\n\nresult = cfe.read_pickle('foo.pickle')  # Get persistent result saved above...\n\nxhat = result.predicted_expenditures()\n\n# Expenditures divided by prices/kg gives quantities in kgs...\nqhat = (xhat.unstack('j')/p).dropna(how='all')\n\n# Drop missing columns\nqhat = qhat.loc[:,qhat.count()>0]"
      ]
    },
    {
      "cell_type": "markdown",
      "metadata": {},
      "source": [
        "Note that `qhat` may give prices for different *units*.  If prices\ndiffer **only** because of units (e.g., one deciliter costs one\ntenth as much as a liter), then we can use these differences in prices\nto convert between different units, even if the units (e.g., &ldquo;basket&rdquo;)\nis otherwise unclear.  \n\nIf we have enough data on purchases in kilograms, just keep those\nprices (otherwise choose some other useful unit).  We also assume\nprices are the same for everyone, so just take median.\n\n"
      ]
    },
    {
      "cell_type": "markdown",
      "metadata": {},
      "source": [
        "## Step 4: Map predicted quantities into nutrients\n\n"
      ]
    },
    {
      "cell_type": "markdown",
      "metadata": {},
      "source": [
        "Before this will work, need columns of qhat to match columns of fct.\n\n"
      ]
    },
    {
      "cell_type": "code",
      "execution_count": 1,
      "metadata": {},
      "outputs": [],
      "source": [
        "use = fct.index.intersection(qhat.columns)\n\n\nnutrients = qhat[use]@fct.loc[use,:]\nnutrients.mean()    # NB: Nutrients are for past /week/ for entire household. (Depends on dataset)"
      ]
    },
    {
      "cell_type": "markdown",
      "metadata": {},
      "source": [
        "## Household Nutritional Adequacy\n\n"
      ]
    },
    {
      "cell_type": "markdown",
      "metadata": {},
      "source": [
        "Our data on demand and nutrients is at the *household* level; we\n   can&rsquo;t directly compare household level nutrition with individual\n   level requirements.  What we **can** do is add up minimum individual\n   requirements, and see whether household total exceed these.  This\n   isn&rsquo;t a guarantee that all individuals have adequate nutrition\n   (since the way food is allocated in the household might be quite\n   unequal, or unrelated to individual requirements), but it is\n   *necessary* if all individuals are to have adequate nutrition.\n\nFor each household, we know the numbers of people in different age-sex categories.  We can match these up with data from an RDI (Recommended Dietary Intakes), then sum over different types.\n\n"
      ]
    },
    {
      "cell_type": "code",
      "execution_count": 1,
      "metadata": {},
      "outputs": [],
      "source": [
        "z = z[rdi.columns.tolist()]\n\nhh_rdi = z@rdi.T\n\n# Uganda data is per week, so make this a recommended WEEKLY intake:\nhh_rwi = hh_rdi*7"
      ]
    },
    {
      "cell_type": "markdown",
      "metadata": {},
      "source": [
        "Now, what proportion of `hh_rwi` do households consume?\n\n"
      ]
    },
    {
      "cell_type": "code",
      "execution_count": 1,
      "metadata": {},
      "outputs": [],
      "source": [
        "# Match up nutrient names\nuse = nutrients.columns.intersection(hh_rwi.columns)\n\nnutrient_ratio = (nutrients[use]/hh_rwi[use]).dropna()\n\nnutrient_ratio"
      ]
    },
    {
      "cell_type": "markdown",
      "metadata": {},
      "source": [
        "Graph ratios of adequacy for particular nutrients\n\n"
      ]
    },
    {
      "cell_type": "code",
      "execution_count": 1,
      "metadata": {},
      "outputs": [],
      "source": [
        "%matplotlib notebook\nnutrient_ratio['Energy'].hist(bins=30)"
      ]
    }
  ],
  "metadata": {
    "org": null,
    "kernelspec": {
      "display_name": "Python 3",
      "language": "python",
      "name": "python3"
    },
    "language_info": {
      "codemirror_mode": {
        "name": "ipython",
        "version": 3
      },
      "file_extension": ".py",
      "mimetype": "text/x-python",
      "name": "python",
      "nbconvert_exporter": "python",
      "pygments_lexer": "ipython3",
      "version": "3.5.2"
    }
  },
  "nbformat": 4,
  "nbformat_minor": 0
}
